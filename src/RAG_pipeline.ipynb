{
 "cells": [
  {
   "cell_type": "markdown",
   "id": "ad543ea1",
   "metadata": {},
   "source": [
    "# Pipeline for RAG"
   ]
  },
  {
   "cell_type": "markdown",
   "id": "9f631532",
   "metadata": {},
   "source": [
    "**TABLE OF CONTENTS**\n",
    "1. Imports\n",
    "2. Loading the embedding and the vectorstore\n",
    "3. Auxilliary functions\n",
    "4. RAG 1\n",
    "    * a) Natural history\n",
    "    * b) Theory of relativity\n",
    "    * c) Humans, animals and the origin of life\n",
    "5. RAG 2\n",
    "    * a) Blumenbach's style of writing\n",
    "    * b) Rodents\n",
    "    * c) God\n",
    "    * d) Human races\n",
    "    * e) Explorative research\n",
    "6. RAG 3\n",
    "    * a) Comparing editions\n",
    "    * b) Search by metadata with both editions without registers\n",
    "    * c) Search by metadata in the register of the 1st edition\n",
    "    * d) Using information from metadata"
   ]
  },
  {
   "cell_type": "markdown",
   "id": "92d5fafe",
   "metadata": {},
   "source": [
    "## 1. Imports"
   ]
  },
  {
   "cell_type": "code",
   "execution_count": 1,
   "id": "4334f993",
   "metadata": {},
   "outputs": [
    {
     "name": "stderr",
     "output_type": "stream",
     "text": [
      "/Users/Onema/anaconda3/envs/4llama_py11/lib/python3.10/site-packages/tqdm/auto.py:21: TqdmWarning: IProgress not found. Please update jupyter and ipywidgets. See https://ipywidgets.readthedocs.io/en/stable/user_install.html\n",
      "  from .autonotebook import tqdm as notebook_tqdm\n"
     ]
    },
    {
     "name": "stdout",
     "output_type": "stream",
     "text": [
      "Token will not been saved to git credential helper. Pass `add_to_git_credential=True` if you want to set the git credential as well.\n",
      "Token is valid (permission: read).\n",
      "Your token has been saved to /Users/Onema/.cache/huggingface/token\n",
      "Login successful\n"
     ]
    }
   ],
   "source": [
    "import datetime\n",
    "from huggingface_hub import login\n",
    "login(token = hf_logging_token)  # UPDATE THE TOKEN FOR RUNNING THE NOTEBOOK\n",
    "from langchain.chains import RetrievalQA, LLMChain\n",
    "from langchain.chat_models import ChatOpenAI\n",
    "from langchain_core.runnables import RunnablePassthrough\n",
    "from langchain.embeddings import HuggingFaceEmbeddings\n",
    "from langchain.prompts import PromptTemplate\n",
    "from langchain.schema import Document\n",
    "from langchain.vectorstores import FAISS\n",
    "import pickle\n",
    "from operator import itemgetter\n",
    "import os\n",
    "os.environ['OPENAI_API_KEY'] = openAI_API_key  # UPDATE THE KEY FOR RUNNING THE NOTEBOOK\n",
    "from transformers import AutoModel "
   ]
  },
  {
   "cell_type": "code",
   "execution_count": 2,
   "id": "0103827b",
   "metadata": {},
   "outputs": [],
   "source": [
    "# custom helper functions for the RAG pipeline\n",
    "from rag_funcs import *"
   ]
  },
  {
   "cell_type": "code",
   "execution_count": 3,
   "id": "a3c3c948",
   "metadata": {},
   "outputs": [],
   "source": [
    "# a function for documentation (RAG1) - relies on hard-coding variable names, so shouldn't be imported\n",
    "def record_in_txt(file_name, export_dir = \"../data/results/RAG\"):\n",
    "    \n",
    "    \"\"\"Records all relevant information about generation through access to global variables.\n",
    "    Warning: this function relies on hard coding. It should be used ONLY in relation to the last generation.\"\"\"\n",
    "    \n",
    "    model_name, temp, max_tokens = llm_hyperparameters   # unpacking model hyperparameters\n",
    "    vectorstore, _ = retriever_hyperparameters   # unpacking retriever hyperparameters\n",
    "    \n",
    "    identified_docs = retriever.get_relevant_documents(question)  # reproduce the retrieval\n",
    "                  \n",
    "    with open(f\"{export_dir}/{file_name}.txt\", \"a\") as f:\n",
    "        f.write(\"X\"*30+f\"   NEW GENERATION {datetime.datetime.now()}   \"+\"X\"*30)    # separator\n",
    "        f.write(\"\\n\\n\")\n",
    "        f.write(\"TEMPLATE:\\n\")    # prompt template\n",
    "        f.write(template)\n",
    "        f.write(\"\\n\\n\")\n",
    "        f.write(\"QUESTION OR INSTRUCTION:\\n\")   # question / instruction\n",
    "        f.write(question)\n",
    "        f.write(\"\\n\\n\")\n",
    "        f.write(f\"GENERATION ({model_name}, temperature = {temp}, max_tokens = {max_tokens}):\")  # generation\n",
    "        f.write(inference.pretty_repr()[81:])\n",
    "        f.write(\"\\n\\n\")\n",
    "        comment = input(\"Please insert a short comment: \")\n",
    "        if comment:\n",
    "            f.write(f\"COMMENT: {comment}\")\n",
    "        else:\n",
    "            f.write(\"COMMENT: N/A\")\n",
    "        f.write(\"\\n\\n\")\n",
    "        f.write(f\"RETRIEVED DOCUMENTS ({vectorstore}):\\n\")\n",
    "        f.write(format_docs_for_documentation(identified_docs))\n",
    "        f.write(\"\\n\\n\\n\\n\")\n",
    "        \n",
    "\n",
    "# a function for documentation (RAG2) - relies on hard-coding variable names, so shouldn't be imported\n",
    "# version for the instruction following templates\n",
    "def record_in_txt_instruction(file_name, export_dir = \"../data/results/RAG\"):\n",
    "    \n",
    "    \"\"\"Records all relevant information about generation through access to global variables.\n",
    "    Warning: this function relies on hard coding. It should be used ONLY in relation to the last generation.\"\"\"\n",
    "    \n",
    "    model_name, temp, max_tokens = llm_hyperparameters   # unpacking model hyperparameters\n",
    "    vectorstore, _ = retriever_hyperparameters   # unpacking retriever hyperparameters\n",
    "    \n",
    "    identified_docs = retriever.get_relevant_documents(topic)  # reproduce the retrieval\n",
    "                  \n",
    "    with open(f\"{export_dir}/{file_name}.txt\", \"a\") as f:\n",
    "        f.write(\"X\"*30+f\"   NEW GENERATION {datetime.datetime.now()}   \"+\"X\"*30)    # separator\n",
    "        f.write(\"\\n\\n\")\n",
    "        f.write(\"TEMPLATE:\\n\")    # prompt template\n",
    "        f.write(template)\n",
    "        f.write(\"\\n\\n\")\n",
    "        f.write(\"QUESTION OR INSTRUCTION:\\n\")   # question / instruction\n",
    "        f.write(instruction)\n",
    "        f.write(\"\\n\\n\")\n",
    "        f.write(\"TOPIC (used for retrieval):\\n\")   # topic\n",
    "        f.write(topic)\n",
    "        f.write(\"\\n\\n\")\n",
    "        f.write(f\"GENERATION ({model_name}, temperature = {temp}, max_tokens = {max_tokens}):\")  # generation\n",
    "        f.write(inference.pretty_repr()[81:])\n",
    "        f.write(\"\\n\\n\")\n",
    "        comment = input(\"Please insert a short comment: \")\n",
    "        if comment:\n",
    "            f.write(f\"COMMENT: {comment}\")\n",
    "        else:\n",
    "            f.write(\"COMMENT: N/A\")\n",
    "        f.write(\"\\n\\n\")\n",
    "        f.write(f\"RETRIEVED DOCUMENTS ({vectorstore}):\\n\")\n",
    "        f.write(format_docs_for_documentation(identified_docs))\n",
    "        f.write(\"\\n\\n\\n\\n\")\n",
    "        \n",
    "\n",
    "def format_and_save_docs(docs):\n",
    "    \"\"\"For RAG3, to be used in conjunction with record_in_txt_metadata.\n",
    "    Warning: this function relies on hard coding. It should be used ONLY inside of a chain.\"\"\"  \n",
    "    \n",
    "    formatted_docs = format_docs_with_metadata(docs) \n",
    "    \n",
    "    with open(\"../data/results/RAG/metadata.txt\", \"a\") as f:\n",
    "        f.write(\"X\"*30+f\"   NEW GENERATION {datetime.datetime.now()}   \"+\"X\"*30)    # separator\n",
    "        f.write(\"\\n\\n\")\n",
    "        f.write(f\"RETRIEVED DOCUMENTS ({vectorstore}):\\n\")\n",
    "        f.write(formatted_docs)\n",
    "        f.write(\"\\n\\n\")\n",
    "    return formatted_docs\n",
    "\n",
    "\n",
    "# a function for documentation (RAG3) - relies on hard-coding variable names, so shouldn't be imported\n",
    "# version for the SelfQueryRetriever & instruction following templates\n",
    "def record_in_txt_metadata(file_name=\"metadata\", export_dir = \"../data/results/RAG\"):\n",
    "    \n",
    "    \"\"\"Records all relevant information about generation through access to global variables.\n",
    "    To be used in conjunction with format_and_save_docs.\n",
    "    Warning: this function relies on hard coding. It should be used ONLY in relation to the last generation.\"\"\"\n",
    "    \n",
    "    model_name, temp, max_tokens = llm_hyperparameters   # unpacking model hyperparameters\n",
    "                  \n",
    "    with open(f\"{export_dir}/{file_name}.txt\", \"a\") as f:\n",
    "        f.write(\"TEMPLATE:\\n\")    # prompt template\n",
    "        f.write(template)\n",
    "        f.write(\"\\n\\n\")\n",
    "        f.write(\"QUESTION OR INSTRUCTION:\\n\")   # question / instruction\n",
    "        f.write(instruction)\n",
    "        f.write(\"\\n\\n\")\n",
    "        f.write(\"TOPIC (used for retrieval):\\n\")   # topic\n",
    "        f.write(topic)\n",
    "        f.write(\"\\n\\n\")\n",
    "        f.write(f\"GENERATION ({model_name}, temperature = {temp}, max_tokens = {max_tokens}):\")  # generation\n",
    "        f.write(inference.pretty_repr()[81:])\n",
    "        f.write(\"\\n\\n\")\n",
    "        comment = input(\"Please insert a short comment: \")\n",
    "        if comment:\n",
    "            f.write(f\"COMMENT: {comment}\")\n",
    "        else:\n",
    "            f.write(\"COMMENT: N/A\")\n",
    "        f.write(\"\\n\\n\\n\\n\")\n",
    "\n"
   ]
  },
  {
   "cell_type": "markdown",
   "id": "b6a29b1f",
   "metadata": {},
   "source": [
    "## 2. Loading the embedding and the vectorstore"
   ]
  },
  {
   "cell_type": "code",
   "execution_count": 4,
   "id": "0d72f737",
   "metadata": {},
   "outputs": [
    {
     "name": "stderr",
     "output_type": "stream",
     "text": [
      "/Users/Onema/anaconda3/envs/4llama_py11/lib/python3.10/site-packages/torch/_utils.py:831: UserWarning: TypedStorage is deprecated. It will be removed in the future and UntypedStorage will be the only storage class. This should only matter to you if you are using storages directly.  To access UntypedStorage directly, use tensor.untyped_storage() instead of tensor.storage()\n",
      "  return self.fget.__get__(instance, owner)()\n"
     ]
    }
   ],
   "source": [
    "# load the embedding\n",
    "\n",
    "model = AutoModel.from_pretrained('jinaai/jina-embeddings-v2-base-de', trust_remote_code=True) \n",
    "model_name = \"jinaai/jina-embeddings-v2-base-de\"\n",
    "model_kwargs = {'device': 'cpu'}\n",
    "hf_jina = HuggingFaceEmbeddings(\n",
    "    model_name=model_name,\n",
    "    model_kwargs=model_kwargs)"
   ]
  },
  {
   "cell_type": "code",
   "execution_count": 5,
   "id": "143f0ae9",
   "metadata": {},
   "outputs": [],
   "source": [
    "# load the vectorstore - use longer documents without the register\n",
    "\n",
    "db_dir_path = \"../data/vectorDB\"\n",
    "#db_1500_without_reg = FAISS.load_local(db_dir_path+\"/\"+\"faiss_vecDB_1500_without_reg\", hf_jina, allow_dangerous_deserialization = True)\n",
    "#db_700 = FAISS.load_local(db_dir_path+\"/\"+\"faiss_vecDB_700_reg\", hf_jina, allow_dangerous_deserialization = True)\n",
    "#db_700_without_reg = FAISS.load_local(db_dir_path+\"/\"+\"faiss_vecDB_700_without_reg\", hf_jina, allow_dangerous_deserialization = True)\n",
    "db_1500 = FAISS.load_local(db_dir_path+\"/\"+\"faiss_vecDB_1500_reg\", hf_jina, allow_dangerous_deserialization = True)\n",
    "#db_1ed_12ed = FAISS.load_local(db_dir_path+\"/\"+\"faiss_vecDB_ed1_ed12\", hf_jina, allow_dangerous_deserialization = True)\n"
   ]
  },
  {
   "cell_type": "markdown",
   "id": "38428945",
   "metadata": {},
   "source": [
    "## 4. RAG"
   ]
  },
  {
   "cell_type": "code",
   "execution_count": 6,
   "id": "bdacb8ab",
   "metadata": {},
   "outputs": [
    {
     "name": "stdout",
     "output_type": "stream",
     "text": [
      "Which vector database are you using? Please provide its name for record: db_1500_with_register\n",
      "Initialized the retriever out of db_1500_with_register. 7 documents will be retrieved.\n",
      "Created an LLM with standard hyperparameters.\n"
     ]
    },
    {
     "name": "stderr",
     "output_type": "stream",
     "text": [
      "/Users/Onema/anaconda3/envs/4llama_py11/lib/python3.10/site-packages/langchain_core/_api/deprecation.py:119: LangChainDeprecationWarning: The class `ChatOpenAI` was deprecated in LangChain 0.0.10 and will be removed in 0.2.0. An updated version of the class exists in the langchain-openai package and should be used instead. To use it run `pip install -U langchain-openai` and import as `from langchain_openai import ChatOpenAI`.\n",
      "  warn_deprecated(\n"
     ]
    }
   ],
   "source": [
    "# initialize a retriever and an LLM\n",
    "retriever, retriever_hyperparameters = initialize_retriever(db_1500, k = 7)\n",
    "llm, llm_hyperparameters = initialize_llm(max_tokens=400)"
   ]
  },
  {
   "cell_type": "markdown",
   "id": "ab4a8c08",
   "metadata": {},
   "source": [
    "### a) Natural history"
   ]
  },
  {
   "cell_type": "code",
   "execution_count": 42,
   "id": "e779b4bc",
   "metadata": {},
   "outputs": [],
   "source": [
    "# prompt template\n",
    "\n",
    "template = \"\"\"You are a historian analyzing a primary historical source (SOURCE). Answer the QUESTION based solely on the SOURCE. Explain your ANSWER. If the SOURCE doesn't contain sufficient information to answer the QUESTION, say that you don't know the ANSWER.\n",
    "QUESTION: {question}\n",
    "SOURCE: {context}\n",
    "ANSWER: \"\"\"\n",
    "\n",
    "prompt = PromptTemplate.from_template(template)"
   ]
  },
  {
   "cell_type": "code",
   "execution_count": 43,
   "id": "e1f5ba4d",
   "metadata": {},
   "outputs": [],
   "source": [
    "# chain\n",
    "chain = (\n",
    "    {\"context\": retriever | format_docs, \"question\": RunnablePassthrough()}\n",
    "    | prompt | print_prompt\n",
    "    | llm\n",
    ")"
   ]
  },
  {
   "cell_type": "code",
   "execution_count": 44,
   "id": "6e01a5da",
   "metadata": {},
   "outputs": [
    {
     "name": "stdout",
     "output_type": "stream",
     "text": [
      "Retrieved context (metadata are not passed to the model):\n",
      "\n",
      "Alle Dinge, die sich auf, und in unsrer Erde finden, zeigen sich entweder in derselben Gestalt, in welcher sie aus der Hand der Natur gekommen; oder so, wie sie durch Menschen oder Thiere, zu bestimmten Absichten, oder auch durch bloßen Zufall verändert und gleichsam umgeschaffen worden sind. Auf diese Verschiedenheit gründet sich die bekannte Eintheilung aller Körper in natürliche (naturalia), und durch Kunst verfertigte (artefacta). Die erstern machen den Gegenstand der Naturgeschichte aus, und man belegt alle Körper mit dem Namen der Naturalien, die nur noch keine wesentliche Veränderung durch Menschenhände erlitten haben; Da hingegen die mehresten von denen so der Zufall umgeändert hat, und beyläufig auch diejenigen so durch die Thiere nach ihren Trieben und zu Stillung ihrer Bedürfnisse verändert und umgebildet worden, mit unter den Naturalien begriffen werden. Artefacten werden sie blos alsdann, wenn der Mensch wesentliche Veränderungen mit ihnen vornimt. Man rechnet z. B. die schwammichte Rinde einer Art Maulbeerbäume (Morus papyrifera) oder die äussere Schaale einer Cocosnuß doch zu den Naturalien, wenn gleich beyde durch Menschen vom Stamme oder von der Nuß, die sie umkleideten, abgelöst worden. Die dadurch mit ihnen vorgenommene Veränderung ist nicht Wesentlich genug, um sie deshalb zu Artefakten zu machen.\n",
      "Metadata: J.F.Blumenbach, Handbuch der Naturgeschichte, ed. 1 (1779), §. 1.\n",
      "\n",
      "Wir haben die Reichthümer der Natur in ihren beiden organisirten belebten Reichen besehen. Das Ende unsers Buchs ist nun noch den unorganisirten Naturalien, den mineralischen Körpern gewidmet, wovon wir die allgemeinen Begriffe schon oben in den ersten Blätlern angegeben haben.\n",
      "Metadata: J.F.Blumenbach, Handbuch der Naturgeschichte, ed. 1 (1780), §. 220.\n",
      "\n",
      "Weit unbemerkter aber unaufhörlich ergiebig und im ganzen ungleich wichtiger ist hingegen die Entstehung der Mineralien durch das allmälige Absterben der organisirten natürlichen Körper, durch das Verwittern der unorganisirten selbst, und endlich durch die Zerstörung aller verarbeiteten Naturalien oder Kunstsachen kurz durch das unabbittliche Loos aller erschaffenen oder auch von Menschen verfertigten Dinge über kurz oder lang nach dem verschiedenen Maaße des von der Vorsehung ihnen zugemeßnen Lebens oder Dauer, endlich einmal zu sterden, zu vergehen und wieder zu der Erde zu werden von der sie genommen waren.\n",
      "Metadata: J.F.Blumenbach, Handbuch der Naturgeschichte, ed. 1 (1780), §. 226.\n",
      "\n",
      "Man rechnet z. B. die schwammichte Rinde einer Art Maulbeerbäume (Morus papyrifera) oder die äussere Schaale einer Cocosnuß doch zu den Naturalien, wenn gleich beyde durch Menschen vom Stamme oder von der Nuß, die sie umkleideten, abgelöst worden. Die dadurch mit ihnen vorgenommene Veränderung ist nicht Wesentlich genug, um sie deshalb zu Artefakten zu machen. Dies werden sie aber, und sie verlieren folglich den Namen von Naturalien wenn die Chinesen aus jener Rinde Papier, und die Utaheiten ihre feinsten Zeuge daraus verfertigen, und wenn man in ganz Ostindien aus der Cocusnuß-Schaale Stricke dreht. Wenn der Blitz in sandichten Boden schlägt, schmilzt er oft den Sand zu Glas, wie wir selbst dergleichen milchweiße Glaßtropfen vor uns liegend haben: und ähnliche Glaßstückchen zeigen sich auch gemeiniglich in den Laven der feuerspeyenden Berge. Beyderley gehören zu den Naturalien, da sie zufälligerweise von himmlischem und unterirdischem Feuer gezeugt worden Da hingegen das Glas, was der Mensch aus ähnlichen Ingredienzen verfertigt, blos deswegen, weil es seiner Hände Werk ist, Artefakt heist. Die Holzzasern, die die Wespen zu ihrem Nesterbau verarbeiten, werden auch selbst in dieser Gestalt, nach einer sehr wesentlichen Veränderung mit zu den Naturalien gezählt: da hingegen die Papier-Proben, die man auf ähnliche Weise in neuern Zeiten aus Holzspänen verfertigt hat ohne Widerrede Artefakten heisen.\n",
      "Metadata: J.F.Blumenbach, Handbuch der Naturgeschichte, ed. 1 (1779), §. 1.\n",
      "\n",
      "Aber alles dies herzlich gerne zugegeben, dürfen doch die Leitern und Ketten, der guten Sache der bestimmten Naturreiche, und der Classification der Naturalien, bey weitem keinen Eintrag thun Die passendste Allegorie kann matt werden, kann in eine Spielerey ausarten, wenn sie zu weit getrieben wird. Und das ist in der That bey den eben angeführten zu befürchten. Es ist unterhaltend, es ist, wie wir so eben selbst gesagt haben, nutzbar, wenn der Naturforscher die Creaturen nach ihrer nächsten Verwandschaft unter einander ordnet, an einander kettet u. s. w Aber es scheint uns von der andern Seite eine schwache, und der Allweisheit des Schöpfers unanständige Behauptung, wenn man im Ernste annehmen wollte, daß auch Er bey der Schöpfung einen solchen allegorischen Plan befolgt, und die Vollkommenheit seiner großen Handlung darein gesetzt hätte, daß er seinen Creaturen alle ersinnliche Formen gäbe, und sie folglich vom obersten bis zum untersten ganz regelmäßig stufenweis auf einander folgen liesse. Man würde lächeln, wenn jemand den Vorzug bey der Einrichtung eines Hauses darinn suchte, daß die Meublen darinne alle von verschiedner Gestalt oder Größe wären, und sich auch, so wie die angebliche Kette der natürlichen Körper, unter eine gleiche Stufenfolge bringen liessen. Die Vollkommenheit in der große Haushaltung der Mutter-Natur ist, so wie bey der kleinsten Oekonomie einer Familie, in ganz andern Vorzügen zu suchen.\n",
      "Metadata: J.F.Blumenbach, Handbuch der Naturgeschichte, ed. 1 (1779), §. 7.\n",
      "\n",
      "Zuerst etwas vom Ursprung der Mineralien, nemlich von den Hauptwegen, wodurch sie theils vor Zeiten mit einemmal entstanden sind, und theils nach und nach und noch immerfort entstehen. Um jene aufzuklären, müssen wir nothwendig auf den Ursprung unsrer Erde selbst zurück gehen: eine Untersuchung, bey der man sich freylich immer einige gewagte Muthmassungen wird erlauben müssen: doch wollen wir uns nicht dem Flug der kühnen Männer überlassen, die Kometen und ausgebrannte Sonnen zum Bau ihres Erdsystems aufgebothen haben sondern unsere bescheidnere Meinung vortragen auf die wir zuerst durch die Untersuchung der Versteinerungen, und durch ihre Vergleichung und gefundene Unähnlichkeit mit den gegenwärtigen organisirten Körpern und dann durch die Beobachtung einiger ehemaligen Vulcane gebracht worden sind, und die uns zwar immer noch eine Hypothese, aber doch eine solche Hypothese zu seyn scheint, die sich der Natur und dem Augenschein ziemlich leicht und schicklich anpassen läßt.\n",
      "Metadata: J.F.Blumenbach, Handbuch der Naturgeschichte, ed. 1 (1780), §. 221.\n",
      "\n",
      "Die erste und bey weiten ansehnlichste Classe begreift alle Mineralien, die sich weder wie die Salze in Wasser, noch wie die Erdharze in Oel auflösen, auch sich nicht wie die Erzte ohne zu zerspringen, hämmern und breit schlagen lassen. Die ältern Mineralogen haben die Erden und Steine von einander abgesondert und in zwey besondere Classen zertheilt. Allein der beständigen Wiederholungen zu geschweigen die bey dieser Absonderung unvermeidlich sind so beruht überhaupt der ganze Unterschied auf der sehr unbestimmten blos relativen Cohäsion die, wenn sie locker ist, Erden, und wenn sie feste wird, Steine constituiren soll.\n",
      "Metadata: J.F.Blumenbach, Handbuch der Naturgeschichte, ed. 1 (1780), §. 234.\n",
      "\n",
      "The prompt as passed to the model:\n",
      "\n",
      "text=\"You are a historian analyzing a primary historical source (SOURCE). Answer the QUESTION based solely on the SOURCE. Explain your ANSWER. If the SOURCE doesn't contain sufficient information to answer the QUESTION, say that you don't know the ANSWER.\\nQUESTION: How are medieval alchemy and natural history of the 18th century different?\\nSOURCE: Alle Dinge, die sich auf, und in unsrer Erde finden, zeigen sich entweder in derselben Gestalt, in welcher sie aus der Hand der Natur gekommen; oder so, wie sie durch Menschen oder Thiere, zu bestimmten Absichten, oder auch durch bloßen Zufall verändert und gleichsam umgeschaffen worden sind. Auf diese Verschiedenheit gründet sich die bekannte Eintheilung aller Körper in natürliche (naturalia), und durch Kunst verfertigte (artefacta). Die erstern machen den Gegenstand der Naturgeschichte aus, und man belegt alle Körper mit dem Namen der Naturalien, die nur noch keine wesentliche Veränderung durch Menschenhände erlitten haben; Da hingegen die mehresten von denen so der Zufall umgeändert hat, und beyläufig auch diejenigen so durch die Thiere nach ihren Trieben und zu Stillung ihrer Bedürfnisse verändert und umgebildet worden, mit unter den Naturalien begriffen werden. Artefacten werden sie blos alsdann, wenn der Mensch wesentliche Veränderungen mit ihnen vornimt. Man rechnet z. B. die schwammichte Rinde einer Art Maulbeerbäume (Morus papyrifera) oder die äussere Schaale einer Cocosnuß doch zu den Naturalien, wenn gleich beyde durch Menschen vom Stamme oder von der Nuß, die sie umkleideten, abgelöst worden. Die dadurch mit ihnen vorgenommene Veränderung ist nicht Wesentlich genug, um sie deshalb zu Artefakten zu machen.\\n\\nWir haben die Reichthümer der Natur in ihren beiden organisirten belebten Reichen besehen. Das Ende unsers Buchs ist nun noch den unorganisirten Naturalien, den mineralischen Körpern gewidmet, wovon wir die allgemeinen Begriffe schon oben in den ersten Blätlern angegeben haben.\\n\\nWeit unbemerkter aber unaufhörlich ergiebig und im ganzen ungleich wichtiger ist hingegen die Entstehung der Mineralien durch das allmälige Absterben der organisirten natürlichen Körper, durch das Verwittern der unorganisirten selbst, und endlich durch die Zerstörung aller verarbeiteten Naturalien oder Kunstsachen kurz durch das unabbittliche Loos aller erschaffenen oder auch von Menschen verfertigten Dinge über kurz oder lang nach dem verschiedenen Maaße des von der Vorsehung ihnen zugemeßnen Lebens oder Dauer, endlich einmal zu sterden, zu vergehen und wieder zu der Erde zu werden von der sie genommen waren.\\n\\nMan rechnet z. B. die schwammichte Rinde einer Art Maulbeerbäume (Morus papyrifera) oder die äussere Schaale einer Cocosnuß doch zu den Naturalien, wenn gleich beyde durch Menschen vom Stamme oder von der Nuß, die sie umkleideten, abgelöst worden. Die dadurch mit ihnen vorgenommene Veränderung ist nicht Wesentlich genug, um sie deshalb zu Artefakten zu machen. Dies werden sie aber, und sie verlieren folglich den Namen von Naturalien wenn die Chinesen aus jener Rinde Papier, und die Utaheiten ihre feinsten Zeuge daraus verfertigen, und wenn man in ganz Ostindien aus der Cocusnuß-Schaale Stricke dreht. Wenn der Blitz in sandichten Boden schlägt, schmilzt er oft den Sand zu Glas, wie wir selbst dergleichen milchweiße Glaßtropfen vor uns liegend haben: und ähnliche Glaßstückchen zeigen sich auch gemeiniglich in den Laven der feuerspeyenden Berge. Beyderley gehören zu den Naturalien, da sie zufälligerweise von himmlischem und unterirdischem Feuer gezeugt worden Da hingegen das Glas, was der Mensch aus ähnlichen Ingredienzen verfertigt, blos deswegen, weil es seiner Hände Werk ist, Artefakt heist. Die Holzzasern, die die Wespen zu ihrem Nesterbau verarbeiten, werden auch selbst in dieser Gestalt, nach einer sehr wesentlichen Veränderung mit zu den Naturalien gezählt: da hingegen die Papier-Proben, die man auf ähnliche Weise in neuern Zeiten aus Holzspänen verfertigt hat ohne Widerrede Artefakten heisen.\\n\\nAber alles dies herzlich gerne zugegeben, dürfen doch die Leitern und Ketten, der guten Sache der bestimmten Naturreiche, und der Classification der Naturalien, bey weitem keinen Eintrag thun Die passendste Allegorie kann matt werden, kann in eine Spielerey ausarten, wenn sie zu weit getrieben wird. Und das ist in der That bey den eben angeführten zu befürchten. Es ist unterhaltend, es ist, wie wir so eben selbst gesagt haben, nutzbar, wenn der Naturforscher die Creaturen nach ihrer nächsten Verwandschaft unter einander ordnet, an einander kettet u. s. w Aber es scheint uns von der andern Seite eine schwache, und der Allweisheit des Schöpfers unanständige Behauptung, wenn man im Ernste annehmen wollte, daß auch Er bey der Schöpfung einen solchen allegorischen Plan befolgt, und die Vollkommenheit seiner großen Handlung darein gesetzt hätte, daß er seinen Creaturen alle ersinnliche Formen gäbe, und sie folglich vom obersten bis zum untersten ganz regelmäßig stufenweis auf einander folgen liesse. Man würde lächeln, wenn jemand den Vorzug bey der Einrichtung eines Hauses darinn suchte, daß die Meublen darinne alle von verschiedner Gestalt oder Größe wären, und sich auch, so wie die angebliche Kette der natürlichen Körper, unter eine gleiche Stufenfolge bringen liessen. Die Vollkommenheit in der große Haushaltung der Mutter-Natur ist, so wie bey der kleinsten Oekonomie einer Familie, in ganz andern Vorzügen zu suchen.\\n\\nZuerst etwas vom Ursprung der Mineralien, nemlich von den Hauptwegen, wodurch sie theils vor Zeiten mit einemmal entstanden sind, und theils nach und nach und noch immerfort entstehen. Um jene aufzuklären, müssen wir nothwendig auf den Ursprung unsrer Erde selbst zurück gehen: eine Untersuchung, bey der man sich freylich immer einige gewagte Muthmassungen wird erlauben müssen: doch wollen wir uns nicht dem Flug der kühnen Männer überlassen, die Kometen und ausgebrannte Sonnen zum Bau ihres Erdsystems aufgebothen haben sondern unsere bescheidnere Meinung vortragen auf die wir zuerst durch die Untersuchung der Versteinerungen, und durch ihre Vergleichung und gefundene Unähnlichkeit mit den gegenwärtigen organisirten Körpern und dann durch die Beobachtung einiger ehemaligen Vulcane gebracht worden sind, und die uns zwar immer noch eine Hypothese, aber doch eine solche Hypothese zu seyn scheint, die sich der Natur und dem Augenschein ziemlich leicht und schicklich anpassen läßt.\\n\\nDie erste und bey weiten ansehnlichste Classe begreift alle Mineralien, die sich weder wie die Salze in Wasser, noch wie die Erdharze in Oel auflösen, auch sich nicht wie die Erzte ohne zu zerspringen, hämmern und breit schlagen lassen. Die ältern Mineralogen haben die Erden und Steine von einander abgesondert und in zwey besondere Classen zertheilt. Allein der beständigen Wiederholungen zu geschweigen die bey dieser Absonderung unvermeidlich sind so beruht überhaupt der ganze Unterschied auf der sehr unbestimmten blos relativen Cohäsion die, wenn sie locker ist, Erden, und wenn sie feste wird, Steine constituiren soll.\\nANSWER: \"\n"
     ]
    }
   ],
   "source": [
    "question = \"How are medieval alchemy and natural history of the 18th century different?\"\n",
    "inference = chain.invoke(question)"
   ]
  },
  {
   "cell_type": "code",
   "execution_count": 45,
   "id": "a3c5711a",
   "metadata": {},
   "outputs": [
    {
     "name": "stdout",
     "output_type": "stream",
     "text": [
      "================================== Ai Message ==================================\n",
      "\n",
      "Medieval alchemy and the natural history of the 18th century are different in their approach to categorizing and studying natural objects. In the source, it is explained that natural history focuses on objects that have not undergone significant changes by humans or animals, while alchemy includes objects that have been altered or transformed for specific purposes. Natural history categorizes objects as naturalia, which are objects that have not undergone essential changes by human hands, while alchemy categorizes objects as artefacta when significant changes are made by humans. This distinction shows that medieval alchemy focused on the transformation and manipulation of natural objects, while the natural history of the 18th century focused on studying and categorizing natural objects in their original form.\n"
     ]
    }
   ],
   "source": [
    "print(inference.pretty_repr())"
   ]
  },
  {
   "cell_type": "code",
   "execution_count": 46,
   "id": "965e385f",
   "metadata": {},
   "outputs": [
    {
     "name": "stdout",
     "output_type": "stream",
     "text": [
      "Please insert a short comment: not correct about alchemy\n"
     ]
    }
   ],
   "source": [
    "record_in_txt(\"natural_history\")"
   ]
  },
  {
   "cell_type": "markdown",
   "id": "1ca4b1c3",
   "metadata": {},
   "source": [
    "### b) Theory of relativity"
   ]
  },
  {
   "cell_type": "code",
   "execution_count": 66,
   "id": "1e82469f",
   "metadata": {},
   "outputs": [],
   "source": [
    "template = \"\"\"You are a historian analyzing a primary historical source (SOURCE). Answer the QUESTION based on the SOURCE. If the SOURCE doesn't contain sufficient information, report it and answer with your knowledge.\n",
    "QUESTION: {question}\n",
    "SOURCE: {context}\n",
    "ANSWER: \"\"\"\n",
    "\n",
    "prompt = PromptTemplate.from_template(template)"
   ]
  },
  {
   "cell_type": "code",
   "execution_count": 67,
   "id": "ac78b251",
   "metadata": {},
   "outputs": [],
   "source": [
    "# chain\n",
    "chain = (\n",
    "    {\"context\": retriever | format_docs, \"question\": RunnablePassthrough()}\n",
    "    | prompt | print_prompt\n",
    "    | llm\n",
    ")"
   ]
  },
  {
   "cell_type": "code",
   "execution_count": 68,
   "id": "63bf855d",
   "metadata": {},
   "outputs": [
    {
     "name": "stdout",
     "output_type": "stream",
     "text": [
      "Retrieved context (metadata are not passed to the model):\n",
      "\n",
      "Zuerst etwas vom Ursprung der Mineralien, nemlich von den Hauptwegen, wodurch sie theils vor Zeiten mit einemmal entstanden sind, und theils nach und nach und noch immerfort entstehen. Um jene aufzuklären, müssen wir nothwendig auf den Ursprung unsrer Erde selbst zurück gehen: eine Untersuchung, bey der man sich freylich immer einige gewagte Muthmassungen wird erlauben müssen: doch wollen wir uns nicht dem Flug der kühnen Männer überlassen, die Kometen und ausgebrannte Sonnen zum Bau ihres Erdsystems aufgebothen haben sondern unsere bescheidnere Meinung vortragen auf die wir zuerst durch die Untersuchung der Versteinerungen, und durch ihre Vergleichung und gefundene Unähnlichkeit mit den gegenwärtigen organisirten Körpern und dann durch die Beobachtung einiger ehemaligen Vulcane gebracht worden sind, und die uns zwar immer noch eine Hypothese, aber doch eine solche Hypothese zu seyn scheint, die sich der Natur und dem Augenschein ziemlich leicht und schicklich anpassen läßt.\n",
      "Metadata: J.F.Blumenbach, Handbuch der Naturgeschichte, ed. 1 (1780), §. 221.\n",
      "\n",
      "Die Spiritualisten haben die Seele zum Baumeister ihres Körpers machen wollen, Büffon hat sich innere Modelle im alten organisirten Körper ersonnen, von welchen der Grundstoff des neuen, Abdrücke nehmen sollte; Herr Casp. Fr. Wolff hat zu seinem scharfsinnigen System eine gewisse vis essentialis aufgenommen der er diese allmählige Ausbildung überträgt u s. w. Die Theorie der Evolution hingegen nimmt an, daß in dem rohen Urstoff nicht erst ein Theil nach dem andern gebildet werde, sondern, daß derselbe den ganzen Keim, den völligen Entwurf des organisirten Körpers in sich fasse, daß folglich alle Keime der organisirten Körper in ihren Vorfahren bis zur ersten Schöpfung hinauf gleichsam eingeschachtelt, und in einen unthätigen Schlaf versenkt gelegen hätten und daß diese Keime bey der Befruchtung durch den Reiz des männlichen Saamens nur ermuntert, und so zu ihrer fernern Entwickelung angetrieben würden.\n",
      "Metadata: J.F.Blumenbach, Handbuch der Naturgeschichte, ed. 1 (1779), §. 11.\n",
      "\n",
      "Die Ausbildung dieses Grundstoffs zu erklären, ist man zwey Wege eingeschlagen, die beyde von sehr großen Männern betreten worden sind, deren jeder den seinigen zu verfechten und die Richtigkeit des andern zu bestreiten, getrachtet hat. Diese Wege sind die, in der neuern Philosophie so berühmt gewordnen, Theorien der Epigenese und der Evolution. Die Epigenese lehrt, daß der rohe Grundstoff (§. 10.) \n",
      "nach der Empfängnis oder Befruchtung allmählig ausgebildet, und ein Theil des organisirten Körpers nach dem andern geformt würde Diese allmählige Bildung wahrscheinlich zu machen, haben ihre Anhänger allerhand Kräfte angenommen, die dieses Geschäfte bewürken sollten. Die Spiritualisten haben die Seele zum Baumeister ihres Körpers machen wollen, Büffon hat sich innere Modelle im alten organisirten Körper ersonnen, von welchen der Grundstoff des neuen, Abdrücke nehmen sollte; Herr Casp. Fr.\n",
      "Metadata: J.F.Blumenbach, Handbuch der Naturgeschichte, ed. 1 (1779), §. 11.\n",
      "\n",
      "Noch müssen wir endlich ein paar Worte über die bekannten Bilder von Ketten und Leitern und Netzen, die man der Natur angepaßt hat, sagen. Auch durch sie hat man neuerlich die Stützen der bestimmten Naturreiche zu untergraben gesucht. Man hat nemlich den Satz Die Natur thut keinen Sprung, über den schon der große Leibnitz viel wahres und schönes gesagt hat, den Bradley nachher (auf Addison's Anrathen) in einem eignen Werke aber ziemlich unvollständig und trocken, Bonnet ungemein scharfsinnig, und Robinet ganz abentheuerlich behandelt haben, dahin gedeutet daß alle erschaffene Wesen, vom vollkommensten bis zum Atom, vom Engel bis zum einfachsten Elemente, in einer ununterbrochnen Reihe, wie Glied an Glied in einer Kette, zusammenhingen; daß sie in Rücksicht ihrer Bildung und Eigenschaften stufenweise, aber doch so unmerklich auf einander folgten, daß durchaus keine andre, als eine sehr willkürliche, sehr imaginäre Abtheilung in Reiche oder Classen und Ordnungen ꝛc. bey ihnen statt finden könne. Dieses Räsonnement scheint wirklich auf den ersten Blick ganz richtig. Die Idee von Stufenfolge in der Natur ist eben so alt als artig. Wir selbst haben sie von je her für eine der interessantsten Speculationen in der Natürlichen Philosophie gehalten. Sie kann auch sehr wesentlich nutzbar werden.\n",
      "Metadata: J.F.Blumenbach, Handbuch der Naturgeschichte, ed. 1 (1779), §. 7.\n",
      "\n",
      "Der Mensch hat überhaupt wenig Instinct Kunsttriebe aber gar nicht: was ihn hingegen reichlich dafür entschädigt, ist der Gebrauch der Vernunft, die ihm allein ausschließlich, und durchaus keinem andern Thiere zukommt. Er hat keinen bestimmten Wohnplatz, sondern die ganze Erde, in Norden und Süden und unter jedem Meridian, ist ihm zum Aufenthalt angewiesen; die Verschiedenheit des Clima und der Lebensart erregt in ihm eben so verschiedne Bedürfnisse, die nicht auf einerley Weise befriedigt werden können; und ein einförmiger Kunsttrieb würde folglich ein sehr unbrauchbares Geschenk für ihn gewesen seyn: da er hingegen durch Reflexion die individuellen Bedürfnisse auf mannichfaltige und schickliche Weise zu stillen vermag.\n",
      "Metadata: J.F.Blumenbach, Handbuch der Naturgeschichte, ed. 1 (1779), §. 37.\n",
      "\n",
      "Aber alles dies herzlich gerne zugegeben, dürfen doch die Leitern und Ketten, der guten Sache der bestimmten Naturreiche, und der Classification der Naturalien, bey weitem keinen Eintrag thun Die passendste Allegorie kann matt werden, kann in eine Spielerey ausarten, wenn sie zu weit getrieben wird. Und das ist in der That bey den eben angeführten zu befürchten. Es ist unterhaltend, es ist, wie wir so eben selbst gesagt haben, nutzbar, wenn der Naturforscher die Creaturen nach ihrer nächsten Verwandschaft unter einander ordnet, an einander kettet u. s. w Aber es scheint uns von der andern Seite eine schwache, und der Allweisheit des Schöpfers unanständige Behauptung, wenn man im Ernste annehmen wollte, daß auch Er bey der Schöpfung einen solchen allegorischen Plan befolgt, und die Vollkommenheit seiner großen Handlung darein gesetzt hätte, daß er seinen Creaturen alle ersinnliche Formen gäbe, und sie folglich vom obersten bis zum untersten ganz regelmäßig stufenweis auf einander folgen liesse. Man würde lächeln, wenn jemand den Vorzug bey der Einrichtung eines Hauses darinn suchte, daß die Meublen darinne alle von verschiedner Gestalt oder Größe wären, und sich auch, so wie die angebliche Kette der natürlichen Körper, unter eine gleiche Stufenfolge bringen liessen. Die Vollkommenheit in der große Haushaltung der Mutter-Natur ist, so wie bey der kleinsten Oekonomie einer Familie, in ganz andern Vorzügen zu suchen.\n",
      "Metadata: J.F.Blumenbach, Handbuch der Naturgeschichte, ed. 1 (1779), §. 7.\n",
      "\n",
      "Die Entstehung der organisirten Körper ist, alles des großen Lichtes, was die Bemühungen der Neuern darüber verbreitet haben, ohngeachtet, eine der schwierigsten Lehren der Physiologie. Wo der erste Grundstoff eines jeden Thiers und jeder Pflanze hervorkomme, und durch was für Kräfte dieser Stoff nachher ausgebildet werde, sind beydes Probleme, deren Auflösung bis jetzt immer noch mit vieler Dunkelheit bedeckt ist. Den ersten Stoff oder die Grundtheile des organisirten Körpers haben fast alle Alten, und neuerlich auch Büffon u. a.m aus der Vermischung des männlichen Saamens mit dem weiblichen (dessen Exsistenz aber noch nicht einmal erwiesen ist) hergeleitet Nachdem aber Ludwig von Hammen aus Danzig, im August 1677. zuerst die Würmgen im männlichen Saamen entdeckt hatte, so glaubten Leeuwenhöck, Börhaave, Chr. Wolff u. a. den ersten Stoff eben in diesen Saamen-\n",
      "Thiergen zu finden. Allein sie haben neuerlich sehr viel von ihrem Ansehen verlohren nachdem man sie in vielen männlichen Thieren vermißt, und hingegen in tausend andern faulichten Säften ausser lebendigen Körpern, ähnliche Würmgen (Infusions-Thiergen) vorgefunden hat. Andere berühmte Männer haben endlich nach den Erfahrungen über den Eyerstock der unbefruchteten Vögel, die Grundtheile der organisirten Körper im weiblichen Ey gesucht Besonders hat Herr von Haller aus diesen Erfahrungen Schlüsse gefolgert, die diese Lehre bey weitem mehr als blos wahrscheinlich machen.\n",
      "Metadata: J.F.Blumenbach, Handbuch der Naturgeschichte, ed. 1 (1779), §. 10.\n",
      "\n",
      "The prompt as passed to the model:\n",
      "\n",
      "text=\"You are a historian analyzing a primary historical source (SOURCE). Answer the QUESTION based on the SOURCE. If the SOURCE doesn't contain sufficient information, report it and answer with your knowledge.\\nQUESTION: Who came up with the theory of relativity?\\nSOURCE: Zuerst etwas vom Ursprung der Mineralien, nemlich von den Hauptwegen, wodurch sie theils vor Zeiten mit einemmal entstanden sind, und theils nach und nach und noch immerfort entstehen. Um jene aufzuklären, müssen wir nothwendig auf den Ursprung unsrer Erde selbst zurück gehen: eine Untersuchung, bey der man sich freylich immer einige gewagte Muthmassungen wird erlauben müssen: doch wollen wir uns nicht dem Flug der kühnen Männer überlassen, die Kometen und ausgebrannte Sonnen zum Bau ihres Erdsystems aufgebothen haben sondern unsere bescheidnere Meinung vortragen auf die wir zuerst durch die Untersuchung der Versteinerungen, und durch ihre Vergleichung und gefundene Unähnlichkeit mit den gegenwärtigen organisirten Körpern und dann durch die Beobachtung einiger ehemaligen Vulcane gebracht worden sind, und die uns zwar immer noch eine Hypothese, aber doch eine solche Hypothese zu seyn scheint, die sich der Natur und dem Augenschein ziemlich leicht und schicklich anpassen läßt.\\n\\nDie Spiritualisten haben die Seele zum Baumeister ihres Körpers machen wollen, Büffon hat sich innere Modelle im alten organisirten Körper ersonnen, von welchen der Grundstoff des neuen, Abdrücke nehmen sollte; Herr Casp. Fr. Wolff hat zu seinem scharfsinnigen System eine gewisse vis essentialis aufgenommen der er diese allmählige Ausbildung überträgt u s. w. Die Theorie der Evolution hingegen nimmt an, daß in dem rohen Urstoff nicht erst ein Theil nach dem andern gebildet werde, sondern, daß derselbe den ganzen Keim, den völligen Entwurf des organisirten Körpers in sich fasse, daß folglich alle Keime der organisirten Körper in ihren Vorfahren bis zur ersten Schöpfung hinauf gleichsam eingeschachtelt, und in einen unthätigen Schlaf versenkt gelegen hätten und daß diese Keime bey der Befruchtung durch den Reiz des männlichen Saamens nur ermuntert, und so zu ihrer fernern Entwickelung angetrieben würden.\\n\\nDie Ausbildung dieses Grundstoffs zu erklären, ist man zwey Wege eingeschlagen, die beyde von sehr großen Männern betreten worden sind, deren jeder den seinigen zu verfechten und die Richtigkeit des andern zu bestreiten, getrachtet hat. Diese Wege sind die, in der neuern Philosophie so berühmt gewordnen, Theorien der Epigenese und der Evolution. Die Epigenese lehrt, daß der rohe Grundstoff (§. 10.) \\nnach der Empfängnis oder Befruchtung allmählig ausgebildet, und ein Theil des organisirten Körpers nach dem andern geformt würde Diese allmählige Bildung wahrscheinlich zu machen, haben ihre Anhänger allerhand Kräfte angenommen, die dieses Geschäfte bewürken sollten. Die Spiritualisten haben die Seele zum Baumeister ihres Körpers machen wollen, Büffon hat sich innere Modelle im alten organisirten Körper ersonnen, von welchen der Grundstoff des neuen, Abdrücke nehmen sollte; Herr Casp. Fr.\\n\\nNoch müssen wir endlich ein paar Worte über die bekannten Bilder von Ketten und Leitern und Netzen, die man der Natur angepaßt hat, sagen. Auch durch sie hat man neuerlich die Stützen der bestimmten Naturreiche zu untergraben gesucht. Man hat nemlich den Satz Die Natur thut keinen Sprung, über den schon der große Leibnitz viel wahres und schönes gesagt hat, den Bradley nachher (auf Addison's Anrathen) in einem eignen Werke aber ziemlich unvollständig und trocken, Bonnet ungemein scharfsinnig, und Robinet ganz abentheuerlich behandelt haben, dahin gedeutet daß alle erschaffene Wesen, vom vollkommensten bis zum Atom, vom Engel bis zum einfachsten Elemente, in einer ununterbrochnen Reihe, wie Glied an Glied in einer Kette, zusammenhingen; daß sie in Rücksicht ihrer Bildung und Eigenschaften stufenweise, aber doch so unmerklich auf einander folgten, daß durchaus keine andre, als eine sehr willkürliche, sehr imaginäre Abtheilung in Reiche oder Classen und Ordnungen ꝛc. bey ihnen statt finden könne. Dieses Räsonnement scheint wirklich auf den ersten Blick ganz richtig. Die Idee von Stufenfolge in der Natur ist eben so alt als artig. Wir selbst haben sie von je her für eine der interessantsten Speculationen in der Natürlichen Philosophie gehalten. Sie kann auch sehr wesentlich nutzbar werden.\\n\\nDer Mensch hat überhaupt wenig Instinct Kunsttriebe aber gar nicht: was ihn hingegen reichlich dafür entschädigt, ist der Gebrauch der Vernunft, die ihm allein ausschließlich, und durchaus keinem andern Thiere zukommt. Er hat keinen bestimmten Wohnplatz, sondern die ganze Erde, in Norden und Süden und unter jedem Meridian, ist ihm zum Aufenthalt angewiesen; die Verschiedenheit des Clima und der Lebensart erregt in ihm eben so verschiedne Bedürfnisse, die nicht auf einerley Weise befriedigt werden können; und ein einförmiger Kunsttrieb würde folglich ein sehr unbrauchbares Geschenk für ihn gewesen seyn: da er hingegen durch Reflexion die individuellen Bedürfnisse auf mannichfaltige und schickliche Weise zu stillen vermag.\\n\\nAber alles dies herzlich gerne zugegeben, dürfen doch die Leitern und Ketten, der guten Sache der bestimmten Naturreiche, und der Classification der Naturalien, bey weitem keinen Eintrag thun Die passendste Allegorie kann matt werden, kann in eine Spielerey ausarten, wenn sie zu weit getrieben wird. Und das ist in der That bey den eben angeführten zu befürchten. Es ist unterhaltend, es ist, wie wir so eben selbst gesagt haben, nutzbar, wenn der Naturforscher die Creaturen nach ihrer nächsten Verwandschaft unter einander ordnet, an einander kettet u. s. w Aber es scheint uns von der andern Seite eine schwache, und der Allweisheit des Schöpfers unanständige Behauptung, wenn man im Ernste annehmen wollte, daß auch Er bey der Schöpfung einen solchen allegorischen Plan befolgt, und die Vollkommenheit seiner großen Handlung darein gesetzt hätte, daß er seinen Creaturen alle ersinnliche Formen gäbe, und sie folglich vom obersten bis zum untersten ganz regelmäßig stufenweis auf einander folgen liesse. Man würde lächeln, wenn jemand den Vorzug bey der Einrichtung eines Hauses darinn suchte, daß die Meublen darinne alle von verschiedner Gestalt oder Größe wären, und sich auch, so wie die angebliche Kette der natürlichen Körper, unter eine gleiche Stufenfolge bringen liessen. Die Vollkommenheit in der große Haushaltung der Mutter-Natur ist, so wie bey der kleinsten Oekonomie einer Familie, in ganz andern Vorzügen zu suchen.\\n\\nDie Entstehung der organisirten Körper ist, alles des großen Lichtes, was die Bemühungen der Neuern darüber verbreitet haben, ohngeachtet, eine der schwierigsten Lehren der Physiologie. Wo der erste Grundstoff eines jeden Thiers und jeder Pflanze hervorkomme, und durch was für Kräfte dieser Stoff nachher ausgebildet werde, sind beydes Probleme, deren Auflösung bis jetzt immer noch mit vieler Dunkelheit bedeckt ist. Den ersten Stoff oder die Grundtheile des organisirten Körpers haben fast alle Alten, und neuerlich auch Büffon u. a.m aus der Vermischung des männlichen Saamens mit dem weiblichen (dessen Exsistenz aber noch nicht einmal erwiesen ist) hergeleitet Nachdem aber Ludwig von Hammen aus Danzig, im August 1677. zuerst die Würmgen im männlichen Saamen entdeckt hatte, so glaubten Leeuwenhöck, Börhaave, Chr. Wolff u. a. den ersten Stoff eben in diesen Saamen-\\nThiergen zu finden. Allein sie haben neuerlich sehr viel von ihrem Ansehen verlohren nachdem man sie in vielen männlichen Thieren vermißt, und hingegen in tausend andern faulichten Säften ausser lebendigen Körpern, ähnliche Würmgen (Infusions-Thiergen) vorgefunden hat. Andere berühmte Männer haben endlich nach den Erfahrungen über den Eyerstock der unbefruchteten Vögel, die Grundtheile der organisirten Körper im weiblichen Ey gesucht Besonders hat Herr von Haller aus diesen Erfahrungen Schlüsse gefolgert, die diese Lehre bey weitem mehr als blos wahrscheinlich machen.\\nANSWER: \"\n"
     ]
    }
   ],
   "source": [
    "question = \"Who came up with the theory of relativity?\"\n",
    "inference = chain.invoke(question)"
   ]
  },
  {
   "cell_type": "code",
   "execution_count": 69,
   "id": "f4504283",
   "metadata": {},
   "outputs": [
    {
     "name": "stdout",
     "output_type": "stream",
     "text": [
      "================================== Ai Message ==================================\n",
      "\n",
      "The source does not contain information about who came up with the theory of relativity. The theory of relativity was developed by Albert Einstein in the early 20th century.\n"
     ]
    }
   ],
   "source": [
    "print(inference.pretty_repr())"
   ]
  },
  {
   "cell_type": "code",
   "execution_count": 70,
   "id": "b7f7d601",
   "metadata": {},
   "outputs": [
    {
     "name": "stdout",
     "output_type": "stream",
     "text": [
      "Please insert a short comment: \n"
     ]
    }
   ],
   "source": [
    "record_in_txt(\"theory_of_relativity\")"
   ]
  },
  {
   "cell_type": "markdown",
   "id": "481ccc55",
   "metadata": {},
   "source": [
    "### c) Humans, animals and the origin of life"
   ]
  },
  {
   "cell_type": "code",
   "execution_count": 80,
   "id": "de1b05f3",
   "metadata": {},
   "outputs": [],
   "source": [
    "# prompt template\n",
    "\n",
    "template =\"\"\"You are a historian. Answer the QUESTION based on the SOURCE, which is an eighteen-century textbook on natural history.\n",
    "QUESTION: {question}\n",
    "SOURCE: {context}\n",
    "ANSWER: \"\"\"\n",
    "\n",
    "prompt = PromptTemplate.from_template(template)"
   ]
  },
  {
   "cell_type": "code",
   "execution_count": 92,
   "id": "b3360bc4",
   "metadata": {},
   "outputs": [],
   "source": [
    "# chain\n",
    "chain = (\n",
    "    {\"context\": retriever | format_docs, \"question\": RunnablePassthrough()}\n",
    "    | prompt | print_prompt\n",
    "    | llm\n",
    ")"
   ]
  },
  {
   "cell_type": "code",
   "execution_count": 93,
   "id": "79fb52d7",
   "metadata": {},
   "outputs": [
    {
     "name": "stdout",
     "output_type": "stream",
     "text": [
      "Retrieved context (metadata are not passed to the model):\n",
      "\n",
      "Eine directe Folge der Vernunft, mithin ein abermaliges Eigenthum der Menschheit, ist die Rede oder Sprache (Loquela), die nicht mit der Stimme (vox) der Thiere verwechselt werden darf. Auch der Mensch hat Stimme, wie man an den unglücklichen Beyspielen in Wildniß aufgewachsener, oder taubgebohrner Kinder sieht, und wie die unwillkürlichen Töne aus beklemmter Brust, bey Schrecken und in andern heftigen Leidenschaften zeigen Die Sprache aber entwickelt sich erst mit der Vernunft, da denn die Seele ihre erlangten Begriffe, der Zunge zum Aussprechen überträgt. Es giebt eben so wenig ein sprachloses, als ein vernunftloses Volt auf unserer Erde, und wir haben nun die Wörterbücher der Eskimos, der Hottentotten und anderer Nationen, denen die leichtglaubigen Reisenden der alten Zeit die Rede abzusprechen wagten. Zu den körperlichen Eigenschaften des Menschen gehört vorzüglich sein aufrechter Gang und der Gebrauch zweyer Hände, wodurch er, unserm Bedünken nach, selbst vom Menschenähnlichsten Affen zu unterscheiden ist. Moscati's spashafter Ruf an die Menschheit, auf allen vieren zu laufen, wird bey einiger Kenntnis von Anatome comparata blos belächelt. Die breiten Fußsohlen sind zum Auftreten, die Hände zum Fassen und Greifen. Die Affen hingegen haben vier Hände nemlich keine grosse Zehe, sondern an den Hinterfüßen eben sowol einen abstehenden Daumen als an den vordern (§.\n",
      "Metadata: Blumenbach, Handbuch der Naturgeschichte, ed. 1 (1779), Register 4th Chapter: Säugethiere, I Ord. INERMIS.\n",
      "\n",
      "Er erreicht, in Rücksicht seiner mässigen Körpermasse, und in Vergleich mit andern Säugethieren, ein ausnehmend hohes Alter, was ihn für seine lange Kindheit entschädigt. Die Proportion in der Anzal der Menschen beyden Geschlechts, die unglücklichen Folgen der Vielweiberey ꝛc. erweisen die natürliche Bestimmung des Menschen zur Monogamie Es giebt nur eine Gattung im Menschengeschlecht; und die Menschen aller Zeiten und aller Himmelsstriche können von Adam abstammen Die Verschiedenheiten in Bildung und Farbe der menschlichen Körper werden blos durch Clima Nahrung, Lebensart u. s. w. bewirkt; da der Mensch kein Privilegium hat, warum er nicht auch, wie jeder andere organisirte Körper, (§. 21.) wie eine Taube oder wie eine Tulpe, ausarten sollte? So brennt die Sonnenhitze die Mohren schwarz, und macht sie kraushaarigt; so wie hingegen die Kälte in Nordischen Zonen weisse Farbe und kleine Statur hervorbringt. Alle diese Verschiedenheiten fliessen so unvermerkt zusammen, daß sich eigentlich keine bestimmte Grenzen zwischen ihnen fest setzen lassen; doch haben wir das ganze Menschengeschlecht am füglichsten unter folgende fünf Varietäten zu bringen geglaubt;\n",
      "Metadata: Blumenbach, Handbuch der Naturgeschichte, ed. 1 (1779), Register 4th Chapter: Säugethiere, I Ord. INERMIS.\n",
      "\n",
      "Moscati's spashafter Ruf an die Menschheit, auf allen vieren zu laufen, wird bey einiger Kenntnis von Anatome comparata blos belächelt. Die breiten Fußsohlen sind zum Auftreten, die Hände zum Fassen und Greifen. Die Affen hingegen haben vier Hände nemlich keine grosse Zehe, sondern an den Hinterfüßen eben sowol einen abstehenden Daumen als an den vordern (§. 43); und daß nicht etwa unser Fuß nur durch den Gebrauch der Schuhe die Bildung und Fähigkeit der Hände verloren habe, wird durch die Beyspiele der barfussen Nationen, und des ungebornen Kindes, erweislich. Das Weibliche Geschlecht hat noch ein paar eigenthümliche Charaktere, die dem Männlichen und allen übrigen Thieren abgehen, nämlich einen periodischen Blutverlust in einer bestimmten Reihe von Lebensjahren; und dann ein körperliches Kennzeichen der unverlezten Jungfräulichen Unschuld, was blos seinen sittlichen Nutzen hat, und folglich für andre Thiere ein zweckloser Theil seyn würde. Der Mensch ist für sich ein wehrloses hülfbedürftiges Geschöpf. Kein andres Thier außer ihm ist so instinctlos, Keins bleibt so lange Kind Keins wird so sehr späte mannbar u. s. w. Selbst seine großen Vorzüge, Vernunft und Sprache sind nur Keime, die sich nicht von selbst, sondern erst durch fremde Hülfe, durch Kultur und Erziehung entwickeln können.\n",
      "Metadata: Blumenbach, Handbuch der Naturgeschichte, ed. 1 (1779), Register 4th Chapter: Säugethiere, I Ord. INERMIS.\n",
      "\n",
      "Die ursprüngliche und größte Raçe begreift erstens alle Europäer, die Lappen mit eingeschlossen, deren Bildung und Sprache ihre Finnische Abkunft verrätht, und die gar nichts so auszeichnendes haben, daß sie eine besondere Varietät ausmachen könnten: sodann die Asiaten, die disseits des Obi des Caspischen Meeres, des Gebürges Imaus und des Ganges, wohnen: ferner die Nordafrikaner: und endlich die Grönländer und Eskimos, die gänzlich von den übrigen Amerikanern verschieden sind, und wahrscheinlich auch von Finnen abstammen. Alle diese Völker sind mehrentheils von weisser Farbe, und nach unsern Begriffen von Schönheit die best gebildesten Menschen.\n",
      "Metadata: Blumenbach, Handbuch der Naturgeschichte, ed. 1 (1779), Register 4th Chapter: Säugethiere, I Ord. INERMIS., 1.\n",
      "\n",
      "Der Mensch ist für sich ein wehrloses hülfbedürftiges Geschöpf. Kein andres Thier außer ihm ist so instinctlos, Keins bleibt so lange Kind Keins wird so sehr späte mannbar u. s. w. Selbst seine großen Vorzüge, Vernunft und Sprache sind nur Keime, die sich nicht von selbst, sondern erst durch fremde Hülfe, durch Kultur und Erziehung entwickeln können. Diese natürliche Blösse von der einen Seite, und die vielfachen Bedürfnisse von der andern, machen den Menschen zum geselligen Thiere, so daß Hobbes den blossen Nothzwang für die einzige Triebfeder annehmen durfte, wodurch der Mensch, so wie die Bienen und Ameisen durch ihren Instinct, zur socialen Verbindung gedrungen würde. Der Aufenthalt und die Nahrung des Menschen sind beide unbeschränkt; er bewohnt die ganze Erde, und nährt sich beynabe von der ganzen organisirten Schöpfung. Er erreicht, in Rücksicht seiner mässigen Körpermasse, und in Vergleich mit andern Säugethieren, ein ausnehmend hohes Alter, was ihn für seine lange Kindheit entschädigt. Die Proportion in der Anzal der Menschen beyden Geschlechts, die unglücklichen Folgen der Vielweiberey ꝛc.\n",
      "Metadata: Blumenbach, Handbuch der Naturgeschichte, ed. 1 (1779), Register 4th Chapter: Säugethiere, I Ord. INERMIS.\n",
      "\n",
      "Die Australasiaten und Polynesen; oder die Südländer des fünften Welttheils; dazu man auch wol die Bewohner der Sundaischen Inseln, der Molucken, Philippinen u. s. w. zälen könnte. Sie sind meist schwarzbraun, breitnasicht, und starkbehaart Die Patagonischen Riesen sind, von Magelhans Zeiten bis auf die unsrigen, in den Erzälungen der Reisenden, von zwölf Fus zu sechs bis siebenthalb eingekrochen, und bleiben also nicht größer und nicht kleiner als jeder andre ehrliche Mensch von guter Statur. Commersons Quimos und andre Zwergnationen werden in dem Maas wachsen, wie die Patagonen an Länge abgenommen haben. Die Rackerlacken, Blafards, Albinos oder weiße Mohren sind nicht einmal eine Spielart geschweige eine besondre Gattung, wozu sie der gute Voltaire so gern machen möchte: sondern eine Krankheit, die Menschen unter allen Meridianen befallen kan, und der auch Thiere unterworfen sind. Linne's Homo troglodytes ist ein Gemisch aus der Geschichte dieser preßhaften waren Menschen, und des Orangutangs. Die in Wildnis unter Thieren erwachsenen Kinder sind klägliche sittliche Monstra, die man eben so wenig, als die Cretins oder andre durch Krankheit oder Zufall entstellte Menschen, zum Muster des Meisterstücks der Schöpfung anführen darf Geschwänzte Völker, von Natur geschürzte Hottentottinnen, von Natur unbärtige Amerikaner, Syrenen, Centauren, und alle Fabeln von gleichem Schrot und Korn, verzeihn wir der gutherzigen Leichtgläubigkeit unsrer lieben Alten.\n",
      "Metadata: Blumenbach, Handbuch der Naturgeschichte, ed. 1 (1779), Register 4th Chapter: Säugethiere, I Ord. INERMIS., 5.\n",
      "\n",
      "Die Säugethiere geben die wichtigsten Geschöpfe fürs Menschengeschlecht. Der Mensch hat sich noch aus keiner andern Thierclasse so treue, arbeitsame und dienstfertige Gehülfen zu schaffen gewußt, als aus dieser. Sie enthält ungemein gelehrige Thiere, deren Naturell sich leicht abändern läst, und der Mensch hat folglich ganze Gattungen aus ihrer Wildniß versetzen, und blos zu seinen Hausgenossen machen können Der Verlust der Freyheit zeigt sich nach mehrern Generationen besonders durch hängende Ohren und schlichten Schwanz, so daß manschen aus diesen Zeichen errathen kan, wie lang oder wie kürzlich die Schweine und andere Hausthiere in verschiednen Gegenden unterjocht seyn mögen.\n",
      "Metadata: J.F.Blumenbach, Handbuch der Naturgeschichte, ed. 1 (1779), §. 50.\n",
      "\n",
      "The prompt as passed to the model:\n",
      "\n",
      "text=\"You are a historian. Answer the QUESTION based on the SOURCE, which is an eighteen-century textbook on natural history.\\nQUESTION: What is said about human races?\\nSOURCE: Eine directe Folge der Vernunft, mithin ein abermaliges Eigenthum der Menschheit, ist die Rede oder Sprache (Loquela), die nicht mit der Stimme (vox) der Thiere verwechselt werden darf. Auch der Mensch hat Stimme, wie man an den unglücklichen Beyspielen in Wildniß aufgewachsener, oder taubgebohrner Kinder sieht, und wie die unwillkürlichen Töne aus beklemmter Brust, bey Schrecken und in andern heftigen Leidenschaften zeigen Die Sprache aber entwickelt sich erst mit der Vernunft, da denn die Seele ihre erlangten Begriffe, der Zunge zum Aussprechen überträgt. Es giebt eben so wenig ein sprachloses, als ein vernunftloses Volt auf unserer Erde, und wir haben nun die Wörterbücher der Eskimos, der Hottentotten und anderer Nationen, denen die leichtglaubigen Reisenden der alten Zeit die Rede abzusprechen wagten. Zu den körperlichen Eigenschaften des Menschen gehört vorzüglich sein aufrechter Gang und der Gebrauch zweyer Hände, wodurch er, unserm Bedünken nach, selbst vom Menschenähnlichsten Affen zu unterscheiden ist. Moscati's spashafter Ruf an die Menschheit, auf allen vieren zu laufen, wird bey einiger Kenntnis von Anatome comparata blos belächelt. Die breiten Fußsohlen sind zum Auftreten, die Hände zum Fassen und Greifen. Die Affen hingegen haben vier Hände nemlich keine grosse Zehe, sondern an den Hinterfüßen eben sowol einen abstehenden Daumen als an den vordern (§.\\n\\nEr erreicht, in Rücksicht seiner mässigen Körpermasse, und in Vergleich mit andern Säugethieren, ein ausnehmend hohes Alter, was ihn für seine lange Kindheit entschädigt. Die Proportion in der Anzal der Menschen beyden Geschlechts, die unglücklichen Folgen der Vielweiberey ꝛc. erweisen die natürliche Bestimmung des Menschen zur Monogamie Es giebt nur eine Gattung im Menschengeschlecht; und die Menschen aller Zeiten und aller Himmelsstriche können von Adam abstammen Die Verschiedenheiten in Bildung und Farbe der menschlichen Körper werden blos durch Clima Nahrung, Lebensart u. s. w. bewirkt; da der Mensch kein Privilegium hat, warum er nicht auch, wie jeder andere organisirte Körper, (§. 21.) wie eine Taube oder wie eine Tulpe, ausarten sollte? So brennt die Sonnenhitze die Mohren schwarz, und macht sie kraushaarigt; so wie hingegen die Kälte in Nordischen Zonen weisse Farbe und kleine Statur hervorbringt. Alle diese Verschiedenheiten fliessen so unvermerkt zusammen, daß sich eigentlich keine bestimmte Grenzen zwischen ihnen fest setzen lassen; doch haben wir das ganze Menschengeschlecht am füglichsten unter folgende fünf Varietäten zu bringen geglaubt;\\n\\nMoscati's spashafter Ruf an die Menschheit, auf allen vieren zu laufen, wird bey einiger Kenntnis von Anatome comparata blos belächelt. Die breiten Fußsohlen sind zum Auftreten, die Hände zum Fassen und Greifen. Die Affen hingegen haben vier Hände nemlich keine grosse Zehe, sondern an den Hinterfüßen eben sowol einen abstehenden Daumen als an den vordern (§. 43); und daß nicht etwa unser Fuß nur durch den Gebrauch der Schuhe die Bildung und Fähigkeit der Hände verloren habe, wird durch die Beyspiele der barfussen Nationen, und des ungebornen Kindes, erweislich. Das Weibliche Geschlecht hat noch ein paar eigenthümliche Charaktere, die dem Männlichen und allen übrigen Thieren abgehen, nämlich einen periodischen Blutverlust in einer bestimmten Reihe von Lebensjahren; und dann ein körperliches Kennzeichen der unverlezten Jungfräulichen Unschuld, was blos seinen sittlichen Nutzen hat, und folglich für andre Thiere ein zweckloser Theil seyn würde. Der Mensch ist für sich ein wehrloses hülfbedürftiges Geschöpf. Kein andres Thier außer ihm ist so instinctlos, Keins bleibt so lange Kind Keins wird so sehr späte mannbar u. s. w. Selbst seine großen Vorzüge, Vernunft und Sprache sind nur Keime, die sich nicht von selbst, sondern erst durch fremde Hülfe, durch Kultur und Erziehung entwickeln können.\\n\\nDie ursprüngliche und größte Raçe begreift erstens alle Europäer, die Lappen mit eingeschlossen, deren Bildung und Sprache ihre Finnische Abkunft verrätht, und die gar nichts so auszeichnendes haben, daß sie eine besondere Varietät ausmachen könnten: sodann die Asiaten, die disseits des Obi des Caspischen Meeres, des Gebürges Imaus und des Ganges, wohnen: ferner die Nordafrikaner: und endlich die Grönländer und Eskimos, die gänzlich von den übrigen Amerikanern verschieden sind, und wahrscheinlich auch von Finnen abstammen. Alle diese Völker sind mehrentheils von weisser Farbe, und nach unsern Begriffen von Schönheit die best gebildesten Menschen.\\n\\nDer Mensch ist für sich ein wehrloses hülfbedürftiges Geschöpf. Kein andres Thier außer ihm ist so instinctlos, Keins bleibt so lange Kind Keins wird so sehr späte mannbar u. s. w. Selbst seine großen Vorzüge, Vernunft und Sprache sind nur Keime, die sich nicht von selbst, sondern erst durch fremde Hülfe, durch Kultur und Erziehung entwickeln können. Diese natürliche Blösse von der einen Seite, und die vielfachen Bedürfnisse von der andern, machen den Menschen zum geselligen Thiere, so daß Hobbes den blossen Nothzwang für die einzige Triebfeder annehmen durfte, wodurch der Mensch, so wie die Bienen und Ameisen durch ihren Instinct, zur socialen Verbindung gedrungen würde. Der Aufenthalt und die Nahrung des Menschen sind beide unbeschränkt; er bewohnt die ganze Erde, und nährt sich beynabe von der ganzen organisirten Schöpfung. Er erreicht, in Rücksicht seiner mässigen Körpermasse, und in Vergleich mit andern Säugethieren, ein ausnehmend hohes Alter, was ihn für seine lange Kindheit entschädigt. Die Proportion in der Anzal der Menschen beyden Geschlechts, die unglücklichen Folgen der Vielweiberey ꝛc.\\n\\nDie Australasiaten und Polynesen; oder die Südländer des fünften Welttheils; dazu man auch wol die Bewohner der Sundaischen Inseln, der Molucken, Philippinen u. s. w. zälen könnte. Sie sind meist schwarzbraun, breitnasicht, und starkbehaart Die Patagonischen Riesen sind, von Magelhans Zeiten bis auf die unsrigen, in den Erzälungen der Reisenden, von zwölf Fus zu sechs bis siebenthalb eingekrochen, und bleiben also nicht größer und nicht kleiner als jeder andre ehrliche Mensch von guter Statur. Commersons Quimos und andre Zwergnationen werden in dem Maas wachsen, wie die Patagonen an Länge abgenommen haben. Die Rackerlacken, Blafards, Albinos oder weiße Mohren sind nicht einmal eine Spielart geschweige eine besondre Gattung, wozu sie der gute Voltaire so gern machen möchte: sondern eine Krankheit, die Menschen unter allen Meridianen befallen kan, und der auch Thiere unterworfen sind. Linne's Homo troglodytes ist ein Gemisch aus der Geschichte dieser preßhaften waren Menschen, und des Orangutangs. Die in Wildnis unter Thieren erwachsenen Kinder sind klägliche sittliche Monstra, die man eben so wenig, als die Cretins oder andre durch Krankheit oder Zufall entstellte Menschen, zum Muster des Meisterstücks der Schöpfung anführen darf Geschwänzte Völker, von Natur geschürzte Hottentottinnen, von Natur unbärtige Amerikaner, Syrenen, Centauren, und alle Fabeln von gleichem Schrot und Korn, verzeihn wir der gutherzigen Leichtgläubigkeit unsrer lieben Alten.\\n\\nDie Säugethiere geben die wichtigsten Geschöpfe fürs Menschengeschlecht. Der Mensch hat sich noch aus keiner andern Thierclasse so treue, arbeitsame und dienstfertige Gehülfen zu schaffen gewußt, als aus dieser. Sie enthält ungemein gelehrige Thiere, deren Naturell sich leicht abändern läst, und der Mensch hat folglich ganze Gattungen aus ihrer Wildniß versetzen, und blos zu seinen Hausgenossen machen können Der Verlust der Freyheit zeigt sich nach mehrern Generationen besonders durch hängende Ohren und schlichten Schwanz, so daß manschen aus diesen Zeichen errathen kan, wie lang oder wie kürzlich die Schweine und andere Hausthiere in verschiednen Gegenden unterjocht seyn mögen.\\nANSWER: \"\n"
     ]
    }
   ],
   "source": [
    "question = \"What is said about human races?\"\n",
    "inference = chain.invoke(question)"
   ]
  },
  {
   "cell_type": "code",
   "execution_count": 94,
   "id": "a4629da1",
   "metadata": {},
   "outputs": [
    {
     "name": "stdout",
     "output_type": "stream",
     "text": [
      "================================== Ai Message ==================================\n",
      "\n",
      "The source discusses human races in terms of physical characteristics and geographical distribution. It mentions five main varieties of the human race, including Europeans, Asians, North Africans, Greenlanders and Eskimos, and Australasians and Polynesians. The text also highlights the impact of climate, diet, and lifestyle on the physical appearance of different human populations. It emphasizes that all human beings belong to the same species and can trace their ancestry back to Adam. The source also touches on the social nature of humans, their dependence on culture and education for the development of reason and language, and their ability to domesticate and work with animals.\n"
     ]
    }
   ],
   "source": [
    "print(inference.pretty_repr())"
   ]
  },
  {
   "cell_type": "code",
   "execution_count": 95,
   "id": "f978b0fb",
   "metadata": {},
   "outputs": [
    {
     "name": "stdout",
     "output_type": "stream",
     "text": [
      "Please insert a short comment: 1st generation with inclusion of the register\n"
     ]
    }
   ],
   "source": [
    "record_in_txt(\"humans\")"
   ]
  },
  {
   "cell_type": "markdown",
   "id": "9974f971",
   "metadata": {},
   "source": [
    "## 5. RAG"
   ]
  },
  {
   "cell_type": "markdown",
   "id": "3228885d",
   "metadata": {},
   "source": [
    "### a) Blumenbach's writing style"
   ]
  },
  {
   "cell_type": "code",
   "execution_count": 7,
   "id": "64f835b0",
   "metadata": {},
   "outputs": [],
   "source": [
    "# prompt template\n",
    "\n",
    "template =\"\"\"You are a historian. Follow the INSTRUCTION. The SOURCE is a historical textbook on natural history by J. F. Blumenbach.\n",
    "INSTRUCTION: {instruction} Provide details and examples from the SOURCE.\n",
    "SOURCE: {context} \"\"\"\n",
    "\n",
    "prompt = PromptTemplate.from_template(template)\n"
   ]
  },
  {
   "cell_type": "code",
   "execution_count": 8,
   "id": "ddd44d15",
   "metadata": {},
   "outputs": [],
   "source": [
    "# chain\n",
    "chain = (\n",
    "    {\"context\": itemgetter(\"topic\") | retriever | format_docs, \"instruction\": itemgetter(\"instruction\")}\n",
    "    | prompt | print_prompt\n",
    "    | llm\n",
    ")"
   ]
  },
  {
   "cell_type": "code",
   "execution_count": 15,
   "id": "a80b51e4",
   "metadata": {},
   "outputs": [
    {
     "name": "stdout",
     "output_type": "stream",
     "text": [
      "Retrieved context (metadata are not passed to the model):\n",
      "\n",
      "Der gegenwärtige Abschnitt betrift allerdings eine eben so wichtige als anmuthige Untersuchung nemlich die allgemeine Naturgeschichte der Gewächse, die wir so viel möglich in der gleichen Ordnung abfassen wollen, die oben in der allgemeinen Thiergeschichte befolgt worden ist, damit beide desto leichter mit einander verglichen und die Aehnlichkeit oder Abweichung dieser zweyerley Arten von organisirten Körpern um so deutlicher ersehen Werden kan.\n",
      "Metadata: J.F.Blumenbach, Handbuch der Naturgeschichte, ed. 1 (1780), §. 170.\n",
      "\n",
      "1. Geschl. homo. Animal rationale, loquens erectum, bimanum. 1. Gatt. sapiens. Der Mensch wird durch so merkwürdige Eigenschaften des Geistes und des Körpers von der ganzen übrigen thierischen Schöpfung ausgezeichnet, daß er bey weitem nicht blos in einem eignen Geschlecht, sondern allerdings in einer besondern Ordnung, von ihr abgeschieden werden muß. Er hat ausser dem Begattungstrieb wenig Spuren von Instinct Kunsttriebe aber, daß er sich, wie tausend andere Thiere, ohne Unterricht und ohne Nachsinnen aus blossem innern Drange, Wohnungen, Netze für seinen Raub u. s. w. verfertigen könnte, hat er gar nicht. Der Schöpfer hat ihn für diese Mangel durch den Gebrauch der Vernunft entschädiget, die ihm allein ausschließlich, und keinem andern Thiere zukommt, und wodurch er alle seine grossen Bestimmungen besser erfüllen seine endlosen Bedürfnisse passender befriedigen kann, als wenn er selbst die Kunsttriebe mehrerer Thiere in sich vereinte. Eine directe Folge der Vernunft, mithin ein abermaliges Eigenthum der Menschheit, ist die Rede oder Sprache (Loquela), die nicht mit der Stimme (vox) der Thiere verwechselt werden darf.\n",
      "Metadata: Blumenbach, Handbuch der Naturgeschichte, ed. 1 (1779), Register 4th Chapter: Säugethiere, I Ord. INERMIS.\n",
      "\n",
      "Aber alles dies herzlich gerne zugegeben, dürfen doch die Leitern und Ketten, der guten Sache der bestimmten Naturreiche, und der Classification der Naturalien, bey weitem keinen Eintrag thun Die passendste Allegorie kann matt werden, kann in eine Spielerey ausarten, wenn sie zu weit getrieben wird. Und das ist in der That bey den eben angeführten zu befürchten. Es ist unterhaltend, es ist, wie wir so eben selbst gesagt haben, nutzbar, wenn der Naturforscher die Creaturen nach ihrer nächsten Verwandschaft unter einander ordnet, an einander kettet u. s. w Aber es scheint uns von der andern Seite eine schwache, und der Allweisheit des Schöpfers unanständige Behauptung, wenn man im Ernste annehmen wollte, daß auch Er bey der Schöpfung einen solchen allegorischen Plan befolgt, und die Vollkommenheit seiner großen Handlung darein gesetzt hätte, daß er seinen Creaturen alle ersinnliche Formen gäbe, und sie folglich vom obersten bis zum untersten ganz regelmäßig stufenweis auf einander folgen liesse. Man würde lächeln, wenn jemand den Vorzug bey der Einrichtung eines Hauses darinn suchte, daß die Meublen darinne alle von verschiedner Gestalt oder Größe wären, und sich auch, so wie die angebliche Kette der natürlichen Körper, unter eine gleiche Stufenfolge bringen liessen. Die Vollkommenheit in der große Haushaltung der Mutter-Natur ist, so wie bey der kleinsten Oekonomie einer Familie, in ganz andern Vorzügen zu suchen.\n",
      "Metadata: J.F.Blumenbach, Handbuch der Naturgeschichte, ed. 1 (1779), §. 7.\n",
      "\n",
      "Die Spiritualisten haben die Seele zum Baumeister ihres Körpers machen wollen, Büffon hat sich innere Modelle im alten organisirten Körper ersonnen, von welchen der Grundstoff des neuen, Abdrücke nehmen sollte; Herr Casp. Fr. Wolff hat zu seinem scharfsinnigen System eine gewisse vis essentialis aufgenommen der er diese allmählige Ausbildung überträgt u s. w. Die Theorie der Evolution hingegen nimmt an, daß in dem rohen Urstoff nicht erst ein Theil nach dem andern gebildet werde, sondern, daß derselbe den ganzen Keim, den völligen Entwurf des organisirten Körpers in sich fasse, daß folglich alle Keime der organisirten Körper in ihren Vorfahren bis zur ersten Schöpfung hinauf gleichsam eingeschachtelt, und in einen unthätigen Schlaf versenkt gelegen hätten und daß diese Keime bey der Befruchtung durch den Reiz des männlichen Saamens nur ermuntert, und so zu ihrer fernern Entwickelung angetrieben würden.\n",
      "Metadata: J.F.Blumenbach, Handbuch der Naturgeschichte, ed. 1 (1779), §. 11.\n",
      "\n",
      "Die Ausbildung dieses Grundstoffs zu erklären, ist man zwey Wege eingeschlagen, die beyde von sehr großen Männern betreten worden sind, deren jeder den seinigen zu verfechten und die Richtigkeit des andern zu bestreiten, getrachtet hat. Diese Wege sind die, in der neuern Philosophie so berühmt gewordnen, Theorien der Epigenese und der Evolution. Die Epigenese lehrt, daß der rohe Grundstoff (§. 10.) \n",
      "nach der Empfängnis oder Befruchtung allmählig ausgebildet, und ein Theil des organisirten Körpers nach dem andern geformt würde Diese allmählige Bildung wahrscheinlich zu machen, haben ihre Anhänger allerhand Kräfte angenommen, die dieses Geschäfte bewürken sollten. Die Spiritualisten haben die Seele zum Baumeister ihres Körpers machen wollen, Büffon hat sich innere Modelle im alten organisirten Körper ersonnen, von welchen der Grundstoff des neuen, Abdrücke nehmen sollte; Herr Casp. Fr.\n",
      "Metadata: J.F.Blumenbach, Handbuch der Naturgeschichte, ed. 1 (1779), §. 11.\n",
      "\n",
      "Andere berühmte Männer haben, zumal ganz neuerlich, die Gränzen zwischen Thier- und Pflanzen-Reich gänzlich aufzuheben getrachtet; indem sie sich auf organisirte Körper bezogen haben die gleich viel Anspruch auf thierische und Pflanzen-Natur machen könnten, die folglich mit Unrecht zu einem organisirten Reiche insbesondere gezählt würden, sondern die das Band zwischen beyden, und einen unmerklichen Uebergang vom einen zum andern, abgäben. Allein diese Einwürfe verschwinden, sobald man sich über die Eigenschaften vergleicht, die man zu einem Thier oder zu einer Pflanze erfodert. Wir haben uns erklärt, was wir für Begriffe mit Animalität oder Vegetabilität verbinden, und so ist unserm Bedünken nach alle Zweydeutigkeit und Ungewißheit über diese Punkte gehoben. Der Polype läßt sich durch Zweige fortpflanzen, wie eine Weide; aber muß er nun deswegen gleich zur Pflanze, oder doch zum Mittelding zwischen ihr und einem Thiere gemacht werden? Er verschlingt seine Würmchen durch eine große Oeffnung die an seinem Körper ist, und zieht seine Nahrung nicht durch Wurzelzäserchen in sich; er hat willkürliche Bewegung, so gut als irgend ein Thier des Erdbodens; und das ist uns genug, um ihm seine Animalität zu vindiciren und zu behaupten, daß er mit gleich wenig Recht Pflanze oder Stein genannt werden dürfe.\n",
      "Metadata: J.F.Blumenbach, Handbuch der Naturgeschichte, ed. 1 (1779), §. 6.\n",
      "\n",
      "Zuerst etwas vom Ursprung der Mineralien, nemlich von den Hauptwegen, wodurch sie theils vor Zeiten mit einemmal entstanden sind, und theils nach und nach und noch immerfort entstehen. Um jene aufzuklären, müssen wir nothwendig auf den Ursprung unsrer Erde selbst zurück gehen: eine Untersuchung, bey der man sich freylich immer einige gewagte Muthmassungen wird erlauben müssen: doch wollen wir uns nicht dem Flug der kühnen Männer überlassen, die Kometen und ausgebrannte Sonnen zum Bau ihres Erdsystems aufgebothen haben sondern unsere bescheidnere Meinung vortragen auf die wir zuerst durch die Untersuchung der Versteinerungen, und durch ihre Vergleichung und gefundene Unähnlichkeit mit den gegenwärtigen organisirten Körpern und dann durch die Beobachtung einiger ehemaligen Vulcane gebracht worden sind, und die uns zwar immer noch eine Hypothese, aber doch eine solche Hypothese zu seyn scheint, die sich der Natur und dem Augenschein ziemlich leicht und schicklich anpassen läßt.\n",
      "Metadata: J.F.Blumenbach, Handbuch der Naturgeschichte, ed. 1 (1780), §. 221.\n",
      "\n",
      "The prompt as passed to the model:\n",
      "\n",
      "text='You are a historian. Follow the INSTRUCTION. The SOURCE is a historical textbook on natural history by J. F. Blumenbach.\\nINSTRUCTION: First, write a few sentences about best practices of scientific writing. Then, evaluate the language used by Blumenbach according to them. Provide details and examples from the SOURCE.\\nSOURCE: Der gegenwärtige Abschnitt betrift allerdings eine eben so wichtige als anmuthige Untersuchung nemlich die allgemeine Naturgeschichte der Gewächse, die wir so viel möglich in der gleichen Ordnung abfassen wollen, die oben in der allgemeinen Thiergeschichte befolgt worden ist, damit beide desto leichter mit einander verglichen und die Aehnlichkeit oder Abweichung dieser zweyerley Arten von organisirten Körpern um so deutlicher ersehen Werden kan.\\n\\n1. Geschl. homo. Animal rationale, loquens erectum, bimanum. 1. Gatt. sapiens. Der Mensch wird durch so merkwürdige Eigenschaften des Geistes und des Körpers von der ganzen übrigen thierischen Schöpfung ausgezeichnet, daß er bey weitem nicht blos in einem eignen Geschlecht, sondern allerdings in einer besondern Ordnung, von ihr abgeschieden werden muß. Er hat ausser dem Begattungstrieb wenig Spuren von Instinct Kunsttriebe aber, daß er sich, wie tausend andere Thiere, ohne Unterricht und ohne Nachsinnen aus blossem innern Drange, Wohnungen, Netze für seinen Raub u. s. w. verfertigen könnte, hat er gar nicht. Der Schöpfer hat ihn für diese Mangel durch den Gebrauch der Vernunft entschädiget, die ihm allein ausschließlich, und keinem andern Thiere zukommt, und wodurch er alle seine grossen Bestimmungen besser erfüllen seine endlosen Bedürfnisse passender befriedigen kann, als wenn er selbst die Kunsttriebe mehrerer Thiere in sich vereinte. Eine directe Folge der Vernunft, mithin ein abermaliges Eigenthum der Menschheit, ist die Rede oder Sprache (Loquela), die nicht mit der Stimme (vox) der Thiere verwechselt werden darf.\\n\\nAber alles dies herzlich gerne zugegeben, dürfen doch die Leitern und Ketten, der guten Sache der bestimmten Naturreiche, und der Classification der Naturalien, bey weitem keinen Eintrag thun Die passendste Allegorie kann matt werden, kann in eine Spielerey ausarten, wenn sie zu weit getrieben wird. Und das ist in der That bey den eben angeführten zu befürchten. Es ist unterhaltend, es ist, wie wir so eben selbst gesagt haben, nutzbar, wenn der Naturforscher die Creaturen nach ihrer nächsten Verwandschaft unter einander ordnet, an einander kettet u. s. w Aber es scheint uns von der andern Seite eine schwache, und der Allweisheit des Schöpfers unanständige Behauptung, wenn man im Ernste annehmen wollte, daß auch Er bey der Schöpfung einen solchen allegorischen Plan befolgt, und die Vollkommenheit seiner großen Handlung darein gesetzt hätte, daß er seinen Creaturen alle ersinnliche Formen gäbe, und sie folglich vom obersten bis zum untersten ganz regelmäßig stufenweis auf einander folgen liesse. Man würde lächeln, wenn jemand den Vorzug bey der Einrichtung eines Hauses darinn suchte, daß die Meublen darinne alle von verschiedner Gestalt oder Größe wären, und sich auch, so wie die angebliche Kette der natürlichen Körper, unter eine gleiche Stufenfolge bringen liessen. Die Vollkommenheit in der große Haushaltung der Mutter-Natur ist, so wie bey der kleinsten Oekonomie einer Familie, in ganz andern Vorzügen zu suchen.\\n\\nDie Spiritualisten haben die Seele zum Baumeister ihres Körpers machen wollen, Büffon hat sich innere Modelle im alten organisirten Körper ersonnen, von welchen der Grundstoff des neuen, Abdrücke nehmen sollte; Herr Casp. Fr. Wolff hat zu seinem scharfsinnigen System eine gewisse vis essentialis aufgenommen der er diese allmählige Ausbildung überträgt u s. w. Die Theorie der Evolution hingegen nimmt an, daß in dem rohen Urstoff nicht erst ein Theil nach dem andern gebildet werde, sondern, daß derselbe den ganzen Keim, den völligen Entwurf des organisirten Körpers in sich fasse, daß folglich alle Keime der organisirten Körper in ihren Vorfahren bis zur ersten Schöpfung hinauf gleichsam eingeschachtelt, und in einen unthätigen Schlaf versenkt gelegen hätten und daß diese Keime bey der Befruchtung durch den Reiz des männlichen Saamens nur ermuntert, und so zu ihrer fernern Entwickelung angetrieben würden.\\n\\nDie Ausbildung dieses Grundstoffs zu erklären, ist man zwey Wege eingeschlagen, die beyde von sehr großen Männern betreten worden sind, deren jeder den seinigen zu verfechten und die Richtigkeit des andern zu bestreiten, getrachtet hat. Diese Wege sind die, in der neuern Philosophie so berühmt gewordnen, Theorien der Epigenese und der Evolution. Die Epigenese lehrt, daß der rohe Grundstoff (§. 10.) \\nnach der Empfängnis oder Befruchtung allmählig ausgebildet, und ein Theil des organisirten Körpers nach dem andern geformt würde Diese allmählige Bildung wahrscheinlich zu machen, haben ihre Anhänger allerhand Kräfte angenommen, die dieses Geschäfte bewürken sollten. Die Spiritualisten haben die Seele zum Baumeister ihres Körpers machen wollen, Büffon hat sich innere Modelle im alten organisirten Körper ersonnen, von welchen der Grundstoff des neuen, Abdrücke nehmen sollte; Herr Casp. Fr.\\n\\nAndere berühmte Männer haben, zumal ganz neuerlich, die Gränzen zwischen Thier- und Pflanzen-Reich gänzlich aufzuheben getrachtet; indem sie sich auf organisirte Körper bezogen haben die gleich viel Anspruch auf thierische und Pflanzen-Natur machen könnten, die folglich mit Unrecht zu einem organisirten Reiche insbesondere gezählt würden, sondern die das Band zwischen beyden, und einen unmerklichen Uebergang vom einen zum andern, abgäben. Allein diese Einwürfe verschwinden, sobald man sich über die Eigenschaften vergleicht, die man zu einem Thier oder zu einer Pflanze erfodert. Wir haben uns erklärt, was wir für Begriffe mit Animalität oder Vegetabilität verbinden, und so ist unserm Bedünken nach alle Zweydeutigkeit und Ungewißheit über diese Punkte gehoben. Der Polype läßt sich durch Zweige fortpflanzen, wie eine Weide; aber muß er nun deswegen gleich zur Pflanze, oder doch zum Mittelding zwischen ihr und einem Thiere gemacht werden? Er verschlingt seine Würmchen durch eine große Oeffnung die an seinem Körper ist, und zieht seine Nahrung nicht durch Wurzelzäserchen in sich; er hat willkürliche Bewegung, so gut als irgend ein Thier des Erdbodens; und das ist uns genug, um ihm seine Animalität zu vindiciren und zu behaupten, daß er mit gleich wenig Recht Pflanze oder Stein genannt werden dürfe.\\n\\nZuerst etwas vom Ursprung der Mineralien, nemlich von den Hauptwegen, wodurch sie theils vor Zeiten mit einemmal entstanden sind, und theils nach und nach und noch immerfort entstehen. Um jene aufzuklären, müssen wir nothwendig auf den Ursprung unsrer Erde selbst zurück gehen: eine Untersuchung, bey der man sich freylich immer einige gewagte Muthmassungen wird erlauben müssen: doch wollen wir uns nicht dem Flug der kühnen Männer überlassen, die Kometen und ausgebrannte Sonnen zum Bau ihres Erdsystems aufgebothen haben sondern unsere bescheidnere Meinung vortragen auf die wir zuerst durch die Untersuchung der Versteinerungen, und durch ihre Vergleichung und gefundene Unähnlichkeit mit den gegenwärtigen organisirten Körpern und dann durch die Beobachtung einiger ehemaligen Vulcane gebracht worden sind, und die uns zwar immer noch eine Hypothese, aber doch eine solche Hypothese zu seyn scheint, die sich der Natur und dem Augenschein ziemlich leicht und schicklich anpassen läßt. '\n"
     ]
    }
   ],
   "source": [
    "topic = \"scientific discussion\"\n",
    "instruction = \"First, write a few sentences about best practices of scientific writing. Then, evaluate the language used by Blumenbach according to them.\"\n",
    "inference = chain.invoke({\"topic\": topic, \"instruction\": instruction})"
   ]
  },
  {
   "cell_type": "code",
   "execution_count": 16,
   "id": "776a1784",
   "metadata": {},
   "outputs": [
    {
     "name": "stdout",
     "output_type": "stream",
     "text": [
      "================================== Ai Message ==================================\n",
      "\n",
      "Best practices of scientific writing include clarity, precision, objectivity, and logical organization of ideas. It is important for scientific writing to be accessible to a wide audience, provide evidence to support claims, and avoid bias or subjective language.\n",
      "\n",
      "In evaluating the language used by Blumenbach in the historical textbook on natural history, it is evident that he adheres to some of these best practices. Blumenbach's writing is clear and precise, as he discusses the classification of organisms and theories of evolution in a structured and organized manner. He presents his arguments logically and supports them with examples and evidence from the natural world.\n",
      "\n",
      "Blumenbach also maintains objectivity in his writing, as he discusses different theories and perspectives without showing bias towards any particular viewpoint. For example, he presents the theories of Epigenesis and Evolution in a balanced manner, highlighting the arguments of both sides without favoring one over the other.\n",
      "\n",
      "However, there are instances where Blumenbach's language may not fully align with best practices of scientific writing. For instance, he uses metaphorical language and allegories to explain complex scientific concepts, which can sometimes lead to confusion or misinterpretation. Additionally, his writing style may be considered more literary or philosophical at times, which could detract from the clarity and objectivity expected in scientific writing.\n",
      "\n",
      "Overall, while Blumenbach's language in the historical textbook on natural history demonstrates many aspects of good scientific writing, there are areas where his style may not fully adhere to best practices in terms of clarity, objectivity, and precision.\n"
     ]
    }
   ],
   "source": [
    "print(inference.pretty_repr())"
   ]
  },
  {
   "cell_type": "code",
   "execution_count": 17,
   "id": "2088d541",
   "metadata": {},
   "outputs": [
    {
     "name": "stdout",
     "output_type": "stream",
     "text": [
      "Please insert a short comment: \n"
     ]
    }
   ],
   "source": [
    "record_in_txt_instruction(\"Blumenbach\")"
   ]
  },
  {
   "cell_type": "markdown",
   "id": "c8079944",
   "metadata": {},
   "source": [
    "### b) Rodents"
   ]
  },
  {
   "cell_type": "code",
   "execution_count": 111,
   "id": "b4c7db54",
   "metadata": {},
   "outputs": [],
   "source": [
    "# prompt template\n",
    "\n",
    "template =\"\"\"You are a historian analysing a primary historical SOURCE, which is an eighteenth-century textbook on natural history by J. F. Blumenbach. First, generate a few sentences about historical hermeneutics. Then, follow the INSTRUCTION.\n",
    "INSTRUCTION: {instruction} Provide quotes from the source to support your reply.\n",
    "SOURCE: {context}  \"\"\"\n",
    "\n",
    "prompt = PromptTemplate.from_template(template)"
   ]
  },
  {
   "cell_type": "code",
   "execution_count": 71,
   "id": "3396da0d",
   "metadata": {},
   "outputs": [],
   "source": [
    "# chain\n",
    "chain = (\n",
    "    {\"context\": itemgetter(\"topic\") | retriever | format_docs, \"instruction\": itemgetter(\"instruction\")}\n",
    "    | prompt | print_prompt\n",
    "    | llm\n",
    ")"
   ]
  },
  {
   "cell_type": "code",
   "execution_count": 113,
   "id": "08f98ac6",
   "metadata": {},
   "outputs": [
    {
     "name": "stdout",
     "output_type": "stream",
     "text": [
      "Retrieved context (metadata are not passed to the model):\n",
      "\n",
      "u. f Ein muntres possierliches Thier, was in gebürgichten Gegenden der nordlichen Erde, besonders in den Schweizer-Alpen, in Savoyen Aegypten, und in der grossen Tattarey zu Hause ist. Es macht sich tiefe Hölen in die Erde, die es mit Heu und Moos ausfüttert, nährt sich von allerhand Pflanzen und Wurzeln; liebt aber vorzüglich Milchspeisen, daher es sich in den Schweizeralpen haüfig in die Sennhütten eingräbt. Bey kaltem Wetter schlafen die Murmelthiere; sobald aber die Sonne scheint, kommen sie aus ihren Hölen hervor, balgen sich und spielen mit einander. Ihr Fleisch ist eßbar und wohlschmeckend. Gegen den Winter werben sie so fett, daß oft eins bey 20 Pfund wiegt. Sie schlafen alsdann vom October bis in den April; und nachdem der Winter hart oder gelind werden wird vermachen sie den Eingang zu ihren Hölen fester oder lockerer. In der Tatarey pflanzen sie den Rhabarber fort. 2. †. Cricetus. der Hamster. M. abdomine nigro. * F. G. Sulzers N. G. des Hamsters. Gött.\n",
      "Metadata: Blumenbach, Handbuch der Naturgeschichte, ed. 1 (1779), Register 4th Chapter: Säugethiere, VI. GLIRES., 288.\n",
      "\n",
      "Die Amphibien lassen sich am schicklichsten nach dem Plane ordnen, den der Ritter Linné dem man überhaupt die Bestimmung der ganzen Classe schuldig ist, darüber entworfen hat. Er ist auf dem ganzen Habitus dieser Thiere gegründet, und begreift nur drei Ordnungen. \n",
      "\n",
      "I. Reptiles. Die Amphibien mit Füssen Schildkröten, Frösche, Eidexen II. Serpentes. Die Schlangen. Ohne Füsse, Floßfedern oder andere äussere Gliedmaaßen; sie haben einen cylindrischen langgestreckten Körper, kriechen auf dem Bauche, und bewegen sich wellenförmig III. Nantes. Die Amphibien mit Floßfedern, mittelst deren sie wie die Fische im Wasser schwimmen Die Siren lacertina aus Süd-Carolina, die Linné doch erst spät und mit eigenem Gefühl von Zweifel und Ungewißheit, in eine besondere vierte Ordnung (meantes) gesetzt hat, ist nach der Analogie zu schließen, besonders auch der Ohrkiefern (§. \n",
      "105.) wegen, doch wol nur ein noch unvollkommenes Geschöpf, eine Larve I. REPTILES Alle Thiere dieser Ordnung sind, wenigstens wenn sie ihre vollkommne Gestalt erlangt haben mit vier Fußen versehn, die nach dem verschiednen Aufenthalt dieser Thiere entweder freye, oder durch eine Schwimmhaut verbundene, oder gar wie in eine Flosse verwachsene Zehen haben. Sie legen sämmtlich Eyer, und manche von ihnen sind überaus fruchtbar. \n",
      "1. testudo. Schildkröte. Corpus testa obtectum, cauda brevis, os mandibulis nudis edentulis Die Schildkröten sind wol die trägsten phlegmanschten Geschöpfe in der Natur.\n",
      "Metadata: J.F.Blumenbach, Handbuch der Naturgeschichte, ed. 1 (1779), §. 112.\n",
      "\n",
      "Sie sind schlau und muthig, so daß sie über weit grössere Thiere Herr werden (§. 100.), und sind ohne Besorgniß zu essen. Zur Begattungszeit bekommen die Männchen von dieser und der vorigen Gattung schwarze warzichte Knollen an den Danwen der Vorderfüsse, womit sie sich äusserst fest um ihrer Weibchen Brust klammern können. \n",
      "8. † Arborea. Der Laubfrosch (Calamites). \n",
      "R. corpore laevi, subtus granulato, pedibus fissis, unguibus lenticulatis. * \n",
      "Rösel Taf. 9 Ein anmuthiges Thier, was fast in ganz Europa (doch nicht in England, aber desto häufiger in Italien) und in Nordamerica zu Hanse ist Ist mit einem klebrichten Schleim, wie die Schnecken überzogen, der ihm bey seinem Aufenthalt am Laub der Bäume, zum Anhängen zu passe kommt Die Männchen haben eine laute Stimme, die sie wenn es regnen will, besonders aber zur Paarungszeit, und zwar alsdann so laut von sich geben daß man sie wol Meilen weit hören kann. Sie blasen dabey die Kehle zu einer grossen Kugel, fast so groß als der ganze Leib des Thiers, auf. Zuweilen verändert sich ihre Farbe ins graue schwärzliche ꝛc. fast wie beym Chamäleon. \n",
      "3. draco. Corpus tetrapodum caudatum, alatum. \n",
      "1. Volans. Die fliegende Eidexe. D. brachiis ab ala distinctis. * \n",
      "Diese Thiere finden sich in Ostindien und Africa Die Flügel, die sie zu beiden Seiten des Leibes haben, dienen ihnen, wie dem fliegenden Eichhörnchen, einen weiten Sprung zu wagen, aber nicht zum ordentlichen Flug wie bey den Vögeln.\n",
      "Metadata: J.F.Blumenbach, Handbuch der Naturgeschichte, ed. 1 (1779), §. 112.\n",
      "\n",
      "8. Taf. I. II Die Murmelthiere und die Hamster baden in Rücksicht ihres Körperbaues und ihrer Lebensart vieles mit einander gemein. Nur bewohnt der Hamster mehr nordliche Gegenden und flaches Land; da hingegen das Murmelthier weiter gegen Süden und im Gebürge zu finden ist. Sibirien, die Ukräne, das Elsas, Deutschland, und namentlich das Herzogthum Gotha sind das Vaterland des erstern. Ausser dem verschiedenen Aufenthalt zeichnen sich aber beide Thiere auch durch ihren sehr contrastirenden Charakter aus. Das Murmelthier war kirre, sehr leicht zu zähmen ꝛc lanter gute Seiten, von denen der Hamster keine einzige hat. Er ist ein beissiges boshaftes Thier was ausser dem Zorn kaum eine andere Leidenschaft kennt. Bey einer sehr unbeträchtlichen Leibesgrösse geht er doch Menschen und Pferde an und Hunde, die des Hamsterfangs ungewohnt sind, ziehen leicht gegen ihn den Kürzern. Er lebt von kleinen Thieren, jungen Pflanzen, doch vorzüglich von Getraide, wovon er erstaunlichen Vorrath in den Backentaschen zu seinen unterirdischen Hölen schleppet. Er vermehrt sich stark und man hat wohl eher im Gothaischen in einem Jahr, über 27000 Hamster getödtet. Der Pelz des Thiergens ist nicht viel werth. Es giebt eine ganz schwarze Spielart unter diesen Thieren: so wie auch weisse Blafards mit rosenrothen Augen.\n",
      "Metadata: Blumenbach, Handbuch der Naturgeschichte, ed. 1 (1779), Register 4th Chapter: Säugethiere, VI. GLIRES., 1774.\n",
      "\n",
      "Dromedarius. das gemeine Kameel, Büffons Dromedaire. C. topho dorsi unico. * Ein Blatt von van Schley, nach Herrn Campers Zeichnung. Kopf und Füße des Thiers Die Klauen sind, zumal bey dieser und der folgenden Gattung, nicht durchaus, sondern nur vorne gespalten. Allein die Beschaffenheit der Schaalen, des Fußes selbst, und die ganze Oekonomie dieser Thiere, rechtfertigen den Platz, den wir ihnen unter andern bisulcis anweisen. Das Kameel findet sich noch hin und wieder in Asien wild ist aber für den ganzen Orient das wichtigste Hausthier. Es ist im Stande, funfzehn Centner zu tragen, und in einem sanften Trabe achtzehn Meilen in einem Tage zurückzulegen. Es kann lange hungern, und frißt wie der Esel unnützes Futter, nemlich dornichtes Buschwerk, was in den Wüsten in Menge wächst, für kein anderes Säugethier zur Nahrung taugt, und nur dem Kameele, das deshalb mit hornichten Lippen versehen ist, geniesbar wird. Auch den Durst kann dieses Thier mehrere Tage lang erdulden säuft aber dafür ungeheuer viel auf einmal, und behält gleichsam zum Vorrath eine Menge Wasser in besondern Zellen seines Magens. Es ist ein sanftmüthiges folgsames Thier, was doch zur Brunstzeit leicht wütend wird, und dann selbst seine Führer und Herren verkennt.\n",
      "Metadata: Blumenbach, Handbuch der Naturgeschichte, ed. 1 (1779), Register 4th Chapter: Säugethiere, IX. BISULCA., 1.\n",
      "\n",
      "Kleine Vögel, mit kurzen schlanken Füssen und kegelförmigem scharf zugespitztem Schnabel von verschiedner Grösse und Bildung. Sie leben in Monogamie, nären sich von Insecten und Pflanzen. Saamen, und füttern mehrentheils ihre Jungen aus dem Kropfe. Sie haben ein zartes schmackhaftes Fleisch, und die meisten von ihnen singen.\n",
      "Metadata: Blumenbach, Handbuch der Naturgeschichte, ed. 1 (1779), Register 5th Chapter: Vögeln, IX. PASSERES.\n",
      "\n",
      "† Lunaris. S. exscutellatus, thorace bicorni: intermedio obtuso bifido, capitis cornu erecto, clypeo emarginato.* Hat die Grösse vom gemeinen Mistkäfer: ist vorzüglich hart, ganz schwarz, glänzend, und überaus artig gebildet. Das Männgen hat ein längeres Horn auf der Stirne als das Weibchen: und sein Brustschild ist sehr regelmässig ausgeschweift, zackigt Er lebt auf Wiesen und Viehweiden, vorzüglich im Ruhmist: aus dem er, wie andre verwandte Käferarten, hole Kugeln formt; die er einzeln unter die Erde verscharrt, an Graswurzeln befestigt, und in jede ein einziges Ey legt; damit die künftig daraus kriechende Larve aus dem Miste Nahrung, und bis zu ihrer Verwandlung sichern Aufenthalt habe.\n",
      "Metadata: Blumenbach, Handbuch der Naturgeschichte, ed. 1 (1779), Register 8th Chapter: Insecten, I. COLEOPTERA., 3.\n",
      "\n",
      "The prompt as passed to the model:\n",
      "\n",
      "text='You are a historian analysing a primary historical SOURCE, which is an eighteenth-century textbook on natural history by J. F. Blumenbach. First, generate a few sentences about historical hermeneutics. Then, follow the INSTRUCTION.\\nINSTRUCTION: Find incoherences in the SOURCE. Provide quotes from the source to support your reply.\\nSOURCE: u. f Ein muntres possierliches Thier, was in gebürgichten Gegenden der nordlichen Erde, besonders in den Schweizer-Alpen, in Savoyen Aegypten, und in der grossen Tattarey zu Hause ist. Es macht sich tiefe Hölen in die Erde, die es mit Heu und Moos ausfüttert, nährt sich von allerhand Pflanzen und Wurzeln; liebt aber vorzüglich Milchspeisen, daher es sich in den Schweizeralpen haüfig in die Sennhütten eingräbt. Bey kaltem Wetter schlafen die Murmelthiere; sobald aber die Sonne scheint, kommen sie aus ihren Hölen hervor, balgen sich und spielen mit einander. Ihr Fleisch ist eßbar und wohlschmeckend. Gegen den Winter werben sie so fett, daß oft eins bey 20 Pfund wiegt. Sie schlafen alsdann vom October bis in den April; und nachdem der Winter hart oder gelind werden wird vermachen sie den Eingang zu ihren Hölen fester oder lockerer. In der Tatarey pflanzen sie den Rhabarber fort. 2. †. Cricetus. der Hamster. M. abdomine nigro. * F. G. Sulzers N. G. des Hamsters. Gött.\\n\\nDie Amphibien lassen sich am schicklichsten nach dem Plane ordnen, den der Ritter Linné dem man überhaupt die Bestimmung der ganzen Classe schuldig ist, darüber entworfen hat. Er ist auf dem ganzen Habitus dieser Thiere gegründet, und begreift nur drei Ordnungen. \\n\\nI. Reptiles. Die Amphibien mit Füssen Schildkröten, Frösche, Eidexen II. Serpentes. Die Schlangen. Ohne Füsse, Floßfedern oder andere äussere Gliedmaaßen; sie haben einen cylindrischen langgestreckten Körper, kriechen auf dem Bauche, und bewegen sich wellenförmig III. Nantes. Die Amphibien mit Floßfedern, mittelst deren sie wie die Fische im Wasser schwimmen Die Siren lacertina aus Süd-Carolina, die Linné doch erst spät und mit eigenem Gefühl von Zweifel und Ungewißheit, in eine besondere vierte Ordnung (meantes) gesetzt hat, ist nach der Analogie zu schließen, besonders auch der Ohrkiefern (§. \\n105.) wegen, doch wol nur ein noch unvollkommenes Geschöpf, eine Larve I. REPTILES Alle Thiere dieser Ordnung sind, wenigstens wenn sie ihre vollkommne Gestalt erlangt haben mit vier Fußen versehn, die nach dem verschiednen Aufenthalt dieser Thiere entweder freye, oder durch eine Schwimmhaut verbundene, oder gar wie in eine Flosse verwachsene Zehen haben. Sie legen sämmtlich Eyer, und manche von ihnen sind überaus fruchtbar. \\n1. testudo. Schildkröte. Corpus testa obtectum, cauda brevis, os mandibulis nudis edentulis Die Schildkröten sind wol die trägsten phlegmanschten Geschöpfe in der Natur.\\n\\nSie sind schlau und muthig, so daß sie über weit grössere Thiere Herr werden (§. 100.), und sind ohne Besorgniß zu essen. Zur Begattungszeit bekommen die Männchen von dieser und der vorigen Gattung schwarze warzichte Knollen an den Danwen der Vorderfüsse, womit sie sich äusserst fest um ihrer Weibchen Brust klammern können. \\n8. † Arborea. Der Laubfrosch (Calamites). \\nR. corpore laevi, subtus granulato, pedibus fissis, unguibus lenticulatis. * \\nRösel Taf. 9 Ein anmuthiges Thier, was fast in ganz Europa (doch nicht in England, aber desto häufiger in Italien) und in Nordamerica zu Hanse ist Ist mit einem klebrichten Schleim, wie die Schnecken überzogen, der ihm bey seinem Aufenthalt am Laub der Bäume, zum Anhängen zu passe kommt Die Männchen haben eine laute Stimme, die sie wenn es regnen will, besonders aber zur Paarungszeit, und zwar alsdann so laut von sich geben daß man sie wol Meilen weit hören kann. Sie blasen dabey die Kehle zu einer grossen Kugel, fast so groß als der ganze Leib des Thiers, auf. Zuweilen verändert sich ihre Farbe ins graue schwärzliche ꝛc. fast wie beym Chamäleon. \\n3. draco. Corpus tetrapodum caudatum, alatum. \\n1. Volans. Die fliegende Eidexe. D. brachiis ab ala distinctis. * \\nDiese Thiere finden sich in Ostindien und Africa Die Flügel, die sie zu beiden Seiten des Leibes haben, dienen ihnen, wie dem fliegenden Eichhörnchen, einen weiten Sprung zu wagen, aber nicht zum ordentlichen Flug wie bey den Vögeln.\\n\\n8. Taf. I. II Die Murmelthiere und die Hamster baden in Rücksicht ihres Körperbaues und ihrer Lebensart vieles mit einander gemein. Nur bewohnt der Hamster mehr nordliche Gegenden und flaches Land; da hingegen das Murmelthier weiter gegen Süden und im Gebürge zu finden ist. Sibirien, die Ukräne, das Elsas, Deutschland, und namentlich das Herzogthum Gotha sind das Vaterland des erstern. Ausser dem verschiedenen Aufenthalt zeichnen sich aber beide Thiere auch durch ihren sehr contrastirenden Charakter aus. Das Murmelthier war kirre, sehr leicht zu zähmen ꝛc lanter gute Seiten, von denen der Hamster keine einzige hat. Er ist ein beissiges boshaftes Thier was ausser dem Zorn kaum eine andere Leidenschaft kennt. Bey einer sehr unbeträchtlichen Leibesgrösse geht er doch Menschen und Pferde an und Hunde, die des Hamsterfangs ungewohnt sind, ziehen leicht gegen ihn den Kürzern. Er lebt von kleinen Thieren, jungen Pflanzen, doch vorzüglich von Getraide, wovon er erstaunlichen Vorrath in den Backentaschen zu seinen unterirdischen Hölen schleppet. Er vermehrt sich stark und man hat wohl eher im Gothaischen in einem Jahr, über 27000 Hamster getödtet. Der Pelz des Thiergens ist nicht viel werth. Es giebt eine ganz schwarze Spielart unter diesen Thieren: so wie auch weisse Blafards mit rosenrothen Augen.\\n\\nDromedarius. das gemeine Kameel, Büffons Dromedaire. C. topho dorsi unico. * Ein Blatt von van Schley, nach Herrn Campers Zeichnung. Kopf und Füße des Thiers Die Klauen sind, zumal bey dieser und der folgenden Gattung, nicht durchaus, sondern nur vorne gespalten. Allein die Beschaffenheit der Schaalen, des Fußes selbst, und die ganze Oekonomie dieser Thiere, rechtfertigen den Platz, den wir ihnen unter andern bisulcis anweisen. Das Kameel findet sich noch hin und wieder in Asien wild ist aber für den ganzen Orient das wichtigste Hausthier. Es ist im Stande, funfzehn Centner zu tragen, und in einem sanften Trabe achtzehn Meilen in einem Tage zurückzulegen. Es kann lange hungern, und frißt wie der Esel unnützes Futter, nemlich dornichtes Buschwerk, was in den Wüsten in Menge wächst, für kein anderes Säugethier zur Nahrung taugt, und nur dem Kameele, das deshalb mit hornichten Lippen versehen ist, geniesbar wird. Auch den Durst kann dieses Thier mehrere Tage lang erdulden säuft aber dafür ungeheuer viel auf einmal, und behält gleichsam zum Vorrath eine Menge Wasser in besondern Zellen seines Magens. Es ist ein sanftmüthiges folgsames Thier, was doch zur Brunstzeit leicht wütend wird, und dann selbst seine Führer und Herren verkennt.\\n\\nKleine Vögel, mit kurzen schlanken Füssen und kegelförmigem scharf zugespitztem Schnabel von verschiedner Grösse und Bildung. Sie leben in Monogamie, nären sich von Insecten und Pflanzen. Saamen, und füttern mehrentheils ihre Jungen aus dem Kropfe. Sie haben ein zartes schmackhaftes Fleisch, und die meisten von ihnen singen.\\n\\n† Lunaris. S. exscutellatus, thorace bicorni: intermedio obtuso bifido, capitis cornu erecto, clypeo emarginato.* Hat die Grösse vom gemeinen Mistkäfer: ist vorzüglich hart, ganz schwarz, glänzend, und überaus artig gebildet. Das Männgen hat ein längeres Horn auf der Stirne als das Weibchen: und sein Brustschild ist sehr regelmässig ausgeschweift, zackigt Er lebt auf Wiesen und Viehweiden, vorzüglich im Ruhmist: aus dem er, wie andre verwandte Käferarten, hole Kugeln formt; die er einzeln unter die Erde verscharrt, an Graswurzeln befestigt, und in jede ein einziges Ey legt; damit die künftig daraus kriechende Larve aus dem Miste Nahrung, und bis zu ihrer Verwandlung sichern Aufenthalt habe.  '\n"
     ]
    }
   ],
   "source": [
    "topic = \"hamster, marmot and other small animals\"\n",
    "instruction = \"Find incoherences in the SOURCE.\"\n",
    "inference = chain.invoke({\"topic\": topic, \"instruction\": instruction})"
   ]
  },
  {
   "cell_type": "code",
   "execution_count": 114,
   "id": "72e0e70a",
   "metadata": {},
   "outputs": [
    {
     "name": "stdout",
     "output_type": "stream",
     "text": [
      "================================== Ai Message ==================================\n",
      "\n",
      "Historical hermeneutics involves the interpretation and understanding of historical sources within their historical context, taking into account the biases, perspectives, and limitations of the author. It also involves analyzing the language, symbols, and cultural references used in the source to uncover deeper meanings and implications.\n",
      "\n",
      "In the eighteenth-century textbook on natural history by J. F. Blumenbach, there are several incoherences that can be identified. One inconsistency is the classification of animals, where the author mixes different categories and orders without clear distinctions. For example, in the passage about amphibians, the author mentions three orders but then introduces a fourth order without clear justification: \"Die Siren lacertina aus Süd-Carolina, die Linné doch erst spät und mit eigenem Gefühl von Zweifel und Ungewißheit, in eine besondere vierte Ordnung (meantes) gesetzt hat...\" This inconsistency in classification undermines the clarity and accuracy of the information presented.\n",
      "\n",
      "Another inconsistency in the source is the contradictory descriptions of animal behavior and characteristics. For instance, in the passage about the Hamster, the author describes it as a vicious and aggressive animal that attacks humans and other animals, yet later mentions that it is easily tamed and has good qualities: \"Das Murmelthier war kirre, sehr leicht zu zähmen ꝛc lanter gute Seiten, von denen der Hamster keine einzige hat.\" This conflicting portrayal of the Hamster's behavior raises questions about the reliability of the information provided.\n",
      "\n",
      "Overall, these incoherences in the source highlight the importance of critically analyzing historical texts and considering the context in which they were written to uncover potential biases, inaccuracies, and inconsistencies.\n"
     ]
    }
   ],
   "source": [
    "print(inference.pretty_repr())"
   ]
  },
  {
   "cell_type": "code",
   "execution_count": 115,
   "id": "20f3b526",
   "metadata": {},
   "outputs": [
    {
     "name": "stdout",
     "output_type": "stream",
     "text": [
      "Please insert a short comment: Mistook a marmot for a hamster, but better answer about incoherences than was the case with human races \n"
     ]
    }
   ],
   "source": [
    "record_in_txt_instruction(\"Rodents\")"
   ]
  },
  {
   "cell_type": "markdown",
   "id": "9a79cd18",
   "metadata": {},
   "source": [
    "### c) God"
   ]
  },
  {
   "cell_type": "code",
   "execution_count": 65,
   "id": "1155ed37",
   "metadata": {},
   "outputs": [],
   "source": [
    "template =\"\"\"You are a historian analysing a primary historical SOURCE, which is an eighteenth-century textbook on natural history by J. F. Blumenbach. First, generate a few sentences about historical hermeneutics. Then, follow the INSTRUCTION.\n",
    "INSTRUCTION: {instruction} Provide relevant quotes from the SOURCE.\n",
    "SOURCE: {context} \"\"\"\n",
    "\n",
    "prompt = PromptTemplate.from_template(template)"
   ]
  },
  {
   "cell_type": "code",
   "execution_count": 66,
   "id": "b5ff63ed",
   "metadata": {},
   "outputs": [],
   "source": [
    "# chain\n",
    "chain = (\n",
    "    {\"context\": itemgetter(\"topic\") | retriever | format_docs, \"instruction\": itemgetter(\"instruction\")}\n",
    "    | prompt | print_prompt\n",
    "    | llm\n",
    ")"
   ]
  },
  {
   "cell_type": "code",
   "execution_count": 67,
   "id": "8df85422",
   "metadata": {},
   "outputs": [
    {
     "name": "stdout",
     "output_type": "stream",
     "text": [
      "Retrieved context (metadata are not passed to the model):\n",
      "\n",
      "Die Vollkommenheit in der große Haushaltung der Mutter-Natur ist, so wie bey der kleinsten Oekonomie einer Familie, in ganz andern Vorzügen zu suchen. Daß Gott in seiner Schöpfung keine Lücke gelassen hat, daß dieses unermeßliche Uhrwerk nirgend stockt, sondern im ununterbrochnen Gange, im beständigen Gleichgewicht erhalten wird, davon liegt der Grund wohl schwerlich darinne, weil der Orangoutang den Uebergang vom Menschen zum Affen machen, oder weil die Vögel durch die Fledermäuse mit den vierfüßigen Thieren, und durch die fliegenden Fische mit den Fischen verbunden seyn sollen sondern weil jedes erschaffne Wesen seine Bestimmung, und den zu dieser Bestimmung erfoderlichen Körperbau hat; weil kein zweckloses Geschöpf exsistirt, was nicht auch seinen Beytrag zur Vollkommenheit des Ganzen gäbe. Das machts, daß die Schöpfung ihren Gang geht und daß noch kein Weiser, irgend einer Zeit oder eines Volks, in ihr eine Lücke hat antreffen können.\n",
      "Metadata: J.F.Blumenbach, Handbuch der Naturgeschichte, ed. 1 (1779), §. 7.\n",
      "\n",
      "Das machts, daß die Schöpfung ihren Gang geht und daß noch kein Weiser, irgend einer Zeit oder eines Volks, in ihr eine Lücke hat antreffen können. Kette der Natur, die suchen wir nicht in der gradativen Bildung ihrer Körper, nicht darinn, daß der eine, Thier und Pflanze, und ein andrer Pflanze und Stein verknüpfen soll; sondern in den angewiesenen Geschäften der Glieder dieser Kette, wie Glied und Glied nicht nach ihrer Form, sondern nach ihrer Bestimmung in einander greifen u. s. w. Bey dem ewigen Cirkel von unermeßlich weiser Einrichtung, da die Pflanzen ihre Nahrung aus der Erde ziehn, und nachher Menschen und Thieren, und ein Thier dem andern, zur Nahrung dienen, und da am Ende Menschen und Thiere und Pflanzen wieder zur Erde werden; bey diesem großen Cirkel braucht die Vernunft keine Bindungsglieder vorauszusetzen, die diese Geschöpfe so verschiedner Art in Rücksicht ihrer Bildung verknüpfen müßte; so wie uns auch die Erfahrung bis jetzt noch keine natürliche Körper kennen gelehrt hat, die mit Recht auf den Namen solcher Bindungsglieder zwischen den drey Naturreichen Anspruch machen dürften. \n",
      "\n",
      "[Abbildung ]\n",
      "Metadata: J.F.Blumenbach, Handbuch der Naturgeschichte, ed. 1 (1779), §. 7.\n",
      "\n",
      "Aber alles dies herzlich gerne zugegeben, dürfen doch die Leitern und Ketten, der guten Sache der bestimmten Naturreiche, und der Classification der Naturalien, bey weitem keinen Eintrag thun Die passendste Allegorie kann matt werden, kann in eine Spielerey ausarten, wenn sie zu weit getrieben wird. Und das ist in der That bey den eben angeführten zu befürchten. Es ist unterhaltend, es ist, wie wir so eben selbst gesagt haben, nutzbar, wenn der Naturforscher die Creaturen nach ihrer nächsten Verwandschaft unter einander ordnet, an einander kettet u. s. w Aber es scheint uns von der andern Seite eine schwache, und der Allweisheit des Schöpfers unanständige Behauptung, wenn man im Ernste annehmen wollte, daß auch Er bey der Schöpfung einen solchen allegorischen Plan befolgt, und die Vollkommenheit seiner großen Handlung darein gesetzt hätte, daß er seinen Creaturen alle ersinnliche Formen gäbe, und sie folglich vom obersten bis zum untersten ganz regelmäßig stufenweis auf einander folgen liesse. Man würde lächeln, wenn jemand den Vorzug bey der Einrichtung eines Hauses darinn suchte, daß die Meublen darinne alle von verschiedner Gestalt oder Größe wären, und sich auch, so wie die angebliche Kette der natürlichen Körper, unter eine gleiche Stufenfolge bringen liessen. Die Vollkommenheit in der große Haushaltung der Mutter-Natur ist, so wie bey der kleinsten Oekonomie einer Familie, in ganz andern Vorzügen zu suchen.\n",
      "Metadata: J.F.Blumenbach, Handbuch der Naturgeschichte, ed. 1 (1779), §. 7.\n",
      "\n",
      "Denn der Ausbruch unterirdischer Feuer und Ueberschwemmungen, die beiden Mittel wodurch unserer Meinung nach, die Vorwelt vernichtet worden, sind auch auf der jetzigen Erde noch zwey der beträchtlichsten Quellen zur einseitigen Zerstörung und anderseitigen Umschaffung und Entstehung der Mineralien.\n",
      "Metadata: J.F.Blumenbach, Handbuch der Naturgeschichte, ed. 1 (1780), §. 223.\n",
      "\n",
      "Alle Dinge, die sich auf, und in unsrer Erde finden, zeigen sich entweder in derselben Gestalt, in welcher sie aus der Hand der Natur gekommen; oder so, wie sie durch Menschen oder Thiere, zu bestimmten Absichten, oder auch durch bloßen Zufall verändert und gleichsam umgeschaffen worden sind. Auf diese Verschiedenheit gründet sich die bekannte Eintheilung aller Körper in natürliche (naturalia), und durch Kunst verfertigte (artefacta). Die erstern machen den Gegenstand der Naturgeschichte aus, und man belegt alle Körper mit dem Namen der Naturalien, die nur noch keine wesentliche Veränderung durch Menschenhände erlitten haben; Da hingegen die mehresten von denen so der Zufall umgeändert hat, und beyläufig auch diejenigen so durch die Thiere nach ihren Trieben und zu Stillung ihrer Bedürfnisse verändert und umgebildet worden, mit unter den Naturalien begriffen werden. Artefacten werden sie blos alsdann, wenn der Mensch wesentliche Veränderungen mit ihnen vornimt. Man rechnet z. B. die schwammichte Rinde einer Art Maulbeerbäume (Morus papyrifera) oder die äussere Schaale einer Cocosnuß doch zu den Naturalien, wenn gleich beyde durch Menschen vom Stamme oder von der Nuß, die sie umkleideten, abgelöst worden. Die dadurch mit ihnen vorgenommene Veränderung ist nicht Wesentlich genug, um sie deshalb zu Artefakten zu machen.\n",
      "Metadata: J.F.Blumenbach, Handbuch der Naturgeschichte, ed. 1 (1779), §. 1.\n",
      "\n",
      "Weit unbemerkter aber unaufhörlich ergiebig und im ganzen ungleich wichtiger ist hingegen die Entstehung der Mineralien durch das allmälige Absterben der organisirten natürlichen Körper, durch das Verwittern der unorganisirten selbst, und endlich durch die Zerstörung aller verarbeiteten Naturalien oder Kunstsachen kurz durch das unabbittliche Loos aller erschaffenen oder auch von Menschen verfertigten Dinge über kurz oder lang nach dem verschiedenen Maaße des von der Vorsehung ihnen zugemeßnen Lebens oder Dauer, endlich einmal zu sterden, zu vergehen und wieder zu der Erde zu werden von der sie genommen waren.\n",
      "Metadata: J.F.Blumenbach, Handbuch der Naturgeschichte, ed. 1 (1780), §. 226.\n",
      "\n",
      "1. Geschl. homo. Animal rationale, loquens erectum, bimanum. 1. Gatt. sapiens. Der Mensch wird durch so merkwürdige Eigenschaften des Geistes und des Körpers von der ganzen übrigen thierischen Schöpfung ausgezeichnet, daß er bey weitem nicht blos in einem eignen Geschlecht, sondern allerdings in einer besondern Ordnung, von ihr abgeschieden werden muß. Er hat ausser dem Begattungstrieb wenig Spuren von Instinct Kunsttriebe aber, daß er sich, wie tausend andere Thiere, ohne Unterricht und ohne Nachsinnen aus blossem innern Drange, Wohnungen, Netze für seinen Raub u. s. w. verfertigen könnte, hat er gar nicht. Der Schöpfer hat ihn für diese Mangel durch den Gebrauch der Vernunft entschädiget, die ihm allein ausschließlich, und keinem andern Thiere zukommt, und wodurch er alle seine grossen Bestimmungen besser erfüllen seine endlosen Bedürfnisse passender befriedigen kann, als wenn er selbst die Kunsttriebe mehrerer Thiere in sich vereinte. Eine directe Folge der Vernunft, mithin ein abermaliges Eigenthum der Menschheit, ist die Rede oder Sprache (Loquela), die nicht mit der Stimme (vox) der Thiere verwechselt werden darf.\n",
      "Metadata: Blumenbach, Handbuch der Naturgeschichte, ed. 1 (1779), Register 4th Chapter: Säugethiere, I Ord. INERMIS.\n",
      "\n",
      "The prompt as passed to the model:\n",
      "\n",
      "text='You are a historian analysing a primary historical SOURCE, which is an eighteenth-century textbook on natural history by J. F. Blumenbach. First, generate a few sentences about historical hermeneutics. Then, follow the INSTRUCTION.\\nINSTRUCTION: Find fragments of the SOURCE where the idea that God created the world is mentioned or discussed. If there are no such fragments, report it. Provide relevant quotes from the SOURCE.\\nSOURCE: Die Vollkommenheit in der große Haushaltung der Mutter-Natur ist, so wie bey der kleinsten Oekonomie einer Familie, in ganz andern Vorzügen zu suchen. Daß Gott in seiner Schöpfung keine Lücke gelassen hat, daß dieses unermeßliche Uhrwerk nirgend stockt, sondern im ununterbrochnen Gange, im beständigen Gleichgewicht erhalten wird, davon liegt der Grund wohl schwerlich darinne, weil der Orangoutang den Uebergang vom Menschen zum Affen machen, oder weil die Vögel durch die Fledermäuse mit den vierfüßigen Thieren, und durch die fliegenden Fische mit den Fischen verbunden seyn sollen sondern weil jedes erschaffne Wesen seine Bestimmung, und den zu dieser Bestimmung erfoderlichen Körperbau hat; weil kein zweckloses Geschöpf exsistirt, was nicht auch seinen Beytrag zur Vollkommenheit des Ganzen gäbe. Das machts, daß die Schöpfung ihren Gang geht und daß noch kein Weiser, irgend einer Zeit oder eines Volks, in ihr eine Lücke hat antreffen können.\\n\\nDas machts, daß die Schöpfung ihren Gang geht und daß noch kein Weiser, irgend einer Zeit oder eines Volks, in ihr eine Lücke hat antreffen können. Kette der Natur, die suchen wir nicht in der gradativen Bildung ihrer Körper, nicht darinn, daß der eine, Thier und Pflanze, und ein andrer Pflanze und Stein verknüpfen soll; sondern in den angewiesenen Geschäften der Glieder dieser Kette, wie Glied und Glied nicht nach ihrer Form, sondern nach ihrer Bestimmung in einander greifen u. s. w. Bey dem ewigen Cirkel von unermeßlich weiser Einrichtung, da die Pflanzen ihre Nahrung aus der Erde ziehn, und nachher Menschen und Thieren, und ein Thier dem andern, zur Nahrung dienen, und da am Ende Menschen und Thiere und Pflanzen wieder zur Erde werden; bey diesem großen Cirkel braucht die Vernunft keine Bindungsglieder vorauszusetzen, die diese Geschöpfe so verschiedner Art in Rücksicht ihrer Bildung verknüpfen müßte; so wie uns auch die Erfahrung bis jetzt noch keine natürliche Körper kennen gelehrt hat, die mit Recht auf den Namen solcher Bindungsglieder zwischen den drey Naturreichen Anspruch machen dürften. \\n\\n[Abbildung ]\\n\\nAber alles dies herzlich gerne zugegeben, dürfen doch die Leitern und Ketten, der guten Sache der bestimmten Naturreiche, und der Classification der Naturalien, bey weitem keinen Eintrag thun Die passendste Allegorie kann matt werden, kann in eine Spielerey ausarten, wenn sie zu weit getrieben wird. Und das ist in der That bey den eben angeführten zu befürchten. Es ist unterhaltend, es ist, wie wir so eben selbst gesagt haben, nutzbar, wenn der Naturforscher die Creaturen nach ihrer nächsten Verwandschaft unter einander ordnet, an einander kettet u. s. w Aber es scheint uns von der andern Seite eine schwache, und der Allweisheit des Schöpfers unanständige Behauptung, wenn man im Ernste annehmen wollte, daß auch Er bey der Schöpfung einen solchen allegorischen Plan befolgt, und die Vollkommenheit seiner großen Handlung darein gesetzt hätte, daß er seinen Creaturen alle ersinnliche Formen gäbe, und sie folglich vom obersten bis zum untersten ganz regelmäßig stufenweis auf einander folgen liesse. Man würde lächeln, wenn jemand den Vorzug bey der Einrichtung eines Hauses darinn suchte, daß die Meublen darinne alle von verschiedner Gestalt oder Größe wären, und sich auch, so wie die angebliche Kette der natürlichen Körper, unter eine gleiche Stufenfolge bringen liessen. Die Vollkommenheit in der große Haushaltung der Mutter-Natur ist, so wie bey der kleinsten Oekonomie einer Familie, in ganz andern Vorzügen zu suchen.\\n\\nDenn der Ausbruch unterirdischer Feuer und Ueberschwemmungen, die beiden Mittel wodurch unserer Meinung nach, die Vorwelt vernichtet worden, sind auch auf der jetzigen Erde noch zwey der beträchtlichsten Quellen zur einseitigen Zerstörung und anderseitigen Umschaffung und Entstehung der Mineralien.\\n\\nAlle Dinge, die sich auf, und in unsrer Erde finden, zeigen sich entweder in derselben Gestalt, in welcher sie aus der Hand der Natur gekommen; oder so, wie sie durch Menschen oder Thiere, zu bestimmten Absichten, oder auch durch bloßen Zufall verändert und gleichsam umgeschaffen worden sind. Auf diese Verschiedenheit gründet sich die bekannte Eintheilung aller Körper in natürliche (naturalia), und durch Kunst verfertigte (artefacta). Die erstern machen den Gegenstand der Naturgeschichte aus, und man belegt alle Körper mit dem Namen der Naturalien, die nur noch keine wesentliche Veränderung durch Menschenhände erlitten haben; Da hingegen die mehresten von denen so der Zufall umgeändert hat, und beyläufig auch diejenigen so durch die Thiere nach ihren Trieben und zu Stillung ihrer Bedürfnisse verändert und umgebildet worden, mit unter den Naturalien begriffen werden. Artefacten werden sie blos alsdann, wenn der Mensch wesentliche Veränderungen mit ihnen vornimt. Man rechnet z. B. die schwammichte Rinde einer Art Maulbeerbäume (Morus papyrifera) oder die äussere Schaale einer Cocosnuß doch zu den Naturalien, wenn gleich beyde durch Menschen vom Stamme oder von der Nuß, die sie umkleideten, abgelöst worden. Die dadurch mit ihnen vorgenommene Veränderung ist nicht Wesentlich genug, um sie deshalb zu Artefakten zu machen.\\n\\nWeit unbemerkter aber unaufhörlich ergiebig und im ganzen ungleich wichtiger ist hingegen die Entstehung der Mineralien durch das allmälige Absterben der organisirten natürlichen Körper, durch das Verwittern der unorganisirten selbst, und endlich durch die Zerstörung aller verarbeiteten Naturalien oder Kunstsachen kurz durch das unabbittliche Loos aller erschaffenen oder auch von Menschen verfertigten Dinge über kurz oder lang nach dem verschiedenen Maaße des von der Vorsehung ihnen zugemeßnen Lebens oder Dauer, endlich einmal zu sterden, zu vergehen und wieder zu der Erde zu werden von der sie genommen waren.\\n\\n1. Geschl. homo. Animal rationale, loquens erectum, bimanum. 1. Gatt. sapiens. Der Mensch wird durch so merkwürdige Eigenschaften des Geistes und des Körpers von der ganzen übrigen thierischen Schöpfung ausgezeichnet, daß er bey weitem nicht blos in einem eignen Geschlecht, sondern allerdings in einer besondern Ordnung, von ihr abgeschieden werden muß. Er hat ausser dem Begattungstrieb wenig Spuren von Instinct Kunsttriebe aber, daß er sich, wie tausend andere Thiere, ohne Unterricht und ohne Nachsinnen aus blossem innern Drange, Wohnungen, Netze für seinen Raub u. s. w. verfertigen könnte, hat er gar nicht. Der Schöpfer hat ihn für diese Mangel durch den Gebrauch der Vernunft entschädiget, die ihm allein ausschließlich, und keinem andern Thiere zukommt, und wodurch er alle seine grossen Bestimmungen besser erfüllen seine endlosen Bedürfnisse passender befriedigen kann, als wenn er selbst die Kunsttriebe mehrerer Thiere in sich vereinte. Eine directe Folge der Vernunft, mithin ein abermaliges Eigenthum der Menschheit, ist die Rede oder Sprache (Loquela), die nicht mit der Stimme (vox) der Thiere verwechselt werden darf. '\n"
     ]
    }
   ],
   "source": [
    "topic = \"God is the Creator of the world.\"\n",
    "instruction = \"Find fragments of the SOURCE where the idea that God created the world is mentioned or discussed. If there are no such fragments, report it.\"\n",
    "inference = chain.invoke({\"topic\": topic, \"instruction\": instruction})"
   ]
  },
  {
   "cell_type": "code",
   "execution_count": 68,
   "id": "45d02927",
   "metadata": {},
   "outputs": [
    {
     "name": "stdout",
     "output_type": "stream",
     "text": [
      "================================== Ai Message ==================================\n",
      "\n",
      "Historical hermeneutics involves the interpretation and understanding of historical sources within their historical context, taking into account the biases, perspectives, and intentions of the author. It requires a critical analysis of the text to uncover hidden meanings and implications.\n",
      "\n",
      "In the eighteenth-century textbook on natural history by J. F. Blumenbach, the idea that God created the world is mentioned in several fragments. The author emphasizes the perfection of God's creation, stating that every created being has a purpose and contributes to the overall perfection of the whole. Blumenbach argues that there is no gap in God's creation, and that the intricate balance and design of the natural world reflect the wisdom and perfection of the Creator. He also discusses the concept of natural classification and the interconnectedness of all living beings in the grand scheme of creation. The author highlights the role of humans as distinct from other animals, possessing unique qualities such as reason and speech that set them apart in a separate order of creation. The text reflects a belief in the divine creation of the world and the inherent order and purpose in nature as evidence of God's design.\n"
     ]
    }
   ],
   "source": [
    "print(inference.pretty_repr())"
   ]
  },
  {
   "cell_type": "code",
   "execution_count": 69,
   "id": "a45744d6",
   "metadata": {},
   "outputs": [
    {
     "name": "stdout",
     "output_type": "stream",
     "text": [
      "Please insert a short comment: Topic is described differently, but still works.\n"
     ]
    }
   ],
   "source": [
    "record_in_txt_instruction(\"intelligent_design\")"
   ]
  },
  {
   "cell_type": "markdown",
   "id": "680fb89e",
   "metadata": {},
   "source": [
    "### d) Human races"
   ]
  },
  {
   "cell_type": "code",
   "execution_count": 34,
   "id": "92645174",
   "metadata": {},
   "outputs": [],
   "source": [
    "template =\"\"\"You are a historian analysing a primary historical SOURCE, which is an eighteenth-century textbook on natural history by J. F. Blumenbach. First, generate a few sentences about historical hermeneutics. Then, follow the INSTRUCTION.\n",
    "INSTRUCTION: {instruction} Provide all the relevant quotes from the SOURCE to support your reply.\n",
    "SOURCE: {context} \"\"\"\n",
    "\n",
    "prompt = PromptTemplate.from_template(template)"
   ]
  },
  {
   "cell_type": "code",
   "execution_count": 35,
   "id": "edc3214e",
   "metadata": {},
   "outputs": [],
   "source": [
    "# chain\n",
    "chain = (\n",
    "    {\"context\": itemgetter(\"topic\") | retriever | format_docs, \"instruction\": itemgetter(\"instruction\")}\n",
    "    | prompt | print_prompt\n",
    "    | llm\n",
    ")"
   ]
  },
  {
   "cell_type": "code",
   "execution_count": 42,
   "id": "3c38f3e5",
   "metadata": {},
   "outputs": [
    {
     "name": "stdout",
     "output_type": "stream",
     "text": [
      "Retrieved context (metadata are not passed to the model):\n",
      "\n",
      "Die Australasiaten und Polynesen; oder die Südländer des fünften Welttheils; dazu man auch wol die Bewohner der Sundaischen Inseln, der Molucken, Philippinen u. s. w. zälen könnte. Sie sind meist schwarzbraun, breitnasicht, und starkbehaart Die Patagonischen Riesen sind, von Magelhans Zeiten bis auf die unsrigen, in den Erzälungen der Reisenden, von zwölf Fus zu sechs bis siebenthalb eingekrochen, und bleiben also nicht größer und nicht kleiner als jeder andre ehrliche Mensch von guter Statur. Commersons Quimos und andre Zwergnationen werden in dem Maas wachsen, wie die Patagonen an Länge abgenommen haben. Die Rackerlacken, Blafards, Albinos oder weiße Mohren sind nicht einmal eine Spielart geschweige eine besondre Gattung, wozu sie der gute Voltaire so gern machen möchte: sondern eine Krankheit, die Menschen unter allen Meridianen befallen kan, und der auch Thiere unterworfen sind. Linne's Homo troglodytes ist ein Gemisch aus der Geschichte dieser preßhaften waren Menschen, und des Orangutangs. Die in Wildnis unter Thieren erwachsenen Kinder sind klägliche sittliche Monstra, die man eben so wenig, als die Cretins oder andre durch Krankheit oder Zufall entstellte Menschen, zum Muster des Meisterstücks der Schöpfung anführen darf Geschwänzte Völker, von Natur geschürzte Hottentottinnen, von Natur unbärtige Amerikaner, Syrenen, Centauren, und alle Fabeln von gleichem Schrot und Korn, verzeihn wir der gutherzigen Leichtgläubigkeit unsrer lieben Alten.\n",
      "Metadata: Blumenbach, Handbuch der Naturgeschichte, ed. 1 (1779), Register 4th Chapter: Säugethiere, I Ord. INERMIS., 5.\n",
      "\n",
      "Moscati's spashafter Ruf an die Menschheit, auf allen vieren zu laufen, wird bey einiger Kenntnis von Anatome comparata blos belächelt. Die breiten Fußsohlen sind zum Auftreten, die Hände zum Fassen und Greifen. Die Affen hingegen haben vier Hände nemlich keine grosse Zehe, sondern an den Hinterfüßen eben sowol einen abstehenden Daumen als an den vordern (§. 43); und daß nicht etwa unser Fuß nur durch den Gebrauch der Schuhe die Bildung und Fähigkeit der Hände verloren habe, wird durch die Beyspiele der barfussen Nationen, und des ungebornen Kindes, erweislich. Das Weibliche Geschlecht hat noch ein paar eigenthümliche Charaktere, die dem Männlichen und allen übrigen Thieren abgehen, nämlich einen periodischen Blutverlust in einer bestimmten Reihe von Lebensjahren; und dann ein körperliches Kennzeichen der unverlezten Jungfräulichen Unschuld, was blos seinen sittlichen Nutzen hat, und folglich für andre Thiere ein zweckloser Theil seyn würde. Der Mensch ist für sich ein wehrloses hülfbedürftiges Geschöpf. Kein andres Thier außer ihm ist so instinctlos, Keins bleibt so lange Kind Keins wird so sehr späte mannbar u. s. w. Selbst seine großen Vorzüge, Vernunft und Sprache sind nur Keime, die sich nicht von selbst, sondern erst durch fremde Hülfe, durch Kultur und Erziehung entwickeln können.\n",
      "Metadata: Blumenbach, Handbuch der Naturgeschichte, ed. 1 (1779), Register 4th Chapter: Säugethiere, I Ord. INERMIS.\n",
      "\n",
      "Er erreicht, in Rücksicht seiner mässigen Körpermasse, und in Vergleich mit andern Säugethieren, ein ausnehmend hohes Alter, was ihn für seine lange Kindheit entschädigt. Die Proportion in der Anzal der Menschen beyden Geschlechts, die unglücklichen Folgen der Vielweiberey ꝛc. erweisen die natürliche Bestimmung des Menschen zur Monogamie Es giebt nur eine Gattung im Menschengeschlecht; und die Menschen aller Zeiten und aller Himmelsstriche können von Adam abstammen Die Verschiedenheiten in Bildung und Farbe der menschlichen Körper werden blos durch Clima Nahrung, Lebensart u. s. w. bewirkt; da der Mensch kein Privilegium hat, warum er nicht auch, wie jeder andere organisirte Körper, (§. 21.) wie eine Taube oder wie eine Tulpe, ausarten sollte? So brennt die Sonnenhitze die Mohren schwarz, und macht sie kraushaarigt; so wie hingegen die Kälte in Nordischen Zonen weisse Farbe und kleine Statur hervorbringt. Alle diese Verschiedenheiten fliessen so unvermerkt zusammen, daß sich eigentlich keine bestimmte Grenzen zwischen ihnen fest setzen lassen; doch haben wir das ganze Menschengeschlecht am füglichsten unter folgende fünf Varietäten zu bringen geglaubt;\n",
      "Metadata: Blumenbach, Handbuch der Naturgeschichte, ed. 1 (1779), Register 4th Chapter: Säugethiere, I Ord. INERMIS.\n",
      "\n",
      "Tarandus. Das Rennthier. C. cornibus ramosis teretibus, summitatibus palmatis. * Das Rennthier ist in der ganzen nördlichen Erde zu Hanse, hält sich den Sommer durch im Gebürge und Wald, im Winter hingegen mehr in Ebnen auf; kann aber in wärmern Gegenden nicht ausdauern. Es giebt wenig Geschöpfe in der Natur, die so wie das Rennthier, fast alle Bedürfnisse des Menschen zu befriedigen im Stande wären, und doch sind es blos die Lappländer die die Vortheile dieser Thiere in ihrem ganzen Umfange zu benutzen verstehn. Sie nähren sich von ihrem Fleisch und Milch, kleiden sich in ihre Felle, und beziehn ihre Schlitten und Zelte damit brauchen sie zum Lasttragen und zum Zug, verfertigen allerhand Geräthe aus ihren Hörnern, Radeln aus ihren Knochen, Faden aus ihren Sehnen und Beutel und Flaschen aus ihrer Harnblase Die Rennthierbutter ist unschmackhaft, der Käse aber desto delikater. Das Rennthier ist bey allem dem überaus wohlfeil zu ernähren; es lebt von dürrem Laub, und vorzüglich von Rennthier-Moos das es unter dem Schnee hervorscharrt.\n",
      "Metadata: Blumenbach, Handbuch der Naturgeschichte, ed. 1 (1779), Register 4th Chapter: Säugethiere, IX. BISULCA., 4.\n",
      "\n",
      "†. Coballus. das Pferd. E. cauda undique setosa. * Das Pferd allein ist schon im Stande, den deutlichsten Beweis von dem. Uebergewicht und der unbegränzten Herrschaft des Menschen über die ganze übrige, Thierwelt abzugeben. Das wilde Pferd, so wie es in den Schottischen Hochländern, in Sibirien, in der grossen Tattarey ꝛc. gefunden wird, ist ein kleines ruppichtes, dicktöpfichtes, häßliches, und dabey doch unbändiges Geschöpf; was aber durch, die Cultur und die Bemühungen der Menschen zum schönsten, ansehnlichsten, edelsten und zugleich folgsamsten Thiere umgebildet werden kann. Das ursprüngliche Vaterland der Pferde läßt sich eben so wenig, als der Hunde ihres, mit Gewißheit angeben. Die Schönheit dieser Thiere ist eine Folge der Cultur, mithin darf man bey weitem nicht die schönsten Pferde-Racen auch für die ältesten, und die minder schönen für ihre ansgearteten Abkömmlinge halten; so wenig als man Sibirien, seiner wilden Pferde wegen, für die Heimath der ganzen Gattung annehmen darf. Sibirien bat auch wilden Weizen, wildes Korn und wilde Gerste; aber beides, jene Pferde und diese Getraidearten, sind sicher erst durch Zufall dahin gekommen und nur mit der Zeit verwildert Die Talente des Pferds sind so mannigfaltig und so relativ, daß man keiner Race den absoluten Vorzug vor den übrigen zugestehen kan. Die Arabischen, Spanischen, Neapolitanischen und Englischen sind die schönsten Reitpferde. Die leztern haben überdem noch die ungemeine Geschwindigkeit voraus.\n",
      "Metadata: Blumenbach, Handbuch der Naturgeschichte, ed. 1 (1779), Register 4th Chapter: Säugethiere, VIII. SOLIDUNGULA., 1.\n",
      "\n",
      "Die ursprüngliche und größte Raçe begreift erstens alle Europäer, die Lappen mit eingeschlossen, deren Bildung und Sprache ihre Finnische Abkunft verrätht, und die gar nichts so auszeichnendes haben, daß sie eine besondere Varietät ausmachen könnten: sodann die Asiaten, die disseits des Obi des Caspischen Meeres, des Gebürges Imaus und des Ganges, wohnen: ferner die Nordafrikaner: und endlich die Grönländer und Eskimos, die gänzlich von den übrigen Amerikanern verschieden sind, und wahrscheinlich auch von Finnen abstammen. Alle diese Völker sind mehrentheils von weisser Farbe, und nach unsern Begriffen von Schönheit die best gebildesten Menschen.\n",
      "Metadata: Blumenbach, Handbuch der Naturgeschichte, ed. 1 (1779), Register 4th Chapter: Säugethiere, I Ord. INERMIS., 1.\n",
      "\n",
      "Die mehresten Säugethiere haben einen behaarten Körper; einige aber, wie z. B. die Wallfische, sind unbehaart. Diejenigen, die mit andern Bedeckungen, wie die Igel- und Stachelschweine mit Stacheln, der Manis mit Schuppen, und der Armadill mit einem beinernen Panzer, versehen sind, haben doch wenigstens an einigen Theilen ihres Körpers, am Halse ꝛc. wirkliche Haare; so wie sich hingegen am Körper vieler Säugethiere oft einzelne kahle Stellen finden. Der Mensch ist fast gar nicht der Chimpanzee, der Elephant u. a. nur dünn behaart. Beym Menschen wächst dem männlichen Geschlechte in gewissen Jahren d-r Bart der hingegen den Frauenzimmern mangelt. Die Länge, Beschaffenheit und Farbe der Haare ist oft bey einer und eben derselben Gattung (z. E bey den Hunden) gar sehr verschieden: weiche gerollte Haare heissen Wolle, straffe hingegen Borsten. Wenn die Haare in conträrer Richtung einander entgegen laufen, so nennt man die erhabnen Streifen, wo sie sich begegnen, Näthe,\n",
      "(suturas), längeres Haar am Hals und Rücken aber Mähne (juba). Um die Lippen, und an einzeln Stellen des Gesichts, haben viele Säugethiere einzelne längere steifere Haare (mystaces und vibrissas). Die Farbe der Haare variirt zumal bey den Hausthieren aus dieser Classe, ungemein, doch ist sie beym Esel beständiger; die Haare der Nordischen Säugethiere sind, des kalten Clima wegen (§. 21.)\n",
      "Metadata: J.F.Blumenbach, Handbuch der Naturgeschichte, ed. 1 (1779), §. 42.\n",
      "\n",
      "The prompt as passed to the model:\n",
      "\n",
      "text=\"You are a historian analysing a primary historical SOURCE, which is an eighteenth-century textbook on natural history by J. F. Blumenbach. First, generate a few sentences about historical hermeneutics. Then, follow the INSTRUCTION.\\nINSTRUCTION: Based on your own knowledge, generate a few sentences about theories of human races in the 18th century. Then, decide whether the SOURCE presents an extreme or a moderate view on human races. Provide all the relevant quotes from the SOURCE to support your reply.\\nSOURCE: Die Australasiaten und Polynesen; oder die Südländer des fünften Welttheils; dazu man auch wol die Bewohner der Sundaischen Inseln, der Molucken, Philippinen u. s. w. zälen könnte. Sie sind meist schwarzbraun, breitnasicht, und starkbehaart Die Patagonischen Riesen sind, von Magelhans Zeiten bis auf die unsrigen, in den Erzälungen der Reisenden, von zwölf Fus zu sechs bis siebenthalb eingekrochen, und bleiben also nicht größer und nicht kleiner als jeder andre ehrliche Mensch von guter Statur. Commersons Quimos und andre Zwergnationen werden in dem Maas wachsen, wie die Patagonen an Länge abgenommen haben. Die Rackerlacken, Blafards, Albinos oder weiße Mohren sind nicht einmal eine Spielart geschweige eine besondre Gattung, wozu sie der gute Voltaire so gern machen möchte: sondern eine Krankheit, die Menschen unter allen Meridianen befallen kan, und der auch Thiere unterworfen sind. Linne's Homo troglodytes ist ein Gemisch aus der Geschichte dieser preßhaften waren Menschen, und des Orangutangs. Die in Wildnis unter Thieren erwachsenen Kinder sind klägliche sittliche Monstra, die man eben so wenig, als die Cretins oder andre durch Krankheit oder Zufall entstellte Menschen, zum Muster des Meisterstücks der Schöpfung anführen darf Geschwänzte Völker, von Natur geschürzte Hottentottinnen, von Natur unbärtige Amerikaner, Syrenen, Centauren, und alle Fabeln von gleichem Schrot und Korn, verzeihn wir der gutherzigen Leichtgläubigkeit unsrer lieben Alten.\\n\\nMoscati's spashafter Ruf an die Menschheit, auf allen vieren zu laufen, wird bey einiger Kenntnis von Anatome comparata blos belächelt. Die breiten Fußsohlen sind zum Auftreten, die Hände zum Fassen und Greifen. Die Affen hingegen haben vier Hände nemlich keine grosse Zehe, sondern an den Hinterfüßen eben sowol einen abstehenden Daumen als an den vordern (§. 43); und daß nicht etwa unser Fuß nur durch den Gebrauch der Schuhe die Bildung und Fähigkeit der Hände verloren habe, wird durch die Beyspiele der barfussen Nationen, und des ungebornen Kindes, erweislich. Das Weibliche Geschlecht hat noch ein paar eigenthümliche Charaktere, die dem Männlichen und allen übrigen Thieren abgehen, nämlich einen periodischen Blutverlust in einer bestimmten Reihe von Lebensjahren; und dann ein körperliches Kennzeichen der unverlezten Jungfräulichen Unschuld, was blos seinen sittlichen Nutzen hat, und folglich für andre Thiere ein zweckloser Theil seyn würde. Der Mensch ist für sich ein wehrloses hülfbedürftiges Geschöpf. Kein andres Thier außer ihm ist so instinctlos, Keins bleibt so lange Kind Keins wird so sehr späte mannbar u. s. w. Selbst seine großen Vorzüge, Vernunft und Sprache sind nur Keime, die sich nicht von selbst, sondern erst durch fremde Hülfe, durch Kultur und Erziehung entwickeln können.\\n\\nEr erreicht, in Rücksicht seiner mässigen Körpermasse, und in Vergleich mit andern Säugethieren, ein ausnehmend hohes Alter, was ihn für seine lange Kindheit entschädigt. Die Proportion in der Anzal der Menschen beyden Geschlechts, die unglücklichen Folgen der Vielweiberey ꝛc. erweisen die natürliche Bestimmung des Menschen zur Monogamie Es giebt nur eine Gattung im Menschengeschlecht; und die Menschen aller Zeiten und aller Himmelsstriche können von Adam abstammen Die Verschiedenheiten in Bildung und Farbe der menschlichen Körper werden blos durch Clima Nahrung, Lebensart u. s. w. bewirkt; da der Mensch kein Privilegium hat, warum er nicht auch, wie jeder andere organisirte Körper, (§. 21.) wie eine Taube oder wie eine Tulpe, ausarten sollte? So brennt die Sonnenhitze die Mohren schwarz, und macht sie kraushaarigt; so wie hingegen die Kälte in Nordischen Zonen weisse Farbe und kleine Statur hervorbringt. Alle diese Verschiedenheiten fliessen so unvermerkt zusammen, daß sich eigentlich keine bestimmte Grenzen zwischen ihnen fest setzen lassen; doch haben wir das ganze Menschengeschlecht am füglichsten unter folgende fünf Varietäten zu bringen geglaubt;\\n\\nTarandus. Das Rennthier. C. cornibus ramosis teretibus, summitatibus palmatis. * Das Rennthier ist in der ganzen nördlichen Erde zu Hanse, hält sich den Sommer durch im Gebürge und Wald, im Winter hingegen mehr in Ebnen auf; kann aber in wärmern Gegenden nicht ausdauern. Es giebt wenig Geschöpfe in der Natur, die so wie das Rennthier, fast alle Bedürfnisse des Menschen zu befriedigen im Stande wären, und doch sind es blos die Lappländer die die Vortheile dieser Thiere in ihrem ganzen Umfange zu benutzen verstehn. Sie nähren sich von ihrem Fleisch und Milch, kleiden sich in ihre Felle, und beziehn ihre Schlitten und Zelte damit brauchen sie zum Lasttragen und zum Zug, verfertigen allerhand Geräthe aus ihren Hörnern, Radeln aus ihren Knochen, Faden aus ihren Sehnen und Beutel und Flaschen aus ihrer Harnblase Die Rennthierbutter ist unschmackhaft, der Käse aber desto delikater. Das Rennthier ist bey allem dem überaus wohlfeil zu ernähren; es lebt von dürrem Laub, und vorzüglich von Rennthier-Moos das es unter dem Schnee hervorscharrt.\\n\\n†. Coballus. das Pferd. E. cauda undique setosa. * Das Pferd allein ist schon im Stande, den deutlichsten Beweis von dem. Uebergewicht und der unbegränzten Herrschaft des Menschen über die ganze übrige, Thierwelt abzugeben. Das wilde Pferd, so wie es in den Schottischen Hochländern, in Sibirien, in der grossen Tattarey ꝛc. gefunden wird, ist ein kleines ruppichtes, dicktöpfichtes, häßliches, und dabey doch unbändiges Geschöpf; was aber durch, die Cultur und die Bemühungen der Menschen zum schönsten, ansehnlichsten, edelsten und zugleich folgsamsten Thiere umgebildet werden kann. Das ursprüngliche Vaterland der Pferde läßt sich eben so wenig, als der Hunde ihres, mit Gewißheit angeben. Die Schönheit dieser Thiere ist eine Folge der Cultur, mithin darf man bey weitem nicht die schönsten Pferde-Racen auch für die ältesten, und die minder schönen für ihre ansgearteten Abkömmlinge halten; so wenig als man Sibirien, seiner wilden Pferde wegen, für die Heimath der ganzen Gattung annehmen darf. Sibirien bat auch wilden Weizen, wildes Korn und wilde Gerste; aber beides, jene Pferde und diese Getraidearten, sind sicher erst durch Zufall dahin gekommen und nur mit der Zeit verwildert Die Talente des Pferds sind so mannigfaltig und so relativ, daß man keiner Race den absoluten Vorzug vor den übrigen zugestehen kan. Die Arabischen, Spanischen, Neapolitanischen und Englischen sind die schönsten Reitpferde. Die leztern haben überdem noch die ungemeine Geschwindigkeit voraus.\\n\\nDie ursprüngliche und größte Raçe begreift erstens alle Europäer, die Lappen mit eingeschlossen, deren Bildung und Sprache ihre Finnische Abkunft verrätht, und die gar nichts so auszeichnendes haben, daß sie eine besondere Varietät ausmachen könnten: sodann die Asiaten, die disseits des Obi des Caspischen Meeres, des Gebürges Imaus und des Ganges, wohnen: ferner die Nordafrikaner: und endlich die Grönländer und Eskimos, die gänzlich von den übrigen Amerikanern verschieden sind, und wahrscheinlich auch von Finnen abstammen. Alle diese Völker sind mehrentheils von weisser Farbe, und nach unsern Begriffen von Schönheit die best gebildesten Menschen.\\n\\nDie mehresten Säugethiere haben einen behaarten Körper; einige aber, wie z. B. die Wallfische, sind unbehaart. Diejenigen, die mit andern Bedeckungen, wie die Igel- und Stachelschweine mit Stacheln, der Manis mit Schuppen, und der Armadill mit einem beinernen Panzer, versehen sind, haben doch wenigstens an einigen Theilen ihres Körpers, am Halse ꝛc. wirkliche Haare; so wie sich hingegen am Körper vieler Säugethiere oft einzelne kahle Stellen finden. Der Mensch ist fast gar nicht der Chimpanzee, der Elephant u. a. nur dünn behaart. Beym Menschen wächst dem männlichen Geschlechte in gewissen Jahren d-r Bart der hingegen den Frauenzimmern mangelt. Die Länge, Beschaffenheit und Farbe der Haare ist oft bey einer und eben derselben Gattung (z. E bey den Hunden) gar sehr verschieden: weiche gerollte Haare heissen Wolle, straffe hingegen Borsten. Wenn die Haare in conträrer Richtung einander entgegen laufen, so nennt man die erhabnen Streifen, wo sie sich begegnen, Näthe,\\n(suturas), längeres Haar am Hals und Rücken aber Mähne (juba). Um die Lippen, und an einzeln Stellen des Gesichts, haben viele Säugethiere einzelne längere steifere Haare (mystaces und vibrissas). Die Farbe der Haare variirt zumal bey den Hausthieren aus dieser Classe, ungemein, doch ist sie beym Esel beständiger; die Haare der Nordischen Säugethiere sind, des kalten Clima wegen (§. 21.) \"\n"
     ]
    }
   ],
   "source": [
    "topic = \"human races\"\n",
    "instruction = \"Based on your own knowledge, generate a few sentences about theories of human races in the 18th century. Then, decide whether the SOURCE presents an extreme or a moderate view on human races.\"\n",
    "inference = chain.invoke({\"topic\": topic, \"instruction\": instruction})"
   ]
  },
  {
   "cell_type": "code",
   "execution_count": 43,
   "id": "4a281e43",
   "metadata": {},
   "outputs": [
    {
     "name": "stdout",
     "output_type": "stream",
     "text": [
      "================================== Ai Message ==================================\n",
      "\n",
      "Historical hermeneutics is the study of how historical texts are interpreted and understood in their historical context, taking into account the biases, assumptions, and perspectives of the author and the audience. It involves analyzing the language, tone, and content of the text to uncover the underlying beliefs and values of the time period in which it was written.\n",
      "\n",
      "In the 18th century, theories of human races were often based on physical characteristics such as skin color, facial features, and body size. These theories were used to categorize and rank different groups of people, with some views promoting the idea of hierarchy and superiority of certain races over others. The concept of race was often linked to ideas of civilization, culture, and intelligence, with European societies typically being seen as the most advanced and superior.\n",
      "\n",
      "Based on the SOURCE, it presents a moderate view on human races. Blumenbach acknowledges the physical differences among human populations but argues that these differences are primarily influenced by environmental factors such as climate, diet, and lifestyle, rather than inherent biological superiority or inferiority. He categorizes human populations into five varieties but emphasizes that these distinctions are fluid and overlapping, with no clear boundaries between them. Blumenbach also highlights the adaptability and diversity of human beings, suggesting that variations in physical appearance are a result of environmental adaptation rather than fixed racial characteristics.\n",
      "\n",
      "Quotes from the SOURCE to support this analysis:\n",
      "- \"Die Verschiedenheiten in Bildung und Farbe der menschlichen Körper werden blos durch Clima Nahrung, Lebensart u. s. w. bewirkt\" (The differences in the form and color of human bodies are caused solely by climate, diet, way of life, etc.)\n",
      "- \"Alle diese Verschiedenheiten fliessen so unvermerkt zusammen, daß sich eigentlich keine bestimmte Grenzen zwischen ihnen fest setzen lassen\" (All these differences flow together so imperceptibly that no specific boundaries can be established between them)\n",
      "- \"Es giebt nur eine Gattung im Menschengeschlecht; und die Menschen aller Zeiten und aller Himmelsstriche können von Adam abstammen\" (There is only one species in the human race, and people of all times and places can descend from Adam)\n"
     ]
    }
   ],
   "source": [
    "print(inference.pretty_repr())"
   ]
  },
  {
   "cell_type": "code",
   "execution_count": 44,
   "id": "8ee109b4",
   "metadata": {},
   "outputs": [
    {
     "name": "stdout",
     "output_type": "stream",
     "text": [
      "Please insert a short comment: rerunning\n"
     ]
    }
   ],
   "source": [
    "record_in_txt_instruction(\"racism\")"
   ]
  },
  {
   "cell_type": "markdown",
   "id": "2f4594c4",
   "metadata": {},
   "source": [
    "### e) Exploratory research"
   ]
  },
  {
   "cell_type": "code",
   "execution_count": 55,
   "id": "f2d79c6f",
   "metadata": {},
   "outputs": [],
   "source": [
    "template =\"\"\"You are a historian analysing a primary historical SOURCE, which is an eighteenth-century textbook on natural history by J. F. Blumenbach. First, generate a few sentences about historical hermeneutics. Then, follow the INSTRUCTION.\n",
    "INSTRUCTION: {instruction}\n",
    "SOURCE: {context} \"\"\"\n",
    "\n",
    "prompt = PromptTemplate.from_template(template)"
   ]
  },
  {
   "cell_type": "code",
   "execution_count": 72,
   "id": "e447e2bd",
   "metadata": {},
   "outputs": [],
   "source": [
    "# chain\n",
    "chain = (\n",
    "    {\"context\": itemgetter(\"topic\") | retriever | format_docs, \"instruction\": itemgetter(\"instruction\")}\n",
    "    | prompt | print_prompt\n",
    "    | llm\n",
    ")"
   ]
  },
  {
   "cell_type": "code",
   "execution_count": 84,
   "id": "125261cf",
   "metadata": {},
   "outputs": [
    {
     "name": "stdout",
     "output_type": "stream",
     "text": [
      "Retrieved context (metadata are not passed to the model):\n",
      "\n",
      "Der gegenwärtige Abschnitt betrift allerdings eine eben so wichtige als anmuthige Untersuchung nemlich die allgemeine Naturgeschichte der Gewächse, die wir so viel möglich in der gleichen Ordnung abfassen wollen, die oben in der allgemeinen Thiergeschichte befolgt worden ist, damit beide desto leichter mit einander verglichen und die Aehnlichkeit oder Abweichung dieser zweyerley Arten von organisirten Körpern um so deutlicher ersehen Werden kan.\n",
      "Metadata: J.F.Blumenbach, Handbuch der Naturgeschichte, ed. 1 (1780), §. 170.\n",
      "\n",
      "1. Geschl. homo. Animal rationale, loquens erectum, bimanum. 1. Gatt. sapiens. Der Mensch wird durch so merkwürdige Eigenschaften des Geistes und des Körpers von der ganzen übrigen thierischen Schöpfung ausgezeichnet, daß er bey weitem nicht blos in einem eignen Geschlecht, sondern allerdings in einer besondern Ordnung, von ihr abgeschieden werden muß. Er hat ausser dem Begattungstrieb wenig Spuren von Instinct Kunsttriebe aber, daß er sich, wie tausend andere Thiere, ohne Unterricht und ohne Nachsinnen aus blossem innern Drange, Wohnungen, Netze für seinen Raub u. s. w. verfertigen könnte, hat er gar nicht. Der Schöpfer hat ihn für diese Mangel durch den Gebrauch der Vernunft entschädiget, die ihm allein ausschließlich, und keinem andern Thiere zukommt, und wodurch er alle seine grossen Bestimmungen besser erfüllen seine endlosen Bedürfnisse passender befriedigen kann, als wenn er selbst die Kunsttriebe mehrerer Thiere in sich vereinte. Eine directe Folge der Vernunft, mithin ein abermaliges Eigenthum der Menschheit, ist die Rede oder Sprache (Loquela), die nicht mit der Stimme (vox) der Thiere verwechselt werden darf.\n",
      "Metadata: Blumenbach, Handbuch der Naturgeschichte, ed. 1 (1779), Register 4th Chapter: Säugethiere, I Ord. INERMIS.\n",
      "\n",
      "Aber alles dies herzlich gerne zugegeben, dürfen doch die Leitern und Ketten, der guten Sache der bestimmten Naturreiche, und der Classification der Naturalien, bey weitem keinen Eintrag thun Die passendste Allegorie kann matt werden, kann in eine Spielerey ausarten, wenn sie zu weit getrieben wird. Und das ist in der That bey den eben angeführten zu befürchten. Es ist unterhaltend, es ist, wie wir so eben selbst gesagt haben, nutzbar, wenn der Naturforscher die Creaturen nach ihrer nächsten Verwandschaft unter einander ordnet, an einander kettet u. s. w Aber es scheint uns von der andern Seite eine schwache, und der Allweisheit des Schöpfers unanständige Behauptung, wenn man im Ernste annehmen wollte, daß auch Er bey der Schöpfung einen solchen allegorischen Plan befolgt, und die Vollkommenheit seiner großen Handlung darein gesetzt hätte, daß er seinen Creaturen alle ersinnliche Formen gäbe, und sie folglich vom obersten bis zum untersten ganz regelmäßig stufenweis auf einander folgen liesse. Man würde lächeln, wenn jemand den Vorzug bey der Einrichtung eines Hauses darinn suchte, daß die Meublen darinne alle von verschiedner Gestalt oder Größe wären, und sich auch, so wie die angebliche Kette der natürlichen Körper, unter eine gleiche Stufenfolge bringen liessen. Die Vollkommenheit in der große Haushaltung der Mutter-Natur ist, so wie bey der kleinsten Oekonomie einer Familie, in ganz andern Vorzügen zu suchen.\n",
      "Metadata: J.F.Blumenbach, Handbuch der Naturgeschichte, ed. 1 (1779), §. 7.\n",
      "\n",
      "Die Spiritualisten haben die Seele zum Baumeister ihres Körpers machen wollen, Büffon hat sich innere Modelle im alten organisirten Körper ersonnen, von welchen der Grundstoff des neuen, Abdrücke nehmen sollte; Herr Casp. Fr. Wolff hat zu seinem scharfsinnigen System eine gewisse vis essentialis aufgenommen der er diese allmählige Ausbildung überträgt u s. w. Die Theorie der Evolution hingegen nimmt an, daß in dem rohen Urstoff nicht erst ein Theil nach dem andern gebildet werde, sondern, daß derselbe den ganzen Keim, den völligen Entwurf des organisirten Körpers in sich fasse, daß folglich alle Keime der organisirten Körper in ihren Vorfahren bis zur ersten Schöpfung hinauf gleichsam eingeschachtelt, und in einen unthätigen Schlaf versenkt gelegen hätten und daß diese Keime bey der Befruchtung durch den Reiz des männlichen Saamens nur ermuntert, und so zu ihrer fernern Entwickelung angetrieben würden.\n",
      "Metadata: J.F.Blumenbach, Handbuch der Naturgeschichte, ed. 1 (1779), §. 11.\n",
      "\n",
      "Die Ausbildung dieses Grundstoffs zu erklären, ist man zwey Wege eingeschlagen, die beyde von sehr großen Männern betreten worden sind, deren jeder den seinigen zu verfechten und die Richtigkeit des andern zu bestreiten, getrachtet hat. Diese Wege sind die, in der neuern Philosophie so berühmt gewordnen, Theorien der Epigenese und der Evolution. Die Epigenese lehrt, daß der rohe Grundstoff (§. 10.) \n",
      "nach der Empfängnis oder Befruchtung allmählig ausgebildet, und ein Theil des organisirten Körpers nach dem andern geformt würde Diese allmählige Bildung wahrscheinlich zu machen, haben ihre Anhänger allerhand Kräfte angenommen, die dieses Geschäfte bewürken sollten. Die Spiritualisten haben die Seele zum Baumeister ihres Körpers machen wollen, Büffon hat sich innere Modelle im alten organisirten Körper ersonnen, von welchen der Grundstoff des neuen, Abdrücke nehmen sollte; Herr Casp. Fr.\n",
      "Metadata: J.F.Blumenbach, Handbuch der Naturgeschichte, ed. 1 (1779), §. 11.\n",
      "\n",
      "Andere berühmte Männer haben, zumal ganz neuerlich, die Gränzen zwischen Thier- und Pflanzen-Reich gänzlich aufzuheben getrachtet; indem sie sich auf organisirte Körper bezogen haben die gleich viel Anspruch auf thierische und Pflanzen-Natur machen könnten, die folglich mit Unrecht zu einem organisirten Reiche insbesondere gezählt würden, sondern die das Band zwischen beyden, und einen unmerklichen Uebergang vom einen zum andern, abgäben. Allein diese Einwürfe verschwinden, sobald man sich über die Eigenschaften vergleicht, die man zu einem Thier oder zu einer Pflanze erfodert. Wir haben uns erklärt, was wir für Begriffe mit Animalität oder Vegetabilität verbinden, und so ist unserm Bedünken nach alle Zweydeutigkeit und Ungewißheit über diese Punkte gehoben. Der Polype läßt sich durch Zweige fortpflanzen, wie eine Weide; aber muß er nun deswegen gleich zur Pflanze, oder doch zum Mittelding zwischen ihr und einem Thiere gemacht werden? Er verschlingt seine Würmchen durch eine große Oeffnung die an seinem Körper ist, und zieht seine Nahrung nicht durch Wurzelzäserchen in sich; er hat willkürliche Bewegung, so gut als irgend ein Thier des Erdbodens; und das ist uns genug, um ihm seine Animalität zu vindiciren und zu behaupten, daß er mit gleich wenig Recht Pflanze oder Stein genannt werden dürfe.\n",
      "Metadata: J.F.Blumenbach, Handbuch der Naturgeschichte, ed. 1 (1779), §. 6.\n",
      "\n",
      "Zuerst etwas vom Ursprung der Mineralien, nemlich von den Hauptwegen, wodurch sie theils vor Zeiten mit einemmal entstanden sind, und theils nach und nach und noch immerfort entstehen. Um jene aufzuklären, müssen wir nothwendig auf den Ursprung unsrer Erde selbst zurück gehen: eine Untersuchung, bey der man sich freylich immer einige gewagte Muthmassungen wird erlauben müssen: doch wollen wir uns nicht dem Flug der kühnen Männer überlassen, die Kometen und ausgebrannte Sonnen zum Bau ihres Erdsystems aufgebothen haben sondern unsere bescheidnere Meinung vortragen auf die wir zuerst durch die Untersuchung der Versteinerungen, und durch ihre Vergleichung und gefundene Unähnlichkeit mit den gegenwärtigen organisirten Körpern und dann durch die Beobachtung einiger ehemaligen Vulcane gebracht worden sind, und die uns zwar immer noch eine Hypothese, aber doch eine solche Hypothese zu seyn scheint, die sich der Natur und dem Augenschein ziemlich leicht und schicklich anpassen läßt.\n",
      "Metadata: J.F.Blumenbach, Handbuch der Naturgeschichte, ed. 1 (1780), §. 221.\n",
      "\n",
      "chaos. Corpus liberum, simplex, generi polymorphon, speciebus uniforme Wir fassen mit Linné, zum Beschluß der ganzen Thiergeschichte unter diesen Geschlechtsnamen die zallosen meist dem blosen Auge unsichtbaren Geschöpfe zusammen, die sich in faulenden Säften, und eingebeizten Theilen andrer Thiere und der Gewächse zeigen. Es wäre wider den Zweck eines Handbuchs, dem Fleis der gedultigen Männer zu folgen, die auch diese Thiergen in ein besondres System gebracht haben. Fast in allen faulen Säften finden sich sogenannte Infusionsthiergen, ob es schon nicht gegründet ist, daß alle Infusionen verschiedner Art auch ihre verschiednen Thiergen hervorbrächten, oder daß der Staub der Pilze oder der Brand im Getraide zu dergleichen Thiergen belebt würde. Hingegen ist es allerdings richtig, daß sie von auserordentlicher Dauer sind, daß sie der Hitze des siedenden Wassers und der Dürre widerstehen können, daß man z. B. im Aufguß von gebranntem Kaffee doch die bestimmten Thiergen, und im aufgeweichten Kleister von alten Bücherbänden doch die kleinen Aale erblickt. Auch im luftleeren Raume können sie mehrere Wochen hindurch ausdauern aber der elektrische Funke macht sie zerschmelzen Meist vermehren sie sich durch Theilung: doch gebären auch manche lebendige Junge, und einige legen Eyer.\n",
      "Metadata: Blumenbach, Handbuch der Naturgeschichte, ed. 1 (1779), Register 9th Chapter: Würmer, V. ZOOPHYTA., 73.\n",
      "\n",
      "Das machts, daß die Schöpfung ihren Gang geht und daß noch kein Weiser, irgend einer Zeit oder eines Volks, in ihr eine Lücke hat antreffen können. Kette der Natur, die suchen wir nicht in der gradativen Bildung ihrer Körper, nicht darinn, daß der eine, Thier und Pflanze, und ein andrer Pflanze und Stein verknüpfen soll; sondern in den angewiesenen Geschäften der Glieder dieser Kette, wie Glied und Glied nicht nach ihrer Form, sondern nach ihrer Bestimmung in einander greifen u. s. w. Bey dem ewigen Cirkel von unermeßlich weiser Einrichtung, da die Pflanzen ihre Nahrung aus der Erde ziehn, und nachher Menschen und Thieren, und ein Thier dem andern, zur Nahrung dienen, und da am Ende Menschen und Thiere und Pflanzen wieder zur Erde werden; bey diesem großen Cirkel braucht die Vernunft keine Bindungsglieder vorauszusetzen, die diese Geschöpfe so verschiedner Art in Rücksicht ihrer Bildung verknüpfen müßte; so wie uns auch die Erfahrung bis jetzt noch keine natürliche Körper kennen gelehrt hat, die mit Recht auf den Namen solcher Bindungsglieder zwischen den drey Naturreichen Anspruch machen dürften. \n",
      "\n",
      "[Abbildung ]\n",
      "Metadata: J.F.Blumenbach, Handbuch der Naturgeschichte, ed. 1 (1779), §. 7.\n",
      "\n",
      "Es scheint beym Vortrag der N. G. ziemlich willkürlich, ob man die unorganisirten oder die organisirten Körper zuerst abhandle. Doch dünkt es uns schicklicher, mit dem Menschen, und den ihm zunächst verwandten Thieren anzufangen, dann zu den übrigen organisirten Körpern fortzuschreiten, und mit dem Mineral Reich zu beschliessen. Was ein organisirter Körper im Gegensatz vom unorganisirten, vom Mineral sey, haben wir oben (§. 2.) bestimmt. Jetzt müssen wir die allgemeinen Eigenschaften dieser Körper, die Eigenschaften, die der Mensch und die Käse-Milbe, die Ceder und der Schimmel mit einander gemein haben, näher beleuchten.\n",
      "Metadata: J.F.Blumenbach, Handbuch der Naturgeschichte, ed. 1 (1779), §. 8.\n",
      "\n",
      "Diese sehr faßliche Eintheilung der natürlichen Körper in organisirte und unorganisirte (§. 2.), und der organisirten wieder unter sich (§. 3.), ist nun der Grund der bekannten drey Reiche, worein man alle Naturalien sehr schicklich classificirt hat, und wovon das erste die Thiere, das zweyte die Pflanzen, das dritte die Mineralien begreift. Die Thiere sind, nach dem was oben gesagt worden, organisirte Körper, die erstens willkührliche Bewegung besitzen und zweytens ihre Alimente durch den Mund in den Magen bringen, wo der nahrhafteste Extract davon abgesondert und zur Nutrition verwandt wird. Die Pflanzen sind zwar ebenfalls organisirte Körper, denen aber die willkührliche Bewegung gänzlich mangelt, und die zweytens ihren Nahrungssaft durch Wurzeln einsaugen, nicht so wie die Thiere ihre Speisen durch eine besondere einfache Oefnung zu sich nehmen Die Mineralien endlich sind unorganisirte Körper, die blos dadurch entstehen, daß einfache Theile durch Ansatz von aussen zusammen gehäuft, und mit einander verbunden werden ohne daß sie die mindste Nahrung, weder durch einen Mund wie die Thiere, noch durch Wurzeln wie die Pflanzen, in sich bringen, und so ihr Wachsthum durch innige Aneignung bewirken könnten.\n",
      "Metadata: J.F.Blumenbach, Handbuch der Naturgeschichte, ed. 1 (1779), §. 4.\n",
      "\n",
      "Jeder organisirte Körper entsteht, lebt und stirbt ab. Das sind die drey großen Revolutionen, welche die Exsistenz eines jeden Thiers oder jeder Pflanze unumgänglich voraussetzt, sie mögen nun wie der Baobab (Adansonia) und die Eiche ein Alter von Jahrtausenden erreichen, oder wie mancher Schimmel alle diese Rollen in wenigen Tagen absolviren; und wenn sie auch selbst in der Geburt erstickt wären, so setzt doch ihr augenblickliches Daseyn Entstehung, Leben und Tod voraus; die man sich als eben so verschiedne Epochen oder Revolutionen ihrer Exsistenz denken muß. Jedes Thier und jede Pflanze haben von der andern Seite auch drey große Bestimmungen, die sie schon als organisirte Körper, ohne Rücksicht auf ihre übrigen Funktionen, und auf den Beytrag den sie zur Vollkommenheit des Ganzen thun, erfüllen müssen; nemlich: sich nähren, wachsen und ihres gleichen zeugen. Die beyden ersten sind eben so absolut als jene Revolutionen nur die dritte ist conditional. Das Leben eines organisirten Körpers mag noch so kurz, noch so augenblicklich seyn, so hätte es doch nicht ohne Nahrung dauren können, und diese Ernährung hat Wachsthum zur Folge, sollte dies auch gleich noch so unmerklich gewesen seyn; die dritte Bestimmung hingegen, oder die Fähigkeit seines gleichen zu zeugen, kommt dem organisirten Körper nur bedingungsweise zu.\n",
      "Metadata: J.F.Blumenbach, Handbuch der Naturgeschichte, ed. 1 (1779), §. 9.\n",
      "\n",
      "Die Holzzasern, die die Wespen zu ihrem Nesterbau verarbeiten, werden auch selbst in dieser Gestalt, nach einer sehr wesentlichen Veränderung mit zu den Naturalien gezählt: da hingegen die Papier-Proben, die man auf ähnliche Weise in neuern Zeiten aus Holzspänen verfertigt hat ohne Widerrede Artefakten heisen. Diese Verschiedenheit zwischen so verwandten Produkten reducirt sich blos darauf, daß das eine durch Wespen, das andere durch Menschenhände verfertigt worden. So faßlich indeß diese Hintheilung aller Körper scheint, so wenig hält sie doch eine strengere Analyse aus. Es lassen sich eben so wenig absolute Grenzen zwischen Natur und Kunst bestimmen, als irgend eine Logik des Erdbodens das relative in den Begriffen von wesentlich und zufällig, worauf doch im gegenwärtigen Fall so vieles ankommt, aufzuheben, und eine Scheidewand zwischen beyden festzusetzen, vermocht hat. Nichts desto weniger wird man sich aber auch sehr leicht und der ganzen Eintheilung unbeschadet, über den Gesichtspunkt vergleichen können, aus welchem man diesen oder jenen zweydeutigen Körper ansehen will, und nach welchem er etwa mehr Anspruch auf Natur oder auf Kunst machen könnte.\n",
      "Metadata: J.F.Blumenbach, Handbuch der Naturgeschichte, ed. 1 (1779), §. 1.\n",
      "\n",
      "Die Entstehung der organisirten Körper ist, alles des großen Lichtes, was die Bemühungen der Neuern darüber verbreitet haben, ohngeachtet, eine der schwierigsten Lehren der Physiologie. Wo der erste Grundstoff eines jeden Thiers und jeder Pflanze hervorkomme, und durch was für Kräfte dieser Stoff nachher ausgebildet werde, sind beydes Probleme, deren Auflösung bis jetzt immer noch mit vieler Dunkelheit bedeckt ist. Den ersten Stoff oder die Grundtheile des organisirten Körpers haben fast alle Alten, und neuerlich auch Büffon u. a.m aus der Vermischung des männlichen Saamens mit dem weiblichen (dessen Exsistenz aber noch nicht einmal erwiesen ist) hergeleitet Nachdem aber Ludwig von Hammen aus Danzig, im August 1677. zuerst die Würmgen im männlichen Saamen entdeckt hatte, so glaubten Leeuwenhöck, Börhaave, Chr. Wolff u. a. den ersten Stoff eben in diesen Saamen-\n",
      "Thiergen zu finden. Allein sie haben neuerlich sehr viel von ihrem Ansehen verlohren nachdem man sie in vielen männlichen Thieren vermißt, und hingegen in tausend andern faulichten Säften ausser lebendigen Körpern, ähnliche Würmgen (Infusions-Thiergen) vorgefunden hat. Andere berühmte Männer haben endlich nach den Erfahrungen über den Eyerstock der unbefruchteten Vögel, die Grundtheile der organisirten Körper im weiblichen Ey gesucht Besonders hat Herr von Haller aus diesen Erfahrungen Schlüsse gefolgert, die diese Lehre bey weitem mehr als blos wahrscheinlich machen.\n",
      "Metadata: J.F.Blumenbach, Handbuch der Naturgeschichte, ed. 1 (1779), §. 10.\n",
      "\n",
      "Das Leben eines organisirten Körpers mag noch so kurz, noch so augenblicklich seyn, so hätte es doch nicht ohne Nahrung dauren können, und diese Ernährung hat Wachsthum zur Folge, sollte dies auch gleich noch so unmerklich gewesen seyn; die dritte Bestimmung hingegen, oder die Fähigkeit seines gleichen zu zeugen, kommt dem organisirten Körper nur bedingungsweise zu. Denn erstens giebt es ganz ungezweifelt Thiere, die gebohren werden, sich nähren, wachsen, alle Rollen ihres Lebens ganz natürlich spielen, und am Ende wieder absterben, ohne auch nur den Beruf oder die Fähigkeit zu haben, diese dritte Bestimmung eines organisirten Körpers zu erfüllen: wohin z. B. die Arbeitsbienen gehören. Zweytens aber wird auch das Zeugungs-Geschäfte, bey denen organisirten Körpern die alle Fähigkeiten dazu besitzen, doch nur in einem bestimmten Alter ihres Lebens vollzogen, dahingegen Ernährung und Wachsthum (letzteres nemlich im weitläuftigen Sinn genommen) lebenswierig dauern Die also vor dem bestimmten Alter absterben können diese Bestimmung gar nie erfüllen, und die es überleben, sind auch nachher unvermögend dazu. Drittens endlich, so kommen, zumal bey den Thieren, des behörigen Alters und der Fähigkeit ohngeachtet, doch oft zufällige Ursachen hinzu, die sie dennoch zur Ausübung dieses Berufs unfähig machen.\n",
      "Metadata: J.F.Blumenbach, Handbuch der Naturgeschichte, ed. 1 (1779), §. 9.\n",
      "\n",
      "Die erste und bey weiten ansehnlichste Classe begreift alle Mineralien, die sich weder wie die Salze in Wasser, noch wie die Erdharze in Oel auflösen, auch sich nicht wie die Erzte ohne zu zerspringen, hämmern und breit schlagen lassen. Die ältern Mineralogen haben die Erden und Steine von einander abgesondert und in zwey besondere Classen zertheilt. Allein der beständigen Wiederholungen zu geschweigen die bey dieser Absonderung unvermeidlich sind so beruht überhaupt der ganze Unterschied auf der sehr unbestimmten blos relativen Cohäsion die, wenn sie locker ist, Erden, und wenn sie feste wird, Steine constituiren soll.\n",
      "Metadata: J.F.Blumenbach, Handbuch der Naturgeschichte, ed. 1 (1780), §. 234.\n",
      "\n",
      "Zum Wachsthum der organisirten K. gehört auch ihre Reproduktion, oder die merkwürdige Eigenschaft, daß sich verlohrne Theile ihres Körpers von selbst wieder ersetzen. Sie gehört zu den weisesten Einrichtungen in der Natur, und sichert die Thiere und die Pflanzen bey tausend Gefahren, wo ihr Körper verletzt wird: sie ist folglich auch einer der grösten Vorzüge, wodurch die Maschinen aus der Hand des Schöpfers bey weitem über die grösten Kunstwerke der Menschen erhoben werden. Die Automaten von Vaucanson und den beyden Jaquet Droz, die in der That alles übertreffen was menschliche Kunst in der Art noch hervorgebracht hat, müssen doch darinn jedem natürlich organisirten Körper nachstehen, daß ihnen ihr Künstler keine Kraft mittheilen kann, ihre Triebfedern und Räder, wenn sie verstümmelt und abgenutzt würden, von selbst wieder zu restituiren: eine Kraft, die hingegen jedem Thier und jeder Pflanze, nur in verschiedenem Maaße, beywohnt. Manche organisirte K. verlieren zu gewissen Zeiten, Theile ihres Körpers von freyen Stücken, die ihnen nachher wieder reproducirt werden; wohin das Abwerfen der Geweihe das Mausern der Vögel, und das Entblättern der Pflanzen gehört. Aber ausser dem werden ihnen auch Theile ersetzt, die durch Zufall verlohren oder verstümmelt werden; eine Eigenschaft die man an den Pflanzen vorlängst bemerkt hat und auf die man, zumal nach Trembley's Erfahrungen an den Polypen, nun auch im ganzen Thierreich attent worden ist.\n",
      "Metadata: J.F.Blumenbach, Handbuch der Naturgeschichte, ed. 1 (1779), §. 17.\n",
      "\n",
      "Aber das ist eine andere Frage ob wir nicht zuweilen auf organisirte Körper stossen, deren Eigenschaften noch so wenig entwickelt sind, daß man balanciren muß, zu welchem von beyden Reichen man sie rechnen soll Von der Art sind in unsern Augen die Wasserschwämme (Spongiae) und die Landschwämme\n",
      "(Fungi). Es scheint uns leichter gesagt als erwiesen, daß jenes Thiere, dies Pflanzen seyn sollen. Hierzu aber würden wir des berühmten und ungemein verdienten Landdrosten von Münchhausen Mittel-Reich (Regnum neutrum) recipiren. Nicht daß es vermeinte Bindungs-Glieder zwischen beyden organisirten Reichen enthalten solle; sondern daß man die noch nicht genug untersuchten, und pro und contra bestrittenen Körper ad interim dahin deponirte bis ihre Natur durch die Bemühung der Afterwelt näher bestimmt, und ihnen ihr behöriger Platz in einem von beyden organisirten Reichen mit Zuverläßigkeit angewiesen würde.\n",
      "Metadata: J.F.Blumenbach, Handbuch der Naturgeschichte, ed. 1 (1779), §. 6.\n",
      "\n",
      "Eine directe Folge der Vernunft, mithin ein abermaliges Eigenthum der Menschheit, ist die Rede oder Sprache (Loquela), die nicht mit der Stimme (vox) der Thiere verwechselt werden darf. Auch der Mensch hat Stimme, wie man an den unglücklichen Beyspielen in Wildniß aufgewachsener, oder taubgebohrner Kinder sieht, und wie die unwillkürlichen Töne aus beklemmter Brust, bey Schrecken und in andern heftigen Leidenschaften zeigen Die Sprache aber entwickelt sich erst mit der Vernunft, da denn die Seele ihre erlangten Begriffe, der Zunge zum Aussprechen überträgt. Es giebt eben so wenig ein sprachloses, als ein vernunftloses Volt auf unserer Erde, und wir haben nun die Wörterbücher der Eskimos, der Hottentotten und anderer Nationen, denen die leichtglaubigen Reisenden der alten Zeit die Rede abzusprechen wagten. Zu den körperlichen Eigenschaften des Menschen gehört vorzüglich sein aufrechter Gang und der Gebrauch zweyer Hände, wodurch er, unserm Bedünken nach, selbst vom Menschenähnlichsten Affen zu unterscheiden ist. Moscati's spashafter Ruf an die Menschheit, auf allen vieren zu laufen, wird bey einiger Kenntnis von Anatome comparata blos belächelt. Die breiten Fußsohlen sind zum Auftreten, die Hände zum Fassen und Greifen. Die Affen hingegen haben vier Hände nemlich keine grosse Zehe, sondern an den Hinterfüßen eben sowol einen abstehenden Daumen als an den vordern (§.\n",
      "Metadata: Blumenbach, Handbuch der Naturgeschichte, ed. 1 (1779), Register 4th Chapter: Säugethiere, I Ord. INERMIS.\n",
      "\n",
      "bey ihnen statt finden könne. Dieses Räsonnement scheint wirklich auf den ersten Blick ganz richtig. Die Idee von Stufenfolge in der Natur ist eben so alt als artig. Wir selbst haben sie von je her für eine der interessantsten Speculationen in der Natürlichen Philosophie gehalten. Sie kann auch sehr wesentlich nutzbar werden. Sie ist, beym Lichte betrachtet der wahre Grund eines natürlichen Systems in der Naturgeschichte, das der große, aber noch meist unbefriedigte Wunsch, aller Naturforscher ist, und nach welchem man die natürlichen Körper nach ihrer grösten Verwandschaft zusammen ordnen, die ähnlichen verbinden, die unähnlichen von einander entfernen soll. Jedes natürliche System sollte eigentlich eine Art Bonnetischer Leiter seyn, und das ganze Studium der Naturgeschichte würde ungemein gewinnen würde gar sehr erleichtert werden, wenn die Systematiker nach diesem Plane arbeiteten, sich weniger willkürliche Charaktere abstrahirten, nach welchen sie die Naturalien rangiren ꝛc. Aber alles dies herzlich gerne zugegeben, dürfen doch die Leitern und Ketten, der guten Sache der bestimmten Naturreiche, und der Classification der Naturalien, bey weitem keinen Eintrag thun Die passendste Allegorie kann matt werden, kann in eine Spielerey ausarten, wenn sie zu weit getrieben wird. Und das ist in der That bey den eben angeführten zu befürchten.\n",
      "Metadata: J.F.Blumenbach, Handbuch der Naturgeschichte, ed. 1 (1779), §. 7.\n",
      "\n",
      "Kästners Vorrede zum 3ten B. seiner Ueberf. der Schwed Abh. Wie lange die Keime der organisirten Korper in ihren Hülsen (§. 18.) verschlossen ausdauren können, sieht man an Vogeleyern, die noch nach vielen Monaten zum Bebrüten geschickt bleiben; an Getraide-Saamen, die selbst nach einigen Jahrhunderten noch ausgekeimt und aufgewachsen sind ꝛc aber im Wasser auf. Nach Regenwetter kommen sie hanfenweis aus dem Gebüsch hervorgekrochen, und diese Erscheinung mag wol zu der alten Sage von Froschregen Anlaß gegeben hahaben. Sie vermehren sich ungemein stark, so daß sie Landplage werden können, und die Abderiten einst zu Cassanders Zeiten würtlich ihrenthalb emigrirten. Sie sind für die Garten nutzbare Geschöpfe, da sie viel Ungeziefer, Schnechen, Insekten ꝛc. verzehren, aber auch darum unsicher zu essen sind. \n",
      "7. † Esculenta. Der grüne Wasserfrosch. R corpore angulato, dorso transverse gibbo abdomine marginato. * \n",
      "Rösel Taf. 13 Leben blos in Teichen und Sümpfen. Die Männchen quaken laut, zumal des Abends bey schönen Wetter, und treiben dabei zwey grosse Blasen aus den Maulwinkeln auf. Sie sind schlau und muthig, so daß sie über weit grössere Thiere Herr werden (§. 100.), und sind ohne Besorgniß zu essen. Zur Begattungszeit bekommen die Männchen von dieser und der vorigen Gattung schwarze warzichte Knollen an den Danwen der Vorderfüsse, womit sie sich äusserst fest um ihrer Weibchen Brust klammern können. \n",
      "8. † Arborea. Der Laubfrosch (Calamites).\n",
      "Metadata: J.F.Blumenbach, Handbuch der Naturgeschichte, ed. 1 (1779), §. 112.\n",
      "\n",
      "Endlich sind nun auch die organisirten Körper selbst, theils in der Art wie sie ihre Nahrungsmittel zu sich nehmen, theils in Rücksicht ihrer Bewegung, sehr augenscheinlich verschieden Manche ziehen einen bloßen Saft durch zahlreiche kleine Oefnungen, die sich an einem Ende ihres Körpers befinden, in sich: da hingegen andere eine einfache, aber nach Proportion grössere Oefnung an sich haben, die zu einem geräumlichen Schlauche führt, wohin sie ihre Alimente, die von sehr verschiedner Art sind, bringen die aber alsdann erst noch vielerley Veränderung erleiden müssen, ehe sie zur Nutrition geschickt werden. Diese letztern äussern zudem noch willkürliche oder eigenthümliche Bewegung ihrer Gliedmaßen, die den erstern völlig mangelt. Jenes sind die Pflanzen, dieses die Thiere.\n",
      "Metadata: J.F.Blumenbach, Handbuch der Naturgeschichte, ed. 1 (1779), §. 3.\n",
      "\n",
      "Nächst Ernährung und Wachsthum war die dritte Bestimmung der organisirten K. die ihres gleichen zu zeugen (§. 9.). Zu diesem Geschäfte werden sie aber erst in einem bestimmten Alter tüchtig, und vollziehen es alsdann auf sehr verschiedne Weise. Bey den mehresten ist jedes Individuum für sich im Stande, sein Geschlecht fortzupflanzen; bey den übrigen hingegen müssen sich immer ihrer zwey, der eine männlichen, der andre weiblichen Geschlechts, mit einander begatten, wenn sie neue organisirte K ihrer Art hervorbringen sollen. Die mannichfaltigen Arten der Vermehrung lassen sich doch füglich unter folgende vier Classen bringen I. Cl. Jedes Individuum vermehrt sich auf die einfachste Weise, ohne vorhergegangne Befruchtung: entweder durch Theilung wie manche Infusions-Thiergen; oder durch Sprossen wie die Arm-Polypen und viele Gewächse; oder so, daß das junge in eine Hülse (Ey der Thiere, Saame der Pflanzen) eingeschlossen ist, die der alte organisirte K. von sich giebt, u. s. w II. Cl. Jedes Individuum enthält dergleichen Hülsen; die aber bey den Pflanzen erst mit Blumen-Staub, und bey den Thieren mit männlichem Saamen, (der doch ebenfalls bey jedem organisirten Körper dieser Art vorräthig liegt) begossen werden müssen, ehe sich ein junges daraus entwickeln kann. Dies ist der Fall bey den mehresten Pflanzen, und bey wenigen Thieren, wie beym Kiefenfuß III. Cl.\n",
      "Metadata: J.F.Blumenbach, Handbuch der Naturgeschichte, ed. 1 (1779), §. 18.\n",
      "\n",
      "Allen Instinct eines Thiers, seine ganze Lebensart, Handlungen, Aufenthalt, Charakter Oekonomie u. s. w. begreift man unter dem allgemeinen Namen von Naturell. Jede Gattung von Thieren hat, nach der Verschiedenheit aller dieser Dinge, und nach ihrer besondern Bestimmung, auch ihr verschiednes, eignes Naturell, was nach der weisen Einrichtung des Ganzen, seine eben so bestimmten Grenzen und Richtung hat. In dessen kann doch der Mensch durch den Gebrauch seiner Vernunft, die ihn zum Herrn der übrigen Schöpfung macht, nach seiner Willkür ungemein viel am Naturell der Thiere abändern, so daß wir uns keines der oben genannten Stücke entsinnen, was nicht Menschenkunst an diesen oder jenen Thieren gleichsam umzuschaffen vermocht hätte. Der Mensch hat sich ganze Gattungen anderer Thiere unterjocht, sie aus der Wildnis genommen, und zu Hausthieren gemacht. Er hat Elephanten und Raubthiere gebändigt, und zu seinen Diensten oder zu seiner Belustigung abgerichtet; hat Spinnen gezähmt, Adler und Seemöven an blosses Brod gewöhnt; und hat die Antipathie der Thiere zu dämpfen, und Hunde, Katzen Mäuse, Sperlinge ꝛc. zu gemeinschaftlichen Tischgenossen zu machen gewußt.\n",
      "Metadata: J.F.Blumenbach, Handbuch der Naturgeschichte, ed. 1 (1779), §. 38.\n",
      "\n",
      "Vom Nutzen der Gewächse können wir nur etwas weniges vom allerwichtigsten ausheben, denn wie ließe sich die Erzählung aller ihre zahllosen und mannichfaltigen Brauchbarkeit in die Schranken, die wir beobachten müssen, zusammen pressen. Die beiden allerallgemeinsten und größten Bestimmungen der Pflanzen überhaupt sind wohl, den Totaleindruck der Schöpfung schön zu machen, und dann die Luft zu reinigen Aller übrige Schmuck der Natur sowohl im Thierreich als unter den Mineralien ist weit mehr versteckt, wird erst bey näherer Beleuchtung sichtbar, und ist überhaupt weit minder allgemein verbreitet, da hingegen die Gewächse mit ihren heitern abwechselndeln Farben die ganze Erde decken, und in der Nähe und Ferne überall Leben und Munterkeit, und grossentheils auch durch die feinsten balsamischen Gerüche Erquickung verbreiten. Wie kräftig aber die Luft durch die Gewächse gereiniget werde, hat man noch neuerlich durch überaus scharfsinnige Versuche erwiesen, da verschiedene Sumpfpflanzen (vc. Epilobium hirsutum) in artificieller verdorbener unreiner Luft nur um so besser aufgewachsen, aber auch dadurch diese Luft in kurzen von ihren schädlichen Dünsten, womit sie geschwängert war, befreyt und gereinigt worden. Ein grosser Theil der in der Erde vermodernden Wurzeln, des abgefallenen Laubes ꝛc. dient zum Dünger und erhält die Fruchtbarkeit des Bodens.\n",
      "Metadata: J.F.Blumenbach, Handbuch der Naturgeschichte, ed. 1 (1780), §. 216.\n",
      "\n",
      "Alle Dinge, die sich auf, und in unsrer Erde finden, zeigen sich entweder in derselben Gestalt, in welcher sie aus der Hand der Natur gekommen; oder so, wie sie durch Menschen oder Thiere, zu bestimmten Absichten, oder auch durch bloßen Zufall verändert und gleichsam umgeschaffen worden sind. Auf diese Verschiedenheit gründet sich die bekannte Eintheilung aller Körper in natürliche (naturalia), und durch Kunst verfertigte (artefacta). Die erstern machen den Gegenstand der Naturgeschichte aus, und man belegt alle Körper mit dem Namen der Naturalien, die nur noch keine wesentliche Veränderung durch Menschenhände erlitten haben; Da hingegen die mehresten von denen so der Zufall umgeändert hat, und beyläufig auch diejenigen so durch die Thiere nach ihren Trieben und zu Stillung ihrer Bedürfnisse verändert und umgebildet worden, mit unter den Naturalien begriffen werden. Artefacten werden sie blos alsdann, wenn der Mensch wesentliche Veränderungen mit ihnen vornimt. Man rechnet z. B. die schwammichte Rinde einer Art Maulbeerbäume (Morus papyrifera) oder die äussere Schaale einer Cocosnuß doch zu den Naturalien, wenn gleich beyde durch Menschen vom Stamme oder von der Nuß, die sie umkleideten, abgelöst worden. Die dadurch mit ihnen vorgenommene Veränderung ist nicht Wesentlich genug, um sie deshalb zu Artefakten zu machen.\n",
      "Metadata: J.F.Blumenbach, Handbuch der Naturgeschichte, ed. 1 (1779), §. 1.\n",
      "\n",
      "Die besondern Theile der Pflanzen und ihre Geschäfte lassen sich am südlichsten nach den allgemeinen Bestimmungen aller organisirten Körper (§. 9.) in die zur Ernährung und in die zur Fortpflanzung gehörigen, abtheilen Von jenen zuerst.\n",
      "Metadata: J.F.Blumenbach, Handbuch der Naturgeschichte, ed. 1 (1780), §. 174.\n",
      "\n",
      "Der vorige Abschnitt lehrte, was Thiere und Pflanzen als organisirte Körper mit einander gemein haben. Der gegenwärtige soll nun die Eigenschaften behandeln, die den Thieren allein zukommen, und wodurch sie sich von den Gewächsen auszeichnen.\n",
      "Metadata: J.F.Blumenbach, Handbuch der Naturgeschichte, ed. 1 (1779), §. 24.\n",
      "\n",
      "So verschieden die Gestalten sind, unter denen sich die Metalle zeigen, so lassen sie sich doch am kürzesten auf zwey Hauptgattungen zurück bringen. Entweder nemlich finden sich die Erzte gediegen (metallum nudum s. natiuum) d. h in aller ihrer wahren metallischen Substanz und Ansehen, so daß sie ohne weitere Scheidung u. s. w sogleich verarbeitet werden könnten; oder aber vererzt, (mineralisatum) so daß ihnen der Mangel eines ihrer eigenthümlichen Bestandtheile, oder die innige Beymischung einer fremden Säure von Schwefel u. s. w. mehr oder weniger von ihrem eigentlichen Ansehen benimmt, ihre Gestalt verändert ꝛc.\n",
      "Metadata: J.F.Blumenbach, Handbuch der Naturgeschichte, ed. 1 (1780), §. 243.\n",
      "\n",
      "Der Aufenthalt der Insecten ist weit unbeschränkter, als der von irgend einer andern Thierclasse. Sie sind so zu sagen in allen Elementen verbreitet: man wird keine Spanne breit Erdreich untersuchen können, ohne Spuren von Insecten zu finden: es sind fast auf allen Thieren ohne Ausnahme, auf allen Pflanzen, welche anzutreffen, und sie machen gleichsam eine unsichtbare Welt für sich aus, die zwischen die ganze übrige organisirte Schöpfung eingeschoben ist. So allgemein aber die Insecten, im Ganzen genommen, über die ganze Erde verbreitet sind, so streng ist doch dagegen einer jeden einzelnen Gattung ihr besonderer eingeschränkter Aufenthalt auf bestimmten Thieren oder Pflanzen, und deren einzelnen Theilen angewiesen: so wie auch manche sich sogar nur in einer gewissen Jahrszeit oder Tagszeit am gleichen Orte aufhalten, und nachher Insecten andrer Art Platz machen müssen: so daß kein Thier das andere in den Geschäften stören darf, die ihm zu seiner eignen Erhaltung oder zum Wohl des Ganzen von der Hand des Schöpfers übertragen sind.\n",
      "Metadata: J.F.Blumenbach, Handbuch der Naturgeschichte, ed. 1 (1779), §. 138.\n",
      "\n",
      "The prompt as passed to the model:\n",
      "\n",
      "text=\"You are a historian analysing a primary historical SOURCE, which is an eighteenth-century textbook on natural history by J. F. Blumenbach. First, generate a few sentences about historical hermeneutics. Then, follow the INSTRUCTION.\\nINSTRUCTION: Identify incoherencies or contradictions in the SOURCE. If there are none, report it.\\nSOURCE: Der gegenwärtige Abschnitt betrift allerdings eine eben so wichtige als anmuthige Untersuchung nemlich die allgemeine Naturgeschichte der Gewächse, die wir so viel möglich in der gleichen Ordnung abfassen wollen, die oben in der allgemeinen Thiergeschichte befolgt worden ist, damit beide desto leichter mit einander verglichen und die Aehnlichkeit oder Abweichung dieser zweyerley Arten von organisirten Körpern um so deutlicher ersehen Werden kan.\\n\\n1. Geschl. homo. Animal rationale, loquens erectum, bimanum. 1. Gatt. sapiens. Der Mensch wird durch so merkwürdige Eigenschaften des Geistes und des Körpers von der ganzen übrigen thierischen Schöpfung ausgezeichnet, daß er bey weitem nicht blos in einem eignen Geschlecht, sondern allerdings in einer besondern Ordnung, von ihr abgeschieden werden muß. Er hat ausser dem Begattungstrieb wenig Spuren von Instinct Kunsttriebe aber, daß er sich, wie tausend andere Thiere, ohne Unterricht und ohne Nachsinnen aus blossem innern Drange, Wohnungen, Netze für seinen Raub u. s. w. verfertigen könnte, hat er gar nicht. Der Schöpfer hat ihn für diese Mangel durch den Gebrauch der Vernunft entschädiget, die ihm allein ausschließlich, und keinem andern Thiere zukommt, und wodurch er alle seine grossen Bestimmungen besser erfüllen seine endlosen Bedürfnisse passender befriedigen kann, als wenn er selbst die Kunsttriebe mehrerer Thiere in sich vereinte. Eine directe Folge der Vernunft, mithin ein abermaliges Eigenthum der Menschheit, ist die Rede oder Sprache (Loquela), die nicht mit der Stimme (vox) der Thiere verwechselt werden darf.\\n\\nAber alles dies herzlich gerne zugegeben, dürfen doch die Leitern und Ketten, der guten Sache der bestimmten Naturreiche, und der Classification der Naturalien, bey weitem keinen Eintrag thun Die passendste Allegorie kann matt werden, kann in eine Spielerey ausarten, wenn sie zu weit getrieben wird. Und das ist in der That bey den eben angeführten zu befürchten. Es ist unterhaltend, es ist, wie wir so eben selbst gesagt haben, nutzbar, wenn der Naturforscher die Creaturen nach ihrer nächsten Verwandschaft unter einander ordnet, an einander kettet u. s. w Aber es scheint uns von der andern Seite eine schwache, und der Allweisheit des Schöpfers unanständige Behauptung, wenn man im Ernste annehmen wollte, daß auch Er bey der Schöpfung einen solchen allegorischen Plan befolgt, und die Vollkommenheit seiner großen Handlung darein gesetzt hätte, daß er seinen Creaturen alle ersinnliche Formen gäbe, und sie folglich vom obersten bis zum untersten ganz regelmäßig stufenweis auf einander folgen liesse. Man würde lächeln, wenn jemand den Vorzug bey der Einrichtung eines Hauses darinn suchte, daß die Meublen darinne alle von verschiedner Gestalt oder Größe wären, und sich auch, so wie die angebliche Kette der natürlichen Körper, unter eine gleiche Stufenfolge bringen liessen. Die Vollkommenheit in der große Haushaltung der Mutter-Natur ist, so wie bey der kleinsten Oekonomie einer Familie, in ganz andern Vorzügen zu suchen.\\n\\nDie Spiritualisten haben die Seele zum Baumeister ihres Körpers machen wollen, Büffon hat sich innere Modelle im alten organisirten Körper ersonnen, von welchen der Grundstoff des neuen, Abdrücke nehmen sollte; Herr Casp. Fr. Wolff hat zu seinem scharfsinnigen System eine gewisse vis essentialis aufgenommen der er diese allmählige Ausbildung überträgt u s. w. Die Theorie der Evolution hingegen nimmt an, daß in dem rohen Urstoff nicht erst ein Theil nach dem andern gebildet werde, sondern, daß derselbe den ganzen Keim, den völligen Entwurf des organisirten Körpers in sich fasse, daß folglich alle Keime der organisirten Körper in ihren Vorfahren bis zur ersten Schöpfung hinauf gleichsam eingeschachtelt, und in einen unthätigen Schlaf versenkt gelegen hätten und daß diese Keime bey der Befruchtung durch den Reiz des männlichen Saamens nur ermuntert, und so zu ihrer fernern Entwickelung angetrieben würden.\\n\\nDie Ausbildung dieses Grundstoffs zu erklären, ist man zwey Wege eingeschlagen, die beyde von sehr großen Männern betreten worden sind, deren jeder den seinigen zu verfechten und die Richtigkeit des andern zu bestreiten, getrachtet hat. Diese Wege sind die, in der neuern Philosophie so berühmt gewordnen, Theorien der Epigenese und der Evolution. Die Epigenese lehrt, daß der rohe Grundstoff (§. 10.) \\nnach der Empfängnis oder Befruchtung allmählig ausgebildet, und ein Theil des organisirten Körpers nach dem andern geformt würde Diese allmählige Bildung wahrscheinlich zu machen, haben ihre Anhänger allerhand Kräfte angenommen, die dieses Geschäfte bewürken sollten. Die Spiritualisten haben die Seele zum Baumeister ihres Körpers machen wollen, Büffon hat sich innere Modelle im alten organisirten Körper ersonnen, von welchen der Grundstoff des neuen, Abdrücke nehmen sollte; Herr Casp. Fr.\\n\\nAndere berühmte Männer haben, zumal ganz neuerlich, die Gränzen zwischen Thier- und Pflanzen-Reich gänzlich aufzuheben getrachtet; indem sie sich auf organisirte Körper bezogen haben die gleich viel Anspruch auf thierische und Pflanzen-Natur machen könnten, die folglich mit Unrecht zu einem organisirten Reiche insbesondere gezählt würden, sondern die das Band zwischen beyden, und einen unmerklichen Uebergang vom einen zum andern, abgäben. Allein diese Einwürfe verschwinden, sobald man sich über die Eigenschaften vergleicht, die man zu einem Thier oder zu einer Pflanze erfodert. Wir haben uns erklärt, was wir für Begriffe mit Animalität oder Vegetabilität verbinden, und so ist unserm Bedünken nach alle Zweydeutigkeit und Ungewißheit über diese Punkte gehoben. Der Polype läßt sich durch Zweige fortpflanzen, wie eine Weide; aber muß er nun deswegen gleich zur Pflanze, oder doch zum Mittelding zwischen ihr und einem Thiere gemacht werden? Er verschlingt seine Würmchen durch eine große Oeffnung die an seinem Körper ist, und zieht seine Nahrung nicht durch Wurzelzäserchen in sich; er hat willkürliche Bewegung, so gut als irgend ein Thier des Erdbodens; und das ist uns genug, um ihm seine Animalität zu vindiciren und zu behaupten, daß er mit gleich wenig Recht Pflanze oder Stein genannt werden dürfe.\\n\\nZuerst etwas vom Ursprung der Mineralien, nemlich von den Hauptwegen, wodurch sie theils vor Zeiten mit einemmal entstanden sind, und theils nach und nach und noch immerfort entstehen. Um jene aufzuklären, müssen wir nothwendig auf den Ursprung unsrer Erde selbst zurück gehen: eine Untersuchung, bey der man sich freylich immer einige gewagte Muthmassungen wird erlauben müssen: doch wollen wir uns nicht dem Flug der kühnen Männer überlassen, die Kometen und ausgebrannte Sonnen zum Bau ihres Erdsystems aufgebothen haben sondern unsere bescheidnere Meinung vortragen auf die wir zuerst durch die Untersuchung der Versteinerungen, und durch ihre Vergleichung und gefundene Unähnlichkeit mit den gegenwärtigen organisirten Körpern und dann durch die Beobachtung einiger ehemaligen Vulcane gebracht worden sind, und die uns zwar immer noch eine Hypothese, aber doch eine solche Hypothese zu seyn scheint, die sich der Natur und dem Augenschein ziemlich leicht und schicklich anpassen läßt.\\n\\nchaos. Corpus liberum, simplex, generi polymorphon, speciebus uniforme Wir fassen mit Linné, zum Beschluß der ganzen Thiergeschichte unter diesen Geschlechtsnamen die zallosen meist dem blosen Auge unsichtbaren Geschöpfe zusammen, die sich in faulenden Säften, und eingebeizten Theilen andrer Thiere und der Gewächse zeigen. Es wäre wider den Zweck eines Handbuchs, dem Fleis der gedultigen Männer zu folgen, die auch diese Thiergen in ein besondres System gebracht haben. Fast in allen faulen Säften finden sich sogenannte Infusionsthiergen, ob es schon nicht gegründet ist, daß alle Infusionen verschiedner Art auch ihre verschiednen Thiergen hervorbrächten, oder daß der Staub der Pilze oder der Brand im Getraide zu dergleichen Thiergen belebt würde. Hingegen ist es allerdings richtig, daß sie von auserordentlicher Dauer sind, daß sie der Hitze des siedenden Wassers und der Dürre widerstehen können, daß man z. B. im Aufguß von gebranntem Kaffee doch die bestimmten Thiergen, und im aufgeweichten Kleister von alten Bücherbänden doch die kleinen Aale erblickt. Auch im luftleeren Raume können sie mehrere Wochen hindurch ausdauern aber der elektrische Funke macht sie zerschmelzen Meist vermehren sie sich durch Theilung: doch gebären auch manche lebendige Junge, und einige legen Eyer.\\n\\nDas machts, daß die Schöpfung ihren Gang geht und daß noch kein Weiser, irgend einer Zeit oder eines Volks, in ihr eine Lücke hat antreffen können. Kette der Natur, die suchen wir nicht in der gradativen Bildung ihrer Körper, nicht darinn, daß der eine, Thier und Pflanze, und ein andrer Pflanze und Stein verknüpfen soll; sondern in den angewiesenen Geschäften der Glieder dieser Kette, wie Glied und Glied nicht nach ihrer Form, sondern nach ihrer Bestimmung in einander greifen u. s. w. Bey dem ewigen Cirkel von unermeßlich weiser Einrichtung, da die Pflanzen ihre Nahrung aus der Erde ziehn, und nachher Menschen und Thieren, und ein Thier dem andern, zur Nahrung dienen, und da am Ende Menschen und Thiere und Pflanzen wieder zur Erde werden; bey diesem großen Cirkel braucht die Vernunft keine Bindungsglieder vorauszusetzen, die diese Geschöpfe so verschiedner Art in Rücksicht ihrer Bildung verknüpfen müßte; so wie uns auch die Erfahrung bis jetzt noch keine natürliche Körper kennen gelehrt hat, die mit Recht auf den Namen solcher Bindungsglieder zwischen den drey Naturreichen Anspruch machen dürften. \\n\\n[Abbildung ]\\n\\nEs scheint beym Vortrag der N. G. ziemlich willkürlich, ob man die unorganisirten oder die organisirten Körper zuerst abhandle. Doch dünkt es uns schicklicher, mit dem Menschen, und den ihm zunächst verwandten Thieren anzufangen, dann zu den übrigen organisirten Körpern fortzuschreiten, und mit dem Mineral Reich zu beschliessen. Was ein organisirter Körper im Gegensatz vom unorganisirten, vom Mineral sey, haben wir oben (§. 2.) bestimmt. Jetzt müssen wir die allgemeinen Eigenschaften dieser Körper, die Eigenschaften, die der Mensch und die Käse-Milbe, die Ceder und der Schimmel mit einander gemein haben, näher beleuchten.\\n\\nDiese sehr faßliche Eintheilung der natürlichen Körper in organisirte und unorganisirte (§. 2.), und der organisirten wieder unter sich (§. 3.), ist nun der Grund der bekannten drey Reiche, worein man alle Naturalien sehr schicklich classificirt hat, und wovon das erste die Thiere, das zweyte die Pflanzen, das dritte die Mineralien begreift. Die Thiere sind, nach dem was oben gesagt worden, organisirte Körper, die erstens willkührliche Bewegung besitzen und zweytens ihre Alimente durch den Mund in den Magen bringen, wo der nahrhafteste Extract davon abgesondert und zur Nutrition verwandt wird. Die Pflanzen sind zwar ebenfalls organisirte Körper, denen aber die willkührliche Bewegung gänzlich mangelt, und die zweytens ihren Nahrungssaft durch Wurzeln einsaugen, nicht so wie die Thiere ihre Speisen durch eine besondere einfache Oefnung zu sich nehmen Die Mineralien endlich sind unorganisirte Körper, die blos dadurch entstehen, daß einfache Theile durch Ansatz von aussen zusammen gehäuft, und mit einander verbunden werden ohne daß sie die mindste Nahrung, weder durch einen Mund wie die Thiere, noch durch Wurzeln wie die Pflanzen, in sich bringen, und so ihr Wachsthum durch innige Aneignung bewirken könnten.\\n\\nJeder organisirte Körper entsteht, lebt und stirbt ab. Das sind die drey großen Revolutionen, welche die Exsistenz eines jeden Thiers oder jeder Pflanze unumgänglich voraussetzt, sie mögen nun wie der Baobab (Adansonia) und die Eiche ein Alter von Jahrtausenden erreichen, oder wie mancher Schimmel alle diese Rollen in wenigen Tagen absolviren; und wenn sie auch selbst in der Geburt erstickt wären, so setzt doch ihr augenblickliches Daseyn Entstehung, Leben und Tod voraus; die man sich als eben so verschiedne Epochen oder Revolutionen ihrer Exsistenz denken muß. Jedes Thier und jede Pflanze haben von der andern Seite auch drey große Bestimmungen, die sie schon als organisirte Körper, ohne Rücksicht auf ihre übrigen Funktionen, und auf den Beytrag den sie zur Vollkommenheit des Ganzen thun, erfüllen müssen; nemlich: sich nähren, wachsen und ihres gleichen zeugen. Die beyden ersten sind eben so absolut als jene Revolutionen nur die dritte ist conditional. Das Leben eines organisirten Körpers mag noch so kurz, noch so augenblicklich seyn, so hätte es doch nicht ohne Nahrung dauren können, und diese Ernährung hat Wachsthum zur Folge, sollte dies auch gleich noch so unmerklich gewesen seyn; die dritte Bestimmung hingegen, oder die Fähigkeit seines gleichen zu zeugen, kommt dem organisirten Körper nur bedingungsweise zu.\\n\\nDie Holzzasern, die die Wespen zu ihrem Nesterbau verarbeiten, werden auch selbst in dieser Gestalt, nach einer sehr wesentlichen Veränderung mit zu den Naturalien gezählt: da hingegen die Papier-Proben, die man auf ähnliche Weise in neuern Zeiten aus Holzspänen verfertigt hat ohne Widerrede Artefakten heisen. Diese Verschiedenheit zwischen so verwandten Produkten reducirt sich blos darauf, daß das eine durch Wespen, das andere durch Menschenhände verfertigt worden. So faßlich indeß diese Hintheilung aller Körper scheint, so wenig hält sie doch eine strengere Analyse aus. Es lassen sich eben so wenig absolute Grenzen zwischen Natur und Kunst bestimmen, als irgend eine Logik des Erdbodens das relative in den Begriffen von wesentlich und zufällig, worauf doch im gegenwärtigen Fall so vieles ankommt, aufzuheben, und eine Scheidewand zwischen beyden festzusetzen, vermocht hat. Nichts desto weniger wird man sich aber auch sehr leicht und der ganzen Eintheilung unbeschadet, über den Gesichtspunkt vergleichen können, aus welchem man diesen oder jenen zweydeutigen Körper ansehen will, und nach welchem er etwa mehr Anspruch auf Natur oder auf Kunst machen könnte.\\n\\nDie Entstehung der organisirten Körper ist, alles des großen Lichtes, was die Bemühungen der Neuern darüber verbreitet haben, ohngeachtet, eine der schwierigsten Lehren der Physiologie. Wo der erste Grundstoff eines jeden Thiers und jeder Pflanze hervorkomme, und durch was für Kräfte dieser Stoff nachher ausgebildet werde, sind beydes Probleme, deren Auflösung bis jetzt immer noch mit vieler Dunkelheit bedeckt ist. Den ersten Stoff oder die Grundtheile des organisirten Körpers haben fast alle Alten, und neuerlich auch Büffon u. a.m aus der Vermischung des männlichen Saamens mit dem weiblichen (dessen Exsistenz aber noch nicht einmal erwiesen ist) hergeleitet Nachdem aber Ludwig von Hammen aus Danzig, im August 1677. zuerst die Würmgen im männlichen Saamen entdeckt hatte, so glaubten Leeuwenhöck, Börhaave, Chr. Wolff u. a. den ersten Stoff eben in diesen Saamen-\\nThiergen zu finden. Allein sie haben neuerlich sehr viel von ihrem Ansehen verlohren nachdem man sie in vielen männlichen Thieren vermißt, und hingegen in tausend andern faulichten Säften ausser lebendigen Körpern, ähnliche Würmgen (Infusions-Thiergen) vorgefunden hat. Andere berühmte Männer haben endlich nach den Erfahrungen über den Eyerstock der unbefruchteten Vögel, die Grundtheile der organisirten Körper im weiblichen Ey gesucht Besonders hat Herr von Haller aus diesen Erfahrungen Schlüsse gefolgert, die diese Lehre bey weitem mehr als blos wahrscheinlich machen.\\n\\nDas Leben eines organisirten Körpers mag noch so kurz, noch so augenblicklich seyn, so hätte es doch nicht ohne Nahrung dauren können, und diese Ernährung hat Wachsthum zur Folge, sollte dies auch gleich noch so unmerklich gewesen seyn; die dritte Bestimmung hingegen, oder die Fähigkeit seines gleichen zu zeugen, kommt dem organisirten Körper nur bedingungsweise zu. Denn erstens giebt es ganz ungezweifelt Thiere, die gebohren werden, sich nähren, wachsen, alle Rollen ihres Lebens ganz natürlich spielen, und am Ende wieder absterben, ohne auch nur den Beruf oder die Fähigkeit zu haben, diese dritte Bestimmung eines organisirten Körpers zu erfüllen: wohin z. B. die Arbeitsbienen gehören. Zweytens aber wird auch das Zeugungs-Geschäfte, bey denen organisirten Körpern die alle Fähigkeiten dazu besitzen, doch nur in einem bestimmten Alter ihres Lebens vollzogen, dahingegen Ernährung und Wachsthum (letzteres nemlich im weitläuftigen Sinn genommen) lebenswierig dauern Die also vor dem bestimmten Alter absterben können diese Bestimmung gar nie erfüllen, und die es überleben, sind auch nachher unvermögend dazu. Drittens endlich, so kommen, zumal bey den Thieren, des behörigen Alters und der Fähigkeit ohngeachtet, doch oft zufällige Ursachen hinzu, die sie dennoch zur Ausübung dieses Berufs unfähig machen.\\n\\nDie erste und bey weiten ansehnlichste Classe begreift alle Mineralien, die sich weder wie die Salze in Wasser, noch wie die Erdharze in Oel auflösen, auch sich nicht wie die Erzte ohne zu zerspringen, hämmern und breit schlagen lassen. Die ältern Mineralogen haben die Erden und Steine von einander abgesondert und in zwey besondere Classen zertheilt. Allein der beständigen Wiederholungen zu geschweigen die bey dieser Absonderung unvermeidlich sind so beruht überhaupt der ganze Unterschied auf der sehr unbestimmten blos relativen Cohäsion die, wenn sie locker ist, Erden, und wenn sie feste wird, Steine constituiren soll.\\n\\nZum Wachsthum der organisirten K. gehört auch ihre Reproduktion, oder die merkwürdige Eigenschaft, daß sich verlohrne Theile ihres Körpers von selbst wieder ersetzen. Sie gehört zu den weisesten Einrichtungen in der Natur, und sichert die Thiere und die Pflanzen bey tausend Gefahren, wo ihr Körper verletzt wird: sie ist folglich auch einer der grösten Vorzüge, wodurch die Maschinen aus der Hand des Schöpfers bey weitem über die grösten Kunstwerke der Menschen erhoben werden. Die Automaten von Vaucanson und den beyden Jaquet Droz, die in der That alles übertreffen was menschliche Kunst in der Art noch hervorgebracht hat, müssen doch darinn jedem natürlich organisirten Körper nachstehen, daß ihnen ihr Künstler keine Kraft mittheilen kann, ihre Triebfedern und Räder, wenn sie verstümmelt und abgenutzt würden, von selbst wieder zu restituiren: eine Kraft, die hingegen jedem Thier und jeder Pflanze, nur in verschiedenem Maaße, beywohnt. Manche organisirte K. verlieren zu gewissen Zeiten, Theile ihres Körpers von freyen Stücken, die ihnen nachher wieder reproducirt werden; wohin das Abwerfen der Geweihe das Mausern der Vögel, und das Entblättern der Pflanzen gehört. Aber ausser dem werden ihnen auch Theile ersetzt, die durch Zufall verlohren oder verstümmelt werden; eine Eigenschaft die man an den Pflanzen vorlängst bemerkt hat und auf die man, zumal nach Trembley's Erfahrungen an den Polypen, nun auch im ganzen Thierreich attent worden ist.\\n\\nAber das ist eine andere Frage ob wir nicht zuweilen auf organisirte Körper stossen, deren Eigenschaften noch so wenig entwickelt sind, daß man balanciren muß, zu welchem von beyden Reichen man sie rechnen soll Von der Art sind in unsern Augen die Wasserschwämme (Spongiae) und die Landschwämme\\n(Fungi). Es scheint uns leichter gesagt als erwiesen, daß jenes Thiere, dies Pflanzen seyn sollen. Hierzu aber würden wir des berühmten und ungemein verdienten Landdrosten von Münchhausen Mittel-Reich (Regnum neutrum) recipiren. Nicht daß es vermeinte Bindungs-Glieder zwischen beyden organisirten Reichen enthalten solle; sondern daß man die noch nicht genug untersuchten, und pro und contra bestrittenen Körper ad interim dahin deponirte bis ihre Natur durch die Bemühung der Afterwelt näher bestimmt, und ihnen ihr behöriger Platz in einem von beyden organisirten Reichen mit Zuverläßigkeit angewiesen würde.\\n\\nEine directe Folge der Vernunft, mithin ein abermaliges Eigenthum der Menschheit, ist die Rede oder Sprache (Loquela), die nicht mit der Stimme (vox) der Thiere verwechselt werden darf. Auch der Mensch hat Stimme, wie man an den unglücklichen Beyspielen in Wildniß aufgewachsener, oder taubgebohrner Kinder sieht, und wie die unwillkürlichen Töne aus beklemmter Brust, bey Schrecken und in andern heftigen Leidenschaften zeigen Die Sprache aber entwickelt sich erst mit der Vernunft, da denn die Seele ihre erlangten Begriffe, der Zunge zum Aussprechen überträgt. Es giebt eben so wenig ein sprachloses, als ein vernunftloses Volt auf unserer Erde, und wir haben nun die Wörterbücher der Eskimos, der Hottentotten und anderer Nationen, denen die leichtglaubigen Reisenden der alten Zeit die Rede abzusprechen wagten. Zu den körperlichen Eigenschaften des Menschen gehört vorzüglich sein aufrechter Gang und der Gebrauch zweyer Hände, wodurch er, unserm Bedünken nach, selbst vom Menschenähnlichsten Affen zu unterscheiden ist. Moscati's spashafter Ruf an die Menschheit, auf allen vieren zu laufen, wird bey einiger Kenntnis von Anatome comparata blos belächelt. Die breiten Fußsohlen sind zum Auftreten, die Hände zum Fassen und Greifen. Die Affen hingegen haben vier Hände nemlich keine grosse Zehe, sondern an den Hinterfüßen eben sowol einen abstehenden Daumen als an den vordern (§.\\n\\nbey ihnen statt finden könne. Dieses Räsonnement scheint wirklich auf den ersten Blick ganz richtig. Die Idee von Stufenfolge in der Natur ist eben so alt als artig. Wir selbst haben sie von je her für eine der interessantsten Speculationen in der Natürlichen Philosophie gehalten. Sie kann auch sehr wesentlich nutzbar werden. Sie ist, beym Lichte betrachtet der wahre Grund eines natürlichen Systems in der Naturgeschichte, das der große, aber noch meist unbefriedigte Wunsch, aller Naturforscher ist, und nach welchem man die natürlichen Körper nach ihrer grösten Verwandschaft zusammen ordnen, die ähnlichen verbinden, die unähnlichen von einander entfernen soll. Jedes natürliche System sollte eigentlich eine Art Bonnetischer Leiter seyn, und das ganze Studium der Naturgeschichte würde ungemein gewinnen würde gar sehr erleichtert werden, wenn die Systematiker nach diesem Plane arbeiteten, sich weniger willkürliche Charaktere abstrahirten, nach welchen sie die Naturalien rangiren ꝛc. Aber alles dies herzlich gerne zugegeben, dürfen doch die Leitern und Ketten, der guten Sache der bestimmten Naturreiche, und der Classification der Naturalien, bey weitem keinen Eintrag thun Die passendste Allegorie kann matt werden, kann in eine Spielerey ausarten, wenn sie zu weit getrieben wird. Und das ist in der That bey den eben angeführten zu befürchten.\\n\\nKästners Vorrede zum 3ten B. seiner Ueberf. der Schwed Abh. Wie lange die Keime der organisirten Korper in ihren Hülsen (§. 18.) verschlossen ausdauren können, sieht man an Vogeleyern, die noch nach vielen Monaten zum Bebrüten geschickt bleiben; an Getraide-Saamen, die selbst nach einigen Jahrhunderten noch ausgekeimt und aufgewachsen sind ꝛc aber im Wasser auf. Nach Regenwetter kommen sie hanfenweis aus dem Gebüsch hervorgekrochen, und diese Erscheinung mag wol zu der alten Sage von Froschregen Anlaß gegeben hahaben. Sie vermehren sich ungemein stark, so daß sie Landplage werden können, und die Abderiten einst zu Cassanders Zeiten würtlich ihrenthalb emigrirten. Sie sind für die Garten nutzbare Geschöpfe, da sie viel Ungeziefer, Schnechen, Insekten ꝛc. verzehren, aber auch darum unsicher zu essen sind. \\n7. † Esculenta. Der grüne Wasserfrosch. R corpore angulato, dorso transverse gibbo abdomine marginato. * \\nRösel Taf. 13 Leben blos in Teichen und Sümpfen. Die Männchen quaken laut, zumal des Abends bey schönen Wetter, und treiben dabei zwey grosse Blasen aus den Maulwinkeln auf. Sie sind schlau und muthig, so daß sie über weit grössere Thiere Herr werden (§. 100.), und sind ohne Besorgniß zu essen. Zur Begattungszeit bekommen die Männchen von dieser und der vorigen Gattung schwarze warzichte Knollen an den Danwen der Vorderfüsse, womit sie sich äusserst fest um ihrer Weibchen Brust klammern können. \\n8. † Arborea. Der Laubfrosch (Calamites).\\n\\nEndlich sind nun auch die organisirten Körper selbst, theils in der Art wie sie ihre Nahrungsmittel zu sich nehmen, theils in Rücksicht ihrer Bewegung, sehr augenscheinlich verschieden Manche ziehen einen bloßen Saft durch zahlreiche kleine Oefnungen, die sich an einem Ende ihres Körpers befinden, in sich: da hingegen andere eine einfache, aber nach Proportion grössere Oefnung an sich haben, die zu einem geräumlichen Schlauche führt, wohin sie ihre Alimente, die von sehr verschiedner Art sind, bringen die aber alsdann erst noch vielerley Veränderung erleiden müssen, ehe sie zur Nutrition geschickt werden. Diese letztern äussern zudem noch willkürliche oder eigenthümliche Bewegung ihrer Gliedmaßen, die den erstern völlig mangelt. Jenes sind die Pflanzen, dieses die Thiere.\\n\\nNächst Ernährung und Wachsthum war die dritte Bestimmung der organisirten K. die ihres gleichen zu zeugen (§. 9.). Zu diesem Geschäfte werden sie aber erst in einem bestimmten Alter tüchtig, und vollziehen es alsdann auf sehr verschiedne Weise. Bey den mehresten ist jedes Individuum für sich im Stande, sein Geschlecht fortzupflanzen; bey den übrigen hingegen müssen sich immer ihrer zwey, der eine männlichen, der andre weiblichen Geschlechts, mit einander begatten, wenn sie neue organisirte K ihrer Art hervorbringen sollen. Die mannichfaltigen Arten der Vermehrung lassen sich doch füglich unter folgende vier Classen bringen I. Cl. Jedes Individuum vermehrt sich auf die einfachste Weise, ohne vorhergegangne Befruchtung: entweder durch Theilung wie manche Infusions-Thiergen; oder durch Sprossen wie die Arm-Polypen und viele Gewächse; oder so, daß das junge in eine Hülse (Ey der Thiere, Saame der Pflanzen) eingeschlossen ist, die der alte organisirte K. von sich giebt, u. s. w II. Cl. Jedes Individuum enthält dergleichen Hülsen; die aber bey den Pflanzen erst mit Blumen-Staub, und bey den Thieren mit männlichem Saamen, (der doch ebenfalls bey jedem organisirten Körper dieser Art vorräthig liegt) begossen werden müssen, ehe sich ein junges daraus entwickeln kann. Dies ist der Fall bey den mehresten Pflanzen, und bey wenigen Thieren, wie beym Kiefenfuß III. Cl.\\n\\nAllen Instinct eines Thiers, seine ganze Lebensart, Handlungen, Aufenthalt, Charakter Oekonomie u. s. w. begreift man unter dem allgemeinen Namen von Naturell. Jede Gattung von Thieren hat, nach der Verschiedenheit aller dieser Dinge, und nach ihrer besondern Bestimmung, auch ihr verschiednes, eignes Naturell, was nach der weisen Einrichtung des Ganzen, seine eben so bestimmten Grenzen und Richtung hat. In dessen kann doch der Mensch durch den Gebrauch seiner Vernunft, die ihn zum Herrn der übrigen Schöpfung macht, nach seiner Willkür ungemein viel am Naturell der Thiere abändern, so daß wir uns keines der oben genannten Stücke entsinnen, was nicht Menschenkunst an diesen oder jenen Thieren gleichsam umzuschaffen vermocht hätte. Der Mensch hat sich ganze Gattungen anderer Thiere unterjocht, sie aus der Wildnis genommen, und zu Hausthieren gemacht. Er hat Elephanten und Raubthiere gebändigt, und zu seinen Diensten oder zu seiner Belustigung abgerichtet; hat Spinnen gezähmt, Adler und Seemöven an blosses Brod gewöhnt; und hat die Antipathie der Thiere zu dämpfen, und Hunde, Katzen Mäuse, Sperlinge ꝛc. zu gemeinschaftlichen Tischgenossen zu machen gewußt.\\n\\nVom Nutzen der Gewächse können wir nur etwas weniges vom allerwichtigsten ausheben, denn wie ließe sich die Erzählung aller ihre zahllosen und mannichfaltigen Brauchbarkeit in die Schranken, die wir beobachten müssen, zusammen pressen. Die beiden allerallgemeinsten und größten Bestimmungen der Pflanzen überhaupt sind wohl, den Totaleindruck der Schöpfung schön zu machen, und dann die Luft zu reinigen Aller übrige Schmuck der Natur sowohl im Thierreich als unter den Mineralien ist weit mehr versteckt, wird erst bey näherer Beleuchtung sichtbar, und ist überhaupt weit minder allgemein verbreitet, da hingegen die Gewächse mit ihren heitern abwechselndeln Farben die ganze Erde decken, und in der Nähe und Ferne überall Leben und Munterkeit, und grossentheils auch durch die feinsten balsamischen Gerüche Erquickung verbreiten. Wie kräftig aber die Luft durch die Gewächse gereiniget werde, hat man noch neuerlich durch überaus scharfsinnige Versuche erwiesen, da verschiedene Sumpfpflanzen (vc. Epilobium hirsutum) in artificieller verdorbener unreiner Luft nur um so besser aufgewachsen, aber auch dadurch diese Luft in kurzen von ihren schädlichen Dünsten, womit sie geschwängert war, befreyt und gereinigt worden. Ein grosser Theil der in der Erde vermodernden Wurzeln, des abgefallenen Laubes ꝛc. dient zum Dünger und erhält die Fruchtbarkeit des Bodens.\\n\\nAlle Dinge, die sich auf, und in unsrer Erde finden, zeigen sich entweder in derselben Gestalt, in welcher sie aus der Hand der Natur gekommen; oder so, wie sie durch Menschen oder Thiere, zu bestimmten Absichten, oder auch durch bloßen Zufall verändert und gleichsam umgeschaffen worden sind. Auf diese Verschiedenheit gründet sich die bekannte Eintheilung aller Körper in natürliche (naturalia), und durch Kunst verfertigte (artefacta). Die erstern machen den Gegenstand der Naturgeschichte aus, und man belegt alle Körper mit dem Namen der Naturalien, die nur noch keine wesentliche Veränderung durch Menschenhände erlitten haben; Da hingegen die mehresten von denen so der Zufall umgeändert hat, und beyläufig auch diejenigen so durch die Thiere nach ihren Trieben und zu Stillung ihrer Bedürfnisse verändert und umgebildet worden, mit unter den Naturalien begriffen werden. Artefacten werden sie blos alsdann, wenn der Mensch wesentliche Veränderungen mit ihnen vornimt. Man rechnet z. B. die schwammichte Rinde einer Art Maulbeerbäume (Morus papyrifera) oder die äussere Schaale einer Cocosnuß doch zu den Naturalien, wenn gleich beyde durch Menschen vom Stamme oder von der Nuß, die sie umkleideten, abgelöst worden. Die dadurch mit ihnen vorgenommene Veränderung ist nicht Wesentlich genug, um sie deshalb zu Artefakten zu machen.\\n\\nDie besondern Theile der Pflanzen und ihre Geschäfte lassen sich am südlichsten nach den allgemeinen Bestimmungen aller organisirten Körper (§. 9.) in die zur Ernährung und in die zur Fortpflanzung gehörigen, abtheilen Von jenen zuerst.\\n\\nDer vorige Abschnitt lehrte, was Thiere und Pflanzen als organisirte Körper mit einander gemein haben. Der gegenwärtige soll nun die Eigenschaften behandeln, die den Thieren allein zukommen, und wodurch sie sich von den Gewächsen auszeichnen.\\n\\nSo verschieden die Gestalten sind, unter denen sich die Metalle zeigen, so lassen sie sich doch am kürzesten auf zwey Hauptgattungen zurück bringen. Entweder nemlich finden sich die Erzte gediegen (metallum nudum s. natiuum) d. h in aller ihrer wahren metallischen Substanz und Ansehen, so daß sie ohne weitere Scheidung u. s. w sogleich verarbeitet werden könnten; oder aber vererzt, (mineralisatum) so daß ihnen der Mangel eines ihrer eigenthümlichen Bestandtheile, oder die innige Beymischung einer fremden Säure von Schwefel u. s. w. mehr oder weniger von ihrem eigentlichen Ansehen benimmt, ihre Gestalt verändert ꝛc.\\n\\nDer Aufenthalt der Insecten ist weit unbeschränkter, als der von irgend einer andern Thierclasse. Sie sind so zu sagen in allen Elementen verbreitet: man wird keine Spanne breit Erdreich untersuchen können, ohne Spuren von Insecten zu finden: es sind fast auf allen Thieren ohne Ausnahme, auf allen Pflanzen, welche anzutreffen, und sie machen gleichsam eine unsichtbare Welt für sich aus, die zwischen die ganze übrige organisirte Schöpfung eingeschoben ist. So allgemein aber die Insecten, im Ganzen genommen, über die ganze Erde verbreitet sind, so streng ist doch dagegen einer jeden einzelnen Gattung ihr besonderer eingeschränkter Aufenthalt auf bestimmten Thieren oder Pflanzen, und deren einzelnen Theilen angewiesen: so wie auch manche sich sogar nur in einer gewissen Jahrszeit oder Tagszeit am gleichen Orte aufhalten, und nachher Insecten andrer Art Platz machen müssen: so daß kein Thier das andere in den Geschäften stören darf, die ihm zu seiner eignen Erhaltung oder zum Wohl des Ganzen von der Hand des Schöpfers übertragen sind. \"\n"
     ]
    }
   ],
   "source": [
    "topic = \"scientific discussion\"\n",
    "instruction = \"Identify incoherencies or contradictions in the SOURCE. If there are none, report it.\"\n",
    "inference = chain.invoke({\"topic\": topic, \"instruction\": instruction})"
   ]
  },
  {
   "cell_type": "code",
   "execution_count": 85,
   "id": "b06dd171",
   "metadata": {},
   "outputs": [
    {
     "name": "stdout",
     "output_type": "stream",
     "text": [
      "================================== Ai Message ==================================\n",
      "\n",
      "Historical hermeneutics is the study of how historical texts are interpreted and understood in their historical context. It involves analyzing the language, structure, and content of primary sources to uncover the meaning and significance of the text within its historical setting. By examining the primary historical SOURCE, one can identify incoherencies or contradictions that may exist within the text, shedding light on the historical context in which the source was created.\n",
      "\n",
      "In the eighteenth-century textbook on natural history by J. F. Blumenbach, there are several incoherencies and contradictions present. One such contradiction is the discussion of the classification of natural bodies into naturalia and artefacta. The text mentions that artefacta are created through human intervention, yet includes examples such as the bark of a mulberry tree or the outer shell of a coconut as naturalia, despite being altered by humans. This inconsistency raises questions about the criteria for classifying objects as natural or artificial.\n",
      "\n",
      "Another contradiction arises in the discussion of the reproduction of organized bodies. The text mentions different methods of reproduction, including division and budding, but fails to provide a clear distinction between the different classes of reproduction. This lack of clarity suggests a confusion or oversight in the classification of reproductive processes.\n",
      "\n",
      "Furthermore, the text discusses the nature of insects and their widespread presence in various environments. While highlighting the ubiquity of insects, the text also mentions the specific habitats and behaviors of different insect species. This contradiction raises questions about the generalization of insect behavior and the need for a more nuanced understanding of insect ecology.\n",
      "\n",
      "Overall, the presence of these contradictions in the SOURCE highlights the complexity and nuances of interpreting historical texts, as well as the importance of critically analyzing primary sources to uncover inconsistencies and gaps in historical knowledge.\n"
     ]
    }
   ],
   "source": [
    "print(inference.pretty_repr())"
   ]
  },
  {
   "cell_type": "code",
   "execution_count": 86,
   "id": "c871914a",
   "metadata": {},
   "outputs": [
    {
     "name": "stdout",
     "output_type": "stream",
     "text": [
      "Please insert a short comment: nice\n"
     ]
    }
   ],
   "source": [
    "record_in_txt_instruction(\"exploratory_research\")"
   ]
  },
  {
   "cell_type": "markdown",
   "id": "1a55dee4",
   "metadata": {},
   "source": [
    "## 6. RAG 3"
   ]
  },
  {
   "cell_type": "code",
   "execution_count": 14,
   "id": "cd8ffd89",
   "metadata": {},
   "outputs": [
    {
     "name": "stdout",
     "output_type": "stream",
     "text": [
      "Created an LLM with standard hyperparameters.\n"
     ]
    }
   ],
   "source": [
    "# initialize the llm\n",
    "llm, llm_hyperparameters = initialize_llm(max_tokens=400)"
   ]
  },
  {
   "cell_type": "markdown",
   "id": "9af4650d",
   "metadata": {},
   "source": [
    "### a) Comparing editions"
   ]
  },
  {
   "cell_type": "code",
   "execution_count": 15,
   "id": "650c85dc",
   "metadata": {},
   "outputs": [
    {
     "name": "stdout",
     "output_type": "stream",
     "text": [
      "Which vector database are you using? Please provide its name for record: db_1st_and_12th_edition\n",
      "Initialized the retriever out of db_1st_and_12th_edition. 14 documents will be retrieved.\n"
     ]
    }
   ],
   "source": [
    "retriever, retriever_hyperparameters = initialize_retriever(db_1ed_12ed, k = 14)"
   ]
  },
  {
   "cell_type": "code",
   "execution_count": 8,
   "id": "5b8a962d",
   "metadata": {},
   "outputs": [],
   "source": [
    "template =\"\"\"You are a historian analysing primary historical SOURCE, which are fragments from the 1st and the 12th edition of a historical textbook on natural history by J. F. Blumenbach. \n",
    "\"ed. 1\" in the metadata indicates the 1st edition; \"ed. 12\" in the metadata indicates the 12th edition.\n",
    "First, generate a few sentences about historical hermeneutics. Then, follow the INSTRUCTION.\n",
    "INSTRUCTION: {instruction}\n",
    "SOURCE: {context} \"\"\"\n",
    "prompt = PromptTemplate.from_template(template)"
   ]
  },
  {
   "cell_type": "code",
   "execution_count": 45,
   "id": "b4a1d5c7",
   "metadata": {},
   "outputs": [],
   "source": [
    "# chain\n",
    "chain = (\n",
    "    {\"context\": itemgetter(\"topic\") | retriever | format_docs_with_metadata, \"instruction\": itemgetter(\"instruction\")}\n",
    "    | prompt | print_prompt\n",
    "    | llm\n",
    ")\n",
    "\n",
    "# note that this time the metadata are passed to the prompt by the format_docs_with_metadata function"
   ]
  },
  {
   "cell_type": "code",
   "execution_count": 46,
   "id": "7656bc41",
   "metadata": {},
   "outputs": [
    {
     "name": "stdout",
     "output_type": "stream",
     "text": [
      "Aber alles dies herzlich gerne zugegeben, dürfen doch die Leitern und Ketten, der guten Sache der bestimmten Naturreiche, und der Classification der Naturalien, bey weitem keinen Eintrag thun Die passendste Allegorie kann matt werden, kann in eine Spielerey ausarten, wenn sie zu weit getrieben wird. Und das ist in der That bey den eben angeführten zu befürchten. Es ist unterhaltend, es ist, wie wir so eben selbst gesagt haben, nutzbar, wenn der Naturforscher die Creaturen nach ihrer nächsten Verwandschaft unter einander ordnet, an einander kettet u. s. w Aber es scheint uns von der andern Seite eine schwache, und der Allweisheit des Schöpfers unanständige Behauptung, wenn man im Ernste annehmen wollte, daß auch Er bey der Schöpfung einen solchen allegorischen Plan befolgt, und die Vollkommenheit seiner großen Handlung darein gesetzt hätte, daß er seinen Creaturen alle ersinnliche Formen gäbe, und sie folglich vom obersten bis zum untersten ganz regelmäßig stufenweis auf einander folgen liesse. Man würde lächeln, wenn jemand den Vorzug bey der Einrichtung eines Hauses darinn suchte, daß die Meublen darinne alle von verschiedner Gestalt oder Größe wären, und sich auch, so wie die angebliche Kette der natürlichen Körper, unter eine gleiche Stufenfolge bringen liessen. Die Vollkommenheit in der große Haushaltung der Mutter-Natur ist, so wie bey der kleinsten Oekonomie einer Familie, in ganz andern Vorzügen zu suchen.\n",
      "Metadata: J.F.Blumenbach, Handbuch der Naturgeschichte, ed. 1 (1779), §. 7.\n",
      "\n",
      "Alle Dinge, die sich auf, und in unsrer Erde finden, zeigen sich entweder in derselben Gestalt, in welcher sie aus der Hand der Natur gekommen; oder so, wie sie durch Menschen oder Thiere, zu bestimmten Absichten, oder auch durch bloßen Zufall verändert und gleichsam umgeschaffen worden sind. Auf diese Verschiedenheit gründet sich die bekannte Eintheilung aller Körper in natürliche (naturalia), und durch Kunst verfertigte (artefacta). Die erstern machen den Gegenstand der Naturgeschichte aus, und man belegt alle Körper mit dem Namen der Naturalien, die nur noch keine wesentliche Veränderung durch Menschenhände erlitten haben; Da hingegen die mehresten von denen so der Zufall umgeändert hat, und beyläufig auch diejenigen so durch die Thiere nach ihren Trieben und zu Stillung ihrer Bedürfnisse verändert und umgebildet worden, mit unter den Naturalien begriffen werden. Artefacten werden sie blos alsdann, wenn der Mensch wesentliche Veränderungen mit ihnen vornimt. Man rechnet z. B. die schwammichte Rinde einer Art Maulbeerbäume (Morus papyrifera) oder die äussere Schaale einer Cocosnuß doch zu den Naturalien, wenn gleich beyde durch Menschen vom Stamme oder von der Nuß, die sie umkleideten, abgelöst worden. Die dadurch mit ihnen vorgenommene Veränderung ist nicht Wesentlich genug, um sie deshalb zu Artefakten zu machen.\n",
      "Metadata: J.F.Blumenbach, Handbuch der Naturgeschichte, ed. 1 (1779), §. 1.\n",
      "\n",
      "Die Petrefactenkunde, oder so genannte Oryktologie im engern Sinn, ist – wenn sie anders aus dem rechten Gesichtspunkte angesehen und benutzt wird – ein sehr wichtiger und fruchtbarer Theil der Mineralogie, da sie mannigfaltiges, aufklärendes Licht über Geogenie, über die verschiedenen successiven, mehr oder weniger allgemeinen Katastrophen *),\n",
      "die mit unserer Erde vorgegangen, folglich über das relative Alter der Gebirgsarten überhaupt, über die Entstehungsart mancher Arten von Flözgebirgen insbesondere u. s. w. verbreitet, ohne welches alles kein philosophisches Studium des mineralogischen Theils der Naturgeschichte gedacht werden kann.\n",
      "Metadata: J.F.Blumenbach, Handbuch der Naturgeschichte, ed. 12 (1830), §. 261.\n",
      "\n",
      "Wir haben die Reichthümer der Natur in ihren beiden organisirten belebten Reichen besehen. Das Ende unsers Buchs ist nun noch den unorganisirten Naturalien, den mineralischen Körpern gewidmet, wovon wir die allgemeinen Begriffe schon oben in den ersten Blätlern angegeben haben.\n",
      "Metadata: J.F.Blumenbach, Handbuch der Naturgeschichte, ed. 1 (1780), §. 220.\n",
      "\n",
      "Der gegenwärtige Abschnitt betrift allerdings eine eben so wichtige als anmuthige Untersuchung nemlich die allgemeine Naturgeschichte der Gewächse, die wir so viel möglich in der gleichen Ordnung abfassen wollen, die oben in der allgemeinen Thiergeschichte befolgt worden ist, damit beide desto leichter mit einander verglichen und die Aehnlichkeit oder Abweichung dieser zweyerley Arten von organisirten Körpern um so deutlicher ersehen Werden kan.\n",
      "Metadata: J.F.Blumenbach, Handbuch der Naturgeschichte, ed. 1 (1780), §. 170.\n",
      "\n",
      "entstehen Anm. Gegen diese Eintheilung in drey Reiche, ist zumahl neuerlich, eine doppelte Einwendung gemacht worden Manche haben zwar die Kluft zwischen den organisirten und unorganisirten Körpern anerkannt, aber nur keine bestimmten Gränzen zwischen Thieren und Gewächsen zugeben wollen Andere hingegen haben die beliebten Metaphern von Stufenfolge der Geschöpfe geradezu dahin gedeutet als ob überhaupt keine bestimmbaren Eintheilungen der Naturalien in Reiche u. s. w. Statt fänden Was das erste betrifft, so sollte man zwar überhaupt nicht vergessen, was so oft den Gegenständen der Erfahrung der Fall ist, daß man sie weit leichter für das, was sie sind, richtig anerkennen und von andern unterscheiden, als ihre einzelnen unterscheidenden Merkzeichen ausfinden und angeben kann *). – So sagte z. B. Linné:\n",
      "„nullum characterem hactenus eruere potui, unde Homo a Simia internoscatur.“ Nun glaube ich zwar in diesem Buche solche äußere Charaktere der Humanität angegeben zu haben, wodurch sich der Mensch von den noch so menschenähnlichen Affen (wie man sie nennt), so wie überhaupt von allen andern Säugethieren unverkennbar auszeichnet. Aber auch ohne dieselben wird doch hoffentlich nie ein Naturforscher in praxi in Verlegenheit gekommen seyn, Menschen und Affen etwa zu verwechseln. –\n",
      "Metadata: J.F.Blumenbach, Handbuch der Naturgeschichte, ed. 12 (1830), §. 4.\n",
      "\n",
      "bey ihnen statt finden könne. Dieses Räsonnement scheint wirklich auf den ersten Blick ganz richtig. Die Idee von Stufenfolge in der Natur ist eben so alt als artig. Wir selbst haben sie von je her für eine der interessantsten Speculationen in der Natürlichen Philosophie gehalten. Sie kann auch sehr wesentlich nutzbar werden. Sie ist, beym Lichte betrachtet der wahre Grund eines natürlichen Systems in der Naturgeschichte, das der große, aber noch meist unbefriedigte Wunsch, aller Naturforscher ist, und nach welchem man die natürlichen Körper nach ihrer grösten Verwandschaft zusammen ordnen, die ähnlichen verbinden, die unähnlichen von einander entfernen soll. Jedes natürliche System sollte eigentlich eine Art Bonnetischer Leiter seyn, und das ganze Studium der Naturgeschichte würde ungemein gewinnen würde gar sehr erleichtert werden, wenn die Systematiker nach diesem Plane arbeiteten, sich weniger willkürliche Charaktere abstrahirten, nach welchen sie die Naturalien rangiren ꝛc. Aber alles dies herzlich gerne zugegeben, dürfen doch die Leitern und Ketten, der guten Sache der bestimmten Naturreiche, und der Classification der Naturalien, bey weitem keinen Eintrag thun Die passendste Allegorie kann matt werden, kann in eine Spielerey ausarten, wenn sie zu weit getrieben wird. Und das ist in der That bey den eben angeführten zu befürchten.\n",
      "Metadata: J.F.Blumenbach, Handbuch der Naturgeschichte, ed. 1 (1779), §. 7.\n",
      "\n",
      "In Vergleichung aber mit den organisirten Körpern der jetzigen Schöpfung, finden sich manche\n",
      "(selbst unter den präadamitischen Conchylien des hiesigen Muschelkalks), die den jetztlebenden so gut wie völlig gleichen; andere, die den gegenwärtig existirenden zwar ähneln; aber sich von denselben theils durch ihre auffallende Größe, theils durch mancherlei kleine aber doch constante Abweichungen in der Bildung einzelner Theile, theils aber auch dadurch auszeichnen, daß die damit mehr oder minder übereinstimmenden jetzt lebenden Urbilder bloß in tropischen Zonen fern von der fossilen ihrem Fundorte einheimisch sind. – Unter diese Kategorie können wenigstens einstweilen viele Osteolithen, auch manche Seegeschöpfe (z. B. unter denen im Pappenheimer Kalkschiefer) und viele der Insecten im Bernstein gebracht werden Und davon unterscheiden sich wieder die Versteinerungen von völlig unbekannten Geschöpfen der Vorwelt, d. h. zu welchen sich bis jetzt nicht einmal nur ein ähnelndes, geschweige ein gleiches Urbild gefunden. So z. B. die Phaciten, Belemniten u. a.m.\n",
      "Metadata: J.F.Blumenbach, Handbuch der Naturgeschichte, ed. 12 (1830), §. 266.\n",
      "\n",
      "Man nennt aber Petrefacten oder Versteinerungen (Engl. extraneous fossils) im weitern Sinne alle abgestorbene Thiere und Gewächse, die entweder ihren Tod in einer solchen (– mehr oder weniger allgemeinern, oder aber localern –) Erdkatastrophe gefunden, oder doch nachher durch eine dergleichen in eine so günstige Lage gekommen, daß dadurch ihr Körper oder einzelne Theile desselben statt zu verwesen, seine Bildung mehr oder minder vollkommen erhalten, und mehrentheils noch überdem mit fremden steinartigen oder metallischen Stoffen, oder aber mit Erdharzen durchzogen worden Anm. Also muß eine Menge Zeugs streng davon abgesondert werden, was weiland damit vermengt ward vor allen die bloßen so genannten Naturspiele, lusus naturae, an denen sich ehedem die Einbildungskraft übte und die Unwissenheit und der Aberglaube sich weideten des alten Dr. Nic. Lange zu Luzern lapicidina sacra u. dergl. m. Ferner offenbare Artefacten, wie z. B die Badner Würfelchen; oder vollends absichtliche Betrügereien, wie die so genannten Würzburger Versteinerungen, womit einst der ehrliche Beringer angeführt worden. s. Dess. lithographia Wirceburgensis 1726 Fol., zumal S. 5.\n",
      "Metadata: J.F.Blumenbach, Handbuch der Naturgeschichte, ed. 12 (1830), §. 262.\n",
      "\n",
      "die sich auf die so gepriesene Metapher von Stufenfolge der Geschöpfe gründet eigentlich von selbst Alle die beliebten Bilder von Kette, von Leiter, von Netz ꝛc. in der Natur, haben zwar für die Methodologie im Studium der Naturgeschichte in sofern ihren unverkennbaren Nutzen zum regulativen Gebrauch, als sie den Grund eines so genannten natürlichen Systems abgeben, worin man die Geschöpfe nach ihren meisten und auffallendsten Aehnlichkeiten, nach ihrem Totalhabitus und der darauf gegründeten so genannten Verwandtschaft untereinander zusammen ordnet Aber sie nun, wie doch so oft von wohlmeinenden Physicotheologen geschehen, dem Schöpfer in den Plan seiner Schöpfung hinein legen, und die Vollkommenheit und den Zusammenbang derselben darin suchen zu wollen daß die Natur (wie man sich ausdrückt) keinen Sprung thue, weil die Geschöpfe in Rücksicht ihrer äußern Form so fein stufenweise auf einander folgten das wäre doch schon an sich eine vermessene Schwachheit wenn sie auch nicht, wie doch der Fall ist, bey ernsterer Prüfung sich selbst widerlegte *).\n",
      "Metadata: J.F.Blumenbach, Handbuch der Naturgeschichte, ed. 12 (1830), §. 4.\n",
      "\n",
      "Weit unbemerkter aber unaufhörlich ergiebig und im ganzen ungleich wichtiger ist hingegen die Entstehung der Mineralien durch das allmälige Absterben der organisirten natürlichen Körper, durch das Verwittern der unorganisirten selbst, und endlich durch die Zerstörung aller verarbeiteten Naturalien oder Kunstsachen kurz durch das unabbittliche Loos aller erschaffenen oder auch von Menschen verfertigten Dinge über kurz oder lang nach dem verschiedenen Maaße des von der Vorsehung ihnen zugemeßnen Lebens oder Dauer, endlich einmal zu sterden, zu vergehen und wieder zu der Erde zu werden von der sie genommen waren.\n",
      "Metadata: J.F.Blumenbach, Handbuch der Naturgeschichte, ed. 1 (1780), §. 226.\n",
      "\n",
      "Allein auch die würklichen Petrefacten finden sich nach der Länge der Zeit, seit welcher sie abgestorben, der Lage, die sie damals erhalten und anderer Zufälle in verschiednem Zustande: daher man sie schon aus dieser Rücksicht wenigstens unter fünf Abtheilungen bringen kann I. nemlich calcinirte Körper oder Fossilien: das heißt, Knochen, Zähne, Geweihe, Conchylien und Corallen, die blos ihre Gallerte oder thierischen Leim und mit diesem auch ihre Festigkeit verlohren haben, die nur wenig oder gar nicht durch fremde eingedrungne Erdtheilgen wieder ersetzt worden; daher denn diese Art von Petrefacten nur mürbe und gleichsam verwittert sind, und sich meist ganz unwidersprechlich auf ihre wahren, noch jetzt existirenden Originale zurückbringen lassen. So die fossilen Knochen von Menschen, Elephanten u. a. grossen Landthieren: die unzähligen theils unbeschreiblich zarten und schönen Schnecken und Muscheln in Piemont, Champagne ꝛc II. Eigentlich sogenannte Versteinerungen, Wahre Petrefacten, nemlich organisirte Körper, die vollkommen mit fremden Erdtheilchen durchdrungen und durch die Länge der Zeit verhärtet und steinartig worden sind. So alle die unzähligen Conchylien u. a. Seegeschöpfe in den Flözgebürgen, die unserer oben geäusserte Vermuthung nach wol alle von einer gerichteten Vorwelt herrühren, und wozu man wol allerhand ähnliche, aber wohl schwerlich vollkommen gleiche Originale in der jetzigen Schöpfung vorzufinden im Stande seyn wird III.\n",
      "Metadata: J.F.Blumenbach, Handbuch der Naturgeschichte, ed. 1 (1780), §. 248.\n",
      "\n",
      "Man rechnet z. B. die schwammichte Rinde einer Art Maulbeerbäume (Morus papyrifera) oder die äussere Schaale einer Cocosnuß doch zu den Naturalien, wenn gleich beyde durch Menschen vom Stamme oder von der Nuß, die sie umkleideten, abgelöst worden. Die dadurch mit ihnen vorgenommene Veränderung ist nicht Wesentlich genug, um sie deshalb zu Artefakten zu machen. Dies werden sie aber, und sie verlieren folglich den Namen von Naturalien wenn die Chinesen aus jener Rinde Papier, und die Utaheiten ihre feinsten Zeuge daraus verfertigen, und wenn man in ganz Ostindien aus der Cocusnuß-Schaale Stricke dreht. Wenn der Blitz in sandichten Boden schlägt, schmilzt er oft den Sand zu Glas, wie wir selbst dergleichen milchweiße Glaßtropfen vor uns liegend haben: und ähnliche Glaßstückchen zeigen sich auch gemeiniglich in den Laven der feuerspeyenden Berge. Beyderley gehören zu den Naturalien, da sie zufälligerweise von himmlischem und unterirdischem Feuer gezeugt worden Da hingegen das Glas, was der Mensch aus ähnlichen Ingredienzen verfertigt, blos deswegen, weil es seiner Hände Werk ist, Artefakt heist. Die Holzzasern, die die Wespen zu ihrem Nesterbau verarbeiten, werden auch selbst in dieser Gestalt, nach einer sehr wesentlichen Veränderung mit zu den Naturalien gezählt: da hingegen die Papier-Proben, die man auf ähnliche Weise in neuern Zeiten aus Holzspänen verfertigt hat ohne Widerrede Artefakten heisen.\n",
      "Metadata: J.F.Blumenbach, Handbuch der Naturgeschichte, ed. 1 (1779), §. 1.\n",
      "\n",
      "Zuerst etwas vom Ursprung der Mineralien, nemlich von den Hauptwegen, wodurch sie theils vor Zeiten mit einemmal entstanden sind, und theils nach und nach und noch immerfort entstehen. Um jene aufzuklären, müssen wir nothwendig auf den Ursprung unsrer Erde selbst zurück gehen: eine Untersuchung, bey der man sich freylich immer einige gewagte Muthmassungen wird erlauben müssen: doch wollen wir uns nicht dem Flug der kühnen Männer überlassen, die Kometen und ausgebrannte Sonnen zum Bau ihres Erdsystems aufgebothen haben sondern unsere bescheidnere Meinung vortragen auf die wir zuerst durch die Untersuchung der Versteinerungen, und durch ihre Vergleichung und gefundene Unähnlichkeit mit den gegenwärtigen organisirten Körpern und dann durch die Beobachtung einiger ehemaligen Vulcane gebracht worden sind, und die uns zwar immer noch eine Hypothese, aber doch eine solche Hypothese zu seyn scheint, die sich der Natur und dem Augenschein ziemlich leicht und schicklich anpassen läßt.\n",
      "Metadata: J.F.Blumenbach, Handbuch der Naturgeschichte, ed. 1 (1780), §. 221.\n",
      "\n",
      "The prompt as passed to the model:\n",
      "\n",
      "text='You are a historian analysing primary historical SOURCE, which are fragments from the 1st and the 12th edition of a historical textbook on natural history by J. F. Blumenbach. \\n\"ed. 1\" in the metadata indicates the 1st edition; \"ed. 12\" in the metadata indicates the 12th edition.\\nFirst, generate a few sentences about historical hermeneutics. Then, follow the INSTRUCTION.\\nINSTRUCTION: Compare and contrast the portrayal of natural history in the 1st and the 12th edition.\\nSOURCE: Aber alles dies herzlich gerne zugegeben, dürfen doch die Leitern und Ketten, der guten Sache der bestimmten Naturreiche, und der Classification der Naturalien, bey weitem keinen Eintrag thun Die passendste Allegorie kann matt werden, kann in eine Spielerey ausarten, wenn sie zu weit getrieben wird. Und das ist in der That bey den eben angeführten zu befürchten. Es ist unterhaltend, es ist, wie wir so eben selbst gesagt haben, nutzbar, wenn der Naturforscher die Creaturen nach ihrer nächsten Verwandschaft unter einander ordnet, an einander kettet u. s. w Aber es scheint uns von der andern Seite eine schwache, und der Allweisheit des Schöpfers unanständige Behauptung, wenn man im Ernste annehmen wollte, daß auch Er bey der Schöpfung einen solchen allegorischen Plan befolgt, und die Vollkommenheit seiner großen Handlung darein gesetzt hätte, daß er seinen Creaturen alle ersinnliche Formen gäbe, und sie folglich vom obersten bis zum untersten ganz regelmäßig stufenweis auf einander folgen liesse. Man würde lächeln, wenn jemand den Vorzug bey der Einrichtung eines Hauses darinn suchte, daß die Meublen darinne alle von verschiedner Gestalt oder Größe wären, und sich auch, so wie die angebliche Kette der natürlichen Körper, unter eine gleiche Stufenfolge bringen liessen. Die Vollkommenheit in der große Haushaltung der Mutter-Natur ist, so wie bey der kleinsten Oekonomie einer Familie, in ganz andern Vorzügen zu suchen.\\nMetadata: J.F.Blumenbach, Handbuch der Naturgeschichte, ed. 1 (1779), §. 7.\\n\\nAlle Dinge, die sich auf, und in unsrer Erde finden, zeigen sich entweder in derselben Gestalt, in welcher sie aus der Hand der Natur gekommen; oder so, wie sie durch Menschen oder Thiere, zu bestimmten Absichten, oder auch durch bloßen Zufall verändert und gleichsam umgeschaffen worden sind. Auf diese Verschiedenheit gründet sich die bekannte Eintheilung aller Körper in natürliche (naturalia), und durch Kunst verfertigte (artefacta). Die erstern machen den Gegenstand der Naturgeschichte aus, und man belegt alle Körper mit dem Namen der Naturalien, die nur noch keine wesentliche Veränderung durch Menschenhände erlitten haben; Da hingegen die mehresten von denen so der Zufall umgeändert hat, und beyläufig auch diejenigen so durch die Thiere nach ihren Trieben und zu Stillung ihrer Bedürfnisse verändert und umgebildet worden, mit unter den Naturalien begriffen werden. Artefacten werden sie blos alsdann, wenn der Mensch wesentliche Veränderungen mit ihnen vornimt. Man rechnet z. B. die schwammichte Rinde einer Art Maulbeerbäume (Morus papyrifera) oder die äussere Schaale einer Cocosnuß doch zu den Naturalien, wenn gleich beyde durch Menschen vom Stamme oder von der Nuß, die sie umkleideten, abgelöst worden. Die dadurch mit ihnen vorgenommene Veränderung ist nicht Wesentlich genug, um sie deshalb zu Artefakten zu machen.\\nMetadata: J.F.Blumenbach, Handbuch der Naturgeschichte, ed. 1 (1779), §. 1.\\n\\nDie Petrefactenkunde, oder so genannte Oryktologie im engern Sinn, ist – wenn sie anders aus dem rechten Gesichtspunkte angesehen und benutzt wird – ein sehr wichtiger und fruchtbarer Theil der Mineralogie, da sie mannigfaltiges, aufklärendes Licht über Geogenie, über die verschiedenen successiven, mehr oder weniger allgemeinen Katastrophen *),\\ndie mit unserer Erde vorgegangen, folglich über das relative Alter der Gebirgsarten überhaupt, über die Entstehungsart mancher Arten von Flözgebirgen insbesondere u. s. w. verbreitet, ohne welches alles kein philosophisches Studium des mineralogischen Theils der Naturgeschichte gedacht werden kann.\\nMetadata: J.F.Blumenbach, Handbuch der Naturgeschichte, ed. 12 (1830), §. 261.\\n\\nWir haben die Reichthümer der Natur in ihren beiden organisirten belebten Reichen besehen. Das Ende unsers Buchs ist nun noch den unorganisirten Naturalien, den mineralischen Körpern gewidmet, wovon wir die allgemeinen Begriffe schon oben in den ersten Blätlern angegeben haben.\\nMetadata: J.F.Blumenbach, Handbuch der Naturgeschichte, ed. 1 (1780), §. 220.\\n\\nDer gegenwärtige Abschnitt betrift allerdings eine eben so wichtige als anmuthige Untersuchung nemlich die allgemeine Naturgeschichte der Gewächse, die wir so viel möglich in der gleichen Ordnung abfassen wollen, die oben in der allgemeinen Thiergeschichte befolgt worden ist, damit beide desto leichter mit einander verglichen und die Aehnlichkeit oder Abweichung dieser zweyerley Arten von organisirten Körpern um so deutlicher ersehen Werden kan.\\nMetadata: J.F.Blumenbach, Handbuch der Naturgeschichte, ed. 1 (1780), §. 170.\\n\\nentstehen Anm. Gegen diese Eintheilung in drey Reiche, ist zumahl neuerlich, eine doppelte Einwendung gemacht worden Manche haben zwar die Kluft zwischen den organisirten und unorganisirten Körpern anerkannt, aber nur keine bestimmten Gränzen zwischen Thieren und Gewächsen zugeben wollen Andere hingegen haben die beliebten Metaphern von Stufenfolge der Geschöpfe geradezu dahin gedeutet als ob überhaupt keine bestimmbaren Eintheilungen der Naturalien in Reiche u. s. w. Statt fänden Was das erste betrifft, so sollte man zwar überhaupt nicht vergessen, was so oft den Gegenständen der Erfahrung der Fall ist, daß man sie weit leichter für das, was sie sind, richtig anerkennen und von andern unterscheiden, als ihre einzelnen unterscheidenden Merkzeichen ausfinden und angeben kann *). – So sagte z. B. Linné:\\n„nullum characterem hactenus eruere potui, unde Homo a Simia internoscatur.“ Nun glaube ich zwar in diesem Buche solche äußere Charaktere der Humanität angegeben zu haben, wodurch sich der Mensch von den noch so menschenähnlichen Affen (wie man sie nennt), so wie überhaupt von allen andern Säugethieren unverkennbar auszeichnet. Aber auch ohne dieselben wird doch hoffentlich nie ein Naturforscher in praxi in Verlegenheit gekommen seyn, Menschen und Affen etwa zu verwechseln. –\\nMetadata: J.F.Blumenbach, Handbuch der Naturgeschichte, ed. 12 (1830), §. 4.\\n\\nbey ihnen statt finden könne. Dieses Räsonnement scheint wirklich auf den ersten Blick ganz richtig. Die Idee von Stufenfolge in der Natur ist eben so alt als artig. Wir selbst haben sie von je her für eine der interessantsten Speculationen in der Natürlichen Philosophie gehalten. Sie kann auch sehr wesentlich nutzbar werden. Sie ist, beym Lichte betrachtet der wahre Grund eines natürlichen Systems in der Naturgeschichte, das der große, aber noch meist unbefriedigte Wunsch, aller Naturforscher ist, und nach welchem man die natürlichen Körper nach ihrer grösten Verwandschaft zusammen ordnen, die ähnlichen verbinden, die unähnlichen von einander entfernen soll. Jedes natürliche System sollte eigentlich eine Art Bonnetischer Leiter seyn, und das ganze Studium der Naturgeschichte würde ungemein gewinnen würde gar sehr erleichtert werden, wenn die Systematiker nach diesem Plane arbeiteten, sich weniger willkürliche Charaktere abstrahirten, nach welchen sie die Naturalien rangiren ꝛc. Aber alles dies herzlich gerne zugegeben, dürfen doch die Leitern und Ketten, der guten Sache der bestimmten Naturreiche, und der Classification der Naturalien, bey weitem keinen Eintrag thun Die passendste Allegorie kann matt werden, kann in eine Spielerey ausarten, wenn sie zu weit getrieben wird. Und das ist in der That bey den eben angeführten zu befürchten.\\nMetadata: J.F.Blumenbach, Handbuch der Naturgeschichte, ed. 1 (1779), §. 7.\\n\\nIn Vergleichung aber mit den organisirten Körpern der jetzigen Schöpfung, finden sich manche\\n(selbst unter den präadamitischen Conchylien des hiesigen Muschelkalks), die den jetztlebenden so gut wie völlig gleichen; andere, die den gegenwärtig existirenden zwar ähneln; aber sich von denselben theils durch ihre auffallende Größe, theils durch mancherlei kleine aber doch constante Abweichungen in der Bildung einzelner Theile, theils aber auch dadurch auszeichnen, daß die damit mehr oder minder übereinstimmenden jetzt lebenden Urbilder bloß in tropischen Zonen fern von der fossilen ihrem Fundorte einheimisch sind. – Unter diese Kategorie können wenigstens einstweilen viele Osteolithen, auch manche Seegeschöpfe (z. B. unter denen im Pappenheimer Kalkschiefer) und viele der Insecten im Bernstein gebracht werden Und davon unterscheiden sich wieder die Versteinerungen von völlig unbekannten Geschöpfen der Vorwelt, d. h. zu welchen sich bis jetzt nicht einmal nur ein ähnelndes, geschweige ein gleiches Urbild gefunden. So z. B. die Phaciten, Belemniten u. a.m.\\nMetadata: J.F.Blumenbach, Handbuch der Naturgeschichte, ed. 12 (1830), §. 266.\\n\\nMan nennt aber Petrefacten oder Versteinerungen (Engl. extraneous fossils) im weitern Sinne alle abgestorbene Thiere und Gewächse, die entweder ihren Tod in einer solchen (– mehr oder weniger allgemeinern, oder aber localern –) Erdkatastrophe gefunden, oder doch nachher durch eine dergleichen in eine so günstige Lage gekommen, daß dadurch ihr Körper oder einzelne Theile desselben statt zu verwesen, seine Bildung mehr oder minder vollkommen erhalten, und mehrentheils noch überdem mit fremden steinartigen oder metallischen Stoffen, oder aber mit Erdharzen durchzogen worden Anm. Also muß eine Menge Zeugs streng davon abgesondert werden, was weiland damit vermengt ward vor allen die bloßen so genannten Naturspiele, lusus naturae, an denen sich ehedem die Einbildungskraft übte und die Unwissenheit und der Aberglaube sich weideten des alten Dr. Nic. Lange zu Luzern lapicidina sacra u. dergl. m. Ferner offenbare Artefacten, wie z. B die Badner Würfelchen; oder vollends absichtliche Betrügereien, wie die so genannten Würzburger Versteinerungen, womit einst der ehrliche Beringer angeführt worden. s. Dess. lithographia Wirceburgensis 1726 Fol., zumal S. 5.\\nMetadata: J.F.Blumenbach, Handbuch der Naturgeschichte, ed. 12 (1830), §. 262.\\n\\ndie sich auf die so gepriesene Metapher von Stufenfolge der Geschöpfe gründet eigentlich von selbst Alle die beliebten Bilder von Kette, von Leiter, von Netz ꝛc. in der Natur, haben zwar für die Methodologie im Studium der Naturgeschichte in sofern ihren unverkennbaren Nutzen zum regulativen Gebrauch, als sie den Grund eines so genannten natürlichen Systems abgeben, worin man die Geschöpfe nach ihren meisten und auffallendsten Aehnlichkeiten, nach ihrem Totalhabitus und der darauf gegründeten so genannten Verwandtschaft untereinander zusammen ordnet Aber sie nun, wie doch so oft von wohlmeinenden Physicotheologen geschehen, dem Schöpfer in den Plan seiner Schöpfung hinein legen, und die Vollkommenheit und den Zusammenbang derselben darin suchen zu wollen daß die Natur (wie man sich ausdrückt) keinen Sprung thue, weil die Geschöpfe in Rücksicht ihrer äußern Form so fein stufenweise auf einander folgten das wäre doch schon an sich eine vermessene Schwachheit wenn sie auch nicht, wie doch der Fall ist, bey ernsterer Prüfung sich selbst widerlegte *).\\nMetadata: J.F.Blumenbach, Handbuch der Naturgeschichte, ed. 12 (1830), §. 4.\\n\\nWeit unbemerkter aber unaufhörlich ergiebig und im ganzen ungleich wichtiger ist hingegen die Entstehung der Mineralien durch das allmälige Absterben der organisirten natürlichen Körper, durch das Verwittern der unorganisirten selbst, und endlich durch die Zerstörung aller verarbeiteten Naturalien oder Kunstsachen kurz durch das unabbittliche Loos aller erschaffenen oder auch von Menschen verfertigten Dinge über kurz oder lang nach dem verschiedenen Maaße des von der Vorsehung ihnen zugemeßnen Lebens oder Dauer, endlich einmal zu sterden, zu vergehen und wieder zu der Erde zu werden von der sie genommen waren.\\nMetadata: J.F.Blumenbach, Handbuch der Naturgeschichte, ed. 1 (1780), §. 226.\\n\\nAllein auch die würklichen Petrefacten finden sich nach der Länge der Zeit, seit welcher sie abgestorben, der Lage, die sie damals erhalten und anderer Zufälle in verschiednem Zustande: daher man sie schon aus dieser Rücksicht wenigstens unter fünf Abtheilungen bringen kann I. nemlich calcinirte Körper oder Fossilien: das heißt, Knochen, Zähne, Geweihe, Conchylien und Corallen, die blos ihre Gallerte oder thierischen Leim und mit diesem auch ihre Festigkeit verlohren haben, die nur wenig oder gar nicht durch fremde eingedrungne Erdtheilgen wieder ersetzt worden; daher denn diese Art von Petrefacten nur mürbe und gleichsam verwittert sind, und sich meist ganz unwidersprechlich auf ihre wahren, noch jetzt existirenden Originale zurückbringen lassen. So die fossilen Knochen von Menschen, Elephanten u. a. grossen Landthieren: die unzähligen theils unbeschreiblich zarten und schönen Schnecken und Muscheln in Piemont, Champagne ꝛc II. Eigentlich sogenannte Versteinerungen, Wahre Petrefacten, nemlich organisirte Körper, die vollkommen mit fremden Erdtheilchen durchdrungen und durch die Länge der Zeit verhärtet und steinartig worden sind. So alle die unzähligen Conchylien u. a. Seegeschöpfe in den Flözgebürgen, die unserer oben geäusserte Vermuthung nach wol alle von einer gerichteten Vorwelt herrühren, und wozu man wol allerhand ähnliche, aber wohl schwerlich vollkommen gleiche Originale in der jetzigen Schöpfung vorzufinden im Stande seyn wird III.\\nMetadata: J.F.Blumenbach, Handbuch der Naturgeschichte, ed. 1 (1780), §. 248.\\n\\nMan rechnet z. B. die schwammichte Rinde einer Art Maulbeerbäume (Morus papyrifera) oder die äussere Schaale einer Cocosnuß doch zu den Naturalien, wenn gleich beyde durch Menschen vom Stamme oder von der Nuß, die sie umkleideten, abgelöst worden. Die dadurch mit ihnen vorgenommene Veränderung ist nicht Wesentlich genug, um sie deshalb zu Artefakten zu machen. Dies werden sie aber, und sie verlieren folglich den Namen von Naturalien wenn die Chinesen aus jener Rinde Papier, und die Utaheiten ihre feinsten Zeuge daraus verfertigen, und wenn man in ganz Ostindien aus der Cocusnuß-Schaale Stricke dreht. Wenn der Blitz in sandichten Boden schlägt, schmilzt er oft den Sand zu Glas, wie wir selbst dergleichen milchweiße Glaßtropfen vor uns liegend haben: und ähnliche Glaßstückchen zeigen sich auch gemeiniglich in den Laven der feuerspeyenden Berge. Beyderley gehören zu den Naturalien, da sie zufälligerweise von himmlischem und unterirdischem Feuer gezeugt worden Da hingegen das Glas, was der Mensch aus ähnlichen Ingredienzen verfertigt, blos deswegen, weil es seiner Hände Werk ist, Artefakt heist. Die Holzzasern, die die Wespen zu ihrem Nesterbau verarbeiten, werden auch selbst in dieser Gestalt, nach einer sehr wesentlichen Veränderung mit zu den Naturalien gezählt: da hingegen die Papier-Proben, die man auf ähnliche Weise in neuern Zeiten aus Holzspänen verfertigt hat ohne Widerrede Artefakten heisen.\\nMetadata: J.F.Blumenbach, Handbuch der Naturgeschichte, ed. 1 (1779), §. 1.\\n\\nZuerst etwas vom Ursprung der Mineralien, nemlich von den Hauptwegen, wodurch sie theils vor Zeiten mit einemmal entstanden sind, und theils nach und nach und noch immerfort entstehen. Um jene aufzuklären, müssen wir nothwendig auf den Ursprung unsrer Erde selbst zurück gehen: eine Untersuchung, bey der man sich freylich immer einige gewagte Muthmassungen wird erlauben müssen: doch wollen wir uns nicht dem Flug der kühnen Männer überlassen, die Kometen und ausgebrannte Sonnen zum Bau ihres Erdsystems aufgebothen haben sondern unsere bescheidnere Meinung vortragen auf die wir zuerst durch die Untersuchung der Versteinerungen, und durch ihre Vergleichung und gefundene Unähnlichkeit mit den gegenwärtigen organisirten Körpern und dann durch die Beobachtung einiger ehemaligen Vulcane gebracht worden sind, und die uns zwar immer noch eine Hypothese, aber doch eine solche Hypothese zu seyn scheint, die sich der Natur und dem Augenschein ziemlich leicht und schicklich anpassen läßt.\\nMetadata: J.F.Blumenbach, Handbuch der Naturgeschichte, ed. 1 (1780), §. 221.\\n '\n"
     ]
    }
   ],
   "source": [
    "topic = \"natural history\"\n",
    "instruction = \"Compare and contrast the portrayal of natural history in the 1st and the 12th edition.\"\n",
    "inference = chain.invoke({\"topic\": topic, \"instruction\": instruction})"
   ]
  },
  {
   "cell_type": "code",
   "execution_count": 47,
   "id": "34d0e4ea",
   "metadata": {},
   "outputs": [
    {
     "name": "stdout",
     "output_type": "stream",
     "text": [
      "================================== Ai Message ==================================\n",
      "\n",
      "Historical hermeneutics is the study of how historical texts are interpreted and understood in their historical context, taking into account the cultural, social, and intellectual factors that influenced the author and the audience. It involves analyzing the language, symbols, and ideas present in the text to uncover the meaning and significance behind them.\n",
      "\n",
      "In comparing the portrayal of natural history in the 1st and the 12th edition of J.F. Blumenbach's textbook, several differences and similarities can be observed. In the 1st edition, there is a focus on the classification of natural objects into two categories: naturalia and artefacta, emphasizing the distinction between objects created by nature and those altered by humans. Blumenbach discusses the importance of understanding the origins and changes in natural objects, such as petrified remains and fossils, to gain insights into the Earth's geological history.\n",
      "\n",
      "On the other hand, in the 12th edition, there is a shift towards a more philosophical and reflective approach to natural history. Blumenbach delves into the concept of a natural system and the idea of a \"stufenfolge\" or a hierarchical order in nature, where organisms are classified based on their similarities and relationships. He critiques the notion of attributing a predetermined allegorical plan to the Creator in the organization of natural beings, highlighting the limitations of human understanding in interpreting the complexity of nature.\n",
      "\n",
      "Overall, while the 1st edition focuses more on the empirical classification and study of natural objects, the 12th edition delves deeper into the philosophical implications of natural history and the challenges of interpreting the interconnectedness of living organisms. Both editions reflect the evolving perspectives and methodologies in the field of natural history over time.\n"
     ]
    }
   ],
   "source": [
    "print(inference.pretty_repr())"
   ]
  },
  {
   "cell_type": "code",
   "execution_count": 48,
   "id": "d66222fa",
   "metadata": {},
   "outputs": [
    {
     "name": "stdout",
     "output_type": "stream",
     "text": [
      "Please insert a short comment: increased max_tokens to 800, but the reply is still short\n"
     ]
    }
   ],
   "source": [
    "record_in_txt_instruction(\"comparing_editions\")"
   ]
  },
  {
   "cell_type": "markdown",
   "id": "6fd4d991",
   "metadata": {},
   "source": [
    "### b) Search by metadata in both editions without register"
   ]
  },
  {
   "cell_type": "markdown",
   "id": "f73c9473",
   "metadata": {},
   "source": [
    "Additional computation needed for this step:"
   ]
  },
  {
   "cell_type": "code",
   "execution_count": 4,
   "id": "359be11d",
   "metadata": {},
   "outputs": [],
   "source": [
    "from langchain.chains.query_constructor.base import AttributeInfo\n",
    "from langchain.retrievers.self_query.base import SelfQueryRetriever\n",
    "#from langchain_openai import ChatOpenAI\n",
    "#from langchain_chroma import Chroma"
   ]
  },
  {
   "cell_type": "code",
   "execution_count": 8,
   "id": "460b7210",
   "metadata": {},
   "outputs": [],
   "source": [
    "from langchain_community.vectorstores import Chroma"
   ]
  },
  {
   "cell_type": "code",
   "execution_count": 9,
   "id": "14f39e4d",
   "metadata": {},
   "outputs": [],
   "source": [
    "# SelfQueryRetriever does not support faiss, so it is necessary to create the vectorstore again with Chroma\n",
    "with open(\"../data/pickles/ed1_ed12_docs.pickle\", 'rb') as f:\n",
    "    docs_both_editions = pickle.load(f)\n",
    "db_1ed_12ed_chroma = Chroma.from_documents(docs_both_editions, hf_jina)"
   ]
  },
  {
   "cell_type": "code",
   "execution_count": 65,
   "id": "cc256d84",
   "metadata": {},
   "outputs": [],
   "source": [
    "# describe the metadata\n",
    "metadata_field_info = [\n",
    "    AttributeInfo(\n",
    "        name=\"source\",\n",
    "        description=\"The title of the book\",\n",
    "        type=\"string\",\n",
    "    ),\n",
    "    AttributeInfo(\n",
    "        name=\"autor\",\n",
    "        description=\"The name of the author of the book\",\n",
    "        type=\"string\",\n",
    "    ),\n",
    "    AttributeInfo(\n",
    "        name=\"edition\",\n",
    "        description=\"The edition of the book\",\n",
    "        type=\"integer\",\n",
    "    ),\n",
    "    AttributeInfo(\n",
    "        name=\"date\", \n",
    "        description=\"Year of publication of the book\", \n",
    "        type=\"integer\"\n",
    "    ),\n",
    "    \n",
    "    AttributeInfo(\n",
    "        name=\"language\", \n",
    "        description=\"The main language of the book\", \n",
    "        type=\"string\"\n",
    "    ),\n",
    "    \n",
    "    AttributeInfo(\n",
    "        name=\"in-text location\", \n",
    "        description=\"The paragraph (e.g. §. 1. means paragraph 1, §. 5. means paragraph 5)\", \n",
    "        type=\"string\"\n",
    "    ),\n",
    "]\n",
    "\n",
    "# describe the contents \n",
    "document_content_description = \"A chunk from a book\"\n"
   ]
  },
  {
   "cell_type": "code",
   "execution_count": 66,
   "id": "f5d6ce71",
   "metadata": {},
   "outputs": [
    {
     "name": "stdout",
     "output_type": "stream",
     "text": [
      "Please indicate which vector database is used.db_1st_and_12th_edition_chroma\n"
     ]
    }
   ],
   "source": [
    "# llm for retrieval (the default llm proposed in the class)\n",
    "llm_retrieval = ChatOpenAI(temperature=0) \n",
    "\n",
    "# initialize the retriever\n",
    "retriever = SelfQueryRetriever.from_llm(\n",
    "    llm_retrieval,\n",
    "    db_1ed_12ed_chroma,\n",
    "    document_content_description,\n",
    "    metadata_field_info,\n",
    ")\n",
    "\n",
    "vectorstore = input(\"Please indicate which vector database is used.\")"
   ]
  },
  {
   "cell_type": "markdown",
   "id": "afd345ed",
   "metadata": {},
   "source": [
    "The actual RAG pipeline starts here"
   ]
  },
  {
   "cell_type": "code",
   "execution_count": 82,
   "id": "9cb22a08",
   "metadata": {},
   "outputs": [],
   "source": [
    "template =\"\"\"You are a historian analysing a primary historical SOURCE, which is an eighteenth-century textbook on natural history by J. F. Blumenbach. First, generate a few sentences about historical hermeneutics. Then, follow the INSTRUCTION.\n",
    "INSTRUCTION: {instruction}\n",
    "SOURCE: {context} \"\"\"\n",
    "\n",
    "prompt = PromptTemplate.from_template(template)"
   ]
  },
  {
   "cell_type": "code",
   "execution_count": 83,
   "id": "5c6d8714",
   "metadata": {},
   "outputs": [],
   "source": [
    "# chain\n",
    "chain = (\n",
    "    {\"context\": itemgetter(\"topic\") | retriever | format_and_save_docs, \"instruction\": itemgetter(\"instruction\")}\n",
    "    | prompt | print_prompt\n",
    "    | llm\n",
    ")\n"
   ]
  },
  {
   "cell_type": "code",
   "execution_count": 87,
   "id": "8ee41187",
   "metadata": {},
   "outputs": [
    {
     "name": "stdout",
     "output_type": "stream",
     "text": [
      "Alle Körper, die sich auf, und in unserer Erde finden, zeigen sich entweder in derselben Gestalt und Beschaffenheit, die sie aus der Hand des Schöpfers erhalten und durch die Wirkung der sich selbst überlassenen Naturkräfte angenommen haben; oder so wie sie durch Menschen und Thiere, zu bestimmten Absichten, oder auch durch bloßen Zufall verändert und gleichsam umgeschaffen worden sind Auf diese Verschiedenheit gründet sich die bekannte Eintheilung derselben in natürliche (naturalia), und durch Kunst verfertigte (artefacta). \n",
      "Die erstern machen den Gegenstand der Naturgeschichte aus, und man pflegt alle Körper zu den Naturalien zu rechnen, die nur noch keine wesentliche Veränderung durch Menschen erlitten haben. Artefacten werden sie dann genannt, wenn der Mensch absichtlich Veränderungen mit ihnen vorgenommen Anm. 1. Daß übrigens jene Begriffe vom Wesentlichen und vom Absichtlichen im gegenwärtigen Falle bey so verschiedentlicher Rücksicht und Modification, nicht anders als relativ seyn können, bedarf wohl keiner Erinnerung. – Denn so könnte man ein Maulthier, oder einen Caraiben mit seinem durch die Kunst gemodelten Schedel und dergl. mehr, aus gewisser Rücksicht auch zu den Artefacten rechnen Anm. 2. Zuweilen können Naturalien manchen Kunstproducten so ähnlich seyn, daß sie schwer von einander zu unterscheiden sind.\n",
      "Metadata: J.F.Blumenbach, Handbuch der Naturgeschichte, ed. 12 (1830), §. 1.\n",
      "\n",
      "Alle Körper, die sich auf, und in unserer Erde finden, zeigen sich entweder in derselben Gestalt und Beschaffenheit, die sie aus der Hand des Schöpfers erhalten und durch die Wirkung der sich selbst überlassenen Naturkräfte angenommen haben; oder so wie sie durch Menschen und Thiere, zu bestimmten Absichten, oder auch durch bloßen Zufall verändert und gleichsam umgeschaffen worden sind Auf diese Verschiedenheit gründet sich die bekannte Eintheilung derselben in natürliche (naturalia), und durch Kunst verfertigte (artefacta). \n",
      "Die erstern machen den Gegenstand der Naturgeschichte aus, und man pflegt alle Körper zu den Naturalien zu rechnen, die nur noch keine wesentliche Veränderung durch Menschen erlitten haben. Artefacten werden sie dann genannt, wenn der Mensch absichtlich Veränderungen mit ihnen vorgenommen Anm. 1. Daß übrigens jene Begriffe vom Wesentlichen und vom Absichtlichen im gegenwärtigen Falle bey so verschiedentlicher Rücksicht und Modification, nicht anders als relativ seyn können, bedarf wohl keiner Erinnerung. – Denn so könnte man ein Maulthier, oder einen Caraiben mit seinem durch die Kunst gemodelten Schedel und dergl. mehr, aus gewisser Rücksicht auch zu den Artefacten rechnen Anm. 2. Zuweilen können Naturalien manchen Kunstproducten so ähnlich seyn, daß sie schwer von einander zu unterscheiden sind.\n",
      "Metadata: J.F.Blumenbach, Handbuch der Naturgeschichte, ed. 12 (1830), §. 1.\n",
      "\n",
      "Denn so könnte man ein Maulthier, oder einen Caraiben mit seinem durch die Kunst gemodelten Schedel und dergl. mehr, aus gewisser Rücksicht auch zu den Artefacten rechnen Anm. 2. Zuweilen können Naturalien manchen Kunstproducten so ähnlich seyn, daß sie schwer von einander zu unterscheiden sind. Daher z. B. die ehedem getheilten Meinungen, ob der Ueberzug in der piscina mirabile bei Bajä ein von selbst aus dem Wasser abgesetzter Rindenstein von Kalksinter, oder aber ein absichtlich aufgetragener künstlicher Mörtel sey. (– s. Götting. gel. Anzeigen 1791. 188 St. –)\n",
      "Metadata: J.F.Blumenbach, Handbuch der Naturgeschichte, ed. 12 (1830), §. 1.\n",
      "\n",
      "Denn so könnte man ein Maulthier, oder einen Caraiben mit seinem durch die Kunst gemodelten Schedel und dergl. mehr, aus gewisser Rücksicht auch zu den Artefacten rechnen Anm. 2. Zuweilen können Naturalien manchen Kunstproducten so ähnlich seyn, daß sie schwer von einander zu unterscheiden sind. Daher z. B. die ehedem getheilten Meinungen, ob der Ueberzug in der piscina mirabile bei Bajä ein von selbst aus dem Wasser abgesetzter Rindenstein von Kalksinter, oder aber ein absichtlich aufgetragener künstlicher Mörtel sey. (– s. Götting. gel. Anzeigen 1791. 188 St. –)\n",
      "Metadata: J.F.Blumenbach, Handbuch der Naturgeschichte, ed. 12 (1830), §. 1.\n",
      "\n",
      "The prompt as passed to the model:\n",
      "\n",
      "text='You are a historian analysing a primary historical SOURCE, which is an eighteenth-century textbook on natural history by J. F. Blumenbach. First, generate a few sentences about historical hermeneutics. Then, follow the INSTRUCTION.\\nINSTRUCTION: Summarize what natural history was.\\nSOURCE: Alle Körper, die sich auf, und in unserer Erde finden, zeigen sich entweder in derselben Gestalt und Beschaffenheit, die sie aus der Hand des Schöpfers erhalten und durch die Wirkung der sich selbst überlassenen Naturkräfte angenommen haben; oder so wie sie durch Menschen und Thiere, zu bestimmten Absichten, oder auch durch bloßen Zufall verändert und gleichsam umgeschaffen worden sind Auf diese Verschiedenheit gründet sich die bekannte Eintheilung derselben in natürliche (naturalia), und durch Kunst verfertigte (artefacta). \\nDie erstern machen den Gegenstand der Naturgeschichte aus, und man pflegt alle Körper zu den Naturalien zu rechnen, die nur noch keine wesentliche Veränderung durch Menschen erlitten haben. Artefacten werden sie dann genannt, wenn der Mensch absichtlich Veränderungen mit ihnen vorgenommen Anm. 1. Daß übrigens jene Begriffe vom Wesentlichen und vom Absichtlichen im gegenwärtigen Falle bey so verschiedentlicher Rücksicht und Modification, nicht anders als relativ seyn können, bedarf wohl keiner Erinnerung. – Denn so könnte man ein Maulthier, oder einen Caraiben mit seinem durch die Kunst gemodelten Schedel und dergl. mehr, aus gewisser Rücksicht auch zu den Artefacten rechnen Anm. 2. Zuweilen können Naturalien manchen Kunstproducten so ähnlich seyn, daß sie schwer von einander zu unterscheiden sind.\\nMetadata: J.F.Blumenbach, Handbuch der Naturgeschichte, ed. 12 (1830), §. 1.\\n\\nAlle Körper, die sich auf, und in unserer Erde finden, zeigen sich entweder in derselben Gestalt und Beschaffenheit, die sie aus der Hand des Schöpfers erhalten und durch die Wirkung der sich selbst überlassenen Naturkräfte angenommen haben; oder so wie sie durch Menschen und Thiere, zu bestimmten Absichten, oder auch durch bloßen Zufall verändert und gleichsam umgeschaffen worden sind Auf diese Verschiedenheit gründet sich die bekannte Eintheilung derselben in natürliche (naturalia), und durch Kunst verfertigte (artefacta). \\nDie erstern machen den Gegenstand der Naturgeschichte aus, und man pflegt alle Körper zu den Naturalien zu rechnen, die nur noch keine wesentliche Veränderung durch Menschen erlitten haben. Artefacten werden sie dann genannt, wenn der Mensch absichtlich Veränderungen mit ihnen vorgenommen Anm. 1. Daß übrigens jene Begriffe vom Wesentlichen und vom Absichtlichen im gegenwärtigen Falle bey so verschiedentlicher Rücksicht und Modification, nicht anders als relativ seyn können, bedarf wohl keiner Erinnerung. – Denn so könnte man ein Maulthier, oder einen Caraiben mit seinem durch die Kunst gemodelten Schedel und dergl. mehr, aus gewisser Rücksicht auch zu den Artefacten rechnen Anm. 2. Zuweilen können Naturalien manchen Kunstproducten so ähnlich seyn, daß sie schwer von einander zu unterscheiden sind.\\nMetadata: J.F.Blumenbach, Handbuch der Naturgeschichte, ed. 12 (1830), §. 1.\\n\\nDenn so könnte man ein Maulthier, oder einen Caraiben mit seinem durch die Kunst gemodelten Schedel und dergl. mehr, aus gewisser Rücksicht auch zu den Artefacten rechnen Anm. 2. Zuweilen können Naturalien manchen Kunstproducten so ähnlich seyn, daß sie schwer von einander zu unterscheiden sind. Daher z. B. die ehedem getheilten Meinungen, ob der Ueberzug in der piscina mirabile bei Bajä ein von selbst aus dem Wasser abgesetzter Rindenstein von Kalksinter, oder aber ein absichtlich aufgetragener künstlicher Mörtel sey. (– s. Götting. gel. Anzeigen 1791. 188 St. –)\\nMetadata: J.F.Blumenbach, Handbuch der Naturgeschichte, ed. 12 (1830), §. 1.\\n\\nDenn so könnte man ein Maulthier, oder einen Caraiben mit seinem durch die Kunst gemodelten Schedel und dergl. mehr, aus gewisser Rücksicht auch zu den Artefacten rechnen Anm. 2. Zuweilen können Naturalien manchen Kunstproducten so ähnlich seyn, daß sie schwer von einander zu unterscheiden sind. Daher z. B. die ehedem getheilten Meinungen, ob der Ueberzug in der piscina mirabile bei Bajä ein von selbst aus dem Wasser abgesetzter Rindenstein von Kalksinter, oder aber ein absichtlich aufgetragener künstlicher Mörtel sey. (– s. Götting. gel. Anzeigen 1791. 188 St. –)\\nMetadata: J.F.Blumenbach, Handbuch der Naturgeschichte, ed. 12 (1830), §. 1.\\n '\n"
     ]
    }
   ],
   "source": [
    "topic = \"Information about natural history from the 1st paragraph of the 12th edition.\"\n",
    "instruction = \"Summarize what natural history was.\"\n",
    "inference = chain.invoke({\"topic\": topic, \"instruction\": instruction})"
   ]
  },
  {
   "cell_type": "code",
   "execution_count": 88,
   "id": "f7532bf0",
   "metadata": {},
   "outputs": [
    {
     "name": "stdout",
     "output_type": "stream",
     "text": [
      "================================== Ai Message ==================================\n",
      "\n",
      "Natural history, as described in the eighteenth-century textbook by J.F. Blumenbach, is the study of all bodies found on or within the Earth, either in their original form as created by the Creator and shaped by natural forces, or altered by humans and animals for specific purposes or by chance. This distinction leads to the classification of bodies into natural (naturalia) and artificially made (artefacta). Natural history focuses on bodies that have not undergone significant changes by humans, while artefacts are those intentionally altered by humans. Sometimes, natural bodies can closely resemble artificial products, making it difficult to distinguish between the two.\n"
     ]
    }
   ],
   "source": [
    "print(inference.pretty_repr())"
   ]
  },
  {
   "cell_type": "code",
   "execution_count": 89,
   "id": "f66522d3",
   "metadata": {},
   "outputs": [
    {
     "name": "stdout",
     "output_type": "stream",
     "text": [
      "Please insert a short comment: the 1st paragraph of the 12th edition\n"
     ]
    }
   ],
   "source": [
    "record_in_txt_metadata()"
   ]
  },
  {
   "cell_type": "markdown",
   "id": "86b46c2a",
   "metadata": {},
   "source": [
    "### c) Search by metadata in the register of the 1st edition"
   ]
  },
  {
   "cell_type": "markdown",
   "id": "d7f1383f",
   "metadata": {},
   "source": [
    "Additional computation needed for this step"
   ]
  },
  {
   "cell_type": "code",
   "execution_count": 90,
   "id": "3540241e",
   "metadata": {},
   "outputs": [],
   "source": [
    "# SelfQueryRetriever does not support faiss, so it is necessary to create the vectorstore again with Chroma\n",
    "with open(\"../data/pickles/ed1_docs_with_register_1500_400.pickle\", 'rb') as f:\n",
    "    docs_ed1_1500_with_reg = pickle.load(f)\n",
    "db_1ed_chroma = Chroma.from_documents(docs_ed1_1500_with_reg, hf_jina)"
   ]
  },
  {
   "cell_type": "code",
   "execution_count": 233,
   "id": "94aa7711",
   "metadata": {},
   "outputs": [],
   "source": [
    "# describe the metadata\n",
    "metadata_field_info = [\n",
    "    AttributeInfo(\n",
    "        name=\"source\",\n",
    "        description=\"The title of the book\",\n",
    "        type=\"string\",\n",
    "    ),\n",
    "    AttributeInfo(\n",
    "        name=\"autor\",\n",
    "        description=\"The name of the author of the book\",\n",
    "        type=\"string\",\n",
    "    ),\n",
    "    AttributeInfo(\n",
    "        name=\"edition\",\n",
    "        description=\"The edition of the book\",\n",
    "        type=\"integer\",\n",
    "    ),\n",
    "    AttributeInfo(\n",
    "        name=\"date\", \n",
    "        description=\"Year of publication of the book\", \n",
    "        type=\"integer\"\n",
    "    ),\n",
    "    \n",
    "    AttributeInfo(\n",
    "        name=\"language\", \n",
    "        description=\"The main language of the book\", \n",
    "        type=\"string\"\n",
    "    ),\n",
    "    \n",
    "    AttributeInfo(\n",
    "        name=\"in-text location\", \n",
    "        description=\"Topic of the section (e.g. Register 6th Chapter: Amphibien, I. REPTILES. means the register about amphibiens and reptiles; Register 13th Chapter: Saltze, I. ACIDA. means register about acid salts)\", \n",
    "        type=\"string\"\n",
    "    ),\n",
    "]\n",
    "\n",
    "# describe the contents \n",
    "document_content_description = \"A chunk from a book\""
   ]
  },
  {
   "cell_type": "code",
   "execution_count": 234,
   "id": "65c399fe",
   "metadata": {},
   "outputs": [
    {
     "name": "stdout",
     "output_type": "stream",
     "text": [
      "Please indicate which vector database is used.1st_edition_1500_with_register_chroma\n"
     ]
    }
   ],
   "source": [
    "# llm for retrieval (the default llm proposed in the class)\n",
    "llm_retrieval = ChatOpenAI(temperature=0) \n",
    "\n",
    "# initialize the retriever\n",
    "retriever = SelfQueryRetriever.from_llm(\n",
    "    llm_retrieval,\n",
    "    db_1ed_chroma,\n",
    "    document_content_description,\n",
    "    metadata_field_info,\n",
    ")\n",
    "\n",
    "vectorstore = input(\"Please indicate which vector database is used.\")"
   ]
  },
  {
   "cell_type": "markdown",
   "id": "16ba0750",
   "metadata": {},
   "source": [
    "The actual RAG pipeline starts here"
   ]
  },
  {
   "cell_type": "code",
   "execution_count": 240,
   "id": "688d075a",
   "metadata": {},
   "outputs": [],
   "source": [
    "template =\"\"\"You are a historian analysing a primary historical SOURCE, which is an eighteenth-century textbook on natural history by J. F. Blumenbach. First, generate a few sentences about historical hermeneutics. Then, follow the INSTRUCTION.\n",
    "INSTRUCTION: {instruction}\n",
    "SOURCE: {context} \"\"\"\n",
    "\n",
    "prompt = PromptTemplate.from_template(template)"
   ]
  },
  {
   "cell_type": "code",
   "execution_count": 241,
   "id": "b732ccc1",
   "metadata": {},
   "outputs": [],
   "source": [
    "# chain\n",
    "chain = (\n",
    "    {\"context\": itemgetter(\"topic\") | retriever | format_and_save_docs, \"instruction\": itemgetter(\"instruction\")}\n",
    "    | prompt | print_prompt\n",
    "    | llm\n",
    ")\n",
    "\n",
    "# note that this time the metadata are passed to the prompt by the format_docs_with_metadata function"
   ]
  },
  {
   "cell_type": "code",
   "execution_count": 245,
   "id": "49c2ff2b",
   "metadata": {},
   "outputs": [
    {
     "name": "stdout",
     "output_type": "stream",
     "text": [
      "Aculeata, der Goldwurm. A. ovalis hirsuta aculeata, pedibus utrinque 32. * Ein über alle Beschreibung prächtiges Geschöpf die Stacheln und Haare, womit es zumal an beiden Seiten besetzt ist, changiren, zumal im Sonnenschein, in alle mögliche Goldfarben: theils auch wie blaue Schwefelflammen u. s. w.\n",
      "Metadata: Blumenbach, Handbuch der Naturgeschichte, ed. 1 (1779), Register 9th Chapter: Würmer, I. MOLLUSCA., 1.\n",
      "\n",
      "Aurata. Der Goldbrachsen. S. lunula aurea inter oculos. * Hat fast in allen Sprachen seinen Namen von dem goldnen halben Mond vor den Augen. Hält sich im Sommer in der offnen See, die übrige Zeit aber am Gestade und in Flüssen auf. Er schläft zu gesetzter Zeit, was man bey andern Fischen nicht so bemerkt.\n",
      "Metadata: Blumenbach, Handbuch der Naturgeschichte, ed. 1 (1779), Register 7th Chapter: Fische, III. THORACICI., 1.\n",
      "\n",
      "† Chrysaëtos. der Goldadler, Steinadler. ( le grand Aigle, Buff.) F. cera lutea, pedibusque lauatis luteo-ferrugineis, corpore fusco ferrugineo vario, cauda nigra, basi cinereo-undulata. * Der Steinadler ist im gebirgichten Europa zu Hause, hat eine schöne Taille und grosse Stärke er lebt vom Raube kleiner Säugthiere und Vögel fällt aber auch wohl grosse Hirsche an, und versteht ihrer Herr zu werden. Er hat eine starke fürchterliche Stimme, und nistet auf hohen Felsenspitzen. Seine Jungen versorgt er mit dem besten Wildpret von Hasen, jungen Rehen ꝛc. und man pflegt daher im südlichen Frankreich und in andern Gegenden die Adler Neste für die Küche zu benutzen, indem man in Abwesenheit des alten Adlers sein Nest besteigt, den Jungen ihr Wildpret wieder abnimmt, und sie so gar, wenn sie bald erwachsen sind anbindet, damit sie noch über die gesetzte Zeit von der Mutter mit Speise versorgt werden mögen. Der Steinadler muß ein ausnehmend hohes Alter erreichen, da man sogar welche in Menagerien über hundert Jahre lebendig erhalten hat.\n",
      "Metadata: Blumenbach, Handbuch der Naturgeschichte, ed. 1 (1779), Register 5th Chapter: Vögeln, I. ACCIPITRES., 1.\n",
      "\n",
      "†. Aquatica. L. deaurata, antennis nigris femoribus posticis dentatis. * An allerhand Wasserpflanzen. Variirt in der Farbe, manche grün und Gold, andere braun und Gold ꝛc.\n",
      "Metadata: Blumenbach, Handbuch der Naturgeschichte, ed. 1 (1779), Register 8th Chapter: Insecten, I. COLEOPTERA., 1.\n",
      "\n",
      "The prompt as passed to the model:\n",
      "\n",
      "text='You are a historian analysing a primary historical SOURCE, which is an eighteenth-century textbook on natural history by J. F. Blumenbach. First, generate a few sentences about historical hermeneutics. Then, follow the INSTRUCTION.\\nINSTRUCTION: What is said about gold in the SOURCE?\\nSOURCE: Aculeata, der Goldwurm. A. ovalis hirsuta aculeata, pedibus utrinque 32. * Ein über alle Beschreibung prächtiges Geschöpf die Stacheln und Haare, womit es zumal an beiden Seiten besetzt ist, changiren, zumal im Sonnenschein, in alle mögliche Goldfarben: theils auch wie blaue Schwefelflammen u. s. w.\\nMetadata: Blumenbach, Handbuch der Naturgeschichte, ed. 1 (1779), Register 9th Chapter: Würmer, I. MOLLUSCA., 1.\\n\\nAurata. Der Goldbrachsen. S. lunula aurea inter oculos. * Hat fast in allen Sprachen seinen Namen von dem goldnen halben Mond vor den Augen. Hält sich im Sommer in der offnen See, die übrige Zeit aber am Gestade und in Flüssen auf. Er schläft zu gesetzter Zeit, was man bey andern Fischen nicht so bemerkt.\\nMetadata: Blumenbach, Handbuch der Naturgeschichte, ed. 1 (1779), Register 7th Chapter: Fische, III. THORACICI., 1.\\n\\n† Chrysaëtos. der Goldadler, Steinadler. ( le grand Aigle, Buff.) F. cera lutea, pedibusque lauatis luteo-ferrugineis, corpore fusco ferrugineo vario, cauda nigra, basi cinereo-undulata. * Der Steinadler ist im gebirgichten Europa zu Hause, hat eine schöne Taille und grosse Stärke er lebt vom Raube kleiner Säugthiere und Vögel fällt aber auch wohl grosse Hirsche an, und versteht ihrer Herr zu werden. Er hat eine starke fürchterliche Stimme, und nistet auf hohen Felsenspitzen. Seine Jungen versorgt er mit dem besten Wildpret von Hasen, jungen Rehen ꝛc. und man pflegt daher im südlichen Frankreich und in andern Gegenden die Adler Neste für die Küche zu benutzen, indem man in Abwesenheit des alten Adlers sein Nest besteigt, den Jungen ihr Wildpret wieder abnimmt, und sie so gar, wenn sie bald erwachsen sind anbindet, damit sie noch über die gesetzte Zeit von der Mutter mit Speise versorgt werden mögen. Der Steinadler muß ein ausnehmend hohes Alter erreichen, da man sogar welche in Menagerien über hundert Jahre lebendig erhalten hat.\\nMetadata: Blumenbach, Handbuch der Naturgeschichte, ed. 1 (1779), Register 5th Chapter: Vögeln, I. ACCIPITRES., 1.\\n\\n†. Aquatica. L. deaurata, antennis nigris femoribus posticis dentatis. * An allerhand Wasserpflanzen. Variirt in der Farbe, manche grün und Gold, andere braun und Gold ꝛc.\\nMetadata: Blumenbach, Handbuch der Naturgeschichte, ed. 1 (1779), Register 8th Chapter: Insecten, I. COLEOPTERA., 1.\\n '\n"
     ]
    }
   ],
   "source": [
    "topic = \"Fragments from register about gold\"\n",
    "instruction = \"What is said about gold in the SOURCE?\"\n",
    "inference = chain.invoke({\"topic\": topic, \"instruction\": instruction})"
   ]
  },
  {
   "cell_type": "code",
   "execution_count": 246,
   "id": "b6b62c5c",
   "metadata": {},
   "outputs": [
    {
     "name": "stdout",
     "output_type": "stream",
     "text": [
      "================================== Ai Message ==================================\n",
      "\n",
      "Historical hermeneutics is the study of interpreting historical texts and sources in order to understand the context, meaning, and significance of the information they provide. When analyzing a primary historical source like the eighteenth-century textbook on natural history by J. F. Blumenbach, it is important to consider the language, cultural context, and scientific knowledge of the time period in order to accurately interpret the information presented.\n",
      "\n",
      "In the SOURCE, gold is mentioned in relation to various creatures. The Goldwurm is described as having stunning gold colors on its spines and hairs, which shimmer in the sunlight. The Goldbrachsen, or Goldbrass, is noted for the golden crescent shape near its eyes. The Goldadler, or Golden Eagle, is described as having a beautiful and strong physique, living in mountainous regions, and preying on small mammals and birds. The deaurata insect is mentioned as varying in color, with some specimens being green and gold, while others are brown and gold. Gold is used to describe the physical appearance of these creatures, highlighting their beauty and uniqueness in the natural world.\n"
     ]
    }
   ],
   "source": [
    "print(inference.pretty_repr())"
   ]
  },
  {
   "cell_type": "code",
   "execution_count": 247,
   "id": "ec564b23",
   "metadata": {},
   "outputs": [
    {
     "name": "stdout",
     "output_type": "stream",
     "text": [
      "Please insert a short comment: again, the retriever doesn't work with the metadata properly\n"
     ]
    }
   ],
   "source": [
    "record_in_txt_metadata()"
   ]
  },
  {
   "cell_type": "markdown",
   "id": "d0b7223e",
   "metadata": {},
   "source": [
    "### d) Using information from metadata"
   ]
  },
  {
   "cell_type": "code",
   "execution_count": 11,
   "id": "05543fa8",
   "metadata": {},
   "outputs": [
    {
     "name": "stdout",
     "output_type": "stream",
     "text": [
      "Which vector database are you using? Please provide its name for record: db_1500_with_register\n",
      "Initialized the retriever out of db_1500_with_register. 20 documents will be retrieved.\n"
     ]
    }
   ],
   "source": [
    "retriever, retriever_hyperparameters = initialize_retriever(db_1500, k = 20)"
   ]
  },
  {
   "cell_type": "code",
   "execution_count": 28,
   "id": "af9d0baf",
   "metadata": {},
   "outputs": [],
   "source": [
    "template =\"\"\"You are a historian analysing a primary historical SOURCE, which are fragments from the 1st and the 12th edition of a historical textbook on natural history by J. F. Blumenbach. \n",
    "Each fragment is described by metadata. \n",
    "For example, if metadata include \"Register 6th Chapter: Amphibien, I. REPTILES\", the fragment is about the subclass of reptiles belonging to amphibian.\n",
    "For example, if metadata include \"Register 13th Chapter: Saltze, I. ACIDA\", the fragment is about the subclass of acid salts belonging to salts.\n",
    "For example, if metadata include \"Register 15th Chapter: Metalle, I. Eigentliche Metalle., B. Unedle Metalle., 4. stannvm, Zinn\", the fragment is about tin belonging to base metals, actual metals and metals.\n",
    "First, generate a few sentences about historical hermeneutics. Then, follow the INSTRUCTION.\n",
    "INSTRUCTION: {instruction}\n",
    "SOURCE: {context} \"\"\"\n",
    "prompt = PromptTemplate.from_template(template)"
   ]
  },
  {
   "cell_type": "code",
   "execution_count": 29,
   "id": "bf8a9d99",
   "metadata": {},
   "outputs": [],
   "source": [
    "# chain\n",
    "chain = (\n",
    "    {\"context\": itemgetter(\"topic\") | retriever | format_docs_with_metadata, \"instruction\": itemgetter(\"instruction\")}\n",
    "    | prompt | print_prompt\n",
    "    | llm\n",
    ")\n",
    "\n",
    "# note that this time the metadata are passed to the prompt by the format_docs_with_metadata function"
   ]
  },
  {
   "cell_type": "code",
   "execution_count": 45,
   "id": "0bb1c0aa",
   "metadata": {},
   "outputs": [
    {
     "name": "stdout",
     "output_type": "stream",
     "text": [
      "Man theilt die Metalle überhaupt in Ganze- oder eigentlich so genannte Metalle, und Halbmetalle, und begreift unter der lezten Abtheilung diejenigen, die nicht so geschmeidig als die erstern sind, und im Feuer größtentheils verflüchtigen. Von jenen hat man das Gold und Silber wegen ihrer größern Feuerbeständigkeit Edle und die übrigen Unedle Metalle genannt.\n",
      "Metadata: J.F.Blumenbach, Handbuch der Naturgeschichte, ed. 1 (1780), §. 242.\n",
      "\n",
      "So verschieden die Gestalten sind, unter denen sich die Metalle zeigen, so lassen sie sich doch am kürzesten auf zwey Hauptgattungen zurück bringen. Entweder nemlich finden sich die Erzte gediegen (metallum nudum s. natiuum) d. h in aller ihrer wahren metallischen Substanz und Ansehen, so daß sie ohne weitere Scheidung u. s. w sogleich verarbeitet werden könnten; oder aber vererzt, (mineralisatum) so daß ihnen der Mangel eines ihrer eigenthümlichen Bestandtheile, oder die innige Beymischung einer fremden Säure von Schwefel u. s. w. mehr oder weniger von ihrem eigentlichen Ansehen benimmt, ihre Gestalt verändert ꝛc.\n",
      "Metadata: J.F.Blumenbach, Handbuch der Naturgeschichte, ed. 1 (1780), §. 243.\n",
      "\n",
      "Die Metalle sind im Grunde sehr gemischte Körper, und haben wohl ohne Ausnahme einen dreyfachen Grundstoff in sich: ein Phlogiston nemlich, ein Salz und eine Erde Des erstern, des brennbaren Wesens, ist schon im vorigen Abschnitt (§. 239.) Erwähnung geschehen. Die Erzte erhalten durch dieses Phlogiston ihr ganzes metallisches Ansehen Geschmeidigkeit ꝛc. die sie sogleich verlieren, so bald ihnen dasselbe entzogen wird. Das Salz und die Erde, die die beyden andern Bestandtheile des Metalls ausmachen, sind von ganz eigner Art, und man muß über ihre wahre Natur erst noch eine nähere Ausklärung erwarten.\n",
      "Metadata: J.F.Blumenbach, Handbuch der Naturgeschichte, ed. 1 (1780), §. 241.\n",
      "\n",
      "Alle Mineralien lassen sich sehr füglich unter folgende Classen bringen:\n",
      "\n",
      "I. Erden und Steine II. Salze III. Erdharze IV. Metalle und Halbmetalle denen wir als eine Zugabe V. die Versteinerungen beygefügt haben.\n",
      "Metadata: J.F.Blumenbach, Handbuch der Naturgeschichte, ed. 1 (1780), §. 233.\n",
      "\n",
      "Und zwar auf zweyerley Weise. Erstens nemlich derb in Gestein; auch zuweilen, aber höchst selten, crystallinisch, wie wir dergleichen (in eben der Form, wie das crystallisirte Gold und Silber) in Zeolithnieren von der Insel Feroe besitzen: meist aber ohne bestimmte Form wie bey Cammsdorf ꝛc. Vor Alters wohl in Menge, und an vielen Orten, wie sich schon daraus muthmassen läßt, daß so viele alte Völker der Erde in der frühsten Kindheit ihrer Cultur sich kupferne Waffen verfertigt, da man ihnen schwerlich Metallurgie genug zutrauen darf, daß sie das Erzt aus Minern zu gewinnen, verstanden hätten Die zweyte Art gediegnes Kupfer, ist das aus Kupfervitriol, (anstatt des Eisens, das er angetroffen und aufgelößt hat), abgesetzte: dieß ist das Cämentkupfer, das im Rammelsberg und bey Neusol in Ungarn, und anderwerts sich findet, und durch altes Eisen, das man dem Vitriolwasser in Weg legt, gewonnen wird.\n",
      "Metadata: J.F.Blumenbach, Handbuch der Naturgeschichte, ed. 2 (1780), Register 15th Chapter: Metalle, I. Eigentliche Metalle., B. Unedle Metalle., 3. cvprvum, Kupfer, rubrum, perdurum, maxime sonorum.^^, 1. Nativum. Gediegen.\n",
      "\n",
      "Das nutzbarste wichtigste von allen Metallen das selbst, wenn es innerlich genossen wird, gesund und stärkend ist, das die Vorsehung deshalb auch über die ganze Erde verbreitet hat; das bey aller seiner Härte und schwehren Schmelzbarkeit doch sehr leicht von den unmerklichen überall verbreiteten Säuren (§. 229.) aufgelöst wird, und folglich durch die Nahrung in Thiere und Gewächse gebracht, und ihren Säften beygemischt wird. Die Knochen und das Blut des Menschen enthalten Eisen, und zwar in grösserer Proportion als das Blut irgend eines andern Thiers.\n",
      "Metadata: J.F.Blumenbach, Handbuch der Naturgeschichte, ed. 2 (1780), Register 15th Chapter: Metalle, I. Eigentliche Metalle., B. Unedle Metalle., 6. perrvm, Eisen, nigrescens, durissimum, magneti adhaerens.\n",
      "\n",
      "Ebenfalls ein flüchtiges und zugleich räuberisches Erzt, das ausser dem Gold und der Platina die übrigen Erzte mit sich fort nimmt; aber in der Arzney, und in der Metallurgie zur Reinigung des Goldes; auch für einige Handwerker, z. E für Schriftgiesser von wichtigem Nutzen ist.\n",
      "Metadata: J.F.Blumenbach, Handbuch der Naturgeschichte, ed. 2 (1780), Register 15th Chapter: Metalle, II. Halbmetalle., 11. antimonivm, Spießglas, (Stibium albidum, fibrosum, friabile.\n",
      "\n",
      "Man hat neuerlich bezweifeln wollen, ob sich die unedlen Metalle (§. 242.) würklich gediegen fänden. Nun haben wir zwar selbst erinnert\n",
      "(§. 229.), daß sie aus den angegebenen Ursachen leicht, und immer mehr und mehr vererzet würden, und es ist auch bekannt, wie leicht einige von ihnen z. E. Zinn und Bley ꝛc. aus ihren Minen ausschmelzen können. Allein dieses alles zugegeben, so kann deswegen die Existenz des wirklich gediegnen Kupfers, Eisens, Zinns ꝛc noch nicht abgeleugnet werden, wenn man sich nicht einen sonderbar eingeschränkten, und dem unsrigen (§. 1.) sehr widersprechenden Begriff von Naturalien bilden wollte, da man denn aber auch hundert andre Mineralien nicht dafür erkennen, sondern aus der Naturgeschichte verbannen müßte.\n",
      "Metadata: J.F.Blumenbach, Handbuch der Naturgeschichte, ed. 1 (1780), §. 244.\n",
      "\n",
      "Die erste und bey weiten ansehnlichste Classe begreift alle Mineralien, die sich weder wie die Salze in Wasser, noch wie die Erdharze in Oel auflösen, auch sich nicht wie die Erzte ohne zu zerspringen, hämmern und breit schlagen lassen. Die ältern Mineralogen haben die Erden und Steine von einander abgesondert und in zwey besondere Classen zertheilt. Allein der beständigen Wiederholungen zu geschweigen die bey dieser Absonderung unvermeidlich sind so beruht überhaupt der ganze Unterschied auf der sehr unbestimmten blos relativen Cohäsion die, wenn sie locker ist, Erden, und wenn sie feste wird, Steine constituiren soll.\n",
      "Metadata: J.F.Blumenbach, Handbuch der Naturgeschichte, ed. 1 (1780), §. 234.\n",
      "\n",
      "Die Eigenschaften der Mineralien, ihre Bildung, Dauer u. s. w. ist so sehr verschieden, und ihre Nutzbarkeit so überaus mannichfaltig, daß sich hier nichts allgemeines darüber sagen läßt, sondern unten bey der Anzeige der Arten angeführt werden muß.\n",
      "Metadata: J.F.Blumenbach, Handbuch der Naturgeschichte, ed. 1 (1780), §. 232.\n",
      "\n",
      "Ein sonderbares Erzt von Silberfarbe, aber von der Schwehre des Goldes, das aus kleinen gefletschten Körnchen wie Hammerschlag besteht wovon der Magnet einen Theil zieht; die überaus spröde, hart, und strengflüssig sind, und die seit 1736. bey Quito und Carthagena hin und wieder zerstreut gefunden werden. Vielleicht wie Herr Margraf glaubt, ein Hüttenproduct ein Abgang einer vor Zeiten in jenen Gegenden vorgenommenen Quickarbeit.\n",
      "Metadata: J.F.Blumenbach, Handbuch der Naturgeschichte, ed. 2 (1780), Register 15th Chapter: Metalle, II. Halbmetalle., 7. platina, Weisses Gold, alba, ponderosissima, granulata.\n",
      "\n",
      "Kupferfahlerzt Stahlfarb. Im Grund dasselbe, dessen wir so eben beym Silber gedacht haben: nur ärmer an Silber, und hingegen mehr kupferhaltig Dahin gehört auch das Kupferglaserzt, das von schwärzerer Farbe, als anderes Fahlerzt und zuweilen mit dunklen bunten Farben angeflogen ist.\n",
      "Metadata: J.F.Blumenbach, Handbuch der Naturgeschichte, ed. 2 (1780), Register 15th Chapter: Metalle, I. Eigentliche Metalle., B. Unedle Metalle., 3. cvprvum, Kupfer, rubrum, perdurum, maxime sonorum.^^, 2. Mineralisatum, vererzt., b) \n",
      "\n",
      "Ein wichtiges Erzt, das, wie schon oben angezeigt worden, das Kupfer zu Messing ꝛc. macht Der Zink schmilzt mit einer blaulicht grünen Flamme, und gibt verschiedne Arten von brauchbaren Galmeyarten oder Zinkkalken, wie die Turie, das Hüttennichts (Nihilum album) den Ofenbruch (Cadmia fornacum) ꝛc.\n",
      "Metadata: J.F.Blumenbach, Handbuch der Naturgeschichte, ed. 2 (1780), Register 15th Chapter: Metalle, II. Halbmetalle., 12. zincvm, Zink, Tuttanego, Conterfait, Spiauter, cinereum, micaceum tenax.\n",
      "\n",
      "Das Kupfer wird von alten Salzen, und zwar sehr leicht aufgelößt, färbt die Solution grün oder blau, und wird giftig: daher sich die Gefahr bey unvorsichtigen Gebrauch kupferner Küchengeschirre erklärt. Das beste Kupfer kommt aus Japan und Schweden. Durch Beymischung von Gold, Silber, Zinn, am meisten aber von Zink werden aus dem Kupfer die gemischten Metalle, weiß Kupfer, Glockengut, Canonenmetall, Messing, Tomback, Prinzmetall, Pinschbak, Pakfong, Similor und Mannheimer Gold verfertigt.\n",
      "Metadata: J.F.Blumenbach, Handbuch der Naturgeschichte, ed. 2 (1780), Register 15th Chapter: Metalle, I. Eigentliche Metalle., B. Unedle Metalle., 3. cvprvum, Kupfer, rubrum, perdurum, maxime sonorum.^^\n",
      "\n",
      "Sehr selten crystallisirt: in der gleichen Form wie das Gold: doch theils in ansehnlichen Crystallen, wie an einer Norwegischen Stufe im Museum Auserdem aber in sehr mannichfaltiger Gestalt nachdem verschiednen Grad der Reinigkeit und Geschmeidigkeit, z. E. in derben Stücken, wie der gediegne Silberblock im Museum, der vor 50. Jahren auf dem St. Andreas zum Andreasberge am Harz gebrochen, gegen 200. Mark am Gewicht, und 1644. Thaler am innern Werth hält; oder aber in Zacken wie Zähne, oder in Bäumgen dendritisch, asticht, oder wie Drat wie Filigrainearbeit u. s. w.\n",
      "Metadata: J.F.Blumenbach, Handbuch der Naturgeschichte, ed. 2 (1780), Register 15th Chapter: Metalle, I. Eigentliche Metalle., A. Edle., 2. argentvm, Silber, album, leuius ductile., 1. Natiuum, gediegen.\n",
      "\n",
      "Ein giftiges Metall, dessen Dämpfe jammervolle Krankheiten, Hüttenkatze, Lähmungen u s. w. verursachen; das auch zum Verfälschen der Weine misgebraucht, Colik, und theils den Tod wirkt hat. Hingegen wird es ausser dem allgemein bekannten Gebrauch auch durch die daraus verfertigten Farben, Bleyweiß, Bleygelb, Mennige ꝛc. durch die Goldglätte, Silberglätte ꝛc nutzbar.\n",
      "Metadata: J.F.Blumenbach, Handbuch der Naturgeschichte, ed. 2 (1780), Register 15th Chapter: Metalle, I. Eigentliche Metalle., B. Unedle Metalle., 5. plvmbvm, Bley, liuidum, mollissimum, ponderosum.\n",
      "\n",
      "Ein leichtes Metall, das, so wie das Bley eher schmelzt als glüht: auch leicht von Säuren angegriffen und aufgelößt wird, daher die zinnernen Eßgeschirre mit der gleichen Vorsicht als die küpfernen gebraucht werden müssen. Das Englische Zinn ist das beste: nächst diesem das von Malacca und von Siam. Einige Völker wie z. E. die Lappen kennen fast kein andres Metall;, sie ziehen es zu Dratfäden, und sticken ihre Pelze und ihr Rennthiergeschirr damit. Ausser allerhand Geräthe, das insgemein aus Zinn verfertigt wird, braucht man es vorzüglich zum Verzinnen des Eisenblechs, zu Spiegelfolie, Stanniol ꝛc.\n",
      "Metadata: J.F.Blumenbach, Handbuch der Naturgeschichte, ed. 2 (1780), Register 15th Chapter: Metalle, I. Eigentliche Metalle., B. Unedle Metalle., 4. stannvm, Zinn, (plumbum candidum veter.) album, molle, leue, flexum crepans.\n",
      "\n",
      "Man ist zwey Wege eingeschlagen, die Mineralien dieser, und überhaupt auch der übrigen Classen in systematische Ordnung zu bringen. Entweder nemlich werden sie nach ihrer äussern Bildung, oder aber nach der Mischung ihrer Bestandtheile angeordnet. Jenes blos nach dem Augenschein und Ansehen. Dieses mittelst der chimischen Auflösung. Man hat den letztern Weg vielleicht mit nicht bessern Grunde für untrüglich angepriesen, als man den erstern für völlig ungewiß zu verschreyen gesucht hat. Wir lassen jeden in seinen Würden, folgen aber dem erstern, so wie wir auch oben die Thiere blos nach ihrer äussern Bildung und nicht nach ihrem innern anatomischen Bau angeordnet haben: und so lassen sich denn alle Erd- und Steinarten füglich unter folgende drey Ordnungen bringen I. Calcariae. Kalkarten II. Argillaceae. Thonarten III. Siliceae s. vitrescibiles. Kieselarten Nach dem was wir oben von der Entstehung der Mineralien gesagt haben, so braucht es kaum wieder erinnert zu werden, daß sich diese dreyerley Erdarten nicht immer rein, sondern sehr häufig zwey oder alle drey unter einander gemischt finden: daß sich aber auch diese unreinen Erden sehr leicht in derjenigen Ordnung mit der sie die mehreste Gleichheit haben, unterbringen lassen.\n",
      "Metadata: J.F.Blumenbach, Handbuch der Naturgeschichte, ed. 1 (1780), §. 235.\n",
      "\n",
      "Und endlich müssen auch alle von Menschen schon verarbeitete Producte aus allen drey Naturreichen hier in Anschlag gebracht werden die ohne Ausnahme doch endlich, jedes nach seiner Weise vermodern oder verrosten, kurz so gut wie die Naturalien selbst, aus denen sie verfertiget waren, zerstört werden, und theils wenn sie schon ins Mineralreich übergegangen sind, noch das leserliche Gepräge ihrer ehemaligen Bestimmung an sich tragen. So ist im academischen Musäum eine Eisensteinstufe aus dem Zweybrückischen in die ein halb verochertes aber doch noch ganz kenntliches Bergeisen fest eingewachsen ist. So besitzen wir selbst einen antiken Siegelring, an dem das Metall ganz und gar zu einer festen Eisen miner vererzt ist, aber doch seine ehemalige Form behalten und den gegrabenen Onyx noch fest eingeschloffen gleichsam in sich verwachsen hält.\n",
      "Metadata: J.F.Blumenbach, Handbuch der Naturgeschichte, ed. 1 (1780), §. 230.\n",
      "\n",
      "Kupferkies Das allergemeinste Kupfererze, das, wie schon oben gesagt worden, zugleich Schwefel und Eisen, nur in verschiedner Proportion, enthält Je reicher es an Kupfer ist, desto dunkler goldgelber ist es. Zuweilen mit schönen blauen rothen ꝛc. Farben angeflogen, und heißt dann Pfauenschweifig oder Taubenhälsig.\n",
      "Metadata: J.F.Blumenbach, Handbuch der Naturgeschichte, ed. 2 (1780), Register 15th Chapter: Metalle, I. Eigentliche Metalle., B. Unedle Metalle., 3. cvprvum, Kupfer, rubrum, perdurum, maxime sonorum.^^, 2. Mineralisatum, vererzt., a) \n",
      "\n",
      "The prompt as passed to the model:\n",
      "\n",
      "text='You are a historian analysing a primary historical SOURCE, which are fragments from the 1st and the 12th edition of a historical textbook on natural history by J. F. Blumenbach. \\nEach fragment is described by metadata. \\nFor example, if metadata include \"Register 6th Chapter: Amphibien, I. REPTILES\", the fragment is about the subclass of reptiles belonging to amphibian.\\nFor example, if metadata include \"Register 13th Chapter: Saltze, I. ACIDA\", the fragment is about the subclass of acid salts belonging to salts.\\nFor example, if metadata include \"Register 15th Chapter: Metalle, I. Eigentliche Metalle., B. Unedle Metalle., 4. stannvm, Zinn\", the fragment is about tin belonging to base metals, actual metals and metals.\\nFirst, generate a few sentences about historical hermeneutics. Then, follow the INSTRUCTION.\\nINSTRUCTION: Provide all information from the SOURCE about base metals.\\nSOURCE: Man theilt die Metalle überhaupt in Ganze- oder eigentlich so genannte Metalle, und Halbmetalle, und begreift unter der lezten Abtheilung diejenigen, die nicht so geschmeidig als die erstern sind, und im Feuer größtentheils verflüchtigen. Von jenen hat man das Gold und Silber wegen ihrer größern Feuerbeständigkeit Edle und die übrigen Unedle Metalle genannt.\\nMetadata: J.F.Blumenbach, Handbuch der Naturgeschichte, ed. 1 (1780), §. 242.\\n\\nSo verschieden die Gestalten sind, unter denen sich die Metalle zeigen, so lassen sie sich doch am kürzesten auf zwey Hauptgattungen zurück bringen. Entweder nemlich finden sich die Erzte gediegen (metallum nudum s. natiuum) d. h in aller ihrer wahren metallischen Substanz und Ansehen, so daß sie ohne weitere Scheidung u. s. w sogleich verarbeitet werden könnten; oder aber vererzt, (mineralisatum) so daß ihnen der Mangel eines ihrer eigenthümlichen Bestandtheile, oder die innige Beymischung einer fremden Säure von Schwefel u. s. w. mehr oder weniger von ihrem eigentlichen Ansehen benimmt, ihre Gestalt verändert ꝛc.\\nMetadata: J.F.Blumenbach, Handbuch der Naturgeschichte, ed. 1 (1780), §. 243.\\n\\nDie Metalle sind im Grunde sehr gemischte Körper, und haben wohl ohne Ausnahme einen dreyfachen Grundstoff in sich: ein Phlogiston nemlich, ein Salz und eine Erde Des erstern, des brennbaren Wesens, ist schon im vorigen Abschnitt (§. 239.) Erwähnung geschehen. Die Erzte erhalten durch dieses Phlogiston ihr ganzes metallisches Ansehen Geschmeidigkeit ꝛc. die sie sogleich verlieren, so bald ihnen dasselbe entzogen wird. Das Salz und die Erde, die die beyden andern Bestandtheile des Metalls ausmachen, sind von ganz eigner Art, und man muß über ihre wahre Natur erst noch eine nähere Ausklärung erwarten.\\nMetadata: J.F.Blumenbach, Handbuch der Naturgeschichte, ed. 1 (1780), §. 241.\\n\\nAlle Mineralien lassen sich sehr füglich unter folgende Classen bringen:\\n\\nI. Erden und Steine II. Salze III. Erdharze IV. Metalle und Halbmetalle denen wir als eine Zugabe V. die Versteinerungen beygefügt haben.\\nMetadata: J.F.Blumenbach, Handbuch der Naturgeschichte, ed. 1 (1780), §. 233.\\n\\nUnd zwar auf zweyerley Weise. Erstens nemlich derb in Gestein; auch zuweilen, aber höchst selten, crystallinisch, wie wir dergleichen (in eben der Form, wie das crystallisirte Gold und Silber) in Zeolithnieren von der Insel Feroe besitzen: meist aber ohne bestimmte Form wie bey Cammsdorf ꝛc. Vor Alters wohl in Menge, und an vielen Orten, wie sich schon daraus muthmassen läßt, daß so viele alte Völker der Erde in der frühsten Kindheit ihrer Cultur sich kupferne Waffen verfertigt, da man ihnen schwerlich Metallurgie genug zutrauen darf, daß sie das Erzt aus Minern zu gewinnen, verstanden hätten Die zweyte Art gediegnes Kupfer, ist das aus Kupfervitriol, (anstatt des Eisens, das er angetroffen und aufgelößt hat), abgesetzte: dieß ist das Cämentkupfer, das im Rammelsberg und bey Neusol in Ungarn, und anderwerts sich findet, und durch altes Eisen, das man dem Vitriolwasser in Weg legt, gewonnen wird.\\nMetadata: J.F.Blumenbach, Handbuch der Naturgeschichte, ed. 2 (1780), Register 15th Chapter: Metalle, I. Eigentliche Metalle., B. Unedle Metalle., 3. cvprvum, Kupfer, rubrum, perdurum, maxime sonorum.^^, 1. Nativum. Gediegen.\\n\\nDas nutzbarste wichtigste von allen Metallen das selbst, wenn es innerlich genossen wird, gesund und stärkend ist, das die Vorsehung deshalb auch über die ganze Erde verbreitet hat; das bey aller seiner Härte und schwehren Schmelzbarkeit doch sehr leicht von den unmerklichen überall verbreiteten Säuren (§. 229.) aufgelöst wird, und folglich durch die Nahrung in Thiere und Gewächse gebracht, und ihren Säften beygemischt wird. Die Knochen und das Blut des Menschen enthalten Eisen, und zwar in grösserer Proportion als das Blut irgend eines andern Thiers.\\nMetadata: J.F.Blumenbach, Handbuch der Naturgeschichte, ed. 2 (1780), Register 15th Chapter: Metalle, I. Eigentliche Metalle., B. Unedle Metalle., 6. perrvm, Eisen, nigrescens, durissimum, magneti adhaerens.\\n\\nEbenfalls ein flüchtiges und zugleich räuberisches Erzt, das ausser dem Gold und der Platina die übrigen Erzte mit sich fort nimmt; aber in der Arzney, und in der Metallurgie zur Reinigung des Goldes; auch für einige Handwerker, z. E für Schriftgiesser von wichtigem Nutzen ist.\\nMetadata: J.F.Blumenbach, Handbuch der Naturgeschichte, ed. 2 (1780), Register 15th Chapter: Metalle, II. Halbmetalle., 11. antimonivm, Spießglas, (Stibium albidum, fibrosum, friabile.\\n\\nMan hat neuerlich bezweifeln wollen, ob sich die unedlen Metalle (§. 242.) würklich gediegen fänden. Nun haben wir zwar selbst erinnert\\n(§. 229.), daß sie aus den angegebenen Ursachen leicht, und immer mehr und mehr vererzet würden, und es ist auch bekannt, wie leicht einige von ihnen z. E. Zinn und Bley ꝛc. aus ihren Minen ausschmelzen können. Allein dieses alles zugegeben, so kann deswegen die Existenz des wirklich gediegnen Kupfers, Eisens, Zinns ꝛc noch nicht abgeleugnet werden, wenn man sich nicht einen sonderbar eingeschränkten, und dem unsrigen (§. 1.) sehr widersprechenden Begriff von Naturalien bilden wollte, da man denn aber auch hundert andre Mineralien nicht dafür erkennen, sondern aus der Naturgeschichte verbannen müßte.\\nMetadata: J.F.Blumenbach, Handbuch der Naturgeschichte, ed. 1 (1780), §. 244.\\n\\nDie erste und bey weiten ansehnlichste Classe begreift alle Mineralien, die sich weder wie die Salze in Wasser, noch wie die Erdharze in Oel auflösen, auch sich nicht wie die Erzte ohne zu zerspringen, hämmern und breit schlagen lassen. Die ältern Mineralogen haben die Erden und Steine von einander abgesondert und in zwey besondere Classen zertheilt. Allein der beständigen Wiederholungen zu geschweigen die bey dieser Absonderung unvermeidlich sind so beruht überhaupt der ganze Unterschied auf der sehr unbestimmten blos relativen Cohäsion die, wenn sie locker ist, Erden, und wenn sie feste wird, Steine constituiren soll.\\nMetadata: J.F.Blumenbach, Handbuch der Naturgeschichte, ed. 1 (1780), §. 234.\\n\\nDie Eigenschaften der Mineralien, ihre Bildung, Dauer u. s. w. ist so sehr verschieden, und ihre Nutzbarkeit so überaus mannichfaltig, daß sich hier nichts allgemeines darüber sagen läßt, sondern unten bey der Anzeige der Arten angeführt werden muß.\\nMetadata: J.F.Blumenbach, Handbuch der Naturgeschichte, ed. 1 (1780), §. 232.\\n\\nEin sonderbares Erzt von Silberfarbe, aber von der Schwehre des Goldes, das aus kleinen gefletschten Körnchen wie Hammerschlag besteht wovon der Magnet einen Theil zieht; die überaus spröde, hart, und strengflüssig sind, und die seit 1736. bey Quito und Carthagena hin und wieder zerstreut gefunden werden. Vielleicht wie Herr Margraf glaubt, ein Hüttenproduct ein Abgang einer vor Zeiten in jenen Gegenden vorgenommenen Quickarbeit.\\nMetadata: J.F.Blumenbach, Handbuch der Naturgeschichte, ed. 2 (1780), Register 15th Chapter: Metalle, II. Halbmetalle., 7. platina, Weisses Gold, alba, ponderosissima, granulata.\\n\\nKupferfahlerzt Stahlfarb. Im Grund dasselbe, dessen wir so eben beym Silber gedacht haben: nur ärmer an Silber, und hingegen mehr kupferhaltig Dahin gehört auch das Kupferglaserzt, das von schwärzerer Farbe, als anderes Fahlerzt und zuweilen mit dunklen bunten Farben angeflogen ist.\\nMetadata: J.F.Blumenbach, Handbuch der Naturgeschichte, ed. 2 (1780), Register 15th Chapter: Metalle, I. Eigentliche Metalle., B. Unedle Metalle., 3. cvprvum, Kupfer, rubrum, perdurum, maxime sonorum.^^, 2. Mineralisatum, vererzt., b) \\n\\nEin wichtiges Erzt, das, wie schon oben angezeigt worden, das Kupfer zu Messing ꝛc. macht Der Zink schmilzt mit einer blaulicht grünen Flamme, und gibt verschiedne Arten von brauchbaren Galmeyarten oder Zinkkalken, wie die Turie, das Hüttennichts (Nihilum album) den Ofenbruch (Cadmia fornacum) ꝛc.\\nMetadata: J.F.Blumenbach, Handbuch der Naturgeschichte, ed. 2 (1780), Register 15th Chapter: Metalle, II. Halbmetalle., 12. zincvm, Zink, Tuttanego, Conterfait, Spiauter, cinereum, micaceum tenax.\\n\\nDas Kupfer wird von alten Salzen, und zwar sehr leicht aufgelößt, färbt die Solution grün oder blau, und wird giftig: daher sich die Gefahr bey unvorsichtigen Gebrauch kupferner Küchengeschirre erklärt. Das beste Kupfer kommt aus Japan und Schweden. Durch Beymischung von Gold, Silber, Zinn, am meisten aber von Zink werden aus dem Kupfer die gemischten Metalle, weiß Kupfer, Glockengut, Canonenmetall, Messing, Tomback, Prinzmetall, Pinschbak, Pakfong, Similor und Mannheimer Gold verfertigt.\\nMetadata: J.F.Blumenbach, Handbuch der Naturgeschichte, ed. 2 (1780), Register 15th Chapter: Metalle, I. Eigentliche Metalle., B. Unedle Metalle., 3. cvprvum, Kupfer, rubrum, perdurum, maxime sonorum.^^\\n\\nSehr selten crystallisirt: in der gleichen Form wie das Gold: doch theils in ansehnlichen Crystallen, wie an einer Norwegischen Stufe im Museum Auserdem aber in sehr mannichfaltiger Gestalt nachdem verschiednen Grad der Reinigkeit und Geschmeidigkeit, z. E. in derben Stücken, wie der gediegne Silberblock im Museum, der vor 50. Jahren auf dem St. Andreas zum Andreasberge am Harz gebrochen, gegen 200. Mark am Gewicht, und 1644. Thaler am innern Werth hält; oder aber in Zacken wie Zähne, oder in Bäumgen dendritisch, asticht, oder wie Drat wie Filigrainearbeit u. s. w.\\nMetadata: J.F.Blumenbach, Handbuch der Naturgeschichte, ed. 2 (1780), Register 15th Chapter: Metalle, I. Eigentliche Metalle., A. Edle., 2. argentvm, Silber, album, leuius ductile., 1. Natiuum, gediegen.\\n\\nEin giftiges Metall, dessen Dämpfe jammervolle Krankheiten, Hüttenkatze, Lähmungen u s. w. verursachen; das auch zum Verfälschen der Weine misgebraucht, Colik, und theils den Tod wirkt hat. Hingegen wird es ausser dem allgemein bekannten Gebrauch auch durch die daraus verfertigten Farben, Bleyweiß, Bleygelb, Mennige ꝛc. durch die Goldglätte, Silberglätte ꝛc nutzbar.\\nMetadata: J.F.Blumenbach, Handbuch der Naturgeschichte, ed. 2 (1780), Register 15th Chapter: Metalle, I. Eigentliche Metalle., B. Unedle Metalle., 5. plvmbvm, Bley, liuidum, mollissimum, ponderosum.\\n\\nEin leichtes Metall, das, so wie das Bley eher schmelzt als glüht: auch leicht von Säuren angegriffen und aufgelößt wird, daher die zinnernen Eßgeschirre mit der gleichen Vorsicht als die küpfernen gebraucht werden müssen. Das Englische Zinn ist das beste: nächst diesem das von Malacca und von Siam. Einige Völker wie z. E. die Lappen kennen fast kein andres Metall;, sie ziehen es zu Dratfäden, und sticken ihre Pelze und ihr Rennthiergeschirr damit. Ausser allerhand Geräthe, das insgemein aus Zinn verfertigt wird, braucht man es vorzüglich zum Verzinnen des Eisenblechs, zu Spiegelfolie, Stanniol ꝛc.\\nMetadata: J.F.Blumenbach, Handbuch der Naturgeschichte, ed. 2 (1780), Register 15th Chapter: Metalle, I. Eigentliche Metalle., B. Unedle Metalle., 4. stannvm, Zinn, (plumbum candidum veter.) album, molle, leue, flexum crepans.\\n\\nMan ist zwey Wege eingeschlagen, die Mineralien dieser, und überhaupt auch der übrigen Classen in systematische Ordnung zu bringen. Entweder nemlich werden sie nach ihrer äussern Bildung, oder aber nach der Mischung ihrer Bestandtheile angeordnet. Jenes blos nach dem Augenschein und Ansehen. Dieses mittelst der chimischen Auflösung. Man hat den letztern Weg vielleicht mit nicht bessern Grunde für untrüglich angepriesen, als man den erstern für völlig ungewiß zu verschreyen gesucht hat. Wir lassen jeden in seinen Würden, folgen aber dem erstern, so wie wir auch oben die Thiere blos nach ihrer äussern Bildung und nicht nach ihrem innern anatomischen Bau angeordnet haben: und so lassen sich denn alle Erd- und Steinarten füglich unter folgende drey Ordnungen bringen I. Calcariae. Kalkarten II. Argillaceae. Thonarten III. Siliceae s. vitrescibiles. Kieselarten Nach dem was wir oben von der Entstehung der Mineralien gesagt haben, so braucht es kaum wieder erinnert zu werden, daß sich diese dreyerley Erdarten nicht immer rein, sondern sehr häufig zwey oder alle drey unter einander gemischt finden: daß sich aber auch diese unreinen Erden sehr leicht in derjenigen Ordnung mit der sie die mehreste Gleichheit haben, unterbringen lassen.\\nMetadata: J.F.Blumenbach, Handbuch der Naturgeschichte, ed. 1 (1780), §. 235.\\n\\nUnd endlich müssen auch alle von Menschen schon verarbeitete Producte aus allen drey Naturreichen hier in Anschlag gebracht werden die ohne Ausnahme doch endlich, jedes nach seiner Weise vermodern oder verrosten, kurz so gut wie die Naturalien selbst, aus denen sie verfertiget waren, zerstört werden, und theils wenn sie schon ins Mineralreich übergegangen sind, noch das leserliche Gepräge ihrer ehemaligen Bestimmung an sich tragen. So ist im academischen Musäum eine Eisensteinstufe aus dem Zweybrückischen in die ein halb verochertes aber doch noch ganz kenntliches Bergeisen fest eingewachsen ist. So besitzen wir selbst einen antiken Siegelring, an dem das Metall ganz und gar zu einer festen Eisen miner vererzt ist, aber doch seine ehemalige Form behalten und den gegrabenen Onyx noch fest eingeschloffen gleichsam in sich verwachsen hält.\\nMetadata: J.F.Blumenbach, Handbuch der Naturgeschichte, ed. 1 (1780), §. 230.\\n\\nKupferkies Das allergemeinste Kupfererze, das, wie schon oben gesagt worden, zugleich Schwefel und Eisen, nur in verschiedner Proportion, enthält Je reicher es an Kupfer ist, desto dunkler goldgelber ist es. Zuweilen mit schönen blauen rothen ꝛc. Farben angeflogen, und heißt dann Pfauenschweifig oder Taubenhälsig.\\nMetadata: J.F.Blumenbach, Handbuch der Naturgeschichte, ed. 2 (1780), Register 15th Chapter: Metalle, I. Eigentliche Metalle., B. Unedle Metalle., 3. cvprvum, Kupfer, rubrum, perdurum, maxime sonorum.^^, 2. Mineralisatum, vererzt., a) \\n '\n"
     ]
    }
   ],
   "source": [
    "topic = \"description of metals, gold, silver, etc.\"\n",
    "instruction = \"Provide all information from the SOURCE about base metals.\"\n",
    "inference = chain.invoke({\"topic\": topic, \"instruction\": instruction})"
   ]
  },
  {
   "cell_type": "code",
   "execution_count": 46,
   "id": "1aa1f0f4",
   "metadata": {},
   "outputs": [
    {
     "name": "stdout",
     "output_type": "stream",
     "text": [
      "================================== Ai Message ==================================\n",
      "\n",
      "Historical hermeneutics involves the interpretation and analysis of historical sources to understand the context, meaning, and significance of the information presented. In the study of historical texts, it is important to consider the metadata provided, such as the edition, chapter, and specific topic, to extract relevant information about a particular subject.\n",
      "\n",
      "From the SOURCE provided, information about base metals can be gathered from the following fragments:\n",
      "\n",
      "1. The classification of metals into noble and base metals, with gold and silver being considered noble due to their greater resistance to fire, while the rest are classified as base metals.\n",
      "2. Metals are composed of three main elements: phlogiston, salt, and earth. Base metals like copper and iron lose their metallic properties when deprived of phlogiston.\n",
      "3. Base metals are categorized under the class of metals and semi-metals, along with additional classifications like salts and earth resins.\n",
      "4. Detailed descriptions of base metals like copper, iron, tin, lead, and zinc, including their properties, uses, and origins.\n",
      "5. Discussions on the existence of native base metals and the importance of recognizing their presence in nature.\n",
      "6. The significance of base metals like iron, which are essential for human health and are found in bones and blood.\n",
      "\n",
      "By analyzing these fragments, a historian can gain insights into the historical understanding and classification of base metals in natural history during the 18th century.\n"
     ]
    }
   ],
   "source": [
    "print(inference.pretty_repr())"
   ]
  },
  {
   "cell_type": "code",
   "execution_count": 47,
   "id": "763361e6",
   "metadata": {},
   "outputs": [
    {
     "name": "stdout",
     "output_type": "stream",
     "text": [
      "Please insert a short comment: a great reply\n"
     ]
    }
   ],
   "source": [
    "record_in_txt_instruction(\"metadata_2\")"
   ]
  },
  {
   "cell_type": "code",
   "execution_count": null,
   "id": "b18c9479",
   "metadata": {},
   "outputs": [],
   "source": []
  }
 ],
 "metadata": {
  "kernelspec": {
   "display_name": "Python 3 (ipykernel)",
   "language": "python",
   "name": "python3"
  },
  "language_info": {
   "codemirror_mode": {
    "name": "ipython",
    "version": 3
   },
   "file_extension": ".py",
   "mimetype": "text/x-python",
   "name": "python",
   "nbconvert_exporter": "python",
   "pygments_lexer": "ipython3",
   "version": "3.10.9"
  }
 },
 "nbformat": 4,
 "nbformat_minor": 5
}
