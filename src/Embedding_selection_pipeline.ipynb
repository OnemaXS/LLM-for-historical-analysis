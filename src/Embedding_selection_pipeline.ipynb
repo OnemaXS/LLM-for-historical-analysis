{
 "cells": [
  {
   "cell_type": "markdown",
   "id": "db37fe05",
   "metadata": {},
   "source": [
    "# Pipeline for selection of embeddings"
   ]
  },
  {
   "cell_type": "markdown",
   "id": "c303e90c",
   "metadata": {},
   "source": [
    "**TABLE OF CONTENTS**\n",
    "1. Imports\n",
    "2. A list of sample questions, to which ground truth exists\n",
    "3. Trying out three multilingual embedding to compare their performance with the ground truth\n",
    "    * a) jinaai/jina-embeddings-v2-base-de\n",
    "    * b) intfloat/multilingual-e5-large\n",
    "    * c) T-Systems-onsite/cross-en-de-roberta-sentence-transformer"
   ]
  },
  {
   "cell_type": "markdown",
   "id": "9309acd0",
   "metadata": {},
   "source": [
    "## 1. Imports"
   ]
  },
  {
   "cell_type": "code",
   "execution_count": 1,
   "id": "669c15e2",
   "metadata": {},
   "outputs": [
    {
     "name": "stderr",
     "output_type": "stream",
     "text": [
      "/Users/Onema/anaconda3/envs/4llama_py11/lib/python3.10/site-packages/tqdm/auto.py:21: TqdmWarning: IProgress not found. Please update jupyter and ipywidgets. See https://ipywidgets.readthedocs.io/en/stable/user_install.html\n",
      "  from .autonotebook import tqdm as notebook_tqdm\n"
     ]
    }
   ],
   "source": [
    "from langchain.schema import Document\n",
    "from langchain.vectorstores import FAISS\n",
    "from langchain.embeddings import HuggingFaceEmbeddings\n",
    "import numpy as np\n",
    "import os\n",
    "os.environ[\"PROTOCOL_BUFFERS_PYTHON_IMPLEMENTATION\"]=\"python\"   \n",
    "# The above env var is for c) T-Systems-onsite/cross-en-de-roberta-sentence-transformer. \n",
    "# Might not be needed on a different machine.\n",
    "import pickle\n",
    "from transformers import AutoModel  # needed for the following workaround: https://github.com/langchain-ai/langchain/issues/6080"
   ]
  },
  {
   "cell_type": "markdown",
   "id": "710b730d",
   "metadata": {},
   "source": [
    "## 2. A list of sample questions, to which ground truth exists"
   ]
  },
  {
   "cell_type": "code",
   "execution_count": 2,
   "id": "1f8e5eb1",
   "metadata": {},
   "outputs": [],
   "source": [
    "question_list = [\"How do hamsters compare with marmots?\",\n",
    "                \"Which animals are the most beautiful?\",\n",
    "                \"Which body parts of birds make them capable of flight?\",\n",
    "                \"Where do hamsters live?\",\n",
    "                \"Is there a connection between climate and animal coloration?\"]"
   ]
  },
  {
   "cell_type": "markdown",
   "id": "1080a4a9",
   "metadata": {},
   "source": [
    "## 3. Trying out three multilingual embeddings to compare their performance with the ground truth"
   ]
  },
  {
   "cell_type": "code",
   "execution_count": 3,
   "id": "df24dd13",
   "metadata": {},
   "outputs": [],
   "source": [
    "# loading the document chunks of size 700\n",
    "\n",
    "# with register\n",
    "with open(\"../data/pickles/ed1_docs_with_register_700_200.pickle\", 'rb') as f:\n",
    "    docs_ed1_700_with_register = pickle.load(f)\n",
    "    \n",
    "# without register\n",
    "with open(\"../data/pickles/ed1_docs_without_register_700_200.pickle\", 'rb') as f:\n",
    "    docs_ed1_700_without_register = pickle.load(f)"
   ]
  },
  {
   "cell_type": "code",
   "execution_count": 4,
   "id": "7d8ab321",
   "metadata": {},
   "outputs": [],
   "source": [
    "def test_embedding(file_name, vectordb, model_name, question_list = question_list, retrieve_no = 5, \n",
    "                   save_path = \"../data/results/embeddings_evaluation\", register = True):\n",
    "    \n",
    "    if register:\n",
    "        regis_print = \"with\"\n",
    "    else:\n",
    "        regis_print = \"without\"\n",
    "        \n",
    "    path_to_save = f\"{save_path}/{file_name}_{regis_print}_register.txt\"\n",
    "    \n",
    "    with open(path_to_save, \"w\") as f:\n",
    "\n",
    "        print(f\"This is a trial with {model_name} and {regis_print} register\")\n",
    "        f.write(f\"This is a trial with {model_name} and {regis_print} register\\n\")\n",
    "        \n",
    "        for question in question_list:\n",
    "\n",
    "            print(f\"\\n\\nQuestion: {question}\")\n",
    "            f.write(f\"\\n\\nQuestion: {question}\\n\")\n",
    "\n",
    "            identified_docs = vectordb.similarity_search(question, retrieve_no)\n",
    "\n",
    "            for doc in identified_docs:\n",
    "                print(f\"\\n{doc.page_content}\\n(Metadata: {doc.metadata})\")\n",
    "                f.write(f\"\\n{doc.page_content}\\n(Metadata: {doc.metadata})\\n\")"
   ]
  },
  {
   "cell_type": "markdown",
   "id": "55899506",
   "metadata": {},
   "source": [
    "### a) jinaai/jina-embeddings-v2-base-de"
   ]
  },
  {
   "cell_type": "code",
   "execution_count": 5,
   "id": "261255e6",
   "metadata": {},
   "outputs": [
    {
     "name": "stderr",
     "output_type": "stream",
     "text": [
      "/Users/Onema/anaconda3/envs/4llama_py11/lib/python3.10/site-packages/tqdm/auto.py:21: TqdmWarning: IProgress not found. Please update jupyter and ipywidgets. See https://ipywidgets.readthedocs.io/en/stable/user_install.html\n",
      "  from .autonotebook import tqdm as notebook_tqdm\n"
     ]
    },
    {
     "name": "stdout",
     "output_type": "stream",
     "text": [
      "Token will not been saved to git credential helper. Pass `add_to_git_credential=True` if you want to set the git credential as well.\n",
      "Token is valid (permission: read).\n",
      "Your token has been saved to /Users/Onema/.cache/huggingface/token\n",
      "Login successful\n"
     ]
    }
   ],
   "source": [
    "from huggingface_hub import login\n",
    "login(token = hf_logging_token)   # UPDATE THE TOKEN FOR RUNNING THE NOTEBOOKS"
   ]
  },
  {
   "cell_type": "code",
   "execution_count": 7,
   "id": "193e4a23",
   "metadata": {},
   "outputs": [
    {
     "name": "stderr",
     "output_type": "stream",
     "text": [
      "config.json: 100%|█████████████████████████| 1.18k/1.18k [00:00<00:00, 1.13MB/s]\n",
      "configuration_bert.py: 100%|███████████████| 8.24k/8.24k [00:00<00:00, 11.5MB/s]\n",
      "A new version of the following files was downloaded from https://huggingface.co/jinaai/jina-bert-implementation:\n",
      "- configuration_bert.py\n",
      ". Make sure to double-check they do not contain any added malicious code. To avoid downloading new versions of the code file, you can pin a revision.\n",
      "modeling_bert.py: 100%|████████████████████| 97.5k/97.5k [00:00<00:00, 1.12MB/s]\n",
      "A new version of the following files was downloaded from https://huggingface.co/jinaai/jina-bert-implementation:\n",
      "- modeling_bert.py\n",
      ". Make sure to double-check they do not contain any added malicious code. To avoid downloading new versions of the code file, you can pin a revision.\n",
      "pytorch_model.bin: 100%|█████████████████████| 322M/322M [00:08<00:00, 36.2MB/s]\n",
      "/Users/Onema/anaconda3/envs/4llama_py11/lib/python3.10/site-packages/torch/_utils.py:831: UserWarning: TypedStorage is deprecated. It will be removed in the future and UntypedStorage will be the only storage class. This should only matter to you if you are using storages directly.  To access UntypedStorage directly, use tensor.untyped_storage() instead of tensor.storage()\n",
      "  return self.fget.__get__(instance, owner)()\n",
      "tokenizer_config.json: 100%|███████████████| 1.21k/1.21k [00:00<00:00, 4.01MB/s]\n",
      "vocab.json: 100%|██████████████████████████| 1.01M/1.01M [00:00<00:00, 4.59MB/s]\n",
      "merges.txt: 100%|████████████████████████████| 589k/589k [00:00<00:00, 3.35MB/s]\n",
      "tokenizer.json: 100%|██████████████████████| 2.63M/2.63M [00:00<00:00, 15.4MB/s]\n",
      "special_tokens_map.json: 100%|██████████████████| 280/280 [00:00<00:00, 544kB/s]\n"
     ]
    }
   ],
   "source": [
    "model = AutoModel.from_pretrained('jinaai/jina-embeddings-v2-base-de', trust_remote_code=True) "
   ]
  },
  {
   "cell_type": "code",
   "execution_count": 9,
   "id": "7276872a",
   "metadata": {},
   "outputs": [],
   "source": [
    "model_name = \"jinaai/jina-embeddings-v2-base-de\"\n",
    "model_kwargs = {'device': 'cpu'}\n",
    "hf_jina = HuggingFaceEmbeddings(\n",
    "    model_name=model_name,\n",
    "    model_kwargs=model_kwargs)"
   ]
  },
  {
   "cell_type": "markdown",
   "id": "f28866a6",
   "metadata": {},
   "source": [
    "#### With register"
   ]
  },
  {
   "cell_type": "code",
   "execution_count": 10,
   "id": "2b392c70",
   "metadata": {},
   "outputs": [],
   "source": [
    "vectordb_jina = FAISS.from_documents(documents = docs_ed1_700_with_register, \n",
    "                                embedding = hf_jina)"
   ]
  },
  {
   "cell_type": "code",
   "execution_count": 11,
   "id": "e32a46c8",
   "metadata": {
    "scrolled": true
   },
   "outputs": [
    {
     "name": "stdout",
     "output_type": "stream",
     "text": [
      "This is a trial with jinaai/jina-embeddings-v2-base-de and with register\n",
      "\n",
      "\n",
      "Question: How do hamsters compare with marmots?\n",
      "\n",
      "8. Taf. I. II Die Murmelthiere und die Hamster baden in Rücksicht ihres Körperbaues und ihrer Lebensart vieles mit einander gemein. Nur bewohnt der Hamster mehr nordliche Gegenden und flaches Land; da hingegen das Murmelthier weiter gegen Süden und im Gebürge zu finden ist. Sibirien, die Ukräne, das Elsas, Deutschland, und namentlich das Herzogthum Gotha sind das Vaterland des erstern. Ausser dem verschiedenen Aufenthalt zeichnen sich aber beide Thiere auch durch ihren sehr contrastirenden Charakter aus. Das Murmelthier war kirre, sehr leicht zu zähmen ꝛc lanter gute Seiten, von denen der Hamster keine einzige hat.\n",
      "(Metadata: {'source': 'Handbuch der Naturgeschichte', 'autor': 'Blumenbach', 'edition': 1, 'date': 1779, 'language': 'German', 'in-text location': 'Register 4th Chapter: Säugethiere, VI. GLIRES., 1774.'})\n",
      "\n",
      "Das Murmelthier war kirre, sehr leicht zu zähmen ꝛc lanter gute Seiten, von denen der Hamster keine einzige hat. Er ist ein beissiges boshaftes Thier was ausser dem Zorn kaum eine andere Leidenschaft kennt. Bey einer sehr unbeträchtlichen Leibesgrösse geht er doch Menschen und Pferde an und Hunde, die des Hamsterfangs ungewohnt sind, ziehen leicht gegen ihn den Kürzern. Er lebt von kleinen Thieren, jungen Pflanzen, doch vorzüglich von Getraide, wovon er erstaunlichen Vorrath in den Backentaschen zu seinen unterirdischen Hölen schleppet. Er vermehrt sich stark und man hat wohl eher im Gothaischen in einem Jahr, über 27000 Hamster getödtet. Der Pelz des Thiergens ist nicht viel werth.\n",
      "(Metadata: {'source': 'Handbuch der Naturgeschichte', 'autor': 'Blumenbach', 'edition': 1, 'date': 1779, 'language': 'German', 'in-text location': 'Register 4th Chapter: Säugethiere, VI. GLIRES., 1774.'})\n",
      "\n",
      "† Lunaris. S. exscutellatus, thorace bicorni: intermedio obtuso bifido, capitis cornu erecto, clypeo emarginato.* Hat die Grösse vom gemeinen Mistkäfer: ist vorzüglich hart, ganz schwarz, glänzend, und überaus artig gebildet. Das Männgen hat ein längeres Horn auf der Stirne als das Weibchen: und sein Brustschild ist sehr regelmässig ausgeschweift, zackigt Er lebt auf Wiesen und Viehweiden, vorzüglich im Ruhmist: aus dem er, wie andre verwandte Käferarten, hole Kugeln formt; die er einzeln unter die Erde verscharrt, an Graswurzeln befestigt, und in jede ein einziges Ey legt; damit die künftig daraus kriechende Larve aus dem Miste Nahrung, und bis zu ihrer Verwandlung sichern Aufenthalt habe.\n",
      "(Metadata: {'source': 'Handbuch der Naturgeschichte', 'autor': 'Blumenbach', 'edition': 1, 'date': 1779, 'language': 'German', 'in-text location': 'Register 8th Chapter: Insecten, I. COLEOPTERA., 3.'})\n",
      "\n",
      "Er vermehrt sich stark und man hat wohl eher im Gothaischen in einem Jahr, über 27000 Hamster getödtet. Der Pelz des Thiergens ist nicht viel werth. Es giebt eine ganz schwarze Spielart unter diesen Thieren: so wie auch weisse Blafards mit rosenrothen Augen.\n",
      "(Metadata: {'source': 'Handbuch der Naturgeschichte', 'autor': 'Blumenbach', 'edition': 1, 'date': 1779, 'language': 'German', 'in-text location': 'Register 4th Chapter: Säugethiere, VI. GLIRES., 1774.'})\n",
      "\n",
      "In der Gestalt, wie diese Insecten, die sich einer Metamorphose unterziehen, zuerst aus dem Ey kriechen, heisen sie Larven. Theils haben sie Füsse, wie die Raupen und Engerlinge theils aber keine, wie die Maden. Flügel haben sie noch nicht. Auch sind sie in diesem Zustand zur Fortpflanzung noch gänzlich unfähig: sie ernähren sich blos, und wachsen, und häuten sich mit unter einige mal.\n",
      "(Metadata: {'source': 'Handbuch der Naturgeschichte', 'autor': 'J.F.Blumenbach', 'edition': 1, 'date': 1779, 'language': 'German', 'in-text location': '§. 147.'})\n",
      "\n",
      "\n",
      "Question: Which animals are the most beautiful?\n",
      "\n",
      "Dieser ganz specifike Unterschied fällt zumal bey den Exemplaren beider Thiere, die im akademischen Museum von gleicher Grösse befindlich sind, sehr sichtlich in die Augen. \n",
      "3. Monitor. Die Sauvegarde. L. cauda carinata, corpore mutico maculis ocellatis. * \n",
      "Ein überaus schönes schwarz und weiß marmorirtes Thier, was ohngefär anderthalb Elen lang wird, und sich meist in Gesellschaft des Crocodils aufhalten, und durch den pfeifenden Laut, den es von sich giebt, seinen furchtbaren Gefährten verrathen soll. \n",
      "4. † Agilis. Die grüne Eidexe, Kupfer-Eidexe. L. cauda verticillata longiuscula, squamis acutis, collari subtus squamis constricto. * \n",
      "Rösel Gesch.\n",
      "(Metadata: {'source': 'Handbuch der Naturgeschichte', 'autor': 'J.F.Blumenbach', 'edition': 1, 'date': 1779, 'language': 'German', 'in-text location': '§. 112.'})\n",
      "\n",
      "Sibirien bat auch wilden Weizen, wildes Korn und wilde Gerste; aber beides, jene Pferde und diese Getraidearten, sind sicher erst durch Zufall dahin gekommen und nur mit der Zeit verwildert Die Talente des Pferds sind so mannigfaltig und so relativ, daß man keiner Race den absoluten Vorzug vor den übrigen zugestehen kan. Die Arabischen, Spanischen, Neapolitanischen und Englischen sind die schönsten Reitpferde. Die leztern haben überdem noch die ungemeine Geschwindigkeit voraus. Die Frisischen sind zum Zug am dauerhaftesten u. s. w. Die Pferde sind eigentlich Grasfressende Thiere, doch lassen sie sich im Nothfall auch an Thierische Nahrungsmittel gewöhnen Fett und Seife verabscheuen sie.\n",
      "(Metadata: {'source': 'Handbuch der Naturgeschichte', 'autor': 'Blumenbach', 'edition': 1, 'date': 1779, 'language': 'German', 'in-text location': 'Register 4th Chapter: Säugethiere, VIII. SOLIDUNGULA., 1.'})\n",
      "\n",
      "4. † Agilis. Die grüne Eidexe, Kupfer-Eidexe. L. cauda verticillata longiuscula, squamis acutis, collari subtus squamis constricto. * \n",
      "Rösel Gesch. der Frösche, Titelkupf Die schönste hieländische Eidexe, die sich über-\n",
      "Haupt im wärmern Europa und in Ostindien findet. Am Bauche ist sie zuweilen ganz kupferfarben, und das Grüne am Kopf, Rücken und Schwanz ist unverbesserlich. Dabey ist das Thierchen überaus flink, lebhaft, wohnt in trocknen Gegenden, auf Felsen, in Mauerritzen, sommert sich gern an der Sonne, und ist eben so unschuldig als alle übrige deutsche Eidexen. \n",
      "5. Chamaeleon. L. cauda tereti brevi incurva digitis duobus tribusque coadunatis. *\n",
      "(Metadata: {'source': 'Handbuch der Naturgeschichte', 'autor': 'J.F.Blumenbach', 'edition': 1, 'date': 1779, 'language': 'German', 'in-text location': '§. 112.'})\n",
      "\n",
      "Der Hund hat den feinsten Geruch und dieser Vorzug in Verbindung mit seiner Stärke und Geschwindigkeit macht ihn zur Jagd anderer Thiere geschickt. Er ist wachsam, lernt seinen Herrn und andre Wohlthäter kennen, unterscheidet ihre Stimme, und versteht sich sogar auf ihren Wink und Minen; ist erkenntlich, getreu, läst sich ungemein leicht zu künstlichen Handlungen abrichten, und nimmt mit weniger und geringer Kost vorlieb.\n",
      "(Metadata: {'source': 'Handbuch der Naturgeschichte', 'autor': 'Blumenbach', 'edition': 1, 'date': 1779, 'language': 'German', 'in-text location': 'Register 4th Chapter: Säugethiere, VII. FERAE., 17.'})\n",
      "\n",
      "Das ursprüngliche Vaterland der Pferde läßt sich eben so wenig, als der Hunde ihres, mit Gewißheit angeben. Die Schönheit dieser Thiere ist eine Folge der Cultur, mithin darf man bey weitem nicht die schönsten Pferde-Racen auch für die ältesten, und die minder schönen für ihre ansgearteten Abkömmlinge halten; so wenig als man Sibirien, seiner wilden Pferde wegen, für die Heimath der ganzen Gattung annehmen darf.\n",
      "(Metadata: {'source': 'Handbuch der Naturgeschichte', 'autor': 'Blumenbach', 'edition': 1, 'date': 1779, 'language': 'German', 'in-text location': 'Register 4th Chapter: Säugethiere, VIII. SOLIDUNGULA., 1.'})\n",
      "\n",
      "\n",
      "Question: Which body parts of birds make them capable of flight?\n",
      "\n",
      "Der ganze Körperbau der Vögel ist ihrer Bestimmung zum Fluge angemessen. Ihr Rumpf ist klein, eyförmig, und in seiner Structur gänzlich vom Rumpfe der Säugethiere verschieden. Das Brustbein änelt einer Pflugschaar, und dient den Vögeln vorzüglich, die Lust im Fluge zu durchschneiden. Zu beiden Seiten des Brustbeins liegen die ausnehmend grossen und starken Brustmuskeln, die vorzüglich die Flügel bewegen, und die, bey wilden Vögeln wenigstens, nie mit Fette bedeckt sind was sonst der Leichtigkeit im Fliegen und dem Zweck des Brustbeins hinderlich werden könnte Das Rückgrad ist unbeweglich; der Hals aber dagegen desto gelenker, und dabey in Verhältniß gegen den übrigen Körper ungemein lang.\n",
      "(Metadata: {'source': 'Handbuch der Naturgeschichte', 'autor': 'J.F.Blumenbach', 'edition': 1, 'date': 1779, 'language': 'German', 'in-text location': '§. 57.'})\n",
      "\n",
      "Auch der Kopf der Vögel ist bey den meisten verhältnismäßig klein, daher er ebenfalls die Luft leicht durchbohrt, und dadurch den Flug erleichtert. Ihre Gliedmassen sind überaus schlank, und fein gebaut, so daß sie nebst dem ausnehmend geringen Gewicht des ganzen Körpers, der Lebensart dieser Thiere, und besonders ihrem Aufenthalt und ihrer freyen Bewegung in dem Elemente, wofür die mehresten bestimmt sind, vollkommen entsprechen.\n",
      "(Metadata: {'source': 'Handbuch der Naturgeschichte', 'autor': 'J.F.Blumenbach', 'edition': 1, 'date': 1779, 'language': 'German', 'in-text location': '§. 58.'})\n",
      "\n",
      "Im innern Körperbau und in der Verrichtung der Eingeweide haben die Vögel viel Gleichheit mit der vorigen Elaste der warmblütigen Thiere. Nur zeichnen sie sich, ausser einigen minder beträchtlichen Verschiedenheiten durch besondre Luftbehälter aus, die in ihrem ganzen Körper zerstreut, und zum Fluge von äusserster Wichtigkeit sind. Die mehresten stehen mit den Lungen, andere aber mit dem Maule in Verbindung, und der Vogel kann sie nach Willkür mit Luft laden oder ausleeren, je nachdem er seinen Körper leichter oder schwerer machen will.\n",
      "(Metadata: {'source': 'Handbuch der Naturgeschichte', 'autor': 'J.F.Blumenbach', 'edition': 1, 'date': 1779, 'language': 'German', 'in-text location': '§. 64.'})\n",
      "\n",
      "Alle Vögel kommen in Rücksicht ihrer Bildung darin mit einander überein, daß sie zwey Füsse, zwey Flügel, einen hornichten Schnabel, und einen mit Federn bedeckten Körper haben. Sie zeichnen sich zugleich durch diese vier Charactere von allen andern Thieren aufs kenntlichste aus, und sie sind gleichsam eint ganz isolirte Classe von Geschöpfen, die mit keiner andern zusammenstießt, und die daher mit Mühe in einer Stufenfolge der natürlichen Körper (§. 7.) unterzubringen ist.\n",
      "(Metadata: {'source': 'Handbuch der Naturgeschichte', 'autor': 'J.F.Blumenbach', 'edition': 1, 'date': 1779, 'language': 'German', 'in-text location': '§. 56.'})\n",
      "\n",
      "Die Vögel dieser Ordnung werden durch ihre Schwimmfüße kenntlich, und äneln sowol hierin, als auch in ihrer Lebensart, den palmatis der vorigen Classe. Ihr Oberschnabel endigt sich meist in ein kurzes Häkgen, und ist wie, der untere mit einer zähen Haut überzogen. Sie haben eine fleischigte Zunge, einen rauhen stachelichten Gaum, und die mehrsten von ihnen vorn au der Luftröre eine besondre knorplichte oder knöcherne Capsel *), die vermuthlich zu gleichen Zwecken als die andern allgemeinen Luftbehälter, deren wir schon mehrmals gedacht haben, dienet.\n",
      "(Metadata: {'source': 'Handbuch der Naturgeschichte', 'autor': 'Blumenbach', 'edition': 1, 'date': 1779, 'language': 'German', 'in-text location': 'Register 5th Chapter: Vögeln, IV. ANSERES.'})\n",
      "\n",
      "\n",
      "Question: Where do hamsters live?\n",
      "\n",
      "8. Taf. I. II Die Murmelthiere und die Hamster baden in Rücksicht ihres Körperbaues und ihrer Lebensart vieles mit einander gemein. Nur bewohnt der Hamster mehr nordliche Gegenden und flaches Land; da hingegen das Murmelthier weiter gegen Süden und im Gebürge zu finden ist. Sibirien, die Ukräne, das Elsas, Deutschland, und namentlich das Herzogthum Gotha sind das Vaterland des erstern. Ausser dem verschiedenen Aufenthalt zeichnen sich aber beide Thiere auch durch ihren sehr contrastirenden Charakter aus. Das Murmelthier war kirre, sehr leicht zu zähmen ꝛc lanter gute Seiten, von denen der Hamster keine einzige hat.\n",
      "(Metadata: {'source': 'Handbuch der Naturgeschichte', 'autor': 'Blumenbach', 'edition': 1, 'date': 1779, 'language': 'German', 'in-text location': 'Register 4th Chapter: Säugethiere, VI. GLIRES., 1774.'})\n",
      "\n",
      "Der Aufenthalt dieser Thiere ist meist im Wasser: theils gar nur in fauligen Säfften oder doch in feuchten dumpfigen Orten. Einige leben blos unter der Erde: und viele lediglich im lebendigen Körper andrer Thiere, wie die Darmwürmer, Saamenthiergen u. s. w Viele leben gesellschaftlich an Corallen-Stämmen, auf Austerbänken ꝛc., doch werden diese mehr durch Noth oder Zufall, als durch Willkühr und in der Absicht sich wechselseitige Hülse zu leisten, zusammen gebracht.\n",
      "(Metadata: {'source': 'Handbuch der Naturgeschichte', 'autor': 'J.F.Blumenbach', 'edition': 1, 'date': 1779, 'language': 'German', 'in-text location': '§. 163.'})\n",
      "\n",
      "Gammarus, der Hummer. C. macrourus thorace laevi, rostro lateribus dentato: basi supra dente duplici. * In den Meeren der nördlichen Erde: wo er wie manche Fische zu gewissen Jahreszeiten hin und her zieht. Er ist sehr gefrässig, und hat einen geräumigen Magen, der durch besondre Grätenförmige Knochen ausgespannt und unterstützt wird.\n",
      "(Metadata: {'source': 'Handbuch der Naturgeschichte', 'autor': 'Blumenbach', 'edition': 1, 'date': 1779, 'language': 'German', 'in-text location': 'Register 8th Chapter: Insecten, Verwandlung, als daß sie sich meist einigemal, 4.'})\n",
      "\n",
      "Er vermehrt sich stark und man hat wohl eher im Gothaischen in einem Jahr, über 27000 Hamster getödtet. Der Pelz des Thiergens ist nicht viel werth. Es giebt eine ganz schwarze Spielart unter diesen Thieren: so wie auch weisse Blafards mit rosenrothen Augen.\n",
      "(Metadata: {'source': 'Handbuch der Naturgeschichte', 'autor': 'Blumenbach', 'edition': 1, 'date': 1779, 'language': 'German', 'in-text location': 'Register 4th Chapter: Säugethiere, VI. GLIRES., 1774.'})\n",
      "\n",
      "†. Citellus. das Erdzeiselgen, Suslik. M corpore longiore, capite parvo, pedibus brevibus pentadactylis. * Pallas, Nov. Comm. Petrop. Tom. XIV tab. 21 Die äussere Gestalt des Erdzeiselgen kommt des Hamsters seiner eben nicht sehr nahe; desto verwandter sind aber beide Thiere in Rücksicht ihres innern Körperbaues, der Backentaschen ihrer Lebensart, Nesterbaues, Winterschlafs u. s w. Nur, statt daß der Hamster fettes Erdreich liebt, so baut hingegen das Erdzeiselchen in dürrem sandichtem oder thonichtem Boden. Es sindet sich in Oesterreich, und Böhmen, doch nur in geringer Anzal; in größter Menge hingegen in Ungarn, Polen und Sibirien.\n",
      "(Metadata: {'source': 'Handbuch der Naturgeschichte', 'autor': 'Blumenbach', 'edition': 1, 'date': 1779, 'language': 'German', 'in-text location': 'Register 4th Chapter: Säugethiere, VI. GLIRES., 3.'})\n",
      "\n",
      "\n",
      "Question: Is there a connection between climate and animal coloration?\n",
      "\n",
      "Die übrigen Ursachen der Degeneration würken zwar langsam, aber kräftig. Wir rechnen dahin Einfluß des Himmelsstrichs, der Lebensart, der Nahrungsmittel u. s. w. Kaltes Klima unterdrückt das Wachsthum der organisirten K. und bringt auch weiße Farbe an ihnen hervor. Drum sind die Patagonier groß, die Grönländer klein; die Neger schwarz, die Deutschen weiß u.s.f. Was aber Lebensart, Cultur und Nahrung vermöge, davon sehn wir an unsern Hausthieren, und an den Pflanzen die in unsern Gärten künstlicher Pflege bedürfen, augenscheinliche Beyspiele.\n",
      "(Metadata: {'source': 'Handbuch der Naturgeschichte', 'autor': 'J.F.Blumenbach', 'edition': 1, 'date': 1779, 'language': 'German', 'in-text location': '§. 21.'})\n",
      "\n",
      "Die Natur, die in der Oekonomie der Vögel so viel sonderbares gehäuft hat, ist auch darinn von ihrer Regel abgewichen, daß sie die Schönheit der Farben und einige andere Vorzüge, womit sie sonst das weibliche Geschlecht unter den übrigen Thieren begünstigt, in dieser Classe den Männchen, und zwar ausschließlich, mitgetheilt hat. Was wir oben von den organisirten Körpern überhaupt gesagt haben, daß ihre Farben in kalten Climaten blaß und matt, in heißen Gegenden hingegen dunkler und höher sind findet sich vorzüglich bey den Vögeln bestätigt Die allerschönsten Vögel, die Pfauen, Colibri Papageyen ꝛc.\n",
      "(Metadata: {'source': 'Handbuch der Naturgeschichte', 'autor': 'J.F.Blumenbach', 'edition': 1, 'date': 1779, 'language': 'German', 'in-text location': '§. 63.'})\n",
      "\n",
      "21.) meist weiß: doch kann die gleiche Anomalie auch durch eine Krankheit, die mit der weissen Mohren ihrer viel Aehnlichkeit hat, bewirkt werden. Bey manchen ändert sich die Farbe nach der Jahrszeit wie beym Hasen, Eichhörnchen, Wiesel ꝛc und einige wechseln gar ihre Haare, und mausen sich gleichsam wie die Vögel: so das Caninchen von Angora, der Bison u. a.\n",
      "(Metadata: {'source': 'Handbuch der Naturgeschichte', 'autor': 'J.F.Blumenbach', 'edition': 1, 'date': 1779, 'language': 'German', 'in-text location': '§. 42.'})\n",
      "\n",
      "21.) wie eine Taube oder wie eine Tulpe, ausarten sollte? So brennt die Sonnenhitze die Mohren schwarz, und macht sie kraushaarigt; so wie hingegen die Kälte in Nordischen Zonen weisse Farbe und kleine Statur hervorbringt. Alle diese Verschiedenheiten fliessen so unvermerkt zusammen, daß sich eigentlich keine bestimmte Grenzen zwischen ihnen fest setzen lassen; doch haben wir das ganze Menschengeschlecht am füglichsten unter folgende fünf Varietäten zu bringen geglaubt;\n",
      "(Metadata: {'source': 'Handbuch der Naturgeschichte', 'autor': 'Blumenbach', 'edition': 1, 'date': 1779, 'language': 'German', 'in-text location': 'Register 4th Chapter: Säugethiere, I Ord. INERMIS.'})\n",
      "\n",
      "Die Farbe der Federn ist bey vielen Vögeln über alle Beschreibung schön. Sie werden durch die mannichfaltigen Nüancen der Coulenren, durch das Changeant von rothem oder grünem Golde, durch die theils so hellen brennenden Farben n. s. w. über alle übrigen Thiere erhoben, unter denen nur etwa manche Insecten den Vögeln, ihrer körperlichen Schönheit wegen, an die Seite gesetzt werden dürfen.\n",
      "(Metadata: {'source': 'Handbuch der Naturgeschichte', 'autor': 'J.F.Blumenbach', 'edition': 1, 'date': 1779, 'language': 'German', 'in-text location': '§. 63.'})\n"
     ]
    }
   ],
   "source": [
    "test_embedding(file_name = \"jina\", vectordb = vectordb_jina, \n",
    "               model_name = model_name, register = True)"
   ]
  },
  {
   "cell_type": "markdown",
   "id": "0cea504f",
   "metadata": {},
   "source": [
    "#### Without register"
   ]
  },
  {
   "cell_type": "code",
   "execution_count": 12,
   "id": "ad4d69b2",
   "metadata": {},
   "outputs": [],
   "source": [
    "vectordb_jina = FAISS.from_documents(documents = docs_ed1_700_without_register, \n",
    "                                embedding = hf_jina)"
   ]
  },
  {
   "cell_type": "code",
   "execution_count": 13,
   "id": "e1703ad4",
   "metadata": {},
   "outputs": [
    {
     "name": "stdout",
     "output_type": "stream",
     "text": [
      "This is a trial with jinaai/jina-embeddings-v2-base-de and without register\n",
      "\n",
      "\n",
      "Question: How do hamsters compare with marmots?\n",
      "\n",
      "In der Gestalt, wie diese Insecten, die sich einer Metamorphose unterziehen, zuerst aus dem Ey kriechen, heisen sie Larven. Theils haben sie Füsse, wie die Raupen und Engerlinge theils aber keine, wie die Maden. Flügel haben sie noch nicht. Auch sind sie in diesem Zustand zur Fortpflanzung noch gänzlich unfähig: sie ernähren sich blos, und wachsen, und häuten sich mit unter einige mal.\n",
      "(Metadata: {'source': 'Handbuch der Naturgeschichte', 'autor': 'J.F.Blumenbach', 'edition': 1, 'date': 1779, 'language': 'German', 'in-text location': '§. 147.'})\n",
      "\n",
      "Ausserdem gibt es aber noch eine Menge kleiner schorfiger moosartiger Gewächse, die schon in ihrem ganzen Bau von den übrigen abweichen und deren Fortpflanzung auf eine von den erzählten verschiedene, bis jetzt noch dunkle und nicht sattsam beobachtete Weise vor sich geht,\n",
      "(cryptogamia L.) Von einigen, wie von den Pilzen, Schwämmen, vom Schimmel ꝛc. haben wir schon oben (§. 6.) unsre Zweifel wegen des Naturreichs, zu dem sie zu zählen seyn mögen, geäussert. Der Bastard Pflanzen ist ebenfalls schon oben (§. 20.) Erwähnung geschehen.\n",
      "(Metadata: {'source': 'Handbuch der Naturgeschichte', 'autor': 'J.F.Blumenbach', 'edition': 1, 'date': 1780, 'language': 'German', 'in-text location': '§. 207.'})\n",
      "\n",
      "Die allermehresten Würmer sind wol Hermaphroditen, von denen jedes Individuum sein Geschlecht fortzupflanzen im Stande ist (§. \n",
      "18). Manche thun das, indem sie selbst in mehrere Stücke zerspringen, andere durch Sprossen, die sie aus ihrem Körper heraustreiben, andere durch Eyer die sie legen; oder durch lebendige Junge die sie gebären: und manche können sich wie die Arm-Polypen und Federbusch-Polypen auf mehrere der genannten Wege zugleich vermehren.\n",
      "(Metadata: {'source': 'Handbuch der Naturgeschichte', 'autor': 'J.F.Blumenbach', 'edition': 1, 'date': 1779, 'language': 'German', 'in-text location': '§. 166.'})\n",
      "\n",
      "Das Gehör und Gesicht der mehrsten Amphibien, zumal der Frösche und Eidexen, ist ausnehmend sein, ihr Gefühl hingegen und auch wol ihre übrigen Sinne stumpf. Gelehtig sind diese Thiere wol sehr wenig. Freylich hat mans noch nicht der Mühe werth gefunden, über ihre Talente zu experimentiren, aber ihre ganze Geschichte, ihr Naturell, ihre Instincte scheinen schon an sich gar wenig zu versprechen.\n",
      "(Metadata: {'source': 'Handbuch der Naturgeschichte', 'autor': 'J.F.Blumenbach', 'edition': 1, 'date': 1779, 'language': 'German', 'in-text location': '§. 108.'})\n",
      "\n",
      "Die Amphibien und Fische kommen, so wie in der Beschaffenheit des Bluts, so auch in der Einrichtung und Bildung ihres Herzens, mit einander überein: sie sind aber darinn von einander unterschieden, daß jene durch Lungen Athem hohlen, mithin auch Stimme von sich geben können; da die Fische hingegen blos durch Kiefern athmen, und niemals Lungen haben, folglich auch sowol als die Insecten und Würmer stumm sind.\n",
      "(Metadata: {'source': 'Handbuch der Naturgeschichte', 'autor': 'J.F.Blumenbach', 'edition': 1, 'date': 1779, 'language': 'German', 'in-text location': '§. 93.'})\n",
      "\n",
      "\n",
      "Question: Which animals are the most beautiful?\n",
      "\n",
      "Dieser ganz specifike Unterschied fällt zumal bey den Exemplaren beider Thiere, die im akademischen Museum von gleicher Grösse befindlich sind, sehr sichtlich in die Augen. \n",
      "3. Monitor. Die Sauvegarde. L. cauda carinata, corpore mutico maculis ocellatis. * \n",
      "Ein überaus schönes schwarz und weiß marmorirtes Thier, was ohngefär anderthalb Elen lang wird, und sich meist in Gesellschaft des Crocodils aufhalten, und durch den pfeifenden Laut, den es von sich giebt, seinen furchtbaren Gefährten verrathen soll. \n",
      "4. † Agilis. Die grüne Eidexe, Kupfer-Eidexe. L. cauda verticillata longiuscula, squamis acutis, collari subtus squamis constricto. * \n",
      "Rösel Gesch.\n",
      "(Metadata: {'source': 'Handbuch der Naturgeschichte', 'autor': 'J.F.Blumenbach', 'edition': 1, 'date': 1779, 'language': 'German', 'in-text location': '§. 112.'})\n",
      "\n",
      "4. † Agilis. Die grüne Eidexe, Kupfer-Eidexe. L. cauda verticillata longiuscula, squamis acutis, collari subtus squamis constricto. * \n",
      "Rösel Gesch. der Frösche, Titelkupf Die schönste hieländische Eidexe, die sich über-\n",
      "Haupt im wärmern Europa und in Ostindien findet. Am Bauche ist sie zuweilen ganz kupferfarben, und das Grüne am Kopf, Rücken und Schwanz ist unverbesserlich. Dabey ist das Thierchen überaus flink, lebhaft, wohnt in trocknen Gegenden, auf Felsen, in Mauerritzen, sommert sich gern an der Sonne, und ist eben so unschuldig als alle übrige deutsche Eidexen. \n",
      "5. Chamaeleon. L. cauda tereti brevi incurva digitis duobus tribusque coadunatis. *\n",
      "(Metadata: {'source': 'Handbuch der Naturgeschichte', 'autor': 'J.F.Blumenbach', 'edition': 1, 'date': 1779, 'language': 'German', 'in-text location': '§. 112.'})\n",
      "\n",
      "Selbst unter unsern hieländischen Amphibien giebt es einige, wie die grüne Eidexe, den Laubfrosch ꝛc. die in Rücksicht ihrer schönen Farben, ihres stinken, und doch unschuldigen Betragens, den artigsten Thieren anderer Classen an die Seite gesetzt werden dürfen.\n",
      "(Metadata: {'source': 'Handbuch der Naturgeschichte', 'autor': 'J.F.Blumenbach', 'edition': 1, 'date': 1779, 'language': 'German', 'in-text location': '§. 96.'})\n",
      "\n",
      "Die Natur, die in der Oekonomie der Vögel so viel sonderbares gehäuft hat, ist auch darinn von ihrer Regel abgewichen, daß sie die Schönheit der Farben und einige andere Vorzüge, womit sie sonst das weibliche Geschlecht unter den übrigen Thieren begünstigt, in dieser Classe den Männchen, und zwar ausschließlich, mitgetheilt hat. Was wir oben von den organisirten Körpern überhaupt gesagt haben, daß ihre Farben in kalten Climaten blaß und matt, in heißen Gegenden hingegen dunkler und höher sind findet sich vorzüglich bey den Vögeln bestätigt Die allerschönsten Vögel, die Pfauen, Colibri Papageyen ꝛc.\n",
      "(Metadata: {'source': 'Handbuch der Naturgeschichte', 'autor': 'J.F.Blumenbach', 'edition': 1, 'date': 1779, 'language': 'German', 'in-text location': '§. 63.'})\n",
      "\n",
      "Die mehresten Würmer haben unansehnliche Farben. Doch sind auch einige, wie die Seeanemonen, Seefedern, Aphroditen, und viele Conchylien von auserordentlicher Schönheit.\n",
      "(Metadata: {'source': 'Handbuch der Naturgeschichte', 'autor': 'J.F.Blumenbach', 'edition': 1, 'date': 1779, 'language': 'German', 'in-text location': '§. 159.'})\n",
      "\n",
      "\n",
      "Question: Which body parts of birds make them capable of flight?\n",
      "\n",
      "Der ganze Körperbau der Vögel ist ihrer Bestimmung zum Fluge angemessen. Ihr Rumpf ist klein, eyförmig, und in seiner Structur gänzlich vom Rumpfe der Säugethiere verschieden. Das Brustbein änelt einer Pflugschaar, und dient den Vögeln vorzüglich, die Lust im Fluge zu durchschneiden. Zu beiden Seiten des Brustbeins liegen die ausnehmend grossen und starken Brustmuskeln, die vorzüglich die Flügel bewegen, und die, bey wilden Vögeln wenigstens, nie mit Fette bedeckt sind was sonst der Leichtigkeit im Fliegen und dem Zweck des Brustbeins hinderlich werden könnte Das Rückgrad ist unbeweglich; der Hals aber dagegen desto gelenker, und dabey in Verhältniß gegen den übrigen Körper ungemein lang.\n",
      "(Metadata: {'source': 'Handbuch der Naturgeschichte', 'autor': 'J.F.Blumenbach', 'edition': 1, 'date': 1779, 'language': 'German', 'in-text location': '§. 57.'})\n",
      "\n",
      "Auch der Kopf der Vögel ist bey den meisten verhältnismäßig klein, daher er ebenfalls die Luft leicht durchbohrt, und dadurch den Flug erleichtert. Ihre Gliedmassen sind überaus schlank, und fein gebaut, so daß sie nebst dem ausnehmend geringen Gewicht des ganzen Körpers, der Lebensart dieser Thiere, und besonders ihrem Aufenthalt und ihrer freyen Bewegung in dem Elemente, wofür die mehresten bestimmt sind, vollkommen entsprechen.\n",
      "(Metadata: {'source': 'Handbuch der Naturgeschichte', 'autor': 'J.F.Blumenbach', 'edition': 1, 'date': 1779, 'language': 'German', 'in-text location': '§. 58.'})\n",
      "\n",
      "Im innern Körperbau und in der Verrichtung der Eingeweide haben die Vögel viel Gleichheit mit der vorigen Elaste der warmblütigen Thiere. Nur zeichnen sie sich, ausser einigen minder beträchtlichen Verschiedenheiten durch besondre Luftbehälter aus, die in ihrem ganzen Körper zerstreut, und zum Fluge von äusserster Wichtigkeit sind. Die mehresten stehen mit den Lungen, andere aber mit dem Maule in Verbindung, und der Vogel kann sie nach Willkür mit Luft laden oder ausleeren, je nachdem er seinen Körper leichter oder schwerer machen will.\n",
      "(Metadata: {'source': 'Handbuch der Naturgeschichte', 'autor': 'J.F.Blumenbach', 'edition': 1, 'date': 1779, 'language': 'German', 'in-text location': '§. 64.'})\n",
      "\n",
      "Alle Vögel kommen in Rücksicht ihrer Bildung darin mit einander überein, daß sie zwey Füsse, zwey Flügel, einen hornichten Schnabel, und einen mit Federn bedeckten Körper haben. Sie zeichnen sich zugleich durch diese vier Charactere von allen andern Thieren aufs kenntlichste aus, und sie sind gleichsam eint ganz isolirte Classe von Geschöpfen, die mit keiner andern zusammenstießt, und die daher mit Mühe in einer Stufenfolge der natürlichen Körper (§. 7.) unterzubringen ist.\n",
      "(Metadata: {'source': 'Handbuch der Naturgeschichte', 'autor': 'J.F.Blumenbach', 'edition': 1, 'date': 1779, 'language': 'German', 'in-text location': '§. 56.'})\n",
      "\n",
      "Zu diesen Luftbehaltern gehört vorzuglich ein lockres weiches Zellgewebe, was theils im Unterleibe, theils unter den Achseln und sonst noch unter der Haut verbreitet ist, und durchs Einathmen in die Lunge voll Luft gepumpt werden kau. Ausserdem dienen den Vögeln auch gewisse markleere hole Knochen, besonders die Schenkelknochen und die Schulterknochen im Flügel, auch das Rückgrad, das Brustbein, und manchen auch die Hirnschaale, zu gleichen Zwecken. Und endlich sind auch, nach unsern eignen Untersuchungen die ungeheuren Schnabel der Pfefferfraße Nashornvögel, Papageyen ꝛc. die berühmte Männer mit Unrecht für Werkzeuge, des Geruchs\n",
      "\n",
      " Cajetan. Monti, in Comment. instit. Bonon. T. III p. 298.\n",
      "(Metadata: {'source': 'Handbuch der Naturgeschichte', 'autor': 'J.F.Blumenbach', 'edition': 1, 'date': 1779, 'language': 'German', 'in-text location': '§. 64.'})\n",
      "\n",
      "\n",
      "Question: Where do hamsters live?\n",
      "\n",
      "Der Aufenthalt dieser Thiere ist meist im Wasser: theils gar nur in fauligen Säfften oder doch in feuchten dumpfigen Orten. Einige leben blos unter der Erde: und viele lediglich im lebendigen Körper andrer Thiere, wie die Darmwürmer, Saamenthiergen u. s. w Viele leben gesellschaftlich an Corallen-Stämmen, auf Austerbänken ꝛc., doch werden diese mehr durch Noth oder Zufall, als durch Willkühr und in der Absicht sich wechselseitige Hülse zu leisten, zusammen gebracht.\n",
      "(Metadata: {'source': 'Handbuch der Naturgeschichte', 'autor': 'J.F.Blumenbach', 'edition': 1, 'date': 1779, 'language': 'German', 'in-text location': '§. 163.'})\n",
      "\n",
      "5. Chamaeleon. L. cauda tereti brevi incurva digitis duobus tribusque coadunatis. * \n",
      "Das Chamäleon ist in Ostindien, Nord-Africa und auch in Spanien zu Hause, und wird wegen vieler Sonderbarheiten in seiner Oekonomie merkwürdig, die ehedem zu allerhand Erdichtungen Anlaß gegeben haben. Es hält sich auf Bäumen ans, und lebt von Insecten, die es fast wie der Ameisenbär mit einer langen fadenförmigen klebrichten Zunge zu fangen versteht.\n",
      "(Metadata: {'source': 'Handbuch der Naturgeschichte', 'autor': 'J.F.Blumenbach', 'edition': 1, 'date': 1779, 'language': 'German', 'in-text location': '§. 112.'})\n",
      "\n",
      "Der Aufenthalt der Fische ist blos im Wasser, worin sie sich so wie die Vögel in der Luft bewegen, daher sie auch, so wie andrer Aenlichkeit wegen, Geflügel des Wassers genannt worden sind. Nur sehr wenige, z. B der Aal, gehen zuweilen auf kurze Zeit ans Land. Die mehrsten leben in der offenbaren See, andre in Teichen und Flüssen. Die leztern halten sich meist in bestimmten Revieren auf, entfernen sich nicht aus ihren Wohnbezirken: daher man oft in kleinen Flüßgen an verschiednen Stellen auch verschiedne bestimmte Gattungen Fische findet; auch der Geschmack und andre Eigenschaften von Fischen derselben Gattung, in verschiednen Gegenden desselben Flusses, oft sehr auffallend differiren.\n",
      "(Metadata: {'source': 'Handbuch der Naturgeschichte', 'autor': 'J.F.Blumenbach', 'edition': 1, 'date': 1779, 'language': 'German', 'in-text location': '§. 119.'})\n",
      "\n",
      "Sie verkriechen sich wenn diese Zeit kommt, an sichre schaurige Orte wie die Murmelthiere, Hamster, Ameisen ꝛc in ihre Nester, die Fledermäuse in Hölen, die Frösche und einige Fische in Sümpfe, die Uferschwalben ins Schilf, die Schlangen und Schnecken ins Gebüsch u. s. w. und fallen mit einbrechender Kälte in eine Art von Erstarrung, aus der sie erst durch die erwärmenden Blicke der Frühlingssonne wieder erweckt werden.\n",
      "(Metadata: {'source': 'Handbuch der Naturgeschichte', 'autor': 'J.F.Blumenbach', 'edition': 1, 'date': 1779, 'language': 'German', 'in-text location': '§. 33.'})\n",
      "\n",
      "Der Aufenthalt der Säugthiere ist sehr verschieden. Die mehresten leben auf der Erde manche fast blos auf Bäumen, wie die Eichhörnchen, einige unter der Erde, wie der Maulwurf, andere bald auf dem Lande bald im Wasser, wie die Biber, Seebären, oder blos im Wasser wie die Wallfische. Hiernach sind nun auch die Füsse oder die änlichen Bewegungswerkzeuge dieser Thiere verschieden. Die mehresten haben vier Füsse, der Mensch nur zwey aber auch zwey Hände. Die meisten Affen haben vier Hände, und sie können die hintern wegen des abstehenden Daumens eben so wol zum greifen brauchen als die vordern. ( Taf. I. Fig. \n",
      "1 und 2).\n",
      "(Metadata: {'source': 'Handbuch der Naturgeschichte', 'autor': 'J.F.Blumenbach', 'edition': 1, 'date': 1779, 'language': 'German', 'in-text location': '§. 43.'})\n",
      "\n",
      "\n",
      "Question: Is there a connection between climate and animal coloration?\n",
      "\n",
      "Die übrigen Ursachen der Degeneration würken zwar langsam, aber kräftig. Wir rechnen dahin Einfluß des Himmelsstrichs, der Lebensart, der Nahrungsmittel u. s. w. Kaltes Klima unterdrückt das Wachsthum der organisirten K. und bringt auch weiße Farbe an ihnen hervor. Drum sind die Patagonier groß, die Grönländer klein; die Neger schwarz, die Deutschen weiß u.s.f. Was aber Lebensart, Cultur und Nahrung vermöge, davon sehn wir an unsern Hausthieren, und an den Pflanzen die in unsern Gärten künstlicher Pflege bedürfen, augenscheinliche Beyspiele.\n",
      "(Metadata: {'source': 'Handbuch der Naturgeschichte', 'autor': 'J.F.Blumenbach', 'edition': 1, 'date': 1779, 'language': 'German', 'in-text location': '§. 21.'})\n",
      "\n",
      "Die Natur, die in der Oekonomie der Vögel so viel sonderbares gehäuft hat, ist auch darinn von ihrer Regel abgewichen, daß sie die Schönheit der Farben und einige andere Vorzüge, womit sie sonst das weibliche Geschlecht unter den übrigen Thieren begünstigt, in dieser Classe den Männchen, und zwar ausschließlich, mitgetheilt hat. Was wir oben von den organisirten Körpern überhaupt gesagt haben, daß ihre Farben in kalten Climaten blaß und matt, in heißen Gegenden hingegen dunkler und höher sind findet sich vorzüglich bey den Vögeln bestätigt Die allerschönsten Vögel, die Pfauen, Colibri Papageyen ꝛc.\n",
      "(Metadata: {'source': 'Handbuch der Naturgeschichte', 'autor': 'J.F.Blumenbach', 'edition': 1, 'date': 1779, 'language': 'German', 'in-text location': '§. 63.'})\n",
      "\n",
      "21.) meist weiß: doch kann die gleiche Anomalie auch durch eine Krankheit, die mit der weissen Mohren ihrer viel Aehnlichkeit hat, bewirkt werden. Bey manchen ändert sich die Farbe nach der Jahrszeit wie beym Hasen, Eichhörnchen, Wiesel ꝛc und einige wechseln gar ihre Haare, und mausen sich gleichsam wie die Vögel: so das Caninchen von Angora, der Bison u. a.\n",
      "(Metadata: {'source': 'Handbuch der Naturgeschichte', 'autor': 'J.F.Blumenbach', 'edition': 1, 'date': 1779, 'language': 'German', 'in-text location': '§. 42.'})\n",
      "\n",
      "Die Farbe der Federn ist bey vielen Vögeln über alle Beschreibung schön. Sie werden durch die mannichfaltigen Nüancen der Coulenren, durch das Changeant von rothem oder grünem Golde, durch die theils so hellen brennenden Farben n. s. w. über alle übrigen Thiere erhoben, unter denen nur etwa manche Insecten den Vögeln, ihrer körperlichen Schönheit wegen, an die Seite gesetzt werden dürfen.\n",
      "(Metadata: {'source': 'Handbuch der Naturgeschichte', 'autor': 'J.F.Blumenbach', 'edition': 1, 'date': 1779, 'language': 'German', 'in-text location': '§. 63.'})\n",
      "\n",
      "Die Säugethiere zeigen in ihrer Bildung, in ihrer Lebensart ꝛc. so viel Verschiedenheit daß sich nur wenig Allgemeines von ihnen überhaupt sagen läßt, und man sich folglich bey ihrer speciellen Geschichte desto umständlicher zu seyn gedrungen sieht. Schon bey den Vögeln noch mehr aber bey den folgenden Thierclassen ist der Fall anders. Die Gattungen haben ausser ihrer Gestalt weniger eigenthümlich Auszeichnendes, und ihre Oekonomie zeigt so viel Einförmigkeit, daß man, um ewige Wiederholung zu vermeiden, das mehreste im allgemeinen Theil zusammen fassen, und blos die einzelnen abweichenden Eigenschaften bey der besondern Anzeige dieser Thiere nachtragen muß.\n",
      "(Metadata: {'source': 'Handbuch der Naturgeschichte', 'autor': 'J.F.Blumenbach', 'edition': 1, 'date': 1779, 'language': 'German', 'in-text location': '§. 55.'})\n"
     ]
    }
   ],
   "source": [
    "test_embedding(file_name = \"jina\", vectordb = vectordb_jina, \n",
    "               model_name = model_name, register = False)"
   ]
  },
  {
   "cell_type": "markdown",
   "id": "2fcc5b19",
   "metadata": {},
   "source": [
    "### b) intfloat/multilingual-e5-large"
   ]
  },
  {
   "cell_type": "code",
   "execution_count": 22,
   "id": "abcacdb8",
   "metadata": {},
   "outputs": [],
   "source": [
    "model_name = \"intfloat/multilingual-e5-large\"\n",
    "model_kwargs = {\"device\": \"cpu\"}\n",
    "encode_kwargs = {\"normalize_embeddings\": True}\n",
    "hf_intfloat = HuggingFaceEmbeddings(\n",
    "    model_name=model_name, model_kwargs=model_kwargs, encode_kwargs=encode_kwargs\n",
    ")  # if this returns a RuntimeError, restart the Jupyter Notebook"
   ]
  },
  {
   "cell_type": "markdown",
   "id": "66c07227",
   "metadata": {},
   "source": [
    "#### With register"
   ]
  },
  {
   "cell_type": "code",
   "execution_count": 23,
   "id": "1c4b4fd5",
   "metadata": {},
   "outputs": [],
   "source": [
    "vectordb_intfloat = FAISS.from_documents(documents = docs_ed1_700_with_register, \n",
    "                                embedding = hf_intfloat)"
   ]
  },
  {
   "cell_type": "code",
   "execution_count": 24,
   "id": "5a755495",
   "metadata": {
    "scrolled": true
   },
   "outputs": [
    {
     "name": "stdout",
     "output_type": "stream",
     "text": [
      "This is a trial with intfloat/multilingual-e5-large and with register\n",
      "\n",
      "\n",
      "Question: How do hamsters compare with marmots?\n",
      "\n",
      "8. Taf. I. II Die Murmelthiere und die Hamster baden in Rücksicht ihres Körperbaues und ihrer Lebensart vieles mit einander gemein. Nur bewohnt der Hamster mehr nordliche Gegenden und flaches Land; da hingegen das Murmelthier weiter gegen Süden und im Gebürge zu finden ist. Sibirien, die Ukräne, das Elsas, Deutschland, und namentlich das Herzogthum Gotha sind das Vaterland des erstern. Ausser dem verschiedenen Aufenthalt zeichnen sich aber beide Thiere auch durch ihren sehr contrastirenden Charakter aus. Das Murmelthier war kirre, sehr leicht zu zähmen ꝛc lanter gute Seiten, von denen der Hamster keine einzige hat.\n",
      "(Metadata: {'source': 'Handbuch der Naturgeschichte', 'autor': 'Blumenbach', 'edition': 1, 'date': 1779, 'language': 'German', 'in-text location': 'Register 4th Chapter: Säugethiere, VI. GLIRES., 1774.'})\n",
      "\n",
      "Gewönlich haben auch die Männchen, zu uns unbekannten Zwecken, dergleichen Brüste; doch fehlen sie einigen, wie den Hamstern, der Haselmaus u. a.m. gänzlich; bey andern sind sie doch in geringerer Anzal als der Weibchen ihre der Hund z. B. hat nur sechs Zitzen am Bauche die Hündin aber ausser diesen auch noch viere an der Brust; und allemal sind sie kleiner als beym weiblichen Geschlechte.\n",
      "(Metadata: {'source': 'Handbuch der Naturgeschichte', 'autor': 'J.F.Blumenbach', 'edition': 1, 'date': 1779, 'language': 'German', 'in-text location': '§. 41.'})\n",
      "\n",
      "Das Murmelthier war kirre, sehr leicht zu zähmen ꝛc lanter gute Seiten, von denen der Hamster keine einzige hat. Er ist ein beissiges boshaftes Thier was ausser dem Zorn kaum eine andere Leidenschaft kennt. Bey einer sehr unbeträchtlichen Leibesgrösse geht er doch Menschen und Pferde an und Hunde, die des Hamsterfangs ungewohnt sind, ziehen leicht gegen ihn den Kürzern. Er lebt von kleinen Thieren, jungen Pflanzen, doch vorzüglich von Getraide, wovon er erstaunlichen Vorrath in den Backentaschen zu seinen unterirdischen Hölen schleppet. Er vermehrt sich stark und man hat wohl eher im Gothaischen in einem Jahr, über 27000 Hamster getödtet. Der Pelz des Thiergens ist nicht viel werth.\n",
      "(Metadata: {'source': 'Handbuch der Naturgeschichte', 'autor': 'Blumenbach', 'edition': 1, 'date': 1779, 'language': 'German', 'in-text location': 'Register 4th Chapter: Säugethiere, VI. GLIRES., 1774.'})\n",
      "\n",
      "columba. Rostrum rectum versus apicem descendens.\n",
      "(Metadata: {'source': 'Handbuch der Naturgeschichte', 'autor': 'Blumenbach', 'edition': 1, 'date': 1779, 'language': 'German', 'in-text location': 'Register 5th Chapter: Vögeln, VII. GALLINAE., 41.'})\n",
      "\n",
      "Ihr Fleisch ist eßbar und wohlschmeckend. Gegen den Winter werben sie so fett, daß oft eins bey 20 Pfund wiegt. Sie schlafen alsdann vom October bis in den April; und nachdem der Winter hart oder gelind werden wird vermachen sie den Eingang zu ihren Hölen fester oder lockerer. In der Tatarey pflanzen sie den Rhabarber fort. 2. †. Cricetus. der Hamster. M. abdomine nigro. * F. G. Sulzers N. G. des Hamsters. Gött.\n",
      "(Metadata: {'source': 'Handbuch der Naturgeschichte', 'autor': 'Blumenbach', 'edition': 1, 'date': 1779, 'language': 'German', 'in-text location': 'Register 4th Chapter: Säugethiere, VI. GLIRES., 288.'})\n",
      "\n",
      "\n",
      "Question: Which animals are the most beautiful?\n",
      "\n",
      "Die Natur, die in der Oekonomie der Vögel so viel sonderbares gehäuft hat, ist auch darinn von ihrer Regel abgewichen, daß sie die Schönheit der Farben und einige andere Vorzüge, womit sie sonst das weibliche Geschlecht unter den übrigen Thieren begünstigt, in dieser Classe den Männchen, und zwar ausschließlich, mitgetheilt hat. Was wir oben von den organisirten Körpern überhaupt gesagt haben, daß ihre Farben in kalten Climaten blaß und matt, in heißen Gegenden hingegen dunkler und höher sind findet sich vorzüglich bey den Vögeln bestätigt Die allerschönsten Vögel, die Pfauen, Colibri Papageyen ꝛc.\n",
      "(Metadata: {'source': 'Handbuch der Naturgeschichte', 'autor': 'J.F.Blumenbach', 'edition': 1, 'date': 1779, 'language': 'German', 'in-text location': '§. 63.'})\n",
      "\n",
      "sind, so wie der Leopard und der Zebra, wie die schönsten Schmetterlinge und wie die schönsten Blumen, den heißen Zonen eigen.\n",
      "(Metadata: {'source': 'Handbuch der Naturgeschichte', 'autor': 'J.F.Blumenbach', 'edition': 1, 'date': 1779, 'language': 'German', 'in-text location': '§. 63.'})\n",
      "\n",
      "anguis. Squamae abdominales et subcaudales.\n",
      "(Metadata: {'source': 'Handbuch der Naturgeschichte', 'autor': 'Blumenbach', 'edition': 1, 'date': 1779, 'language': 'German', 'in-text location': 'Register 6th Chapter: Amphibien, II. SERPENTES., 8.'})\n",
      "\n",
      "elephas. proboscis longissima, prehenfilis, dentes laniarii superiores elongati.\n",
      "(Metadata: {'source': 'Handbuch der Naturgeschichte', 'autor': 'Blumenbach', 'edition': 1, 'date': 1779, 'language': 'German', 'in-text location': 'Register 4th Chapter: Säugethiere, X. BELLUAE., 35.'})\n",
      "\n",
      "phasianvs. Genae cute nuda laevigata.\n",
      "(Metadata: {'source': 'Handbuch der Naturgeschichte', 'autor': 'Blumenbach', 'edition': 1, 'date': 1779, 'language': 'German', 'in-text location': 'Register 5th Chapter: Vögeln, VII. GALLINAE., 38.'})\n",
      "\n",
      "\n",
      "Question: Which body parts of birds make them capable of flight?\n",
      "\n",
      "draco. Corpus tetrapodum caudatum, alatum.\n",
      "(Metadata: {'source': 'Handbuch der Naturgeschichte', 'autor': 'Blumenbach', 'edition': 1, 'date': 1779, 'language': 'German', 'in-text location': 'Register 6th Chapter: Amphibien, I. REPTILES., 3.'})\n",
      "\n",
      "Auch der Kopf der Vögel ist bey den meisten verhältnismäßig klein, daher er ebenfalls die Luft leicht durchbohrt, und dadurch den Flug erleichtert. Ihre Gliedmassen sind überaus schlank, und fein gebaut, so daß sie nebst dem ausnehmend geringen Gewicht des ganzen Körpers, der Lebensart dieser Thiere, und besonders ihrem Aufenthalt und ihrer freyen Bewegung in dem Elemente, wofür die mehresten bestimmt sind, vollkommen entsprechen.\n",
      "(Metadata: {'source': 'Handbuch der Naturgeschichte', 'autor': 'J.F.Blumenbach', 'edition': 1, 'date': 1779, 'language': 'German', 'in-text location': '§. 58.'})\n",
      "\n",
      "Grosse Landvögel, mit freyen unverbundenen Zehen, und kurzen zum Flug ungeschickten Flügeln ohne Schwungfedern.\n",
      "(Metadata: {'source': 'Handbuch der Naturgeschichte', 'autor': 'Blumenbach', 'edition': 1, 'date': 1779, 'language': 'German', 'in-text location': 'Register 5th Chapter: Vögeln, V. STRUTHIONES.'})\n",
      "\n",
      "byrrhvs. Antennae clavatae subsolidae subcompressae.\n",
      "(Metadata: {'source': 'Handbuch der Naturgeschichte', 'autor': 'Blumenbach', 'edition': 1, 'date': 1779, 'language': 'German', 'in-text location': 'Register 8th Chapter: Insecten, I. COLEOPTERA., 7.'})\n",
      "\n",
      "oniscus. Pedes 14. Antennae setaceae Corpus ovale.\n",
      "(Metadata: {'source': 'Handbuch der Naturgeschichte', 'autor': 'Blumenbach', 'edition': 1, 'date': 1779, 'language': 'German', 'in-text location': 'Register 8th Chapter: Insecten, Verwandlung, als daß sie sich meist einigemal, 84.'})\n",
      "\n",
      "\n",
      "Question: Where do hamsters live?\n",
      "\n",
      "Ihr Fleisch ist eßbar und wohlschmeckend. Gegen den Winter werben sie so fett, daß oft eins bey 20 Pfund wiegt. Sie schlafen alsdann vom October bis in den April; und nachdem der Winter hart oder gelind werden wird vermachen sie den Eingang zu ihren Hölen fester oder lockerer. In der Tatarey pflanzen sie den Rhabarber fort. 2. †. Cricetus. der Hamster. M. abdomine nigro. * F. G. Sulzers N. G. des Hamsters. Gött.\n",
      "(Metadata: {'source': 'Handbuch der Naturgeschichte', 'autor': 'Blumenbach', 'edition': 1, 'date': 1779, 'language': 'German', 'in-text location': 'Register 4th Chapter: Säugethiere, VI. GLIRES., 288.'})\n",
      "\n",
      "hystrix. Corpus spinis tectum.\n",
      "(Metadata: {'source': 'Handbuch der Naturgeschichte', 'autor': 'Blumenbach', 'edition': 1, 'date': 1779, 'language': 'German', 'in-text location': 'Register 4th Chapter: Säugethiere, IV. SCLERODERMATA., 8.'})\n",
      "\n",
      "tenthredo. Blatwespe. Os maxillis absque proboscide. Alae planae tumidae Aculeus laminis duabus serratis, vix prominentibus. Scutellum granis duobus impositis distantibus Die Larven leben von Laub, und finden sich besonders auf Rosenstöcken und Weiden. Verpuppen sich aber in der Erde.\n",
      "(Metadata: {'source': 'Handbuch der Naturgeschichte', 'autor': 'Blumenbach', 'edition': 1, 'date': 1779, 'language': 'German', 'in-text location': 'Register 8th Chapter: Insecten, V. HYMENOPTERA., 54.'})\n",
      "\n",
      "8. Taf. I. II Die Murmelthiere und die Hamster baden in Rücksicht ihres Körperbaues und ihrer Lebensart vieles mit einander gemein. Nur bewohnt der Hamster mehr nordliche Gegenden und flaches Land; da hingegen das Murmelthier weiter gegen Süden und im Gebürge zu finden ist. Sibirien, die Ukräne, das Elsas, Deutschland, und namentlich das Herzogthum Gotha sind das Vaterland des erstern. Ausser dem verschiedenen Aufenthalt zeichnen sich aber beide Thiere auch durch ihren sehr contrastirenden Charakter aus. Das Murmelthier war kirre, sehr leicht zu zähmen ꝛc lanter gute Seiten, von denen der Hamster keine einzige hat.\n",
      "(Metadata: {'source': 'Handbuch der Naturgeschichte', 'autor': 'Blumenbach', 'edition': 1, 'date': 1779, 'language': 'German', 'in-text location': 'Register 4th Chapter: Säugethiere, VI. GLIRES., 1774.'})\n",
      "\n",
      "†. Unicolor. H. totus ater, elytris substriatis. * In sandigen Boden und auf Viehweiden.\n",
      "(Metadata: {'source': 'Handbuch der Naturgeschichte', 'autor': 'Blumenbach', 'edition': 1, 'date': 1779, 'language': 'German', 'in-text location': 'Register 8th Chapter: Insecten, I. COLEOPTERA., 1.'})\n",
      "\n",
      "\n",
      "Question: Is there a connection between climate and animal coloration?\n",
      "\n",
      "Die übrigen Ursachen der Degeneration würken zwar langsam, aber kräftig. Wir rechnen dahin Einfluß des Himmelsstrichs, der Lebensart, der Nahrungsmittel u. s. w. Kaltes Klima unterdrückt das Wachsthum der organisirten K. und bringt auch weiße Farbe an ihnen hervor. Drum sind die Patagonier groß, die Grönländer klein; die Neger schwarz, die Deutschen weiß u.s.f. Was aber Lebensart, Cultur und Nahrung vermöge, davon sehn wir an unsern Hausthieren, und an den Pflanzen die in unsern Gärten künstlicher Pflege bedürfen, augenscheinliche Beyspiele.\n",
      "(Metadata: {'source': 'Handbuch der Naturgeschichte', 'autor': 'J.F.Blumenbach', 'edition': 1, 'date': 1779, 'language': 'German', 'in-text location': '§. 21.'})\n",
      "\n",
      "columba. Rostrum rectum versus apicem descendens.\n",
      "(Metadata: {'source': 'Handbuch der Naturgeschichte', 'autor': 'Blumenbach', 'edition': 1, 'date': 1779, 'language': 'German', 'in-text location': 'Register 5th Chapter: Vögeln, VII. GALLINAE., 41.'})\n",
      "\n",
      "anguis. Squamae abdominales et subcaudales.\n",
      "(Metadata: {'source': 'Handbuch der Naturgeschichte', 'autor': 'Blumenbach', 'edition': 1, 'date': 1779, 'language': 'German', 'in-text location': 'Register 6th Chapter: Amphibien, II. SERPENTES., 8.'})\n",
      "\n",
      "† Bovinus. T. oculis virescentibus, abdominis dorso maculis albis trigonis longitudinalibus. *\n",
      "(Metadata: {'source': 'Handbuch der Naturgeschichte', 'autor': 'Blumenbach', 'edition': 1, 'date': 1779, 'language': 'German', 'in-text location': 'Register 8th Chapter: Insecten, VI. DIPTERA., 1.'})\n",
      "\n",
      "† Rubra. F. testacea, oculis punctoque sub abdomine nigris. *\n",
      "(Metadata: {'source': 'Handbuch der Naturgeschichte', 'autor': 'Blumenbach', 'edition': 1, 'date': 1779, 'language': 'German', 'in-text location': 'Register 8th Chapter: Insecten, V. HYMENOPTERA., 3.'})\n"
     ]
    }
   ],
   "source": [
    "test_embedding(file_name = \"intfloat\", vectordb = vectordb_intfloat, \n",
    "               model_name = model_name, register = True)"
   ]
  },
  {
   "cell_type": "markdown",
   "id": "3f689981",
   "metadata": {},
   "source": [
    "#### Without register"
   ]
  },
  {
   "cell_type": "code",
   "execution_count": 25,
   "id": "683c5e49",
   "metadata": {},
   "outputs": [],
   "source": [
    "vectordb_intfloat = FAISS.from_documents(documents = docs_ed1_700_without_register, \n",
    "                                embedding = hf_intfloat)"
   ]
  },
  {
   "cell_type": "code",
   "execution_count": 26,
   "id": "f8e30b86",
   "metadata": {},
   "outputs": [
    {
     "name": "stdout",
     "output_type": "stream",
     "text": [
      "This is a trial with intfloat/multilingual-e5-large and without register\n",
      "\n",
      "\n",
      "Question: How do hamsters compare with marmots?\n",
      "\n",
      "Gewönlich haben auch die Männchen, zu uns unbekannten Zwecken, dergleichen Brüste; doch fehlen sie einigen, wie den Hamstern, der Haselmaus u. a.m. gänzlich; bey andern sind sie doch in geringerer Anzal als der Weibchen ihre der Hund z. B. hat nur sechs Zitzen am Bauche die Hündin aber ausser diesen auch noch viere an der Brust; und allemal sind sie kleiner als beym weiblichen Geschlechte.\n",
      "(Metadata: {'source': 'Handbuch der Naturgeschichte', 'autor': 'J.F.Blumenbach', 'edition': 1, 'date': 1779, 'language': 'German', 'in-text location': '§. 41.'})\n",
      "\n",
      "Sie verkriechen sich wenn diese Zeit kommt, an sichre schaurige Orte wie die Murmelthiere, Hamster, Ameisen ꝛc in ihre Nester, die Fledermäuse in Hölen, die Frösche und einige Fische in Sümpfe, die Uferschwalben ins Schilf, die Schlangen und Schnecken ins Gebüsch u. s. w. und fallen mit einbrechender Kälte in eine Art von Erstarrung, aus der sie erst durch die erwärmenden Blicke der Frühlingssonne wieder erweckt werden.\n",
      "(Metadata: {'source': 'Handbuch der Naturgeschichte', 'autor': 'J.F.Blumenbach', 'edition': 1, 'date': 1779, 'language': 'German', 'in-text location': '§. 33.'})\n",
      "\n",
      "sind, so wie der Leopard und der Zebra, wie die schönsten Schmetterlinge und wie die schönsten Blumen, den heißen Zonen eigen.\n",
      "(Metadata: {'source': 'Handbuch der Naturgeschichte', 'autor': 'J.F.Blumenbach', 'edition': 1, 'date': 1779, 'language': 'German', 'in-text location': '§. 63.'})\n",
      "\n",
      "II. Fig. 4. pedes lobati) oder zackichten Rand (Taf. II. Fig. 5. pedes pinnati) hat wie mit Franzen eingefaßt.\n",
      "(Metadata: {'source': 'Handbuch der Naturgeschichte', 'autor': 'J.F.Blumenbach', 'edition': 1, 'date': 1779, 'language': 'German', 'in-text location': '§. 66.'})\n",
      "\n",
      "zu ihrem Aufenthalt, zur Sicherheit für ihre Jungen, zum Fang ihres Raudes, und zu tausend andern Zwecken zu verfertigen wissen. Der Bau der Biber, die Hölen der Hamster, der Murmelthiere; die Nester der Eichhörnchen, der Vögel, der Insecten; die Spinneweben, die Fallgruben des Ameisenlöwen; ferner die Auswahl der Bau-Materialien, da die eine Gattung von Insecten ihre Zellen aus Wachs, eine andre verwandte Art die ihrigen aus Stein, eine dritte ans Holzspänchen, eine vierte aus Rosenblättern verfertigt die regelmäßige, aber ewig einförmige, Gestalt dieser Wohnungen u. s. w. geben unerschöpflich zahlreiche Beweise von der Grösse und Mannichfaltigkeit dieser unbegreiflichen Naturtriebe.\n",
      "(Metadata: {'source': 'Handbuch der Naturgeschichte', 'autor': 'J.F.Blumenbach', 'edition': 1, 'date': 1779, 'language': 'German', 'in-text location': '§. 36.'})\n",
      "\n",
      "\n",
      "Question: Which animals are the most beautiful?\n",
      "\n",
      "Die Natur, die in der Oekonomie der Vögel so viel sonderbares gehäuft hat, ist auch darinn von ihrer Regel abgewichen, daß sie die Schönheit der Farben und einige andere Vorzüge, womit sie sonst das weibliche Geschlecht unter den übrigen Thieren begünstigt, in dieser Classe den Männchen, und zwar ausschließlich, mitgetheilt hat. Was wir oben von den organisirten Körpern überhaupt gesagt haben, daß ihre Farben in kalten Climaten blaß und matt, in heißen Gegenden hingegen dunkler und höher sind findet sich vorzüglich bey den Vögeln bestätigt Die allerschönsten Vögel, die Pfauen, Colibri Papageyen ꝛc.\n",
      "(Metadata: {'source': 'Handbuch der Naturgeschichte', 'autor': 'J.F.Blumenbach', 'edition': 1, 'date': 1779, 'language': 'German', 'in-text location': '§. 63.'})\n",
      "\n",
      "sind, so wie der Leopard und der Zebra, wie die schönsten Schmetterlinge und wie die schönsten Blumen, den heißen Zonen eigen.\n",
      "(Metadata: {'source': 'Handbuch der Naturgeschichte', 'autor': 'J.F.Blumenbach', 'edition': 1, 'date': 1779, 'language': 'German', 'in-text location': '§. 63.'})\n",
      "\n",
      "Ueber die Sinne dieser Thiere und deren Werkzeuge läst sich noch weniger bestimmtes als über der Insecten ihre, sagen. Einige haben ungezweifelt wahre Augen, und andre, wie z. B. die Polypen, haben ohne Augen doch das feinste Gefül von Licht und Hellung.\n",
      "(Metadata: {'source': 'Handbuch der Naturgeschichte', 'autor': 'J.F.Blumenbach', 'edition': 1, 'date': 1779, 'language': 'German', 'in-text location': '§. 160.'})\n",
      "\n",
      "Die mehresten Würmer haben unansehnliche Farben. Doch sind auch einige, wie die Seeanemonen, Seefedern, Aphroditen, und viele Conchylien von auserordentlicher Schönheit.\n",
      "(Metadata: {'source': 'Handbuch der Naturgeschichte', 'autor': 'J.F.Blumenbach', 'edition': 1, 'date': 1779, 'language': 'German', 'in-text location': '§. 159.'})\n",
      "\n",
      "Die Farbe der Federn ist bey vielen Vögeln über alle Beschreibung schön. Sie werden durch die mannichfaltigen Nüancen der Coulenren, durch das Changeant von rothem oder grünem Golde, durch die theils so hellen brennenden Farben n. s. w. über alle übrigen Thiere erhoben, unter denen nur etwa manche Insecten den Vögeln, ihrer körperlichen Schönheit wegen, an die Seite gesetzt werden dürfen.\n",
      "(Metadata: {'source': 'Handbuch der Naturgeschichte', 'autor': 'J.F.Blumenbach', 'edition': 1, 'date': 1779, 'language': 'German', 'in-text location': '§. 63.'})\n",
      "\n",
      "\n",
      "Question: Which body parts of birds make them capable of flight?\n",
      "\n",
      "Auch der Kopf der Vögel ist bey den meisten verhältnismäßig klein, daher er ebenfalls die Luft leicht durchbohrt, und dadurch den Flug erleichtert. Ihre Gliedmassen sind überaus schlank, und fein gebaut, so daß sie nebst dem ausnehmend geringen Gewicht des ganzen Körpers, der Lebensart dieser Thiere, und besonders ihrem Aufenthalt und ihrer freyen Bewegung in dem Elemente, wofür die mehresten bestimmt sind, vollkommen entsprechen.\n",
      "(Metadata: {'source': 'Handbuch der Naturgeschichte', 'autor': 'J.F.Blumenbach', 'edition': 1, 'date': 1779, 'language': 'German', 'in-text location': '§. 58.'})\n",
      "\n",
      "Die Federn sind mit vielem Fett durchzogen wodurch sie leichter werden, und auch der Nässe desto besser widerstehen können. Die Vögel haben auch am Ende des Rückens besondere Fettdrüsen (uropygium, crissum), aus welchen sie das Oel mit dem Schnabel auspressen, und die Federn, besonders in den Flügeln, damit bestreichen. Dieß thun besonders die Wasservögel, und die kleinen Sangvögel im Fall sie sich baden wollen, oder wenn sie Regenwetter ver-\n",
      "Werken.\n",
      "(Metadata: {'source': 'Handbuch der Naturgeschichte', 'autor': 'J.F.Blumenbach', 'edition': 1, 'date': 1779, 'language': 'German', 'in-text location': '§. 62.'})\n",
      "\n",
      "Der ganze Körperbau der Vögel ist ihrer Bestimmung zum Fluge angemessen. Ihr Rumpf ist klein, eyförmig, und in seiner Structur gänzlich vom Rumpfe der Säugethiere verschieden. Das Brustbein änelt einer Pflugschaar, und dient den Vögeln vorzüglich, die Lust im Fluge zu durchschneiden. Zu beiden Seiten des Brustbeins liegen die ausnehmend grossen und starken Brustmuskeln, die vorzüglich die Flügel bewegen, und die, bey wilden Vögeln wenigstens, nie mit Fette bedeckt sind was sonst der Leichtigkeit im Fliegen und dem Zweck des Brustbeins hinderlich werden könnte Das Rückgrad ist unbeweglich; der Hals aber dagegen desto gelenker, und dabey in Verhältniß gegen den übrigen Körper ungemein lang.\n",
      "(Metadata: {'source': 'Handbuch der Naturgeschichte', 'autor': 'J.F.Blumenbach', 'edition': 1, 'date': 1779, 'language': 'German', 'in-text location': '§. 57.'})\n",
      "\n",
      "Alle Vögel kommen in Rücksicht ihrer Bildung darin mit einander überein, daß sie zwey Füsse, zwey Flügel, einen hornichten Schnabel, und einen mit Federn bedeckten Körper haben. Sie zeichnen sich zugleich durch diese vier Charactere von allen andern Thieren aufs kenntlichste aus, und sie sind gleichsam eint ganz isolirte Classe von Geschöpfen, die mit keiner andern zusammenstießt, und die daher mit Mühe in einer Stufenfolge der natürlichen Körper (§. 7.) unterzubringen ist.\n",
      "(Metadata: {'source': 'Handbuch der Naturgeschichte', 'autor': 'J.F.Blumenbach', 'edition': 1, 'date': 1779, 'language': 'German', 'in-text location': '§. 56.'})\n",
      "\n",
      "Zu diesen Luftbehaltern gehört vorzuglich ein lockres weiches Zellgewebe, was theils im Unterleibe, theils unter den Achseln und sonst noch unter der Haut verbreitet ist, und durchs Einathmen in die Lunge voll Luft gepumpt werden kau. Ausserdem dienen den Vögeln auch gewisse markleere hole Knochen, besonders die Schenkelknochen und die Schulterknochen im Flügel, auch das Rückgrad, das Brustbein, und manchen auch die Hirnschaale, zu gleichen Zwecken. Und endlich sind auch, nach unsern eignen Untersuchungen die ungeheuren Schnabel der Pfefferfraße Nashornvögel, Papageyen ꝛc. die berühmte Männer mit Unrecht für Werkzeuge, des Geruchs\n",
      "\n",
      " Cajetan. Monti, in Comment. instit. Bonon. T. III p. 298.\n",
      "(Metadata: {'source': 'Handbuch der Naturgeschichte', 'autor': 'J.F.Blumenbach', 'edition': 1, 'date': 1779, 'language': 'German', 'in-text location': '§. 64.'})\n",
      "\n",
      "\n",
      "Question: Where do hamsters live?\n",
      "\n",
      "Von den Landthieren dieser Classe, leben viele in dumpfichtem, feuchtem Dickicht, und die könnten freylich Linne's nachtheilige Aeuserung rechtfertigen; andere aber suchen sich auch recht trockne, anmuthige, der Sonnenwärme ausgesetzte Gegenden zur Wohnung aus; manche leben gar auf Bäumen u. s. w.\n",
      "(Metadata: {'source': 'Handbuch der Naturgeschichte', 'autor': 'J.F.Blumenbach', 'edition': 1, 'date': 1779, 'language': 'German', 'in-text location': '§. 97.'})\n",
      "\n",
      "Sie verkriechen sich wenn diese Zeit kommt, an sichre schaurige Orte wie die Murmelthiere, Hamster, Ameisen ꝛc in ihre Nester, die Fledermäuse in Hölen, die Frösche und einige Fische in Sümpfe, die Uferschwalben ins Schilf, die Schlangen und Schnecken ins Gebüsch u. s. w. und fallen mit einbrechender Kälte in eine Art von Erstarrung, aus der sie erst durch die erwärmenden Blicke der Frühlingssonne wieder erweckt werden.\n",
      "(Metadata: {'source': 'Handbuch der Naturgeschichte', 'autor': 'J.F.Blumenbach', 'edition': 1, 'date': 1779, 'language': 'German', 'in-text location': '§. 33.'})\n",
      "\n",
      "Gewönlich haben auch die Männchen, zu uns unbekannten Zwecken, dergleichen Brüste; doch fehlen sie einigen, wie den Hamstern, der Haselmaus u. a.m. gänzlich; bey andern sind sie doch in geringerer Anzal als der Weibchen ihre der Hund z. B. hat nur sechs Zitzen am Bauche die Hündin aber ausser diesen auch noch viere an der Brust; und allemal sind sie kleiner als beym weiblichen Geschlechte.\n",
      "(Metadata: {'source': 'Handbuch der Naturgeschichte', 'autor': 'J.F.Blumenbach', 'edition': 1, 'date': 1779, 'language': 'German', 'in-text location': '§. 41.'})\n",
      "\n",
      "5. Chamaeleon. L. cauda tereti brevi incurva digitis duobus tribusque coadunatis. * \n",
      "Das Chamäleon ist in Ostindien, Nord-Africa und auch in Spanien zu Hause, und wird wegen vieler Sonderbarheiten in seiner Oekonomie merkwürdig, die ehedem zu allerhand Erdichtungen Anlaß gegeben haben. Es hält sich auf Bäumen ans, und lebt von Insecten, die es fast wie der Ameisenbär mit einer langen fadenförmigen klebrichten Zunge zu fangen versteht.\n",
      "(Metadata: {'source': 'Handbuch der Naturgeschichte', 'autor': 'J.F.Blumenbach', 'edition': 1, 'date': 1779, 'language': 'German', 'in-text location': '§. 112.'})\n",
      "\n",
      "Diese unvollkommenen Geschöpft (larvae) leben blos im Wasser, wenn sie auch gleich in der Folge das trockene Land zu ihrem Aufenthalt wählen; und das blosse Athemholen durch Lungen würde ihnen für dieses Element nie zureichend seyn, wenn sie nicht für diese Zeit, doch oft nur wenige Tage durch, auch mit einer Art von Kiefern oder branchiis hinter den Ohren versehen wären Manche haben auch noch einige Zeit nachher zwey besondere gestreifte Eingeweide oder Afterlungen neben den wahren Lungen in der Brust die wohl ebenfalls das Respiriren erleichtern sollen.\n",
      "(Metadata: {'source': 'Handbuch der Naturgeschichte', 'autor': 'J.F.Blumenbach', 'edition': 1, 'date': 1779, 'language': 'German', 'in-text location': '§. 105.'})\n",
      "\n",
      "\n",
      "Question: Is there a connection between climate and animal coloration?\n",
      "\n",
      "Die übrigen Ursachen der Degeneration würken zwar langsam, aber kräftig. Wir rechnen dahin Einfluß des Himmelsstrichs, der Lebensart, der Nahrungsmittel u. s. w. Kaltes Klima unterdrückt das Wachsthum der organisirten K. und bringt auch weiße Farbe an ihnen hervor. Drum sind die Patagonier groß, die Grönländer klein; die Neger schwarz, die Deutschen weiß u.s.f. Was aber Lebensart, Cultur und Nahrung vermöge, davon sehn wir an unsern Hausthieren, und an den Pflanzen die in unsern Gärten künstlicher Pflege bedürfen, augenscheinliche Beyspiele.\n",
      "(Metadata: {'source': 'Handbuch der Naturgeschichte', 'autor': 'J.F.Blumenbach', 'edition': 1, 'date': 1779, 'language': 'German', 'in-text location': '§. 21.'})\n",
      "\n",
      "Die Natur, die in der Oekonomie der Vögel so viel sonderbares gehäuft hat, ist auch darinn von ihrer Regel abgewichen, daß sie die Schönheit der Farben und einige andere Vorzüge, womit sie sonst das weibliche Geschlecht unter den übrigen Thieren begünstigt, in dieser Classe den Männchen, und zwar ausschließlich, mitgetheilt hat. Was wir oben von den organisirten Körpern überhaupt gesagt haben, daß ihre Farben in kalten Climaten blaß und matt, in heißen Gegenden hingegen dunkler und höher sind findet sich vorzüglich bey den Vögeln bestätigt Die allerschönsten Vögel, die Pfauen, Colibri Papageyen ꝛc.\n",
      "(Metadata: {'source': 'Handbuch der Naturgeschichte', 'autor': 'J.F.Blumenbach', 'edition': 1, 'date': 1779, 'language': 'German', 'in-text location': '§. 63.'})\n",
      "\n",
      "21.) meist weiß: doch kann die gleiche Anomalie auch durch eine Krankheit, die mit der weissen Mohren ihrer viel Aehnlichkeit hat, bewirkt werden. Bey manchen ändert sich die Farbe nach der Jahrszeit wie beym Hasen, Eichhörnchen, Wiesel ꝛc und einige wechseln gar ihre Haare, und mausen sich gleichsam wie die Vögel: so das Caninchen von Angora, der Bison u. a.\n",
      "(Metadata: {'source': 'Handbuch der Naturgeschichte', 'autor': 'J.F.Blumenbach', 'edition': 1, 'date': 1779, 'language': 'German', 'in-text location': '§. 42.'})\n",
      "\n",
      "sind, so wie der Leopard und der Zebra, wie die schönsten Schmetterlinge und wie die schönsten Blumen, den heißen Zonen eigen.\n",
      "(Metadata: {'source': 'Handbuch der Naturgeschichte', 'autor': 'J.F.Blumenbach', 'edition': 1, 'date': 1779, 'language': 'German', 'in-text location': '§. 63.'})\n",
      "\n",
      "sind allerdings fruchtbar. Hingegen können wir schwerlich glauben, daß man je aus der Vermischung von Caninchen und Hünern, oder von Stieren und Stuten, auch nur unfruchtbare Bastarden gezogen habe, so wie folgends die von Menschen und Vieh, aus mehr als blos physischen Gründen, absolut zu leugnen sind.\n",
      "(Metadata: {'source': 'Handbuch der Naturgeschichte', 'autor': 'J.F.Blumenbach', 'edition': 1, 'date': 1779, 'language': 'German', 'in-text location': '§. 20.'})\n"
     ]
    }
   ],
   "source": [
    "test_embedding(file_name = \"intfloat\", vectordb = vectordb_intfloat, \n",
    "               model_name = model_name, register = False)"
   ]
  },
  {
   "cell_type": "markdown",
   "id": "4124163f",
   "metadata": {},
   "source": [
    "### c) T-Systems-onsite/cross-en-de-roberta-sentence-transformer"
   ]
  },
  {
   "cell_type": "code",
   "execution_count": 5,
   "id": "3d5a6df9",
   "metadata": {},
   "outputs": [
    {
     "name": "stderr",
     "output_type": "stream",
     "text": [
      "/Users/Onema/anaconda3/envs/4llama_py11/lib/python3.10/site-packages/tqdm/auto.py:21: TqdmWarning: IProgress not found. Please update jupyter and ipywidgets. See https://ipywidgets.readthedocs.io/en/stable/user_install.html\n",
      "  from .autonotebook import tqdm as notebook_tqdm\n",
      "No sentence-transformers model found with name /Users/Onema/.cache/torch/sentence_transformers/T-Systems-onsite_cross-en-de-roberta-sentence-transformer. Creating a new one with MEAN pooling.\n"
     ]
    }
   ],
   "source": [
    "model_name = \"T-Systems-onsite/cross-en-de-roberta-sentence-transformer\"\n",
    "model_kwargs = {\"device\": \"cpu\"}\n",
    "encode_kwargs = {\"normalize_embeddings\": True}\n",
    "hf_tsys = HuggingFaceEmbeddings(\n",
    "    model_name=model_name, model_kwargs=model_kwargs, encode_kwargs=encode_kwargs\n",
    ")  # if this returns a RuntimeError, restart the Jupyter Notebook"
   ]
  },
  {
   "cell_type": "markdown",
   "id": "0c4f4ae8",
   "metadata": {},
   "source": [
    "#### With register"
   ]
  },
  {
   "cell_type": "code",
   "execution_count": 7,
   "id": "0965b163",
   "metadata": {},
   "outputs": [],
   "source": [
    "vectordb_tsys = FAISS.from_documents(documents = docs_ed1_700_with_register, \n",
    "                                embedding = hf_tsys)"
   ]
  },
  {
   "cell_type": "code",
   "execution_count": 8,
   "id": "5b697a7d",
   "metadata": {
    "scrolled": true
   },
   "outputs": [
    {
     "name": "stdout",
     "output_type": "stream",
     "text": [
      "This is a trial with T-Systems-onsite/cross-en-de-roberta-sentence-transformer and with register\n",
      "\n",
      "\n",
      "Question: How do hamsters compare with marmots?\n",
      "\n",
      "8. Taf. I. II Die Murmelthiere und die Hamster baden in Rücksicht ihres Körperbaues und ihrer Lebensart vieles mit einander gemein. Nur bewohnt der Hamster mehr nordliche Gegenden und flaches Land; da hingegen das Murmelthier weiter gegen Süden und im Gebürge zu finden ist. Sibirien, die Ukräne, das Elsas, Deutschland, und namentlich das Herzogthum Gotha sind das Vaterland des erstern. Ausser dem verschiedenen Aufenthalt zeichnen sich aber beide Thiere auch durch ihren sehr contrastirenden Charakter aus. Das Murmelthier war kirre, sehr leicht zu zähmen ꝛc lanter gute Seiten, von denen der Hamster keine einzige hat.\n",
      "(Metadata: {'source': 'Handbuch der Naturgeschichte', 'autor': 'Blumenbach', 'edition': 1, 'date': 1779, 'language': 'German', 'in-text location': 'Register 4th Chapter: Säugethiere, VI. GLIRES., 1774.'})\n",
      "\n",
      "Das Murmelthier war kirre, sehr leicht zu zähmen ꝛc lanter gute Seiten, von denen der Hamster keine einzige hat. Er ist ein beissiges boshaftes Thier was ausser dem Zorn kaum eine andere Leidenschaft kennt. Bey einer sehr unbeträchtlichen Leibesgrösse geht er doch Menschen und Pferde an und Hunde, die des Hamsterfangs ungewohnt sind, ziehen leicht gegen ihn den Kürzern. Er lebt von kleinen Thieren, jungen Pflanzen, doch vorzüglich von Getraide, wovon er erstaunlichen Vorrath in den Backentaschen zu seinen unterirdischen Hölen schleppet. Er vermehrt sich stark und man hat wohl eher im Gothaischen in einem Jahr, über 27000 Hamster getödtet. Der Pelz des Thiergens ist nicht viel werth.\n",
      "(Metadata: {'source': 'Handbuch der Naturgeschichte', 'autor': 'Blumenbach', 'edition': 1, 'date': 1779, 'language': 'German', 'in-text location': 'Register 4th Chapter: Säugethiere, VI. GLIRES., 1774.'})\n",
      "\n",
      "Zu den glatten gehören die Bucarditen u. s. w Ostraciten von zahlreichen Arten. Manche die den gemeinen Austern, oder dem Lorbeerblatte, den Mänteln ꝛc. ähneln Archen meist nur in Steinkernen Endlich Anomien, worunter ausser den Terebrateln verschiedene rätzelhafte Petrefacte gehören, wie die Gryphiten, die von ihrer krummschnablichen Bildung, und die Hysterolithen, die von einer andern Aehnlichkeit, die man darin hat erkennen wollen den Namen führen; vermuthlich auch die Pantoffelmuscheln, die Hr. Baron von Hüpsch entdeckt, und ans Museum geschenkt hat u. a. m.\n",
      "(Metadata: {'source': 'Handbuch der Naturgeschichte', 'autor': 'J.F.Blumenbach', 'edition': 2, 'date': 1780, 'language': 'German', 'in-text location': 'Register 16th Chapter: Versteinerungen, A. Versteinerungen des Thierreichs., VI. , B) '})\n",
      "\n",
      "†. Citellus. das Erdzeiselgen, Suslik. M corpore longiore, capite parvo, pedibus brevibus pentadactylis. * Pallas, Nov. Comm. Petrop. Tom. XIV tab. 21 Die äussere Gestalt des Erdzeiselgen kommt des Hamsters seiner eben nicht sehr nahe; desto verwandter sind aber beide Thiere in Rücksicht ihres innern Körperbaues, der Backentaschen ihrer Lebensart, Nesterbaues, Winterschlafs u. s w. Nur, statt daß der Hamster fettes Erdreich liebt, so baut hingegen das Erdzeiselchen in dürrem sandichtem oder thonichtem Boden. Es sindet sich in Oesterreich, und Böhmen, doch nur in geringer Anzal; in größter Menge hingegen in Ungarn, Polen und Sibirien.\n",
      "(Metadata: {'source': 'Handbuch der Naturgeschichte', 'autor': 'Blumenbach', 'edition': 1, 'date': 1779, 'language': 'German', 'in-text location': 'Register 4th Chapter: Säugethiere, VI. GLIRES., 3.'})\n",
      "\n",
      "Ruber. der Flamingo, Flamant. P. ruber remigibus nigris. * Wir haben den Flamingo, seiner Schwimmfüsse und mit Haut überzogenen Schnabels wegen, in diese Ordnung versezt, ob er gleich in Rücksicht seines übrigen Körperbaus auch viel Aehnlichkeit mit den Sumpfvögeln zeigt. Er ist in Africa und America zu Hause, und war schon bey den Alten, sowol wegen seiner anmuthigen rothen Farbe, als wegen seines schmakhaften Fleisches geschäzt.\n",
      "(Metadata: {'source': 'Handbuch der Naturgeschichte', 'autor': 'Blumenbach', 'edition': 1, 'date': 1779, 'language': 'German', 'in-text location': 'Register 5th Chapter: Vögeln, Ist im nördlichen Europa zu Hause, und wie, 1.'})\n",
      "\n",
      "\n",
      "Question: Which animals are the most beautiful?\n",
      "\n",
      "Die mehresten Würmer haben unansehnliche Farben. Doch sind auch einige, wie die Seeanemonen, Seefedern, Aphroditen, und viele Conchylien von auserordentlicher Schönheit.\n",
      "(Metadata: {'source': 'Handbuch der Naturgeschichte', 'autor': 'J.F.Blumenbach', 'edition': 1, 'date': 1779, 'language': 'German', 'in-text location': '§. 159.'})\n",
      "\n",
      "sind, so wie der Leopard und der Zebra, wie die schönsten Schmetterlinge und wie die schönsten Blumen, den heißen Zonen eigen.\n",
      "(Metadata: {'source': 'Handbuch der Naturgeschichte', 'autor': 'J.F.Blumenbach', 'edition': 1, 'date': 1779, 'language': 'German', 'in-text location': '§. 63.'})\n",
      "\n",
      "Imperialis. Der Juwelenkäfer. C. brevirostris niger, elytris dentatis, sulcatis punctis excavatis, auro versicolore distinctis abdomine aeneo viridi. * Eins der prachtvollsten Geschöpfe in der Natur. Das gefärbte Gold in den unzäligen Grübgen, die reihenweis auf den Flügeldecken eingegraben sind, thut in hellem Lichte, zumal unterm Vergrösserungsglase einen unbeschreiblichen Effect. Das schöne Thier ist in Brasilien zu Hause und kommt in der Grösse etwa dem Maykäfer bey.\n",
      "(Metadata: {'source': 'Handbuch der Naturgeschichte', 'autor': 'Blumenbach', 'edition': 1, 'date': 1779, 'language': 'German', 'in-text location': 'Register 8th Chapter: Insecten, I. COLEOPTERA., 8.'})\n",
      "\n",
      "Selbst unter unsern hieländischen Amphibien giebt es einige, wie die grüne Eidexe, den Laubfrosch ꝛc. die in Rücksicht ihrer schönen Farben, ihres stinken, und doch unschuldigen Betragens, den artigsten Thieren anderer Classen an die Seite gesetzt werden dürfen.\n",
      "(Metadata: {'source': 'Handbuch der Naturgeschichte', 'autor': 'J.F.Blumenbach', 'edition': 1, 'date': 1779, 'language': 'German', 'in-text location': '§. 96.'})\n",
      "\n",
      "Es concentriren sich beym Hunde Schönheit, Starke und viele andre Talente, die wir zerstreut in andern Thieren bewundern; allein er wird überdem durch mehrere Qualitäten die ihm ganz ausschließlich zukommen, besonders aber durch die ausnehmende Feinheit seiner äussern und innern Sinne über die übrige thierische Schöpfung erhoben. Der Mensch hat ihn daher auch vor allen andern Hausthieren in seine nähere Gesellschaft gezogen, und seine ungemeine Gelehrigkeit auf mannichfaltige Weise zu benutzen gewußt. Der Hund hat den feinsten Geruch und dieser Vorzug in Verbindung mit seiner Stärke und Geschwindigkeit macht ihn zur Jagd anderer Thiere geschickt.\n",
      "(Metadata: {'source': 'Handbuch der Naturgeschichte', 'autor': 'Blumenbach', 'edition': 1, 'date': 1779, 'language': 'German', 'in-text location': 'Register 4th Chapter: Säugethiere, VII. FERAE., 17.'})\n",
      "\n",
      "\n",
      "Question: Which body parts of birds make them capable of flight?\n",
      "\n",
      "Die Farbe der Federn ist bey vielen Vögeln über alle Beschreibung schön. Sie werden durch die mannichfaltigen Nüancen der Coulenren, durch das Changeant von rothem oder grünem Golde, durch die theils so hellen brennenden Farben n. s. w. über alle übrigen Thiere erhoben, unter denen nur etwa manche Insecten den Vögeln, ihrer körperlichen Schönheit wegen, an die Seite gesetzt werden dürfen.\n",
      "(Metadata: {'source': 'Handbuch der Naturgeschichte', 'autor': 'J.F.Blumenbach', 'edition': 1, 'date': 1779, 'language': 'German', 'in-text location': '§. 63.'})\n",
      "\n",
      "Von Vögeln wird schwerlich ein Petrefact erweislich seyn.\n",
      "(Metadata: {'source': 'Handbuch der Naturgeschichte', 'autor': 'J.F.Blumenbach', 'edition': 2, 'date': 1780, 'language': 'German', 'in-text location': 'Register 16th Chapter: Versteinerungen, A. Versteinerungen des Thierreichs., II. '})\n",
      "\n",
      "Im innern Körperbau und in der Verrichtung der Eingeweide haben die Vögel viel Gleichheit mit der vorigen Elaste der warmblütigen Thiere. Nur zeichnen sie sich, ausser einigen minder beträchtlichen Verschiedenheiten durch besondre Luftbehälter aus, die in ihrem ganzen Körper zerstreut, und zum Fluge von äusserster Wichtigkeit sind. Die mehresten stehen mit den Lungen, andere aber mit dem Maule in Verbindung, und der Vogel kann sie nach Willkür mit Luft laden oder ausleeren, je nachdem er seinen Körper leichter oder schwerer machen will.\n",
      "(Metadata: {'source': 'Handbuch der Naturgeschichte', 'autor': 'J.F.Blumenbach', 'edition': 1, 'date': 1779, 'language': 'German', 'in-text location': '§. 64.'})\n",
      "\n",
      "Der ganze Körperbau der Vögel ist ihrer Bestimmung zum Fluge angemessen. Ihr Rumpf ist klein, eyförmig, und in seiner Structur gänzlich vom Rumpfe der Säugethiere verschieden. Das Brustbein änelt einer Pflugschaar, und dient den Vögeln vorzüglich, die Lust im Fluge zu durchschneiden. Zu beiden Seiten des Brustbeins liegen die ausnehmend grossen und starken Brustmuskeln, die vorzüglich die Flügel bewegen, und die, bey wilden Vögeln wenigstens, nie mit Fette bedeckt sind was sonst der Leichtigkeit im Fliegen und dem Zweck des Brustbeins hinderlich werden könnte Das Rückgrad ist unbeweglich; der Hals aber dagegen desto gelenker, und dabey in Verhältniß gegen den übrigen Körper ungemein lang.\n",
      "(Metadata: {'source': 'Handbuch der Naturgeschichte', 'autor': 'J.F.Blumenbach', 'edition': 1, 'date': 1779, 'language': 'German', 'in-text location': '§. 57.'})\n",
      "\n",
      "† Bubo. der Uhu, Schubut, die Ohreule. S. auribus pennatis, iridibus croceis corpore ruffo. * Das größte Thier seines Geschlechts, von ungemeiner Stärke, so daß selbst Adler ihm unterliegen müssen.\n",
      "(Metadata: {'source': 'Handbuch der Naturgeschichte', 'autor': 'Blumenbach', 'edition': 1, 'date': 1779, 'language': 'German', 'in-text location': 'Register 5th Chapter: Vögeln, I. ACCIPITRES., 1.'})\n",
      "\n",
      "\n",
      "Question: Where do hamsters live?\n",
      "\n",
      "8. Taf. I. II Die Murmelthiere und die Hamster baden in Rücksicht ihres Körperbaues und ihrer Lebensart vieles mit einander gemein. Nur bewohnt der Hamster mehr nordliche Gegenden und flaches Land; da hingegen das Murmelthier weiter gegen Süden und im Gebürge zu finden ist. Sibirien, die Ukräne, das Elsas, Deutschland, und namentlich das Herzogthum Gotha sind das Vaterland des erstern. Ausser dem verschiedenen Aufenthalt zeichnen sich aber beide Thiere auch durch ihren sehr contrastirenden Charakter aus. Das Murmelthier war kirre, sehr leicht zu zähmen ꝛc lanter gute Seiten, von denen der Hamster keine einzige hat.\n",
      "(Metadata: {'source': 'Handbuch der Naturgeschichte', 'autor': 'Blumenbach', 'edition': 1, 'date': 1779, 'language': 'German', 'in-text location': 'Register 4th Chapter: Säugethiere, VI. GLIRES., 1774.'})\n",
      "\n",
      "Lumpus. Der Klebpfost, Hafpadde. C corpore squamis osseis angulato. * Findet sich in der alten Welt. Hängt sich mit den Bauchflossen an den Uferfelsen fest.\n",
      "(Metadata: {'source': 'Handbuch der Naturgeschichte', 'autor': 'Blumenbach', 'edition': 1, 'date': 1779, 'language': 'German', 'in-text location': 'Register 6th Chapter: Amphibien, Ist im Europäischen Ocean zu Hause: hat drey, 1.'})\n",
      "\n",
      "Ihr Fleisch ist eßbar und wohlschmeckend. Gegen den Winter werben sie so fett, daß oft eins bey 20 Pfund wiegt. Sie schlafen alsdann vom October bis in den April; und nachdem der Winter hart oder gelind werden wird vermachen sie den Eingang zu ihren Hölen fester oder lockerer. In der Tatarey pflanzen sie den Rhabarber fort. 2. †. Cricetus. der Hamster. M. abdomine nigro. * F. G. Sulzers N. G. des Hamsters. Gött.\n",
      "(Metadata: {'source': 'Handbuch der Naturgeschichte', 'autor': 'Blumenbach', 'edition': 1, 'date': 1779, 'language': 'German', 'in-text location': 'Register 4th Chapter: Säugethiere, VI. GLIRES., 288.'})\n",
      "\n",
      "Das Murmelthier war kirre, sehr leicht zu zähmen ꝛc lanter gute Seiten, von denen der Hamster keine einzige hat. Er ist ein beissiges boshaftes Thier was ausser dem Zorn kaum eine andere Leidenschaft kennt. Bey einer sehr unbeträchtlichen Leibesgrösse geht er doch Menschen und Pferde an und Hunde, die des Hamsterfangs ungewohnt sind, ziehen leicht gegen ihn den Kürzern. Er lebt von kleinen Thieren, jungen Pflanzen, doch vorzüglich von Getraide, wovon er erstaunlichen Vorrath in den Backentaschen zu seinen unterirdischen Hölen schleppet. Er vermehrt sich stark und man hat wohl eher im Gothaischen in einem Jahr, über 27000 Hamster getödtet. Der Pelz des Thiergens ist nicht viel werth.\n",
      "(Metadata: {'source': 'Handbuch der Naturgeschichte', 'autor': 'Blumenbach', 'edition': 1, 'date': 1779, 'language': 'German', 'in-text location': 'Register 4th Chapter: Säugethiere, VI. GLIRES., 1774.'})\n",
      "\n",
      "†. Citellus. das Erdzeiselgen, Suslik. M corpore longiore, capite parvo, pedibus brevibus pentadactylis. * Pallas, Nov. Comm. Petrop. Tom. XIV tab. 21 Die äussere Gestalt des Erdzeiselgen kommt des Hamsters seiner eben nicht sehr nahe; desto verwandter sind aber beide Thiere in Rücksicht ihres innern Körperbaues, der Backentaschen ihrer Lebensart, Nesterbaues, Winterschlafs u. s w. Nur, statt daß der Hamster fettes Erdreich liebt, so baut hingegen das Erdzeiselchen in dürrem sandichtem oder thonichtem Boden. Es sindet sich in Oesterreich, und Böhmen, doch nur in geringer Anzal; in größter Menge hingegen in Ungarn, Polen und Sibirien.\n",
      "(Metadata: {'source': 'Handbuch der Naturgeschichte', 'autor': 'Blumenbach', 'edition': 1, 'date': 1779, 'language': 'German', 'in-text location': 'Register 4th Chapter: Säugethiere, VI. GLIRES., 3.'})\n",
      "\n",
      "\n",
      "Question: Is there a connection between climate and animal coloration?\n",
      "\n",
      "Allein diese Einwürfe verschwinden, sobald man sich über die Eigenschaften vergleicht, die man zu einem Thier oder zu einer Pflanze erfodert. Wir haben uns erklärt, was wir für Begriffe mit Animalität oder Vegetabilität verbinden, und so ist unserm Bedünken nach alle Zweydeutigkeit und Ungewißheit über diese Punkte gehoben. Der Polype läßt sich durch Zweige fortpflanzen, wie eine Weide; aber muß er nun deswegen gleich zur Pflanze, oder doch zum Mittelding zwischen ihr und einem Thiere gemacht werden?\n",
      "(Metadata: {'source': 'Handbuch der Naturgeschichte', 'autor': 'J.F.Blumenbach', 'edition': 1, 'date': 1779, 'language': 'German', 'in-text location': '§. 6.'})\n",
      "\n",
      "Die Proportion in der Anzal der Menschen beyden Geschlechts, die unglücklichen Folgen der Vielweiberey ꝛc. erweisen die natürliche Bestimmung des Menschen zur Monogamie Es giebt nur eine Gattung im Menschengeschlecht; und die Menschen aller Zeiten und aller Himmelsstriche können von Adam abstammen Die Verschiedenheiten in Bildung und Farbe der menschlichen Körper werden blos durch Clima Nahrung, Lebensart u. s. w. bewirkt; da der Mensch kein Privilegium hat, warum er nicht auch, wie jeder andere organisirte Körper, (§. 21.) wie eine Taube oder wie eine Tulpe, ausarten sollte?\n",
      "(Metadata: {'source': 'Handbuch der Naturgeschichte', 'autor': 'Blumenbach', 'edition': 1, 'date': 1779, 'language': 'German', 'in-text location': 'Register 4th Chapter: Säugethiere, I Ord. INERMIS.'})\n",
      "\n",
      "† Trochilus. Der Sommerkönig, Weidenzeisig (Asilus). M. cinereo-virens, alis subtus tectricibus flavescentibus, superciliis flavis. * Ist in der nördlichen Erbe zu Hause, variirt aber nach Verschiedenheit des Clima in den Farden.\n",
      "(Metadata: {'source': 'Handbuch der Naturgeschichte', 'autor': 'Blumenbach', 'edition': 1, 'date': 1779, 'language': 'German', 'in-text location': 'Register 5th Chapter: Vögeln, Ist in der ganzen nordlichen Erde zu Hause,, 15.'})\n",
      "\n",
      "Lebererzt Von brauner, oder Rostfarbe.\n",
      "(Metadata: {'source': 'Handbuch der Naturgeschichte', 'autor': 'J.F.Blumenbach', 'edition': 2, 'date': 1780, 'language': 'German', 'in-text location': 'Register 15th Chapter: Metalle, I. Eigentliche Metalle., B. Unedle Metalle., 3. cvprvum, Kupfer, rubrum, perdurum, maxime sonorum.^^, 2. Mineralisatum, vererzt., e) '})\n",
      "\n",
      "Artefacten werden sie blos alsdann, wenn der Mensch wesentliche Veränderungen mit ihnen vornimt. Man rechnet z. B. die schwammichte Rinde einer Art Maulbeerbäume (Morus papyrifera) oder die äussere Schaale einer Cocosnuß doch zu den Naturalien, wenn gleich beyde durch Menschen vom Stamme oder von der Nuß, die sie umkleideten, abgelöst worden. Die dadurch mit ihnen vorgenommene Veränderung ist nicht Wesentlich genug, um sie deshalb zu Artefakten zu machen.\n",
      "(Metadata: {'source': 'Handbuch der Naturgeschichte', 'autor': 'J.F.Blumenbach', 'edition': 1, 'date': 1779, 'language': 'German', 'in-text location': '§. 1.'})\n"
     ]
    }
   ],
   "source": [
    "test_embedding(file_name = \"T-sys\", vectordb = vectordb_tsys, \n",
    "               model_name = model_name, register = True)"
   ]
  },
  {
   "cell_type": "markdown",
   "id": "1e56f8f3",
   "metadata": {},
   "source": [
    "#### Without register"
   ]
  },
  {
   "cell_type": "code",
   "execution_count": 9,
   "id": "f1222371",
   "metadata": {},
   "outputs": [],
   "source": [
    "vectordb_tsys = FAISS.from_documents(documents = docs_ed1_700_without_register, \n",
    "                                embedding = hf_tsys)"
   ]
  },
  {
   "cell_type": "code",
   "execution_count": 10,
   "id": "5ea1b966",
   "metadata": {},
   "outputs": [
    {
     "name": "stdout",
     "output_type": "stream",
     "text": [
      "This is a trial with T-Systems-onsite/cross-en-de-roberta-sentence-transformer and without register\n",
      "\n",
      "\n",
      "Question: How do hamsters compare with marmots?\n",
      "\n",
      "Zu solchen Naturspielen gehören z. B. die Graptolithen, Buchstabensteine, Kreuzsteine ꝛc. die Ingwersteine nemlich Mergelnüsse, die einer Ingwerwurzel ähneln. Der Confect von Tivoli, die Melonen vom Berg Carmel, die Frankenberger Kornähren, gewissermassen auch die Dendriten, der Florentiner Ruinen Marmor, die Incrustate u. s. w. Ferner die Klappersteine, Adlersteine Aetiten, das heißt hole Mergelnüsse oder Feuersteine, oder Eisenschüssige Steine in deren Höhlung lockere Steinchen befindlich sind, die folglich wenn man den Stein schüttelt, klappern müssen.\n",
      "(Metadata: {'source': 'Handbuch der Naturgeschichte', 'autor': 'J.F.Blumenbach', 'edition': 1, 'date': 1780, 'language': 'German', 'in-text location': '§. 246.'})\n",
      "\n",
      "Mehrere Muschelarten führen Perlen. Verschiedne Schneckgen cursiren bey einigen wilden Völkern statt Geldes. Die Mahlermuschel, Perlenmutter, das eigentlich sogenannte rothe Corall, und die grosse beinartige Schuppe des Blackfisches\n",
      "(os sepiae) werden von Künstlern benutzt Der Badeschwamm hat mancherley häuslichen Gebrauch. Die Blutigel endlich sind ein überaus wichtiges Genesmittel.\n",
      "(Metadata: {'source': 'Handbuch der Naturgeschichte', 'autor': 'J.F.Blumenbach', 'edition': 1, 'date': 1779, 'language': 'German', 'in-text location': '§. 167.'})\n",
      "\n",
      "So alle die unzähligen Conchylien u. a. Seegeschöpfe in den Flözgebürgen, die unserer oben geäusserte Vermuthung nach wol alle von einer gerichteten Vorwelt herrühren, und wozu man wol allerhand ähnliche, aber wohl schwerlich vollkommen gleiche Originale in der jetzigen Schöpfung vorzufinden im Stande seyn wird III. Metallisirte Körper sind versteinte Fische, Conchylien oder Hölzer in Schiefer oder Thonlagern, die mit Kies durchzogen worden und daher ein glänzendes metallisches Ansehen\n",
      "(einen Harnisch, armaturam) erhalten haben IV. Steinkerne (Nuclei) sind der blosse innere Abguß von der Höhlung der Schneken oder Muscheln, deren wirkliche Schaalen verlohren gegangen.\n",
      "(Metadata: {'source': 'Handbuch der Naturgeschichte', 'autor': 'J.F.Blumenbach', 'edition': 1, 'date': 1780, 'language': 'German', 'in-text location': '§. 248.'})\n",
      "\n",
      "Auser den Hufen, Klauen, Zähnen ꝛc. sind viele Säugethiere auch mit Hörnern zu Waffen versehen, die doch, wie der Bart beym Menschen, erst zur Zeit der Mannbarkeit hervorbrechen. Bey einigen Gattungen, wie beym Hirsch, sind die Weibchen ungehörnt; bey andern, wie im Ziegengeschlecht, sind ihre Hörner doch kleiner als der Männchen ihre. Anzal Bau, und Lage der Hörner sind sehr verschieden. Beym Ochsen- und Ziegengeschlechte sind sie hol, und sitzen wie eine Scheide über einen Fortsatz der Stirnknochen. Des Rhinoceros Hörner sind dichte, und blos mit der Haut aus der Nase verwachsen.\n",
      "(Metadata: {'source': 'Handbuch der Naturgeschichte', 'autor': 'J.F.Blumenbach', 'edition': 1, 'date': 1779, 'language': 'German', 'in-text location': '§. 47.'})\n",
      "\n",
      "So sind z. B. die 173220 Millionen Menschen, die von Adam bis jetzt gestorben seyn mögen, gleichsam verschwunden, zu einer Erde vermodert, die man deshalb, so wie sie rein in den Gräbern gefunden wird, terra Adamica nennt. Und doch sagt dieser Beytrag von menschlichen Leichen noch nichts in Vergleich mit der Asche der seit der gleichen Zeit gestorbenen ungleich grössern Thiere, der Wallfische Elephanten, Crocodile, Pferde, Wasserschlangen u. s. w.\n",
      "(Metadata: {'source': 'Handbuch der Naturgeschichte', 'autor': 'J.F.Blumenbach', 'edition': 1, 'date': 1780, 'language': 'German', 'in-text location': '§. 227.'})\n",
      "\n",
      "\n",
      "Question: Which animals are the most beautiful?\n",
      "\n",
      "Die mehresten Würmer haben unansehnliche Farben. Doch sind auch einige, wie die Seeanemonen, Seefedern, Aphroditen, und viele Conchylien von auserordentlicher Schönheit.\n",
      "(Metadata: {'source': 'Handbuch der Naturgeschichte', 'autor': 'J.F.Blumenbach', 'edition': 1, 'date': 1779, 'language': 'German', 'in-text location': '§. 159.'})\n",
      "\n",
      "sind, so wie der Leopard und der Zebra, wie die schönsten Schmetterlinge und wie die schönsten Blumen, den heißen Zonen eigen.\n",
      "(Metadata: {'source': 'Handbuch der Naturgeschichte', 'autor': 'J.F.Blumenbach', 'edition': 1, 'date': 1779, 'language': 'German', 'in-text location': '§. 63.'})\n",
      "\n",
      "Selbst unter unsern hieländischen Amphibien giebt es einige, wie die grüne Eidexe, den Laubfrosch ꝛc. die in Rücksicht ihrer schönen Farben, ihres stinken, und doch unschuldigen Betragens, den artigsten Thieren anderer Classen an die Seite gesetzt werden dürfen.\n",
      "(Metadata: {'source': 'Handbuch der Naturgeschichte', 'autor': 'J.F.Blumenbach', 'edition': 1, 'date': 1779, 'language': 'German', 'in-text location': '§. 96.'})\n",
      "\n",
      "Alle Thiere haben dergleichen Triebe in ihrer Natur, nur freylich jedes nach seiner Bestimmung, Instincte verschiedener Art und in verschiedenem Maaße. Die allgemeinsten Natur-Triebe, wie z. B. die zur Begattung, sind bey der einen Thierart stärker, bey der andern schwächer; und Montesquieu derivirt schon aus diesem verschiedentlich bestimmten Maaße von Instinct, das unveränderliche Gleichgewicht, was sich bey der Vermehrung jeder Gattung von Thieren zeigt. Die Erde könnte für die Elephanten zu klein, und das Menschengeschlecht gegen die Löwen zu schwach werden, wenn diese grossen und fürchterlichen Thiere den unersättlichen Liebestrieb der Caninchen oder Meerschweinchen besässen.\n",
      "(Metadata: {'source': 'Handbuch der Naturgeschichte', 'autor': 'J.F.Blumenbach', 'edition': 1, 'date': 1779, 'language': 'German', 'in-text location': '§. 35.'})\n",
      "\n",
      "Die Augen der Insecten sind vorzüglich merkwürdig, und zwar in Rücksicht ihres Baues von zweyfacher Art. Die einen sind ungeheure Halbkugelu, die aber aus vielen tausend Facetten, oder wie es Swammerdam's mühseeliger Fleis erwiesen hat, eigentlich aus eben so viel besondern kleinen Augen bestehen. Fast alle geflügelte Insecten haben solche componirte Augen; doch meist erst im vollkommenen Zustande, nach ihrer lezten Verwandlung. Die Augen der andern Art sind einfach, klein, und sowol in Rücksicht ihrer Anzahl als Lage verschieden. Die Insecten haben keine eigentliche Augenlieder, die ihnen bey der Härte der Hornhaut entbehrlich sind: und nur wenige wie die Krebse, können ihre Augen bewegen.\n",
      "(Metadata: {'source': 'Handbuch der Naturgeschichte', 'autor': 'J.F.Blumenbach', 'edition': 1, 'date': 1779, 'language': 'German', 'in-text location': '§. 135.'})\n",
      "\n",
      "\n",
      "Question: Which body parts of birds make them capable of flight?\n",
      "\n",
      "Die Farbe der Federn ist bey vielen Vögeln über alle Beschreibung schön. Sie werden durch die mannichfaltigen Nüancen der Coulenren, durch das Changeant von rothem oder grünem Golde, durch die theils so hellen brennenden Farben n. s. w. über alle übrigen Thiere erhoben, unter denen nur etwa manche Insecten den Vögeln, ihrer körperlichen Schönheit wegen, an die Seite gesetzt werden dürfen.\n",
      "(Metadata: {'source': 'Handbuch der Naturgeschichte', 'autor': 'J.F.Blumenbach', 'edition': 1, 'date': 1779, 'language': 'German', 'in-text location': '§. 63.'})\n",
      "\n",
      "Im innern Körperbau und in der Verrichtung der Eingeweide haben die Vögel viel Gleichheit mit der vorigen Elaste der warmblütigen Thiere. Nur zeichnen sie sich, ausser einigen minder beträchtlichen Verschiedenheiten durch besondre Luftbehälter aus, die in ihrem ganzen Körper zerstreut, und zum Fluge von äusserster Wichtigkeit sind. Die mehresten stehen mit den Lungen, andere aber mit dem Maule in Verbindung, und der Vogel kann sie nach Willkür mit Luft laden oder ausleeren, je nachdem er seinen Körper leichter oder schwerer machen will.\n",
      "(Metadata: {'source': 'Handbuch der Naturgeschichte', 'autor': 'J.F.Blumenbach', 'edition': 1, 'date': 1779, 'language': 'German', 'in-text location': '§. 64.'})\n",
      "\n",
      "Der ganze Körperbau der Vögel ist ihrer Bestimmung zum Fluge angemessen. Ihr Rumpf ist klein, eyförmig, und in seiner Structur gänzlich vom Rumpfe der Säugethiere verschieden. Das Brustbein änelt einer Pflugschaar, und dient den Vögeln vorzüglich, die Lust im Fluge zu durchschneiden. Zu beiden Seiten des Brustbeins liegen die ausnehmend grossen und starken Brustmuskeln, die vorzüglich die Flügel bewegen, und die, bey wilden Vögeln wenigstens, nie mit Fette bedeckt sind was sonst der Leichtigkeit im Fliegen und dem Zweck des Brustbeins hinderlich werden könnte Das Rückgrad ist unbeweglich; der Hals aber dagegen desto gelenker, und dabey in Verhältniß gegen den übrigen Körper ungemein lang.\n",
      "(Metadata: {'source': 'Handbuch der Naturgeschichte', 'autor': 'J.F.Blumenbach', 'edition': 1, 'date': 1779, 'language': 'German', 'in-text location': '§. 57.'})\n",
      "\n",
      "Die Natur, die in der Oekonomie der Vögel so viel sonderbares gehäuft hat, ist auch darinn von ihrer Regel abgewichen, daß sie die Schönheit der Farben und einige andere Vorzüge, womit sie sonst das weibliche Geschlecht unter den übrigen Thieren begünstigt, in dieser Classe den Männchen, und zwar ausschließlich, mitgetheilt hat. Was wir oben von den organisirten Körpern überhaupt gesagt haben, daß ihre Farben in kalten Climaten blaß und matt, in heißen Gegenden hingegen dunkler und höher sind findet sich vorzüglich bey den Vögeln bestätigt Die allerschönsten Vögel, die Pfauen, Colibri Papageyen ꝛc.\n",
      "(Metadata: {'source': 'Handbuch der Naturgeschichte', 'autor': 'J.F.Blumenbach', 'edition': 1, 'date': 1779, 'language': 'German', 'in-text location': '§. 63.'})\n",
      "\n",
      "Auch der Kopf der Vögel ist bey den meisten verhältnismäßig klein, daher er ebenfalls die Luft leicht durchbohrt, und dadurch den Flug erleichtert. Ihre Gliedmassen sind überaus schlank, und fein gebaut, so daß sie nebst dem ausnehmend geringen Gewicht des ganzen Körpers, der Lebensart dieser Thiere, und besonders ihrem Aufenthalt und ihrer freyen Bewegung in dem Elemente, wofür die mehresten bestimmt sind, vollkommen entsprechen.\n",
      "(Metadata: {'source': 'Handbuch der Naturgeschichte', 'autor': 'J.F.Blumenbach', 'edition': 1, 'date': 1779, 'language': 'German', 'in-text location': '§. 58.'})\n",
      "\n",
      "\n",
      "Question: Where do hamsters live?\n",
      "\n",
      "Mehrere Muschelarten führen Perlen. Verschiedne Schneckgen cursiren bey einigen wilden Völkern statt Geldes. Die Mahlermuschel, Perlenmutter, das eigentlich sogenannte rothe Corall, und die grosse beinartige Schuppe des Blackfisches\n",
      "(os sepiae) werden von Künstlern benutzt Der Badeschwamm hat mancherley häuslichen Gebrauch. Die Blutigel endlich sind ein überaus wichtiges Genesmittel.\n",
      "(Metadata: {'source': 'Handbuch der Naturgeschichte', 'autor': 'J.F.Blumenbach', 'edition': 1, 'date': 1779, 'language': 'German', 'in-text location': '§. 167.'})\n",
      "\n",
      "Sie verkriechen sich wenn diese Zeit kommt, an sichre schaurige Orte wie die Murmelthiere, Hamster, Ameisen ꝛc in ihre Nester, die Fledermäuse in Hölen, die Frösche und einige Fische in Sümpfe, die Uferschwalben ins Schilf, die Schlangen und Schnecken ins Gebüsch u. s. w. und fallen mit einbrechender Kälte in eine Art von Erstarrung, aus der sie erst durch die erwärmenden Blicke der Frühlingssonne wieder erweckt werden.\n",
      "(Metadata: {'source': 'Handbuch der Naturgeschichte', 'autor': 'J.F.Blumenbach', 'edition': 1, 'date': 1779, 'language': 'German', 'in-text location': '§. 33.'})\n",
      "\n",
      "Fast alle Amphibien, wenigstens die in den kältern Zonen, verschwinden im Herbst, verkriechen sich ins Gebüsche oder in Sümpfe, und halten Winterschlaf. Daß aber einigen, z. E den Fröschen die Zeit über das Maul mit einer Schleimhaut verschlossen sey, ist eine irrige Sage, wozu vermuthlich die Häutung dieser Thiere im Frühjahr, Anlaß gegeben hat.\n",
      "(Metadata: {'source': 'Handbuch der Naturgeschichte', 'autor': 'J.F.Blumenbach', 'edition': 1, 'date': 1779, 'language': 'German', 'in-text location': '§. 99.'})\n",
      "\n",
      "34.) \n",
      "und noch andre durch ihre bewunderungswürdige Stärke (§. 29.) gesichert. Manche sind gar mit Waffen, z. B. mit Hörnern wie Kneipzangen, oder mit Stachel und Gift versehen oder sie sind wie die sogenannten Bärraupen mit Hären besetzt, die wie Nesseln empfindlich in die Haut stechen, wenn man sie fassen will oder sie können auch, wie manche Weidenraupen, einen äuserst scharfen ätzenden Saft in ziemlicher Entfernung auf ihre Verfolger sprützen.\n",
      "(Metadata: {'source': 'Handbuch der Naturgeschichte', 'autor': 'J.F.Blumenbach', 'edition': 1, 'date': 1779, 'language': 'German', 'in-text location': '§. 142.'})\n",
      "\n",
      "Gewönlich haben auch die Männchen, zu uns unbekannten Zwecken, dergleichen Brüste; doch fehlen sie einigen, wie den Hamstern, der Haselmaus u. a.m. gänzlich; bey andern sind sie doch in geringerer Anzal als der Weibchen ihre der Hund z. B. hat nur sechs Zitzen am Bauche die Hündin aber ausser diesen auch noch viere an der Brust; und allemal sind sie kleiner als beym weiblichen Geschlechte.\n",
      "(Metadata: {'source': 'Handbuch der Naturgeschichte', 'autor': 'J.F.Blumenbach', 'edition': 1, 'date': 1779, 'language': 'German', 'in-text location': '§. 41.'})\n",
      "\n",
      "\n",
      "Question: Is there a connection between climate and animal coloration?\n",
      "\n",
      "Allein diese Einwürfe verschwinden, sobald man sich über die Eigenschaften vergleicht, die man zu einem Thier oder zu einer Pflanze erfodert. Wir haben uns erklärt, was wir für Begriffe mit Animalität oder Vegetabilität verbinden, und so ist unserm Bedünken nach alle Zweydeutigkeit und Ungewißheit über diese Punkte gehoben. Der Polype läßt sich durch Zweige fortpflanzen, wie eine Weide; aber muß er nun deswegen gleich zur Pflanze, oder doch zum Mittelding zwischen ihr und einem Thiere gemacht werden?\n",
      "(Metadata: {'source': 'Handbuch der Naturgeschichte', 'autor': 'J.F.Blumenbach', 'edition': 1, 'date': 1779, 'language': 'German', 'in-text location': '§. 6.'})\n",
      "\n",
      "Artefacten werden sie blos alsdann, wenn der Mensch wesentliche Veränderungen mit ihnen vornimt. Man rechnet z. B. die schwammichte Rinde einer Art Maulbeerbäume (Morus papyrifera) oder die äussere Schaale einer Cocosnuß doch zu den Naturalien, wenn gleich beyde durch Menschen vom Stamme oder von der Nuß, die sie umkleideten, abgelöst worden. Die dadurch mit ihnen vorgenommene Veränderung ist nicht Wesentlich genug, um sie deshalb zu Artefakten zu machen.\n",
      "(Metadata: {'source': 'Handbuch der Naturgeschichte', 'autor': 'J.F.Blumenbach', 'edition': 1, 'date': 1779, 'language': 'German', 'in-text location': '§. 1.'})\n",
      "\n",
      "21.) meist weiß: doch kann die gleiche Anomalie auch durch eine Krankheit, die mit der weissen Mohren ihrer viel Aehnlichkeit hat, bewirkt werden. Bey manchen ändert sich die Farbe nach der Jahrszeit wie beym Hasen, Eichhörnchen, Wiesel ꝛc und einige wechseln gar ihre Haare, und mausen sich gleichsam wie die Vögel: so das Caninchen von Angora, der Bison u. a.\n",
      "(Metadata: {'source': 'Handbuch der Naturgeschichte', 'autor': 'J.F.Blumenbach', 'edition': 1, 'date': 1779, 'language': 'German', 'in-text location': '§. 42.'})\n",
      "\n",
      "Auf diese Verschiedenheit gründet sich die bekannte Eintheilung aller Körper in natürliche (naturalia), und durch Kunst verfertigte (artefacta). Die erstern machen den Gegenstand der Naturgeschichte aus, und man belegt alle Körper mit dem Namen der Naturalien, die nur noch keine wesentliche Veränderung durch Menschenhände erlitten haben; Da hingegen die mehresten von denen so der Zufall umgeändert hat, und beyläufig auch diejenigen so durch die Thiere nach ihren Trieben und zu Stillung ihrer Bedürfnisse verändert und umgebildet worden, mit unter den Naturalien begriffen werden. Artefacten werden sie blos alsdann, wenn der Mensch wesentliche Veränderungen mit ihnen vornimt.\n",
      "(Metadata: {'source': 'Handbuch der Naturgeschichte', 'autor': 'J.F.Blumenbach', 'edition': 1, 'date': 1779, 'language': 'German', 'in-text location': '§. 1.'})\n",
      "\n",
      "Alle Dinge, die sich auf, und in unsrer Erde finden, zeigen sich entweder in derselben Gestalt, in welcher sie aus der Hand der Natur gekommen; oder so, wie sie durch Menschen oder Thiere, zu bestimmten Absichten, oder auch durch bloßen Zufall verändert und gleichsam umgeschaffen worden sind. Auf diese Verschiedenheit gründet sich die bekannte Eintheilung aller Körper in natürliche (naturalia), und durch Kunst verfertigte (artefacta).\n",
      "(Metadata: {'source': 'Handbuch der Naturgeschichte', 'autor': 'J.F.Blumenbach', 'edition': 1, 'date': 1779, 'language': 'German', 'in-text location': '§. 1.'})\n"
     ]
    }
   ],
   "source": [
    "test_embedding(file_name = \"T-sys\", vectordb = vectordb_tsys, \n",
    "               model_name = model_name, register = False)"
   ]
  },
  {
   "cell_type": "code",
   "execution_count": null,
   "id": "0f9ee09e",
   "metadata": {},
   "outputs": [],
   "source": []
  }
 ],
 "metadata": {
  "kernelspec": {
   "display_name": "Python 3 (ipykernel)",
   "language": "python",
   "name": "python3"
  },
  "language_info": {
   "codemirror_mode": {
    "name": "ipython",
    "version": 3
   },
   "file_extension": ".py",
   "mimetype": "text/x-python",
   "name": "python",
   "nbconvert_exporter": "python",
   "pygments_lexer": "ipython3",
   "version": "3.10.9"
  }
 },
 "nbformat": 4,
 "nbformat_minor": 5
}
