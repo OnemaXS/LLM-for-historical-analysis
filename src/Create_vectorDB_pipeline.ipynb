{
 "cells": [
  {
   "cell_type": "markdown",
   "id": "4113a244",
   "metadata": {},
   "source": [
    "# Create VectorDB"
   ]
  },
  {
   "cell_type": "markdown",
   "id": "a5fa5212",
   "metadata": {},
   "source": [
    "**TABLE OF CONTENTS**\n",
    "1. Imports\n",
    "2. Loading the documents\n",
    "3. Loading the embedding\n",
    "4. Create the vectorDBs\n",
    "5. Save"
   ]
  },
  {
   "cell_type": "markdown",
   "id": "26f50502",
   "metadata": {},
   "source": [
    "## 1. Imports"
   ]
  },
  {
   "cell_type": "code",
   "execution_count": 1,
   "id": "20d89af2",
   "metadata": {},
   "outputs": [
    {
     "name": "stderr",
     "output_type": "stream",
     "text": [
      "/Users/Onema/anaconda3/envs/4llama_py11/lib/python3.10/site-packages/tqdm/auto.py:21: TqdmWarning: IProgress not found. Please update jupyter and ipywidgets. See https://ipywidgets.readthedocs.io/en/stable/user_install.html\n",
      "  from .autonotebook import tqdm as notebook_tqdm\n"
     ]
    }
   ],
   "source": [
    "from langchain.schema import Document\n",
    "from langchain.vectorstores import FAISS\n",
    "from langchain.embeddings import HuggingFaceEmbeddings\n",
    "import numpy as np\n",
    "import pickle\n",
    "from transformers import AutoModel  # needed for the following workaround: https://github.com/langchain-ai/langchain/issues/6080"
   ]
  },
  {
   "cell_type": "markdown",
   "id": "4f30171f",
   "metadata": {},
   "source": [
    "## 2. Loading the Documents"
   ]
  },
  {
   "cell_type": "code",
   "execution_count": 2,
   "id": "2a1edb82",
   "metadata": {},
   "outputs": [],
   "source": [
    "# loading the document chunks of size 700\n",
    "\n",
    "# with register\n",
    "with open(\"../data/pickles/ed1_docs_with_register_700_200.pickle\", 'rb') as f:\n",
    "    docs_ed1_700_with_register = pickle.load(f)\n",
    "    \n",
    "# without register\n",
    "with open(\"../data/pickles/ed1_docs_without_register_700_200.pickle\", 'rb') as f:\n",
    "    docs_ed1_700_without_register = pickle.load(f)\n",
    "    \n",
    "\n",
    "# loading the document chunks of size 1500\n",
    "\n",
    "# with register\n",
    "with open(\"../data/pickles/ed1_docs_with_register_1500_400.pickle\", 'rb') as f:\n",
    "    docs_ed1_1500_with_register = pickle.load(f)\n",
    "    \n",
    "# without register\n",
    "with open(\"../data/pickles/ed1_docs_without_register_1500_400.pickle\", 'rb') as f:\n",
    "    docs_ed1_1500_without_register = pickle.load(f)"
   ]
  },
  {
   "cell_type": "code",
   "execution_count": 2,
   "id": "9e01bae1",
   "metadata": {},
   "outputs": [],
   "source": [
    "# EDIT cell added after hyperparameter selection, features the 12th edition\n",
    "with open(\"../data/pickles/ed1_ed12_docs.pickle\", 'rb') as f:\n",
    "    docs_ed1_ed12 = pickle.load(f)"
   ]
  },
  {
   "cell_type": "markdown",
   "id": "388739f6",
   "metadata": {},
   "source": [
    "## 3. Load the embedding"
   ]
  },
  {
   "cell_type": "code",
   "execution_count": 3,
   "id": "16c64706",
   "metadata": {},
   "outputs": [
    {
     "name": "stdout",
     "output_type": "stream",
     "text": [
      "Token will not been saved to git credential helper. Pass `add_to_git_credential=True` if you want to set the git credential as well.\n",
      "Token is valid (permission: read).\n",
      "Your token has been saved to /Users/Onema/.cache/huggingface/token\n",
      "Login successful\n"
     ]
    }
   ],
   "source": [
    "from huggingface_hub import login\n",
    "login(token = hf_logging_token)  # UPDATE LOGIN TOKEN FOR RUNNING THE NOTEBOOK"
   ]
  },
  {
   "cell_type": "code",
   "execution_count": 4,
   "id": "335bc86f",
   "metadata": {},
   "outputs": [
    {
     "name": "stderr",
     "output_type": "stream",
     "text": [
      "/Users/Onema/anaconda3/envs/4llama_py11/lib/python3.10/site-packages/torch/_utils.py:831: UserWarning: TypedStorage is deprecated. It will be removed in the future and UntypedStorage will be the only storage class. This should only matter to you if you are using storages directly.  To access UntypedStorage directly, use tensor.untyped_storage() instead of tensor.storage()\n",
      "  return self.fget.__get__(instance, owner)()\n"
     ]
    }
   ],
   "source": [
    "model = AutoModel.from_pretrained('jinaai/jina-embeddings-v2-base-de', trust_remote_code=True) \n",
    "model_name = \"jinaai/jina-embeddings-v2-base-de\"\n",
    "model_kwargs = {'device': 'cpu'}\n",
    "hf_jina = HuggingFaceEmbeddings(\n",
    "    model_name=model_name,\n",
    "    model_kwargs=model_kwargs)"
   ]
  },
  {
   "cell_type": "markdown",
   "id": "d1245c2c",
   "metadata": {},
   "source": [
    "## 4. Create the vector DBs"
   ]
  },
  {
   "cell_type": "code",
   "execution_count": 5,
   "id": "3c7d7091",
   "metadata": {},
   "outputs": [],
   "source": [
    "vectordb_jina = FAISS.from_documents(documents = docs_ed1_700_with_register, \n",
    "                                embedding = hf_jina)"
   ]
  },
  {
   "cell_type": "code",
   "execution_count": 6,
   "id": "468d1c26",
   "metadata": {},
   "outputs": [],
   "source": [
    "# rename (shallow copy)\n",
    "vectordb_700_with_reg = vectordb_jina"
   ]
  },
  {
   "cell_type": "code",
   "execution_count": 7,
   "id": "d0902d7e",
   "metadata": {},
   "outputs": [],
   "source": [
    "vectordb_1500_with_reg = FAISS.from_documents(documents = docs_ed1_1500_with_register, \n",
    "                                embedding = hf_jina)"
   ]
  },
  {
   "cell_type": "code",
   "execution_count": 11,
   "id": "2c91da49",
   "metadata": {},
   "outputs": [],
   "source": [
    "vectordb_700_without_reg = FAISS.from_documents(documents = docs_ed1_700_without_register, \n",
    "                                embedding = hf_jina)"
   ]
  },
  {
   "cell_type": "code",
   "execution_count": 12,
   "id": "8a665d7b",
   "metadata": {},
   "outputs": [],
   "source": [
    "vectordb_1500_without_reg = FAISS.from_documents(documents = docs_ed1_1500_without_register, \n",
    "                                embedding = hf_jina)"
   ]
  },
  {
   "cell_type": "code",
   "execution_count": 5,
   "id": "8d6b4b79",
   "metadata": {},
   "outputs": [],
   "source": [
    "# EDIT cell added after hyperparameter selection, features the 12th edition\n",
    "vectordb_ed1_ed12 = FAISS.from_documents(documents = docs_ed1_ed12, \n",
    "                                embedding = hf_jina)"
   ]
  },
  {
   "cell_type": "markdown",
   "id": "f0510be6",
   "metadata": {},
   "source": [
    "## 5. Save"
   ]
  },
  {
   "cell_type": "code",
   "execution_count": 6,
   "id": "e763901d",
   "metadata": {},
   "outputs": [],
   "source": [
    "dir_path = \"../data/vectorDB\""
   ]
  },
  {
   "cell_type": "code",
   "execution_count": 14,
   "id": "0379b84b",
   "metadata": {},
   "outputs": [],
   "source": [
    "vectordb_700_with_reg.save_local(dir_path+\"/\"+\"faiss_vecDB_700_reg\")\n",
    "vectordb_1500_with_reg.save_local(dir_path+\"/\"+\"faiss_vecDB_1500_reg\")\n",
    "vectordb_700_without_reg.save_local(dir_path+\"/\"+\"faiss_vecDB_700_without_reg\")\n",
    "vectordb_1500_without_reg.save_local(dir_path+\"/\"+\"faiss_vecDB_1500_without_reg\")"
   ]
  },
  {
   "cell_type": "code",
   "execution_count": 7,
   "id": "c5144f14",
   "metadata": {},
   "outputs": [],
   "source": [
    "# EDIT cell added after hyperparameter selection, features the 12th edition\n",
    "vectordb_ed1_ed12.save_local(dir_path+\"/\"+\"faiss_vecDB_ed1_ed12\")"
   ]
  }
 ],
 "metadata": {
  "kernelspec": {
   "display_name": "Python 3 (ipykernel)",
   "language": "python",
   "name": "python3"
  },
  "language_info": {
   "codemirror_mode": {
    "name": "ipython",
    "version": 3
   },
   "file_extension": ".py",
   "mimetype": "text/x-python",
   "name": "python",
   "nbconvert_exporter": "python",
   "pygments_lexer": "ipython3",
   "version": "3.10.9"
  }
 },
 "nbformat": 4,
 "nbformat_minor": 5
}
