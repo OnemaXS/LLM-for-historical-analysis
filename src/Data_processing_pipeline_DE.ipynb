{
 "cells": [
  {
   "cell_type": "markdown",
   "id": "ab78e4ec",
   "metadata": {},
   "source": [
    "# Data processing"
   ]
  },
  {
   "cell_type": "markdown",
   "id": "4fd6623a",
   "metadata": {},
   "source": [
    "**TABLE OF CONTENTS**\n",
    "1. Imports\n",
    "2. Transforming the content of the 1st edition of *Handbuch der Naturgeschichte* (without registers) into Documents\n",
    "3. Transforming the registers of the 1st edition of *Handbuch der Naturgeschichte* into Documents\n",
    "    * a) Volume 1\n",
    "    * b) Volume 2: chapters 12th-13th\n",
    "    * c) Volume 3: chapters 14th-16th\n",
    "4. Resizing the Documents from the 1st edition\n",
    "    * a) Document's length about 1500, overlap 400\n",
    "    * b) Document's length about 700, overlap 200\n",
    "5. Transforming the content of the 12th edition of *Handbuch der Naturgeschichte* (without registers) into Documents\n",
    "6. Resizing the Documents from the 12th edition\n",
    "7. Combine documents from the 1st and the 12th edition (without registers) & save\n",
    "\n",
    "**NOTE: Sections 5-7 were added after hyperparameter selection, because they feature the 12th edition**"
   ]
  },
  {
   "cell_type": "markdown",
   "id": "050b5000",
   "metadata": {},
   "source": [
    "## 1. Imports"
   ]
  },
  {
   "cell_type": "code",
   "execution_count": 1,
   "id": "5bc8064f",
   "metadata": {},
   "outputs": [],
   "source": [
    "from collections import namedtuple\n",
    "from langchain.schema import Document\n",
    "from langchain.text_splitter import SpacyTextSplitter\n",
    "import os\n",
    "import pickle\n",
    "import re"
   ]
  },
  {
   "cell_type": "markdown",
   "id": "7d4861ac",
   "metadata": {},
   "source": [
    "## 2. Transforming the content of the 1st edition of *Handbuch der Naturgeschichte* (without registers) into Documents"
   ]
  },
  {
   "cell_type": "code",
   "execution_count": 2,
   "id": "f18472ac",
   "metadata": {},
   "outputs": [],
   "source": [
    "def clean_text(text, nl_for_pageNumber = False):\n",
    "    \n",
    "    \"\"\"\n",
    "    Takes str as an input, removes chapter titles, footnotes, page numbers, annotation about pictures \n",
    "    and restores hyphenated words at the end of line. Returns str. \n",
    "    \"\"\"\n",
    "    \n",
    "    # remove chapter titles\n",
    "    pattern_chapters = re.compile(r\"\\n.+ter\\b Abschnitt[^§]+(\\n§)\")\n",
    "    text_no_chapters = re.sub(pattern_chapters, r\"\\1\", text)\n",
    "    \n",
    "    # remove footnotes \n",
    "    pattern_footnotes = re.compile(r\"\\n{2,}(\\*+\\)(.*|\\n{1})*)(\\n{2,})\")\n",
    "    text_no_footnotes = re.sub(pattern_footnotes, r\"\\3\", text_no_chapters)\n",
    "    \n",
    "    # remove calls to footnote within paragraphs\n",
    "    pattern_footnotes_par = re.compile(r\"\\s\\*+\\)\\s\")\n",
    "    text_no_footnotes_par = re.sub(pattern_footnotes_par, \" \", text_no_footnotes)\n",
    "    \n",
    "    # remove page numbers\n",
    "    #pattern_pp = re.compile(r\"(?:\\n\\n|)(?:\\x0c\\n|)\\[\\d+\\/\\d+]\")\n",
    "    pattern_pp = re.compile(r\"(?:\\n\\n|)(?:\\x0c\\n|)\\[\\d+\\/\\d+]\")\n",
    "    if not nl_for_pageNumber:\n",
    "        text_no_pp = re.sub(pattern_pp, \"\", text_no_footnotes_par)\n",
    "    else:\n",
    "        text_no_pp = re.sub(pattern_pp, \"\\n\", text_no_footnotes_par)\n",
    "    \n",
    "    # remove annotation about pictures\n",
    "    pattern_picture = re.compile(\"r\\[Abbildung( |)\\]\")\n",
    "    text_no_picture = re.sub(pattern_picture, \"\", text_no_pp)\n",
    "    \n",
    "    # restore hyphenated words at the end of line\n",
    "    pattern_hyphen = re.compile(r\"([a-züöäß])\\-\\n([a-züöäß])\")\n",
    "    text_restored_words = re.sub(pattern_hyphen, r\"\\1\\2\", text_no_pp)\n",
    "    \n",
    "    return text_restored_words\n",
    "\n",
    "\n",
    "def remove_borders(text):\n",
    "    \n",
    "    \"\"\"\n",
    "    Takes str as an input, removes whitespaces and newlines from the beginning and the end of it.\n",
    "    Returns str. \n",
    "    \"\"\"\n",
    "    \n",
    "    pattern_beginning = re.compile(\"^[\\s|\\n]*\")\n",
    "    text = re.sub(pattern_beginning, \"\", text)\n",
    "    pattern_end = re.compile(\"[\\s|\\n]*$\")\n",
    "    text = re.sub(pattern_end, \"\", text)\n",
    "    \n",
    "    return text\n",
    "\n",
    "    \n",
    "def get_sections(text, heading_pattern = \"\\\\n§\\.\\s\\d+\\.\"):\n",
    "\n",
    "    \"\"\"\n",
    "    Takes str as an input, splits it by heading pattern and returns \n",
    "    a list of tuples (section heading, section content).\n",
    "    \"\"\"\n",
    "    \n",
    "    sections = []\n",
    "    \n",
    "    # identify start and end positions of all section headings\n",
    "    compiled_pattern = re.compile(heading_pattern) \n",
    "    headings_locs = [(match.start(), match.end()) for match \n",
    "                    in re.finditer(compiled_pattern, text)]\n",
    "    \n",
    "    if not headings_locs:  # if not sections found, return empty heading and the whole text\n",
    "        sections.append((\"\", text))\n",
    "        return sections\n",
    "    \n",
    "    # compile pattern for fixing newlines, to be used inside the next for loop\n",
    "    pattern_newlines = re.compile(r\"\\b[.,:;?!\\\"'\\(\\)\\{\\}]?(\\n)([a-zA-ZüöäßÜÖÄß])\")\n",
    "       \n",
    "    # iterate through all section headings. Save tuples (heanding, content)\n",
    "    for i, (s, e) in enumerate(headings_locs):\n",
    "        \n",
    "        if i == 0 and s != 0:   # deals with a possible \"preface\" before the first section\n",
    "            content = text[:s]\n",
    "            content = remove_borders(content)\n",
    "            content_fixed_newlines = re.sub(pattern_newlines, r\" \\2\", content)\n",
    "            if len(content_fixed_newlines) != 0:\n",
    "                sections.append((\"\", content_fixed_newlines))\n",
    "\n",
    "        heading = text[s:e]\n",
    "        if i != len(headings_locs)-1:  # deals with sections except for the last one\n",
    "            content = text[e: headings_locs[i+1][0]]\n",
    "        else:  # deals with the last section\n",
    "            content = text[e:]\n",
    "        # remove newlines and spaces from the beginning and end of heading and content\n",
    "        heading = remove_borders(heading)\n",
    "        content = remove_borders(content)\n",
    "        # fix newlines\n",
    "        content_fixed_newlines = re.sub(pattern_newlines, r\" \\2\", content)\n",
    "    \n",
    "        # save\n",
    "        sections.append((heading, content_fixed_newlines))\n",
    "    \n",
    "    return sections\n",
    "\n",
    "\n",
    "def create_docs(sections, source = \"Handbuch der Naturgeschichte\", autor = \"Blumenbach\", edition = 1,\n",
    "               date = 1779, language = \"German\"):\n",
    "    \n",
    "    \"\"\"\n",
    "    Takes a list[tuples] as an input, creates Document objects with tuple[1] as Document.page_content, \n",
    "    tuple[0] as part of Document.metadata for each tuple in the list. \n",
    "    Returns list[Document].\n",
    "    \"\"\"\n",
    "\n",
    "    docs = []\n",
    "    \n",
    "    # create documents with according metadata\n",
    "    for (par_heading, par_content) in sections:\n",
    "        metadata = {\"source\": source,\n",
    "                           \"autor\": autor,\n",
    "                           \"edition\": edition,\n",
    "                            \"date\": date,\n",
    "                            \"language\": language,\n",
    "                           \"in-text location\": par_heading}\n",
    "        doc = Document(page_content = par_content, metadata = metadata)\n",
    "        docs.append(doc)\n",
    "    \n",
    "    return docs\n",
    "\n",
    "\n",
    "def transform_docs_in_chunks(list_of_docs, chunk_size = 1500, chunk_overlap = 400):\n",
    "    \n",
    "    \"\"\"\n",
    "    Takes list[Dokument] as an input, transforms them by dividing in chunks.\n",
    "    Returns list[Dokuments].\n",
    "    \"\"\"\n",
    "    \n",
    "    # initiate text splitter to divide in chunks on sentence-basis\n",
    "    spacy_splitter = SpacyTextSplitter(\n",
    "        pipeline = \"sentencizer\", \n",
    "        separator = \" \",\n",
    "        chunk_size = chunk_size,\n",
    "        chunk_overlap = chunk_overlap)\n",
    "    \n",
    "    # transform documents\n",
    "    new_list_of_docs = spacy_splitter.transform_documents(list_of_docs)\n",
    "    \n",
    "    return new_list_of_docs"
   ]
  },
  {
   "cell_type": "markdown",
   "id": "f01173df",
   "metadata": {},
   "source": [
    "### a) Volume 1"
   ]
  },
  {
   "cell_type": "code",
   "execution_count": 3,
   "id": "064d4059",
   "metadata": {},
   "outputs": [],
   "source": [
    "# Load the text\n",
    "\n",
    "with open(\"../data/Auflage 1 Goettingen/part_1/Auflage_1_Goettingen_1779-ohne_Vorrede_ohne_Register.txt\", \"r\") as f:\n",
    "    text_ed1_part1 = f.read()  # ed1 i.e. edition 1\n",
    "    \n",
    "    \n",
    "# apply the preprocessing pipeline on text_ed1_part1\n",
    "\n",
    "cleaned_ed1_part1 = clean_text(text_ed1_part1)\n",
    "paragraphs_ed1_part1 = get_sections(cleaned_ed1_part1)\n",
    "docs_ed1_part1 = create_docs(paragraphs_ed1_part1, \n",
    "                             source = \"Handbuch der Naturgeschichte\", \n",
    "                             autor = \"J.F.Blumenbach\", \n",
    "                             edition = 1, \n",
    "                             date = 1779)    \n",
    "    "
   ]
  },
  {
   "cell_type": "code",
   "execution_count": 4,
   "id": "b1110d56",
   "metadata": {},
   "outputs": [
    {
     "name": "stdout",
     "output_type": "stream",
     "text": [
      "{'source': 'Handbuch der Naturgeschichte', 'autor': 'J.F.Blumenbach', 'edition': 1, 'date': 1779, 'language': 'German', 'in-text location': '§. 1.'} \n",
      " Alle Dinge, die sich auf, und in unsrer Erde finden, zeigen sich entweder in derselben Gestalt, in welcher sie aus der Hand der Natur gekommen; oder so, wie sie durch Menschen oder Thiere, zu bestimmten Absichten, oder auch durch bloßen Zufall verändert und gleichsam umgeschaffen worden sind. Auf diese Verschiedenheit gründet sich die bekannte Eintheilung aller Körper in natürliche (naturalia), und durch Kunst verfertigte (artefacta). Die erstern machen den Gegenstand der Naturgeschichte aus, und man belegt alle Körper mit dem Namen der Naturalien, die nur noch keine wesentliche Veränderung durch Menschenhände erlitten haben; Da hingegen die mehresten von denen so der Zufall umgeändert hat, und beyläufig auch diejenigen so durch die Thiere nach ihren Trieben und zu Stillung ihrer Bedürfnisse verändert und umgebildet worden, mit unter den Naturalien begriffen werden. Artefacten werden sie blos alsdann, wenn der Mensch wesentliche Veränderungen mit ihnen vornimt. Man rechnet z. B. die schwammichte Rinde einer Art Maulbeerbäume (Morus papyrifera) oder die äussere Schaale einer Cocosnuß doch zu den Naturalien, wenn gleich beyde durch Menschen vom Stamme oder von der Nuß, die sie umkleideten, abgelöst worden. Die dadurch mit ihnen vorgenommene Veränderung ist nicht Wesentlich genug, um sie deshalb zu Artefakten zu machen. Dies werden sie aber, und sie verlieren folglich den Namen von Naturalien wenn die Chinesen aus jener Rinde Papier, und die Utaheiten ihre feinsten Zeuge daraus verfertigen, und wenn man in ganz Ostindien aus der Cocusnuß-Schaale Stricke dreht. Wenn der Blitz in sandichten Boden schlägt, schmilzt er oft den Sand zu Glas, wie wir selbst dergleichen milchweiße Glaßtropfen vor uns liegend haben: und ähnliche Glaßstückchen zeigen sich auch gemeiniglich in den Laven der feuerspeyenden Berge. Beyderley gehören zu den Naturalien, da sie zufälligerweise von himmlischem und unterirdischem Feuer gezeugt worden Da hingegen das Glas, was der Mensch aus ähnlichen Ingredienzen verfertigt, blos deswegen, weil es seiner Hände Werk ist, Artefakt heist. Die Holzzasern, die die Wespen zu ihrem Nesterbau verarbeiten, werden auch selbst in dieser Gestalt, nach einer sehr wesentlichen Veränderung mit zu den Naturalien gezählt: da hingegen die Papier-Proben, die man auf ähnliche Weise in neuern Zeiten aus Holzspänen verfertigt hat ohne Widerrede Artefakten heisen. Diese Verschiedenheit zwischen so verwandten Produkten reducirt sich blos darauf, daß das eine durch Wespen, das andere durch Menschenhände verfertigt worden. So faßlich indeß diese Hintheilung aller Körper scheint, so wenig hält sie doch eine strengere Analyse aus. Es lassen sich eben so wenig absolute Grenzen zwischen Natur und Kunst bestimmen, als irgend eine Logik des Erdbodens das relative in den Begriffen von wesentlich und zufällig, worauf doch im gegenwärtigen Fall so vieles ankommt, aufzuheben, und eine Scheidewand zwischen beyden festzusetzen, vermocht hat. Nichts desto weniger wird man sich aber auch sehr leicht und der ganzen Eintheilung unbeschadet, über den Gesichtspunkt vergleichen können, aus welchem man diesen oder jenen zweydeutigen Körper ansehen will, und nach welchem er etwa mehr Anspruch auf Natur oder auf Kunst machen könnte.\n",
      "\n",
      "\n",
      "{'source': 'Handbuch der Naturgeschichte', 'autor': 'J.F.Blumenbach', 'edition': 1, 'date': 1779, 'language': 'German', 'in-text location': '§. 2.'} \n",
      " Alle und jede natürliche Körper zeigen, in Rücksicht ihrer Entstehung, ihres Wachsthums, und ihrer Structur, eine doppelte Verschiedenheit. Die einen nemlich sind allemal von andern natürlichen Körpern ihrer Art hervorgebracht; ihre Exsistenz setzt in einer ununterbrochenen Reihe bis zur ersten Schöpfung hinauf immer andere dergleichen Körper voraus denen sie ihr Daseyn zu danken haben. Zweytens nehmen sie allerhand fremde Substanzen als Nahrungsmittel in ihren Körper auf, aßimiliten sie den Bestandtheilen desselben, nnd befördern dadurch ihr Wachsthum von innen (innige Aneignung, intus susceptio). Diese beyden Eigenschaften setzen drittens von selbst eine besondere Structur bey dieser Art von natürlichen Körpern voraus. Sie müssen nemlich wenn sie anders ihres gleichen hervorbringen und Nahrungsmittel zu sich nehmen sollen, mancherley Gefäße und Organe in ihrem Körper haben, die zur Aßimilation dieser Alimente, zur Erzeugung ähnlicher Körper ihrer Art u. s. w nothwendig sind. Dies alles fehlt bey den natürlichen Körpern der andern Art. Beydes, sowol ihre Entstehung, als ihr Wachsthum, wenn man es gar nur Wachsthum nennen darf, ist sehr zufällig, wird keineswegs durch innige Aneignung, sondern lediglich durch Anhäufung oder Ansatz von aussen (Sammlung, aggregatio bewirkt; und sie bedürfen folglich auch keines so zusammengesetzten Körperbaues, keiner solchen Organe, als die Eigenschaften der natürlichen Körper der ersten Art unumgänglich erfoderten. Jene heisen deshalb organisirte, die letztern unorganisirte Körper, oder Mineralien.\n",
      "\n",
      "\n",
      "{'source': 'Handbuch der Naturgeschichte', 'autor': 'J.F.Blumenbach', 'edition': 1, 'date': 1779, 'language': 'German', 'in-text location': '§. 3.'} \n",
      " Endlich sind nun auch die organisirten Körper selbst, theils in der Art wie sie ihre Nahrungsmittel zu sich nehmen, theils in Rücksicht ihrer Bewegung, sehr augenscheinlich verschieden Manche ziehen einen bloßen Saft durch zahlreiche kleine Oefnungen, die sich an einem Ende ihres Körpers befinden, in sich: da hingegen andere eine einfache, aber nach Proportion grössere Oefnung an sich haben, die zu einem geräumlichen Schlauche führt, wohin sie ihre Alimente, die von sehr verschiedner Art sind, bringen die aber alsdann erst noch vielerley Veränderung erleiden müssen, ehe sie zur Nutrition geschickt werden. Diese letztern äussern zudem noch willkürliche oder eigenthümliche Bewegung ihrer Gliedmaßen, die den erstern völlig mangelt. Jenes sind die Pflanzen, dieses die Thiere.\n",
      "\n",
      "\n"
     ]
    }
   ],
   "source": [
    "# Visualization\n",
    "\n",
    "for doc in docs_ed1_part1[:3]:\n",
    "    print(doc.metadata, \"\\n\", doc.page_content)\n",
    "    print(\"\\n\")"
   ]
  },
  {
   "cell_type": "markdown",
   "id": "1f3c1a9d",
   "metadata": {},
   "source": [
    "### b) Volume 2"
   ]
  },
  {
   "cell_type": "code",
   "execution_count": 5,
   "id": "5ba88944",
   "metadata": {},
   "outputs": [],
   "source": [
    "# Load the text\n",
    "\n",
    "with open(\"../data/Auflage 1 Goettingen/part_2/Auflage_1_Goettingen_1780-ohne_Register.txt\", \"r\") as f:\n",
    "    text_ed1_part2 = f.read()\n",
    "\n",
    "\n",
    "# apply the preprocessing pipeline on text_ed1_part2\n",
    "\n",
    "cleaned_ed1_part2 = clean_text(text_ed1_part2)\n",
    "paragraphs_ed1_part2 = get_sections(cleaned_ed1_part2)\n",
    "docs_ed1_part2 = create_docs(paragraphs_ed1_part2, \n",
    "                             source = \"Handbuch der Naturgeschichte\", \n",
    "                             autor = \"J.F.Blumenbach\", \n",
    "                             edition = 1, \n",
    "                             date = 1780)"
   ]
  },
  {
   "cell_type": "code",
   "execution_count": 7,
   "id": "bd4dbdbe",
   "metadata": {},
   "outputs": [
    {
     "name": "stdout",
     "output_type": "stream",
     "text": [
      "{'source': 'Handbuch der Naturgeschichte', 'autor': 'J.F.Blumenbach', 'edition': 1, 'date': 1780, 'language': 'German', 'in-text location': '§. 170.'} \n",
      " Der gegenwärtige Abschnitt betrift allerdings eine eben so wichtige als anmuthige Untersuchung nemlich die allgemeine Naturgeschichte der Gewächse, die wir so viel möglich in der gleichen Ordnung abfassen wollen, die oben in der allgemeinen Thiergeschichte befolgt worden ist, damit beide desto leichter mit einander verglichen und die Aehnlichkeit oder Abweichung dieser zweyerley Arten von organisirten Körpern um so deutlicher ersehen Werden kan.\n",
      "\n",
      "\n",
      "{'source': 'Handbuch der Naturgeschichte', 'autor': 'J.F.Blumenbach', 'edition': 1, 'date': 1780, 'language': 'German', 'in-text location': '§. 171.'} \n",
      " Die Gewächse unterscheiden sich von den Thieren (§.3. u. 4.) erstens durch die gänzliche Unfähigkeit irgend einer willkürlichen Bewegung, und dann durch die Wurzeln, wodurch sie ihren Nahrungssaft in sich ziehen, statt daß hingegen die Thiere nie durch diesen Weg sondern durchgehende durch den Mund (§. 25.)\n",
      "ihre Speise zu sich nehmen.\n",
      "\n",
      "\n",
      "{'source': 'Handbuch der Naturgeschichte', 'autor': 'J.F.Blumenbach', 'edition': 1, 'date': 1780, 'language': 'German', 'in-text location': '§. 172.'} \n",
      " Die Wurzel ist wol der einzige Theil, den alle Pflanzen ohne Ausnahme mit einander gemein haben. Denn auch die Meerlinsen, die schorfigen Stein-Moose, der Seetang (Fucus und der Wasserdarm (ulva) haben alle gewisse Saugeröhrgen und Zasern, die Wurzelstelle vertreten müssen. Da hingegen im übrigen Bau der Vegetabilien zu viel mannichfaltige Verschiedenheit vorwaltet, als daß sich etwas allgemeines darunter ausfinden ließ.\n",
      "\n",
      "\n"
     ]
    }
   ],
   "source": [
    "# Visualization\n",
    "\n",
    "for doc in docs_ed1_part2[:3]:\n",
    "    print(doc.metadata, \"\\n\", doc.page_content)\n",
    "    print(\"\\n\")"
   ]
  },
  {
   "cell_type": "markdown",
   "id": "5c82acd1",
   "metadata": {},
   "source": [
    "## 3. Transforming the registers of the 1st edition of *Handbuch der Naturgeschichte* in Documents"
   ]
  },
  {
   "cell_type": "code",
   "execution_count": 8,
   "id": "8ca6c2cf",
   "metadata": {},
   "outputs": [],
   "source": [
    "def last_formatting_fix(text):\n",
    "    \n",
    "    \"\"\"\n",
    "    Takes str as input and removes superfluous newlines. Needed for registers only, which are treated \n",
    "    differently than main content of the Handbuch. \n",
    "    Returns str. \n",
    "    \"\"\"\n",
    "    pattern_hyphen = re.compile(r\"([a-züöäß])\\-\\s?\\n+\\s?([a-züöäß])\")\n",
    "    text_v1 = re.sub(pattern_hyphen, r\"\\1\\2\", text)\n",
    "    pattern_newlines = re.compile(r\"\\s?\\n+\\s?\")\n",
    "    return re.sub(pattern_newlines, \" \", text_v1)\n",
    "\n",
    "\n",
    "def create_docs_from_register(sections, subsections_pattern = \"\\n\\d+\\.\\s\",\n",
    "                              source = \"Handbuch der Naturgeschichte\", autor = \"Blumenbach\", edition = 1,\n",
    "                              date = 1779, language = \"German\", location = \"Register 4th Chapter: Säugethiere\"):\n",
    "    \n",
    "    \"\"\"\n",
    "    Takes a list[tuples] as input, where the tuples are of form (section heading, section content).\n",
    "    Invokes get_sections to further divide the content into subsections. Then, creates Document objects\n",
    "    for each subsection, storing content and metadata. \n",
    "    Returns list[Document].\n",
    "    \"\"\"\n",
    "    \n",
    "    docs = []\n",
    "    \n",
    "    # create documents with according metadata\n",
    "    for (section_heading, section_content) in sections:\n",
    "        \n",
    "        subsections = get_sections(section_content, heading_pattern = subsections_pattern)\n",
    "        \n",
    "        for (subsection_heading, subsection_content) in subsections:\n",
    "            \n",
    "            if len(subsection_heading) != 0:\n",
    "                current_location = location + \", \" + section_heading + \", \" + subsection_heading\n",
    "            else:\n",
    "                current_location = location + \", \" + section_heading\n",
    "\n",
    "            metadata = {\"source\": source,\n",
    "                        \"autor\": autor,\n",
    "                        \"edition\": edition,\n",
    "                        \"date\": date,\n",
    "                        \"language\": language,\n",
    "                        \"in-text location\": current_location}\n",
    "            doc = Document(page_content = last_formatting_fix(subsection_content), metadata = metadata)\n",
    "            docs.append(doc)\n",
    "    \n",
    "    return docs\n"
   ]
  },
  {
   "cell_type": "markdown",
   "id": "d71f6957",
   "metadata": {},
   "source": [
    "### a) Volume 1"
   ]
  },
  {
   "cell_type": "code",
   "execution_count": 9,
   "id": "c628a4a4",
   "metadata": {},
   "outputs": [
    {
     "name": "stdout",
     "output_type": "stream",
     "text": [
      "Register 6th Chapter: Amphibien\n",
      "Register 7th Chapter: Fische\n",
      "Register 8th Chapter: Insecten\n",
      "Register 5th Chapter: Vögeln\n",
      "Register 9th Chapter: Würmer\n",
      "Register 4th Chapter: Säugethiere\n"
     ]
    }
   ],
   "source": [
    "# list files containing registers from part 1 (note that not all chapters contain a register)\n",
    "\n",
    "directory = \"../data/Auflage 1 Goettingen/Register/part_1\"\n",
    "files = os.listdir(directory)\n",
    "\n",
    "for file in files:\n",
    "    file_split = file.split(\"_\")\n",
    "    chapter = \"Register \" + file_split[-2] + \": \" + file_split[-1][:-4]\n",
    "    print(chapter)"
   ]
  },
  {
   "cell_type": "code",
   "execution_count": 10,
   "id": "5bd3d3c2",
   "metadata": {},
   "outputs": [],
   "source": [
    "# create documents out of the registers\n",
    "\n",
    "docs_register_part1 = []\n",
    "\n",
    "for file in files:\n",
    "    \n",
    "    # load the register\n",
    "    with open(f\"{directory}/{file}\", \"r\") as f:\n",
    "        register = f.read()\n",
    "    \n",
    "    # clean and divide in sections\n",
    "    register_cleaned = clean_text(register, nl_for_pageNumber = True)\n",
    "    pattern_sections = \"\\\\n\\\\n([IVX]+[^\\\\n]+).\"\n",
    "    register_sections = get_sections(register_cleaned, heading_pattern = pattern_sections)\n",
    "    \n",
    "    # parameters for create_docs_from_register\n",
    "    pattern_subsections = \"\\n\\d+\\.\\s\"\n",
    "    file_split = file.split(\"_\")\n",
    "    chapter = \"Register \" + file_split[-2] + \": \" + file_split[-1][:-4]\n",
    "    \n",
    "    # create documents\n",
    "    docs_register_current = create_docs_from_register(register_sections, subsections_pattern = pattern_subsections, \n",
    "                                              source = \"Handbuch der Naturgeschichte\", autor = \"Blumenbach\", \n",
    "                                              edition = 1, date = 1779, language = \"German\", location = chapter)\n",
    "    # save\n",
    "    for doc in docs_register_current:\n",
    "        docs_register_part1.append(doc)\n",
    "    "
   ]
  },
  {
   "cell_type": "code",
   "execution_count": 12,
   "id": "63558f0a",
   "metadata": {},
   "outputs": [
    {
     "name": "stdout",
     "output_type": "stream",
     "text": [
      "{'source': 'Handbuch der Naturgeschichte', 'autor': 'Blumenbach', 'edition': 1, 'date': 1779, 'language': 'German', 'in-text location': 'Register 6th Chapter: Amphibien, I. REPTILES.'} \n",
      " Alle Thiere dieser Ordnung sind, wenigstens wenn sie ihre vollkommne Gestalt erlangt haben mit vier Fußen versehn, die nach dem verschiednen Aufenthalt dieser Thiere entweder freye, oder durch eine Schwimmhaut verbundene, oder gar wie in eine Flosse verwachsene Zehen haben. Sie legen sämmtlich Eyer, und manche von ihnen sind überaus fruchtbar.\n",
      "\n",
      "\n",
      "{'source': 'Handbuch der Naturgeschichte', 'autor': 'Blumenbach', 'edition': 1, 'date': 1779, 'language': 'German', 'in-text location': 'Register 6th Chapter: Amphibien, I. REPTILES., 1.'} \n",
      " testudo. Schildkröte. Corpus testa obtectum, cauda brevis, os mandibulis nudis edentulis Die Schildkröten sind wol die trägsten phlegmanschten Geschöpfe in der Natur. Auch ihr Wachsthum und übrige Lebensgeschäffte gehen auserordentlich langsam von statten, so daß man rechnet, daß eine Schildkröte binnen zwanzig Jahren nur wenige Zolle an Größe zunehme. Die mehresten sind mit einer breiten knochichten sehr festen Schaale bedeckt, in die sich das Thier im Nothfall fast wie eine Schnecke in ihr Haus zurückziehen kan. Der Obertheil dieser Schaale oder das Rückenschild ist mit dem Rückgrade und den Rippen des Thiers verwachsen, und mit den breiten hornichten Schuppen belegt, die bey manchen Gattungen so stark und schönfarbicht sind daß sie zu Kunstsachen verarbeitet werden. Der Untertheil oder das Bauchschild ist etwas kleiner als das obere, und mit Ausschnitten für Kopf Schwanz und Füsse versehen.\n",
      "\n",
      "\n",
      "{'source': 'Handbuch der Naturgeschichte', 'autor': 'Blumenbach', 'edition': 1, 'date': 1779, 'language': 'German', 'in-text location': 'Register 6th Chapter: Amphibien, I. REPTILES., 1.'} \n",
      " Membranacea T. pedibus pinniformibus, unguiculis tribus, testa dorsali membranacea ovata grisea striata. * Ein artiges kleines Thier, was wir aus Guiana erhalten haben, und von den bisher bekannten weichschaalichten Schildkröten verschieden ist.\n",
      "\n",
      "\n"
     ]
    }
   ],
   "source": [
    "# Visualization\n",
    "\n",
    "for doc in docs_register_part1[:3]:\n",
    "    print(doc.metadata, \"\\n\", doc.page_content)\n",
    "    print(\"\\n\")"
   ]
  },
  {
   "cell_type": "markdown",
   "id": "27209273",
   "metadata": {},
   "source": [
    "### b) Volume 2: chapters 12th and 13th\n",
    "The registers of the two chapters have similar structure to the one found in part 1 and can be processed in the same way"
   ]
  },
  {
   "cell_type": "code",
   "execution_count": 13,
   "id": "baea9c40",
   "metadata": {},
   "outputs": [
    {
     "name": "stdout",
     "output_type": "stream",
     "text": [
      "Register 13th Chapter: Saltze\n",
      "Register 15th Chapter: Metalle\n",
      "Register 12th Chapter: Erden und Steine\n",
      "Register 16th Chapter: Versteinerungen\n",
      "Register 14th Chapter: Erdharze\n"
     ]
    }
   ],
   "source": [
    "# list files containing register from the chapters from the 2nd volume\n",
    "\n",
    "directory = \"../data/Auflage 1 Goettingen/Register/part_2\"\n",
    "files = os.listdir(directory)\n",
    "files = [file for file in files if file != \".DS_Store\"]\n",
    "\n",
    "for file in files:\n",
    "    file_split = file.split(\"_\")\n",
    "    chapter = \"Register \" + file_split[-2] + \": \" + file_split[-1][:-4]\n",
    "    print(chapter)"
   ]
  },
  {
   "cell_type": "code",
   "execution_count": 14,
   "id": "2fcccce7",
   "metadata": {},
   "outputs": [],
   "source": [
    "# create documents out of the registers\n",
    "\n",
    "docs_register_part2_12to13 = []\n",
    "\n",
    "for file in [files[0], files[2]]:\n",
    "    \n",
    "    # load the register\n",
    "    with open(f\"{directory}/{file}\", \"r\") as f:\n",
    "        register = f.read()\n",
    "    \n",
    "    # clean and divide in sections\n",
    "    register_cleaned = clean_text(register, nl_for_pageNumber = True)\n",
    "    pattern_sections = \"\\\\n\\\\n([IVX]+[^\\\\n]+).\"\n",
    "    register_sections = get_sections(register_cleaned, heading_pattern = pattern_sections)\n",
    "    \n",
    "    # parameters for create_docs_from_register\n",
    "    pattern_subsections = \"\\n\\d+\\.\\s\"\n",
    "    file_split = file.split(\"_\")\n",
    "    chapter = \"Register \" + file_split[-2] + \": \" + file_split[-1][:-4]\n",
    "    \n",
    "    # create documents\n",
    "    docs_register_current = create_docs_from_register(register_sections, subsections_pattern = pattern_subsections, \n",
    "                                              source = \"Handbuch der Naturgeschichte\", autor = \"Blumenbach\", \n",
    "                                              edition = 1, date = 1780, language = \"German\", location = chapter)\n",
    "    # save\n",
    "    for doc in docs_register_current:\n",
    "        docs_register_part2_12to13.append(doc)"
   ]
  },
  {
   "cell_type": "code",
   "execution_count": 15,
   "id": "07985ec7",
   "metadata": {},
   "outputs": [
    {
     "name": "stdout",
     "output_type": "stream",
     "text": [
      "{'source': 'Handbuch der Naturgeschichte', 'autor': 'Blumenbach', 'edition': 1, 'date': 1780, 'language': 'German', 'in-text location': 'Register 13th Chapter: Saltze, I. ACIDA.'} \n",
      " 1. vitriolum saporis stiptici, calcem in gypsum mutans.\n",
      "\n",
      "\n",
      "{'source': 'Handbuch der Naturgeschichte', 'autor': 'Blumenbach', 'edition': 1, 'date': 1780, 'language': 'German', 'in-text location': 'Register 13th Chapter: Saltze, I. ACIDA., 1.'} \n",
      " Ferri, Eisenvitriol Von grüngelber Farbe; wird bekanntlich zur Dinte, in der Arzney u. s. w. gebraucht.\n",
      "\n",
      "\n",
      "{'source': 'Handbuch der Naturgeschichte', 'autor': 'Blumenbach', 'edition': 1, 'date': 1780, 'language': 'German', 'in-text location': 'Register 13th Chapter: Saltze, I. ACIDA., 2.'} \n",
      " Cupri. Kupfervitriol Von himmelblauer oder Seewasserfarbe, nachdem er mehr oder weniger Kupfer hält. Im Rammelsberge bey Goslar, und in andern Cementwassern.\n",
      "\n",
      "\n"
     ]
    }
   ],
   "source": [
    "# Visualization\n",
    "\n",
    "for doc in docs_register_part2_12to13[:3]:\n",
    "    print(doc.metadata, \"\\n\", doc.page_content)\n",
    "    print(\"\\n\")"
   ]
  },
  {
   "cell_type": "markdown",
   "id": "8b10a702",
   "metadata": {},
   "source": [
    "### c) Volume 2: chapters 14th, 15th and 16th. \n",
    "In registers from chapters 14th to 16th, sections and subsections are marked more irregularly. Luckily, these registers are short enough to deal with them manually. Specifically, special marking patterns were manually inserted into the text allow for efficient split in subsections."
   ]
  },
  {
   "cell_type": "code",
   "execution_count": 16,
   "id": "9eb5bf2e",
   "metadata": {},
   "outputs": [],
   "source": [
    "def get_sections_extended(text, heading_pattern, start_pattern, end_pattern):\n",
    "    sections = get_sections(text, heading_pattern = heading_pattern)\n",
    "    sections_v2 = [(re.sub(start_pattern, \"\", heading), content) for (heading, content) in sections]\n",
    "    sections_v3 = [(re.sub(end_pattern, \"\", heading), content) for (heading, content) in sections_v2]\n",
    "    \n",
    "    return sections_v3"
   ]
  },
  {
   "cell_type": "code",
   "execution_count": 17,
   "id": "ea59b444",
   "metadata": {},
   "outputs": [
    {
     "name": "stdout",
     "output_type": "stream",
     "text": [
      "\\^\\^PREPRESEC\\^\\^([^\\/]+)\\/\\/PREPRESEC\\^\\^ \\^\\^PREPRESEC\\^\\^ \\/\\/PREPRESEC\\^\\^\n",
      "\\^\\^PRESEC\\^\\^([^\\/]+)\\/\\/PRESEC\\^\\^ \\^\\^PRESEC\\^\\^ \\/\\/PRESEC\\^\\^\n",
      "\\^\\^SEC\\^\\^([^\\/]+)\\/\\/SEC\\^\\^ \\^\\^SEC\\^\\^ \\/\\/SEC\\^\\^\n",
      "\\^\\^SUBSEC\\^\\^([^\\/]+)\\/\\/SUBSEC\\^\\^ \\^\\^SUBSEC\\^\\^ \\/\\/SUBSEC\\^\\^\n",
      "\\^\\^SUBSUBSEC\\^\\^([^\\/]+)\\/\\/SUBSUBSEC\\^\\^ \\^\\^SUBSUBSEC\\^\\^ \\/\\/SUBSUBSEC\\^\\^\n"
     ]
    }
   ],
   "source": [
    "Pattern = namedtuple(\"Pattern\", [\"heading\", \"start\", \"end\"])\n",
    "\n",
    "pattern_hierarchy = [Pattern(\"\\^\\^PREPRESEC\\^\\^([^\\/]+)\\/\\/PREPRESEC\\^\\^\", \"\\^\\^PREPRESEC\\^\\^\", \"\\/\\/PREPRESEC\\^\\^\"),\n",
    "                     Pattern(\"\\^\\^PRESEC\\^\\^([^\\/]+)\\/\\/PRESEC\\^\\^\", \"\\^\\^PRESEC\\^\\^\", \"\\/\\/PRESEC\\^\\^\"),\n",
    "                     Pattern(\"\\^\\^SEC\\^\\^([^\\/]+)\\/\\/SEC\\^\\^\", \"\\^\\^SEC\\^\\^\", \"\\/\\/SEC\\^\\^\"),\n",
    "                     Pattern(\"\\^\\^SUBSEC\\^\\^([^\\/]+)\\/\\/SUBSEC\\^\\^\", \"\\^\\^SUBSEC\\^\\^\", \"\\/\\/SUBSEC\\^\\^\"),\n",
    "                     Pattern(\"\\^\\^SUBSUBSEC\\^\\^([^\\/]+)\\/\\/SUBSUBSEC\\^\\^\", \"\\^\\^SUBSUBSEC\\^\\^\", \"\\/\\/SUBSUBSEC\\^\\^\")]\n",
    "\n",
    "for pattern in pattern_hierarchy:\n",
    "    print(pattern.heading, pattern.start, pattern.end)"
   ]
  },
  {
   "cell_type": "code",
   "execution_count": 18,
   "id": "5d3f9603",
   "metadata": {},
   "outputs": [],
   "source": [
    "segments_register_part2_14to16 = []\n",
    "\n",
    "for file in [files[1], files[-2], files[-1]]:\n",
    "    \n",
    "    # load the register\n",
    "    with open(f\"{directory}/{file}\", \"r\") as f:\n",
    "        register = f.read()\n",
    "\n",
    "    # clean the register\n",
    "    register_cleaned = clean_text(register)\n",
    "    \n",
    "    # get 1st sections\n",
    "    pattern = pattern_hierarchy[0]\n",
    "    sections = get_sections_extended(register_cleaned, heading_pattern = pattern.heading, \n",
    "                        start_pattern = pattern.start, end_pattern = pattern.end) \n",
    "    \n",
    "    # update first element of each tuple with chapter's number and title\n",
    "    file_split = file.split(\"_\")\n",
    "    chapter = \"Register \" + file_split[-2] + \": \" + file_split[-1][:-4]\n",
    "    sections = [(chapter + \", \" + heading, content) if len(heading) != 0\n",
    "               else (chapter, content) for heading, content in sections]\n",
    "\n",
    "    # iterate to get sections lower in the hierarchy\n",
    "    for pattern in pattern_hierarchy[1:]:\n",
    "        new_sections = []\n",
    "        for heading, content in sections:\n",
    "\n",
    "            subsections = get_sections_extended(content, heading_pattern = pattern.heading, \n",
    "                                            start_pattern = pattern.start, end_pattern = pattern.end)\n",
    "\n",
    "            if len(heading) != 0:\n",
    "                subsections = [(heading + \", \" + subheading, subcontent) if len(subheading) != 0 \n",
    "                                else (heading, subcontent) for subheading, subcontent in subsections]\n",
    "            else: \n",
    "                subsections = [(subheading, subcontent) if len(subheading) != 0 \n",
    "                                else (\"\", subcontent) for subheading, subcontent in subsections]\n",
    "\n",
    "            for subsec in subsections:\n",
    "                new_sections.append(subsec)\n",
    "            sections = new_sections\n",
    "    \n",
    "    for segment in new_sections:\n",
    "        segments_register_part2_14to16.append(segment)\n",
    "    "
   ]
  },
  {
   "cell_type": "code",
   "execution_count": 19,
   "id": "fc71f145",
   "metadata": {},
   "outputs": [],
   "source": [
    "# apply last_formatting_fix to the data\n",
    "segments_register_part2_14to16_last_fix = [(heading, last_formatting_fix(content)) for heading, content \n",
    "                                            in segments_register_part2_14to16]\n",
    "\n",
    "# create documents\n",
    "docs_register_part2_14to16 = create_docs(segments_register_part2_14to16_last_fix, \n",
    "                             source = \"Handbuch der Naturgeschichte\", \n",
    "                             autor = \"J.F.Blumenbach\", \n",
    "                             edition = 2, \n",
    "                             date = 1780)"
   ]
  },
  {
   "cell_type": "code",
   "execution_count": 20,
   "id": "0a78561d",
   "metadata": {},
   "outputs": [
    {
     "name": "stdout",
     "output_type": "stream",
     "text": [
      "{'source': 'Handbuch der Naturgeschichte', 'autor': 'J.F.Blumenbach', 'edition': 2, 'date': 1780, 'language': 'German', 'in-text location': 'Register 15th Chapter: Metalle, I. Eigentliche Metalle., A. Edle., 1. avrvm. Gold, flauum, ponderosissimum, maxime ductile.'} \n",
      " Der schwehrste Körper in der Natur: ohne allen Klang: zähe und zum Erstaunen geschmeidig und dehnbar, wie man beym Vergulden sieht.\n",
      "\n",
      "\n",
      "{'source': 'Handbuch der Naturgeschichte', 'autor': 'J.F.Blumenbach', 'edition': 2, 'date': 1780, 'language': 'German', 'in-text location': 'Register 15th Chapter: Metalle, I. Eigentliche Metalle., A. Edle., 1. avrvm. Gold, flauum, ponderosissimum, maxime ductile., 1. Natiuum, gediegen.'} \n",
      " Meist in Quarz, Spat ꝛc. theils wie Bäumgen, dendritisch, oder auch, doch weit seltner crystallinisch, mit acht dreyeckten Flächen wie der Diamant, vorzüglich schön in Mexiko, Ungarn, Siebenbürgen ꝛc Waschgold findet sich in grössern oder kleinern Körnchen unter dem Sande in einigen Flüssen, die es von Goldadern, die sie auf ihren Lauf angetroffen, los und mit sich fortgerissen. So bey den Alten der Tmolus in Lydien *), noch jezt manche deutsche Flüsse, obgleich in geringer Menge: so der Rhein, die Aar in der Schweiz die Eder im Waldeckischen ꝛc Das meiste Gold aber ist in kleinen, dem ersten Anschein nach kaum merklichen Theilgen in allerhand Gestein versteckt. Dahin gehören die Güldischen Kiese, dergleichen wir aus Sibirien, aus dem Walliser Land ꝛc. vor uns haben. Bey jenen ist der güldische Kies zum Theil in einen überaus feinen zellulösen Quarz eingesprengt, und macht das vom Herrn Pallas beschriebene Bimsstein änliche Golderzt.\n",
      "\n",
      "\n",
      "{'source': 'Handbuch der Naturgeschichte', 'autor': 'J.F.Blumenbach', 'edition': 2, 'date': 1780, 'language': 'German', 'in-text location': 'Register 15th Chapter: Metalle, I. Eigentliche Metalle., A. Edle., 1. avrvm. Gold, flauum, ponderosissimum, maxime ductile., 2. Mineralisatum, vererzt.'} \n",
      " Mit Spiesglas ꝛc. im Nagyager Golderzt, das sich zuweilen in einem schönen fleischfarbenen Janouvelle heloise T. I. L. 23 spis findet, der zu Tabatieren u. a. Kunstsachen verarbeitet wird.\n",
      "\n",
      "\n"
     ]
    }
   ],
   "source": [
    "# Visualization\n",
    "\n",
    "for doc in docs_register_part2_14to16[:3]:\n",
    "    print(doc.metadata, \"\\n\", doc.page_content)\n",
    "    print(\"\\n\")"
   ]
  },
  {
   "cell_type": "markdown",
   "id": "38f433cc",
   "metadata": {},
   "source": [
    "## 4. Resize the documents from the 1st edition"
   ]
  },
  {
   "cell_type": "code",
   "execution_count": 36,
   "id": "e141ec30",
   "metadata": {},
   "outputs": [],
   "source": [
    "# Combine all docs into one list\n",
    "all_docs_ed1 = docs_ed1_part1 + docs_ed1_part2 + docs_register_part1 + docs_register_part2_12to13 + docs_register_part2_14to16\n",
    "docs_ed1_without_register = docs_ed1_part1 + docs_ed1_part2"
   ]
  },
  {
   "cell_type": "markdown",
   "id": "a0100bce",
   "metadata": {},
   "source": [
    "#### a) document's length about 1500, overlap 400"
   ]
  },
  {
   "cell_type": "code",
   "execution_count": 37,
   "id": "b84a1b35",
   "metadata": {},
   "outputs": [
    {
     "name": "stderr",
     "output_type": "stream",
     "text": [
      "Created a chunk of size 1619, which is longer than the specified 1500\n"
     ]
    }
   ],
   "source": [
    "# resize the chunks (on sentence-basis) so that they have approximately 1500 signs, with about 400 sign overlap\n",
    "docs_ed1_with_register_1500_400 = transform_docs_in_chunks(all_docs_ed1, chunk_size = 1500, chunk_overlap = 400)"
   ]
  },
  {
   "cell_type": "code",
   "execution_count": 38,
   "id": "3618b85d",
   "metadata": {},
   "outputs": [],
   "source": [
    "# resize the chunks (on sentence-basis) so that they have approximately 1500 signs, with about 400 sign overlap\n",
    "docs_ed1_without_register_1500_400 = transform_docs_in_chunks(docs_ed1_without_register, \n",
    "                                                              chunk_size = 1500, chunk_overlap = 400)"
   ]
  },
  {
   "cell_type": "code",
   "execution_count": 39,
   "id": "fb3eeed7",
   "metadata": {},
   "outputs": [
    {
     "name": "stdout",
     "output_type": "stream",
     "text": [
      "There are 1692 including register.\n",
      "There are 314 excluding register.\n"
     ]
    }
   ],
   "source": [
    "print(f\"There are {len(docs_ed1_with_register_1500_400)} including register.\")\n",
    "print(f\"There are {len(docs_ed1_without_register_1500_400)} excluding register.\")"
   ]
  },
  {
   "cell_type": "code",
   "execution_count": 40,
   "id": "7006dc67",
   "metadata": {},
   "outputs": [
    {
     "name": "stdout",
     "output_type": "stream",
     "text": [
      "{'source': 'Handbuch der Naturgeschichte', 'autor': 'J.F.Blumenbach', 'edition': 1, 'date': 1779, 'language': 'German', 'in-text location': '§. 1.'} \n",
      " Alle Dinge, die sich auf, und in unsrer Erde finden, zeigen sich entweder in derselben Gestalt, in welcher sie aus der Hand der Natur gekommen; oder so, wie sie durch Menschen oder Thiere, zu bestimmten Absichten, oder auch durch bloßen Zufall verändert und gleichsam umgeschaffen worden sind. Auf diese Verschiedenheit gründet sich die bekannte Eintheilung aller Körper in natürliche (naturalia), und durch Kunst verfertigte (artefacta). Die erstern machen den Gegenstand der Naturgeschichte aus, und man belegt alle Körper mit dem Namen der Naturalien, die nur noch keine wesentliche Veränderung durch Menschenhände erlitten haben; Da hingegen die mehresten von denen so der Zufall umgeändert hat, und beyläufig auch diejenigen so durch die Thiere nach ihren Trieben und zu Stillung ihrer Bedürfnisse verändert und umgebildet worden, mit unter den Naturalien begriffen werden. Artefacten werden sie blos alsdann, wenn der Mensch wesentliche Veränderungen mit ihnen vornimt. Man rechnet z. B. die schwammichte Rinde einer Art Maulbeerbäume (Morus papyrifera) oder die äussere Schaale einer Cocosnuß doch zu den Naturalien, wenn gleich beyde durch Menschen vom Stamme oder von der Nuß, die sie umkleideten, abgelöst worden. Die dadurch mit ihnen vorgenommene Veränderung ist nicht Wesentlich genug, um sie deshalb zu Artefakten zu machen.\n",
      "\n",
      "\n",
      "{'source': 'Handbuch der Naturgeschichte', 'autor': 'J.F.Blumenbach', 'edition': 1, 'date': 1779, 'language': 'German', 'in-text location': '§. 1.'} \n",
      " Man rechnet z. B. die schwammichte Rinde einer Art Maulbeerbäume (Morus papyrifera) oder die äussere Schaale einer Cocosnuß doch zu den Naturalien, wenn gleich beyde durch Menschen vom Stamme oder von der Nuß, die sie umkleideten, abgelöst worden. Die dadurch mit ihnen vorgenommene Veränderung ist nicht Wesentlich genug, um sie deshalb zu Artefakten zu machen. Dies werden sie aber, und sie verlieren folglich den Namen von Naturalien wenn die Chinesen aus jener Rinde Papier, und die Utaheiten ihre feinsten Zeuge daraus verfertigen, und wenn man in ganz Ostindien aus der Cocusnuß-Schaale Stricke dreht. Wenn der Blitz in sandichten Boden schlägt, schmilzt er oft den Sand zu Glas, wie wir selbst dergleichen milchweiße Glaßtropfen vor uns liegend haben: und ähnliche Glaßstückchen zeigen sich auch gemeiniglich in den Laven der feuerspeyenden Berge. Beyderley gehören zu den Naturalien, da sie zufälligerweise von himmlischem und unterirdischem Feuer gezeugt worden Da hingegen das Glas, was der Mensch aus ähnlichen Ingredienzen verfertigt, blos deswegen, weil es seiner Hände Werk ist, Artefakt heist. Die Holzzasern, die die Wespen zu ihrem Nesterbau verarbeiten, werden auch selbst in dieser Gestalt, nach einer sehr wesentlichen Veränderung mit zu den Naturalien gezählt: da hingegen die Papier-Proben, die man auf ähnliche Weise in neuern Zeiten aus Holzspänen verfertigt hat ohne Widerrede Artefakten heisen.\n",
      "\n",
      "\n",
      "{'source': 'Handbuch der Naturgeschichte', 'autor': 'J.F.Blumenbach', 'edition': 1, 'date': 1779, 'language': 'German', 'in-text location': '§. 1.'} \n",
      " Die Holzzasern, die die Wespen zu ihrem Nesterbau verarbeiten, werden auch selbst in dieser Gestalt, nach einer sehr wesentlichen Veränderung mit zu den Naturalien gezählt: da hingegen die Papier-Proben, die man auf ähnliche Weise in neuern Zeiten aus Holzspänen verfertigt hat ohne Widerrede Artefakten heisen. Diese Verschiedenheit zwischen so verwandten Produkten reducirt sich blos darauf, daß das eine durch Wespen, das andere durch Menschenhände verfertigt worden. So faßlich indeß diese Hintheilung aller Körper scheint, so wenig hält sie doch eine strengere Analyse aus. Es lassen sich eben so wenig absolute Grenzen zwischen Natur und Kunst bestimmen, als irgend eine Logik des Erdbodens das relative in den Begriffen von wesentlich und zufällig, worauf doch im gegenwärtigen Fall so vieles ankommt, aufzuheben, und eine Scheidewand zwischen beyden festzusetzen, vermocht hat. Nichts desto weniger wird man sich aber auch sehr leicht und der ganzen Eintheilung unbeschadet, über den Gesichtspunkt vergleichen können, aus welchem man diesen oder jenen zweydeutigen Körper ansehen will, und nach welchem er etwa mehr Anspruch auf Natur oder auf Kunst machen könnte.\n",
      "\n",
      "\n"
     ]
    }
   ],
   "source": [
    "# Visualization\n",
    "for doc in docs_ed1_with_register_1500_400[:3]:\n",
    "    print(doc.metadata, \"\\n\", doc.page_content)\n",
    "    print(\"\\n\")"
   ]
  },
  {
   "cell_type": "code",
   "execution_count": 41,
   "id": "00cfd0a9",
   "metadata": {},
   "outputs": [],
   "source": [
    "with open(\"../data/pickles/ed1_docs_with_register_1500_400.pickle\", 'wb') as f:\n",
    "    pickle.dump(docs_ed1_with_register_1500_400, f)\n",
    "    \n",
    "with open(\"../data/pickles/ed1_docs_without_register_1500_400.pickle\", 'wb') as f:\n",
    "    pickle.dump(docs_ed1_without_register_1500_400, f)"
   ]
  },
  {
   "cell_type": "markdown",
   "id": "ce17cd79",
   "metadata": {},
   "source": [
    "#### b) document's length about 700, overlap 200"
   ]
  },
  {
   "cell_type": "code",
   "execution_count": 42,
   "id": "b765fd5c",
   "metadata": {},
   "outputs": [
    {
     "name": "stderr",
     "output_type": "stream",
     "text": [
      "Created a chunk of size 743, which is longer than the specified 700\n",
      "Created a chunk of size 966, which is longer than the specified 700\n",
      "Created a chunk of size 729, which is longer than the specified 700\n",
      "Created a chunk of size 732, which is longer than the specified 700\n",
      "Created a chunk of size 708, which is longer than the specified 700\n",
      "Created a chunk of size 757, which is longer than the specified 700\n",
      "Created a chunk of size 1619, which is longer than the specified 700\n",
      "Created a chunk of size 723, which is longer than the specified 700\n",
      "Created a chunk of size 1403, which is longer than the specified 700\n",
      "Created a chunk of size 743, which is longer than the specified 700\n"
     ]
    }
   ],
   "source": [
    "# resize the chunks (on sentence-basis) so that they have approximately 1500 signs, with about 400 sign overlap\n",
    "docs_ed1_with_register_700_200 = transform_docs_in_chunks(all_docs_ed1, chunk_size = 700, chunk_overlap = 200)"
   ]
  },
  {
   "cell_type": "code",
   "execution_count": 43,
   "id": "9d66a85f",
   "metadata": {},
   "outputs": [
    {
     "name": "stderr",
     "output_type": "stream",
     "text": [
      "Created a chunk of size 743, which is longer than the specified 700\n",
      "Created a chunk of size 966, which is longer than the specified 700\n",
      "Created a chunk of size 729, which is longer than the specified 700\n",
      "Created a chunk of size 732, which is longer than the specified 700\n",
      "Created a chunk of size 708, which is longer than the specified 700\n",
      "Created a chunk of size 757, which is longer than the specified 700\n"
     ]
    }
   ],
   "source": [
    "# resize the chunks (on sentence-basis) so that they have approximately 1500 signs, with about 400 sign overlap\n",
    "docs_ed1_without_register_700_200 = transform_docs_in_chunks(docs_ed1_without_register, \n",
    "                                                              chunk_size = 700, chunk_overlap = 200)"
   ]
  },
  {
   "cell_type": "code",
   "execution_count": 44,
   "id": "b8dc5c93",
   "metadata": {},
   "outputs": [
    {
     "name": "stdout",
     "output_type": "stream",
     "text": [
      "There are 2088 including register.\n",
      "There are 501 excluding register.\n"
     ]
    }
   ],
   "source": [
    "print(f\"There are {len(docs_ed1_with_register_700_200)} including register.\")\n",
    "print(f\"There are {len(docs_ed1_without_register_700_200)} excluding register.\")"
   ]
  },
  {
   "cell_type": "code",
   "execution_count": 45,
   "id": "6ecf64a9",
   "metadata": {},
   "outputs": [
    {
     "name": "stdout",
     "output_type": "stream",
     "text": [
      "{'source': 'Handbuch der Naturgeschichte', 'autor': 'J.F.Blumenbach', 'edition': 1, 'date': 1779, 'language': 'German', 'in-text location': '§. 1.'} \n",
      " Alle Dinge, die sich auf, und in unsrer Erde finden, zeigen sich entweder in derselben Gestalt, in welcher sie aus der Hand der Natur gekommen; oder so, wie sie durch Menschen oder Thiere, zu bestimmten Absichten, oder auch durch bloßen Zufall verändert und gleichsam umgeschaffen worden sind. Auf diese Verschiedenheit gründet sich die bekannte Eintheilung aller Körper in natürliche (naturalia), und durch Kunst verfertigte (artefacta).\n",
      "\n",
      "\n",
      "{'source': 'Handbuch der Naturgeschichte', 'autor': 'J.F.Blumenbach', 'edition': 1, 'date': 1779, 'language': 'German', 'in-text location': '§. 1.'} \n",
      " Auf diese Verschiedenheit gründet sich die bekannte Eintheilung aller Körper in natürliche (naturalia), und durch Kunst verfertigte (artefacta). Die erstern machen den Gegenstand der Naturgeschichte aus, und man belegt alle Körper mit dem Namen der Naturalien, die nur noch keine wesentliche Veränderung durch Menschenhände erlitten haben; Da hingegen die mehresten von denen so der Zufall umgeändert hat, und beyläufig auch diejenigen so durch die Thiere nach ihren Trieben und zu Stillung ihrer Bedürfnisse verändert und umgebildet worden, mit unter den Naturalien begriffen werden. Artefacten werden sie blos alsdann, wenn der Mensch wesentliche Veränderungen mit ihnen vornimt.\n",
      "\n",
      "\n",
      "{'source': 'Handbuch der Naturgeschichte', 'autor': 'J.F.Blumenbach', 'edition': 1, 'date': 1779, 'language': 'German', 'in-text location': '§. 1.'} \n",
      " Artefacten werden sie blos alsdann, wenn der Mensch wesentliche Veränderungen mit ihnen vornimt. Man rechnet z. B. die schwammichte Rinde einer Art Maulbeerbäume (Morus papyrifera) oder die äussere Schaale einer Cocosnuß doch zu den Naturalien, wenn gleich beyde durch Menschen vom Stamme oder von der Nuß, die sie umkleideten, abgelöst worden. Die dadurch mit ihnen vorgenommene Veränderung ist nicht Wesentlich genug, um sie deshalb zu Artefakten zu machen.\n",
      "\n",
      "\n"
     ]
    }
   ],
   "source": [
    "# Visualization\n",
    "for doc in docs_ed1_with_register_700_200[:3]:\n",
    "    print(doc.metadata, \"\\n\", doc.page_content)\n",
    "    print(\"\\n\")"
   ]
  },
  {
   "cell_type": "code",
   "execution_count": 47,
   "id": "3ccfdb8b",
   "metadata": {},
   "outputs": [],
   "source": [
    "# save to pickle\n",
    "\n",
    "with open(\"../data/pickles/ed1_docs_with register_700_200.pickle\", 'wb') as f:\n",
    "    pickle.dump(docs_ed1_with_register_700_200, f)\n",
    "    \n",
    "with open(\"../data/pickles/ed1_docs_without_register_700_200.pickle\", 'wb') as f:\n",
    "    pickle.dump(docs_ed1_without_register_700_200, f)"
   ]
  },
  {
   "cell_type": "markdown",
   "id": "496b7a77",
   "metadata": {},
   "source": [
    "## 5.  Transforming the content of the 12th edition of *Handbuch der Naturgeschichte* (without registers) into Documents"
   ]
  },
  {
   "cell_type": "markdown",
   "id": "e7f4bb0b",
   "metadata": {},
   "source": [
    "**EDIT: This section was added after hyperparameter selection, it features the 12th edition**"
   ]
  },
  {
   "cell_type": "code",
   "execution_count": 4,
   "id": "4500e0e0",
   "metadata": {},
   "outputs": [],
   "source": [
    "# Load the text\n",
    "\n",
    "with open(\"../data/Auflage 12 Goettingen 1830/blumenbach_naturgeschichte_1830-ohne_Vorrede_ohne_Register.txt\", \"r\") as f:\n",
    "    text_ed12 = f.read()\n",
    "    \n",
    "    \n",
    "# apply the preprocessing pipeline on text_ed12\n",
    "\n",
    "cleaned_ed12 = clean_text(text_ed12)\n",
    "paragraphs_ed12 = get_sections(cleaned_ed12)\n",
    "docs_ed12 = create_docs(paragraphs_ed12, \n",
    "                             source = \"Handbuch der Naturgeschichte\", \n",
    "                             autor = \"J.F.Blumenbach\", \n",
    "                             edition = 12, \n",
    "                             date = 1830)    \n",
    " "
   ]
  },
  {
   "cell_type": "code",
   "execution_count": 5,
   "id": "31245b45",
   "metadata": {},
   "outputs": [
    {
     "name": "stdout",
     "output_type": "stream",
     "text": [
      "{'source': 'Handbuch der Naturgeschichte', 'autor': 'J.F.Blumenbach', 'edition': 12, 'date': 1830, 'language': 'German', 'in-text location': '§. 1.'} \n",
      " Alle Körper, die sich auf, und in unserer Erde finden, zeigen sich entweder in derselben Gestalt und Beschaffenheit, die sie aus der Hand des Schöpfers erhalten und durch die Wirkung der sich selbst überlassenen Naturkräfte angenommen haben; oder so wie sie durch Menschen und Thiere, zu bestimmten Absichten, oder auch durch bloßen Zufall verändert und gleichsam umgeschaffen worden sind Auf diese Verschiedenheit gründet sich die bekannte Eintheilung derselben in natürliche (naturalia), und durch Kunst verfertigte (artefacta).\n",
      "Die erstern machen den Gegenstand der Naturgeschichte aus, und man pflegt alle Körper zu den Naturalien zu rechnen, die nur noch keine wesentliche Veränderung durch Menschen erlitten haben. Artefacten werden sie dann genannt, wenn der Mensch absichtlich Veränderungen mit ihnen vorgenommen Anm. 1. Daß übrigens jene Begriffe vom Wesentlichen und vom Absichtlichen im gegenwärtigen Falle bey so verschiedentlicher Rücksicht und Modification, nicht anders als relativ seyn können, bedarf wohl keiner Erinnerung. – Denn so könnte man ein Maulthier, oder einen Caraiben mit seinem durch die Kunst gemodelten Schedel und dergl. mehr, aus gewisser Rücksicht auch zu den Artefacten rechnen Anm. 2. Zuweilen können Naturalien manchen Kunstproducten so ähnlich seyn, daß sie schwer von einander zu unterscheiden sind. Daher z. B. die ehedem getheilten Meinungen, ob der Ueberzug in der piscina mirabile bei Bajä ein von selbst aus dem Wasser abgesetzter Rindenstein von Kalksinter, oder aber ein absichtlich aufgetragener künstlicher Mörtel sey. (– s. Götting. gel. Anzeigen 1791. 188 St. –)\n",
      "\n",
      "\n",
      "{'source': 'Handbuch der Naturgeschichte', 'autor': 'J.F.Blumenbach', 'edition': 12, 'date': 1830, 'language': 'German', 'in-text location': '§. 2.'} \n",
      " Alle und jede natürliche Körper zeigen, 1) in Rücksicht ihrer Entstehung, 2) ihres Wachsthums, und 3) ihrer Structur, eine doppelte Verschiedenheit Die einen nähmlich sind allemahl von andern natürlichen Körpern derselben Gestalt und Art hervor gebracht; so daß ihre Existenz in einer ununterbrochenen Reihe bis zur ersten Schöpfung \n",
      " Oder wenigstens bis zu ihren ersten Stammältern hinauf. – Denn ich habe im ersten Theile meiner Beyträge zur Naturgeschichte Facta angeführet, die es mehr als bloß wahrscheinlich machen, daß auch selbst in der jetzigen Schöpfung neue Gattungen von organisirten Körpern entstehen, und gleichsam\n",
      " hinauf immer andere dergleichen Körper voraussetzt, denen sie ihr Daseyn zu danken haben Zweytens nehmen sie allerhand fremde Substanzen als Nahrungsmittel in ihren Körper auf, assimiliren sie den Bestandtheilen desselben, scheiden das Ueberflüssige wieder aus, und befördern mittelst dieser beständigen Erneuerung und Wechsel ihr Wachsthum von innen (durch innige Aneignung, intus susceptio, expansio).\n",
      "Diese beiden Eigenschaften setzen drittens von selbst eine besondere Structur bey dieser Art von natürlichen Körpern voraus. Sie müssen nähmlich wenn sie auf diese Weise Nahrungsmittel zu sich nehmen und umwandeln und mit der Zeit andere Geschöpfe ihrer Art wieder hervorbringen sollen mancherlei diesen Zwecken der Selbsterhaltung und Fortpflanzung entsprechende, deßhalb mit den so genannten Lebenskräften versehene, und zu einem zweckmäßigen Ganzen unter einander verbundene, Gefäße, Adern und andere Organe in ihrem Körper haben, die zur Aufnahme bestimmter Säfte, zur Assimilation jener Alimente, zur Erzeugung der Nachkommenschaft u. s. w. nothwendig sind Dies Alles fehlt bey den natürlichen Körpern der andern Art, nähmlich den Mineralien. Beides, sowohl ihre Entstehung, als ihr Wachsthum\n",
      "(wenn man es gar nur Wachsthum nennen darf),\n",
      "wird keineswegs durch Ernährung, sondern lediglich nach eigentlich so genannten bloß physischen (mechanischen und chemischen), Gesetzen durch Anhäufung oder Ansatz homogener Theile von außen (aggregatio, juxta positio) bewirkt; folglich ist bey ihnen weder ursprüngliche Organisation noch Lebenskraft zu erwarten *).\n",
      "Und eben deßhalb heißen sie unorganisirte und jene hingegen organisirte Körper.\n",
      "\n",
      "\n",
      "{'source': 'Handbuch der Naturgeschichte', 'autor': 'J.F.Blumenbach', 'edition': 12, 'date': 1830, 'language': 'German', 'in-text location': '§. 3.'} \n",
      " Endlich sind nun aber auch jene organisirten Körper selbst, besonders in der Art, wie sie ihre Nahrungsmittel zu sich nehmen, von einer doppelten Verschiedenheit Die einen nähmlich saugen einen sehr einfachen Nahrungssaft, vorzüglich mittelst zahlreicher Fasern die sich am untern Ende ihres Körpers befinden ohne merkliche willkürliche Bewegung in sich Da hingegen die andern eine meist einfache Hauptöffnung am obern oder vordern Ende ihres Körpers haben, die zu einem geräumigen Schlauche führt wohin sie, vom innern Gefühle des Hungers getrieben, ihre Alimente, die von sehr verschiedener Art sind, mittelst willkürlicher Bewegung bringen Jenes sind die Pflanzen, dieses die Thiere Anm. Hingegen gibt die Fähigkeit den Standort zu verändern (locomotivitas) kein hinreichendes Unterscheidungszeichen der Thiere von den Pflanzen, ab. Denn viele Pflanzen, wie z. B. die gemeinen Wasserlinsen, sind nicht festgewurzelt, sondern können zu gewissen Jahrszeiten ꝛc. ihren Aufenthalt verändern, bald zu Boden sinken bald wieder auf die Oberfläche des Wassers steigen u. s. w Und andererseits gibt es ganze Geschlechter von Wasserthieren, zumahl unter den Conchylien, Corallen ꝛc. die ihren einmahl eingenommenen Platz nie von selbst wieder verlassen können.\n",
      "\n",
      "\n"
     ]
    }
   ],
   "source": [
    "# Visualization\n",
    "\n",
    "for doc in docs_ed12[:3]:\n",
    "    print(doc.metadata, \"\\n\", doc.page_content)\n",
    "    print(\"\\n\")"
   ]
  },
  {
   "cell_type": "markdown",
   "id": "80de712c",
   "metadata": {},
   "source": [
    "## 6. Resize the documents from the 12th edition"
   ]
  },
  {
   "cell_type": "markdown",
   "id": "5f42648f",
   "metadata": {},
   "source": [
    "**EDIT: This section was added after hyperparameter selection, it features the 12th edition**"
   ]
  },
  {
   "cell_type": "code",
   "execution_count": 6,
   "id": "b667d52a",
   "metadata": {},
   "outputs": [],
   "source": [
    "# resize (length approximately 1500 chars, overlap approximately 400 chunks)\n",
    "docs_ed12 = transform_docs_in_chunks(docs_ed12, chunk_size = 1500, chunk_overlap = 400)"
   ]
  },
  {
   "cell_type": "code",
   "execution_count": 7,
   "id": "60cd07f8",
   "metadata": {},
   "outputs": [
    {
     "name": "stdout",
     "output_type": "stream",
     "text": [
      "There are 293 documents.\n"
     ]
    }
   ],
   "source": [
    "print(f\"There are {len(docs_ed12)} documents.\")"
   ]
  },
  {
   "cell_type": "code",
   "execution_count": 8,
   "id": "eb01c4a0",
   "metadata": {},
   "outputs": [
    {
     "name": "stdout",
     "output_type": "stream",
     "text": [
      "{'source': 'Handbuch der Naturgeschichte', 'autor': 'J.F.Blumenbach', 'edition': 12, 'date': 1830, 'language': 'German', 'in-text location': '§. 1.'} \n",
      " Alle Körper, die sich auf, und in unserer Erde finden, zeigen sich entweder in derselben Gestalt und Beschaffenheit, die sie aus der Hand des Schöpfers erhalten und durch die Wirkung der sich selbst überlassenen Naturkräfte angenommen haben; oder so wie sie durch Menschen und Thiere, zu bestimmten Absichten, oder auch durch bloßen Zufall verändert und gleichsam umgeschaffen worden sind Auf diese Verschiedenheit gründet sich die bekannte Eintheilung derselben in natürliche (naturalia), und durch Kunst verfertigte (artefacta). \n",
      "Die erstern machen den Gegenstand der Naturgeschichte aus, und man pflegt alle Körper zu den Naturalien zu rechnen, die nur noch keine wesentliche Veränderung durch Menschen erlitten haben. Artefacten werden sie dann genannt, wenn der Mensch absichtlich Veränderungen mit ihnen vorgenommen Anm. 1. Daß übrigens jene Begriffe vom Wesentlichen und vom Absichtlichen im gegenwärtigen Falle bey so verschiedentlicher Rücksicht und Modification, nicht anders als relativ seyn können, bedarf wohl keiner Erinnerung. – Denn so könnte man ein Maulthier, oder einen Caraiben mit seinem durch die Kunst gemodelten Schedel und dergl. mehr, aus gewisser Rücksicht auch zu den Artefacten rechnen Anm. 2. Zuweilen können Naturalien manchen Kunstproducten so ähnlich seyn, daß sie schwer von einander zu unterscheiden sind.\n",
      "\n",
      "\n",
      "{'source': 'Handbuch der Naturgeschichte', 'autor': 'J.F.Blumenbach', 'edition': 12, 'date': 1830, 'language': 'German', 'in-text location': '§. 1.'} \n",
      " Denn so könnte man ein Maulthier, oder einen Caraiben mit seinem durch die Kunst gemodelten Schedel und dergl. mehr, aus gewisser Rücksicht auch zu den Artefacten rechnen Anm. 2. Zuweilen können Naturalien manchen Kunstproducten so ähnlich seyn, daß sie schwer von einander zu unterscheiden sind. Daher z. B. die ehedem getheilten Meinungen, ob der Ueberzug in der piscina mirabile bei Bajä ein von selbst aus dem Wasser abgesetzter Rindenstein von Kalksinter, oder aber ein absichtlich aufgetragener künstlicher Mörtel sey. (– s. Götting. gel. Anzeigen 1791. 188 St. –)\n",
      "\n",
      "\n",
      "{'source': 'Handbuch der Naturgeschichte', 'autor': 'J.F.Blumenbach', 'edition': 12, 'date': 1830, 'language': 'German', 'in-text location': '§. 2.'} \n",
      " Alle und jede natürliche Körper zeigen, 1) in Rücksicht ihrer Entstehung, 2) ihres Wachsthums, und 3) ihrer Structur, eine doppelte Verschiedenheit Die einen nähmlich sind allemahl von andern natürlichen Körpern derselben Gestalt und Art hervor gebracht; so daß ihre Existenz in einer ununterbrochenen Reihe bis zur ersten Schöpfung \n",
      " Oder wenigstens bis zu ihren ersten Stammältern hinauf. – Denn ich habe im ersten Theile meiner Beyträge zur Naturgeschichte Facta angeführet, die es mehr als bloß wahrscheinlich machen, daß auch selbst in der jetzigen Schöpfung neue Gattungen von organisirten Körpern entstehen, und gleichsam\n",
      " hinauf immer andere dergleichen Körper voraussetzt, denen sie ihr Daseyn zu danken haben Zweytens nehmen sie allerhand fremde Substanzen als Nahrungsmittel in ihren Körper auf, assimiliren sie den Bestandtheilen desselben, scheiden das Ueberflüssige wieder aus, und befördern mittelst dieser beständigen Erneuerung und Wechsel ihr Wachsthum von innen (durch innige Aneignung, intus susceptio, expansio). \n",
      "Diese beiden Eigenschaften setzen drittens von selbst eine besondere Structur bey dieser Art von natürlichen Körpern voraus.\n",
      "\n",
      "\n"
     ]
    }
   ],
   "source": [
    "# Visualization\n",
    "for doc in docs_ed12[:3]:\n",
    "    print(doc.metadata, \"\\n\", doc.page_content)\n",
    "    print(\"\\n\")"
   ]
  },
  {
   "cell_type": "markdown",
   "id": "ea45730e",
   "metadata": {},
   "source": [
    "## 7. Combine documents from the 1st and the 12th edition (without registers) & save"
   ]
  },
  {
   "cell_type": "markdown",
   "id": "33917ca0",
   "metadata": {},
   "source": [
    "**EDIT: This section was added after hyperparameter selection, it features the 12th edition**"
   ]
  },
  {
   "cell_type": "code",
   "execution_count": 9,
   "id": "ab21c43f",
   "metadata": {},
   "outputs": [],
   "source": [
    "# load the docs from the 1st edition\n",
    "with open(\"../data/pickles/ed1_docs_without_register_1500_400.pickle\", 'rb') as f:\n",
    "    docs_ed1_1500_without_register = pickle.load(f)"
   ]
  },
  {
   "cell_type": "code",
   "execution_count": 10,
   "id": "aaa8db4d",
   "metadata": {},
   "outputs": [],
   "source": [
    "# combine documents from both editions\n",
    "docs_1_and_12 = docs_ed1_1500_without_register + docs_ed12"
   ]
  },
  {
   "cell_type": "code",
   "execution_count": 11,
   "id": "43de29d7",
   "metadata": {},
   "outputs": [
    {
     "name": "stdout",
     "output_type": "stream",
     "text": [
      "There are 607 documents.\n"
     ]
    }
   ],
   "source": [
    "print(f\"There are {len(docs_1_and_12)} documents.\")"
   ]
  },
  {
   "cell_type": "code",
   "execution_count": 12,
   "id": "2a42f680",
   "metadata": {},
   "outputs": [],
   "source": [
    "# save to pickle\n",
    "\n",
    "with open(\"../data/pickles/ed1_ed12_docs.pickle\", 'wb') as f2:\n",
    "    pickle.dump(docs_1_and_12, f2)"
   ]
  }
 ],
 "metadata": {
  "kernelspec": {
   "display_name": "Python 3 (ipykernel)",
   "language": "python",
   "name": "python3"
  },
  "language_info": {
   "codemirror_mode": {
    "name": "ipython",
    "version": 3
   },
   "file_extension": ".py",
   "mimetype": "text/x-python",
   "name": "python",
   "nbconvert_exporter": "python",
   "pygments_lexer": "ipython3",
   "version": "3.10.9"
  }
 },
 "nbformat": 4,
 "nbformat_minor": 5
}
